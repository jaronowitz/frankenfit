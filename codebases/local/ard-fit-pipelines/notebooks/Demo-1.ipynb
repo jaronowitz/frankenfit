{
 "cells": [
  {
   "cell_type": "code",
   "execution_count": 1,
   "id": "4ba79ab8-c874-4297-9bc4-ccd4c0162d41",
   "metadata": {
    "execution": {
     "iopub.execute_input": "2022-06-19T02:47:10.473049Z",
     "iopub.status.busy": "2022-06-19T02:47:10.471580Z",
     "iopub.status.idle": "2022-06-19T02:47:12.819207Z",
     "shell.execute_reply": "2022-06-19T02:47:12.817094Z",
     "shell.execute_reply.started": "2022-06-19T02:47:10.472933Z"
    },
    "tags": []
   },
   "outputs": [
    {
     "name": "stderr",
     "output_type": "stream",
     "text": [
      "\u001b[49m\u001b[37m\u001b[1m2022-06-18 22:47:12,763:    INFO\u001b[0m\u001b[39m\u001b[49m:      ard_logging: \u001b[44m\u001b[37m\u001b[1mMainProcess\u001b[0m\u001b[39m\u001b[49m 1788: Logging initialized.\n",
      "\u001b[49m\u001b[37m\u001b[1m2022-06-18 22:47:12,765:    INFO\u001b[0m\u001b[39m\u001b[49m:         __main__: \u001b[44m\u001b[37m\u001b[1mMainProcess\u001b[0m\u001b[39m\u001b[49m 1788: Hello from notebook\n"
     ]
    }
   ],
   "source": [
    "from importlib import reload\n",
    "import pandas as pd\n",
    "import numpy as np\n",
    "import seaborn as sns\n",
    "import matplotlib.pyplot as plt\n",
    "sns.set_theme(style='whitegrid')\n",
    "import ard_logging\n",
    "import logging\n",
    "ard_logging.init(force_debug=False)\n",
    "LOG = logging.getLogger(__name__)\n",
    "LOG.info('Hello from notebook')\n",
    "\n",
    "import ard_fit_pipelines as fp\n",
    "reload(fp.core); reload(fp.transforms); reload(fp)\n",
    "\n",
    "logging.getLogger('ard_fit_pipelines').setLevel(logging.DEBUG)"
   ]
  },
  {
   "cell_type": "code",
   "execution_count": 3,
   "id": "1c75b221-1dbc-4abe-bc7d-76c79d0d458b",
   "metadata": {
    "execution": {
     "iopub.execute_input": "2022-06-19T02:47:12.939206Z",
     "iopub.status.busy": "2022-06-19T02:47:12.938587Z",
     "iopub.status.idle": "2022-06-19T02:47:13.176963Z",
     "shell.execute_reply": "2022-06-19T02:47:13.174288Z",
     "shell.execute_reply.started": "2022-06-19T02:47:12.939158Z"
    },
    "tags": []
   },
   "outputs": [
    {
     "name": "stdout",
     "output_type": "stream",
     "text": [
      "<class 'pandas.core.frame.DataFrame'>\n",
      "RangeIndex: 53940 entries, 0 to 53939\n",
      "Data columns (total 10 columns):\n",
      " #   Column   Non-Null Count  Dtype   \n",
      "---  ------   --------------  -----   \n",
      " 0   carat    53940 non-null  float64 \n",
      " 1   cut      53940 non-null  category\n",
      " 2   color    53940 non-null  category\n",
      " 3   clarity  53940 non-null  category\n",
      " 4   depth    53940 non-null  float64 \n",
      " 5   table    53940 non-null  float64 \n",
      " 6   price    53940 non-null  int64   \n",
      " 7   x        53940 non-null  float64 \n",
      " 8   y        53940 non-null  float64 \n",
      " 9   z        53940 non-null  float64 \n",
      "dtypes: category(3), float64(6), int64(1)\n",
      "memory usage: 3.0 MB\n"
     ]
    },
    {
     "data": {
      "text/html": [
       "<div>\n",
       "<style scoped>\n",
       "    .dataframe tbody tr th:only-of-type {\n",
       "        vertical-align: middle;\n",
       "    }\n",
       "\n",
       "    .dataframe tbody tr th {\n",
       "        vertical-align: top;\n",
       "    }\n",
       "\n",
       "    .dataframe thead th {\n",
       "        text-align: right;\n",
       "    }\n",
       "</style>\n",
       "<table border=\"1\" class=\"dataframe\">\n",
       "  <thead>\n",
       "    <tr style=\"text-align: right;\">\n",
       "      <th></th>\n",
       "      <th>carat</th>\n",
       "      <th>cut</th>\n",
       "      <th>color</th>\n",
       "      <th>clarity</th>\n",
       "      <th>depth</th>\n",
       "      <th>table</th>\n",
       "      <th>price</th>\n",
       "      <th>x</th>\n",
       "      <th>y</th>\n",
       "      <th>z</th>\n",
       "    </tr>\n",
       "  </thead>\n",
       "  <tbody>\n",
       "    <tr>\n",
       "      <th>0</th>\n",
       "      <td>0.23</td>\n",
       "      <td>Ideal</td>\n",
       "      <td>E</td>\n",
       "      <td>SI2</td>\n",
       "      <td>61.5</td>\n",
       "      <td>55.0</td>\n",
       "      <td>326</td>\n",
       "      <td>3.95</td>\n",
       "      <td>3.98</td>\n",
       "      <td>2.43</td>\n",
       "    </tr>\n",
       "    <tr>\n",
       "      <th>1</th>\n",
       "      <td>0.21</td>\n",
       "      <td>Premium</td>\n",
       "      <td>E</td>\n",
       "      <td>SI1</td>\n",
       "      <td>59.8</td>\n",
       "      <td>61.0</td>\n",
       "      <td>326</td>\n",
       "      <td>3.89</td>\n",
       "      <td>3.84</td>\n",
       "      <td>2.31</td>\n",
       "    </tr>\n",
       "    <tr>\n",
       "      <th>2</th>\n",
       "      <td>0.23</td>\n",
       "      <td>Good</td>\n",
       "      <td>E</td>\n",
       "      <td>VS1</td>\n",
       "      <td>56.9</td>\n",
       "      <td>65.0</td>\n",
       "      <td>327</td>\n",
       "      <td>4.05</td>\n",
       "      <td>4.07</td>\n",
       "      <td>2.31</td>\n",
       "    </tr>\n",
       "    <tr>\n",
       "      <th>3</th>\n",
       "      <td>0.29</td>\n",
       "      <td>Premium</td>\n",
       "      <td>I</td>\n",
       "      <td>VS2</td>\n",
       "      <td>62.4</td>\n",
       "      <td>58.0</td>\n",
       "      <td>334</td>\n",
       "      <td>4.20</td>\n",
       "      <td>4.23</td>\n",
       "      <td>2.63</td>\n",
       "    </tr>\n",
       "    <tr>\n",
       "      <th>4</th>\n",
       "      <td>0.31</td>\n",
       "      <td>Good</td>\n",
       "      <td>J</td>\n",
       "      <td>SI2</td>\n",
       "      <td>63.3</td>\n",
       "      <td>58.0</td>\n",
       "      <td>335</td>\n",
       "      <td>4.34</td>\n",
       "      <td>4.35</td>\n",
       "      <td>2.75</td>\n",
       "    </tr>\n",
       "  </tbody>\n",
       "</table>\n",
       "</div>"
      ],
      "text/plain": [
       "   carat      cut color clarity  depth  table  price     x     y     z\n",
       "0   0.23    Ideal     E     SI2   61.5   55.0    326  3.95  3.98  2.43\n",
       "1   0.21  Premium     E     SI1   59.8   61.0    326  3.89  3.84  2.31\n",
       "2   0.23     Good     E     VS1   56.9   65.0    327  4.05  4.07  2.31\n",
       "3   0.29  Premium     I     VS2   62.4   58.0    334  4.20  4.23  2.63\n",
       "4   0.31     Good     J     SI2   63.3   58.0    335  4.34  4.35  2.75"
      ]
     },
     "execution_count": 3,
     "metadata": {},
     "output_type": "execute_result"
    }
   ],
   "source": [
    "df = sns.load_dataset('diamonds')\n",
    "df.info()\n",
    "df.head()"
   ]
  },
  {
   "cell_type": "code",
   "execution_count": 4,
   "id": "d48e46da-b294-402f-84e1-4923fd6b933a",
   "metadata": {
    "execution": {
     "iopub.execute_input": "2022-06-19T00:07:51.790395Z",
     "iopub.status.busy": "2022-06-19T00:07:51.788176Z",
     "iopub.status.idle": "2022-06-19T00:07:51.918643Z",
     "shell.execute_reply": "2022-06-19T00:07:51.913016Z",
     "shell.execute_reply.started": "2022-06-19T00:07:51.790339Z"
    },
    "tags": []
   },
   "outputs": [
    {
     "data": {
      "text/plain": [
       "CopyColumns(cols=('price', 'x'), dest_cols=('price_train', 'x_copy'))"
      ]
     },
     "metadata": {},
     "output_type": "display_data"
    },
    {
     "name": "stderr",
     "output_type": "stream",
     "text": [
      "\u001b[49m\u001b[37m\u001b[22m2022-06-18 20:07:51,808:   DEBUG\u001b[0m\u001b[39m\u001b[49m: ard_fit_pipelines.core: \u001b[44m\u001b[37m\u001b[1mMainProcess\u001b[0m\u001b[39m\u001b[49m 143: Applying Transform to 5 rows of data: CopyColumns(cols=('price', 'x'), dest_cols=('price_train', 'x_copy'))\n"
     ]
    },
    {
     "data": {
      "text/html": [
       "<div>\n",
       "<style scoped>\n",
       "    .dataframe tbody tr th:only-of-type {\n",
       "        vertical-align: middle;\n",
       "    }\n",
       "\n",
       "    .dataframe tbody tr th {\n",
       "        vertical-align: top;\n",
       "    }\n",
       "\n",
       "    .dataframe thead th {\n",
       "        text-align: right;\n",
       "    }\n",
       "</style>\n",
       "<table border=\"1\" class=\"dataframe\">\n",
       "  <thead>\n",
       "    <tr style=\"text-align: right;\">\n",
       "      <th></th>\n",
       "      <th>carat</th>\n",
       "      <th>cut</th>\n",
       "      <th>color</th>\n",
       "      <th>clarity</th>\n",
       "      <th>depth</th>\n",
       "      <th>table</th>\n",
       "      <th>price</th>\n",
       "      <th>x</th>\n",
       "      <th>y</th>\n",
       "      <th>z</th>\n",
       "      <th>price_train</th>\n",
       "      <th>x_copy</th>\n",
       "    </tr>\n",
       "  </thead>\n",
       "  <tbody>\n",
       "    <tr>\n",
       "      <th>0</th>\n",
       "      <td>0.23</td>\n",
       "      <td>Ideal</td>\n",
       "      <td>E</td>\n",
       "      <td>SI2</td>\n",
       "      <td>61.5</td>\n",
       "      <td>55.0</td>\n",
       "      <td>326</td>\n",
       "      <td>3.95</td>\n",
       "      <td>3.98</td>\n",
       "      <td>2.43</td>\n",
       "      <td>326</td>\n",
       "      <td>3.95</td>\n",
       "    </tr>\n",
       "    <tr>\n",
       "      <th>1</th>\n",
       "      <td>0.21</td>\n",
       "      <td>Premium</td>\n",
       "      <td>E</td>\n",
       "      <td>SI1</td>\n",
       "      <td>59.8</td>\n",
       "      <td>61.0</td>\n",
       "      <td>326</td>\n",
       "      <td>3.89</td>\n",
       "      <td>3.84</td>\n",
       "      <td>2.31</td>\n",
       "      <td>326</td>\n",
       "      <td>3.89</td>\n",
       "    </tr>\n",
       "    <tr>\n",
       "      <th>2</th>\n",
       "      <td>0.23</td>\n",
       "      <td>Good</td>\n",
       "      <td>E</td>\n",
       "      <td>VS1</td>\n",
       "      <td>56.9</td>\n",
       "      <td>65.0</td>\n",
       "      <td>327</td>\n",
       "      <td>4.05</td>\n",
       "      <td>4.07</td>\n",
       "      <td>2.31</td>\n",
       "      <td>327</td>\n",
       "      <td>4.05</td>\n",
       "    </tr>\n",
       "    <tr>\n",
       "      <th>3</th>\n",
       "      <td>0.29</td>\n",
       "      <td>Premium</td>\n",
       "      <td>I</td>\n",
       "      <td>VS2</td>\n",
       "      <td>62.4</td>\n",
       "      <td>58.0</td>\n",
       "      <td>334</td>\n",
       "      <td>4.20</td>\n",
       "      <td>4.23</td>\n",
       "      <td>2.63</td>\n",
       "      <td>334</td>\n",
       "      <td>4.20</td>\n",
       "    </tr>\n",
       "    <tr>\n",
       "      <th>4</th>\n",
       "      <td>0.31</td>\n",
       "      <td>Good</td>\n",
       "      <td>J</td>\n",
       "      <td>SI2</td>\n",
       "      <td>63.3</td>\n",
       "      <td>58.0</td>\n",
       "      <td>335</td>\n",
       "      <td>4.34</td>\n",
       "      <td>4.35</td>\n",
       "      <td>2.75</td>\n",
       "      <td>335</td>\n",
       "      <td>4.34</td>\n",
       "    </tr>\n",
       "  </tbody>\n",
       "</table>\n",
       "</div>"
      ],
      "text/plain": [
       "   carat      cut color clarity  depth  table  price     x     y     z  \\\n",
       "0   0.23    Ideal     E     SI2   61.5   55.0    326  3.95  3.98  2.43   \n",
       "1   0.21  Premium     E     SI1   59.8   61.0    326  3.89  3.84  2.31   \n",
       "2   0.23     Good     E     VS1   56.9   65.0    327  4.05  4.07  2.31   \n",
       "3   0.29  Premium     I     VS2   62.4   58.0    334  4.20  4.23  2.63   \n",
       "4   0.31     Good     J     SI2   63.3   58.0    335  4.34  4.35  2.75   \n",
       "\n",
       "   price_train  x_copy  \n",
       "0          326    3.95  \n",
       "1          326    3.89  \n",
       "2          327    4.05  \n",
       "3          334    4.20  \n",
       "4          335    4.34  "
      ]
     },
     "metadata": {},
     "output_type": "display_data"
    }
   ],
   "source": [
    "reload(fp.transforms)\n",
    "t = fp.transforms.CopyColumns(cols=['price', 'x'], dest_cols=['price_train', 'x_copy'])\n",
    "display(t)\n",
    "display(t.apply(df.head()))"
   ]
  },
  {
   "cell_type": "code",
   "execution_count": 9,
   "id": "39432a23-e761-475d-b8c6-51221148172f",
   "metadata": {
    "execution": {
     "iopub.execute_input": "2022-06-19T00:09:54.782734Z",
     "iopub.status.busy": "2022-06-19T00:09:54.782241Z",
     "iopub.status.idle": "2022-06-19T00:09:54.796499Z",
     "shell.execute_reply": "2022-06-19T00:09:54.794374Z",
     "shell.execute_reply.started": "2022-06-19T00:09:54.782698Z"
    },
    "tags": []
   },
   "outputs": [
    {
     "data": {
      "text/plain": [
       "CopyColumns(cols=(hp(name='train_response_col'),), dest_cols=('price_train',))"
      ]
     },
     "execution_count": 9,
     "metadata": {},
     "output_type": "execute_result"
    }
   ],
   "source": [
    "t = fp.transforms.CopyColumns(cols=fp.core.hp('train_response_col'), dest_cols=['price_train'])\n",
    "t.bind_params({\n",
    "    'train_response_col': 'price'\n",
    "})\n",
    "t"
   ]
  },
  {
   "cell_type": "code",
   "execution_count": 10,
   "id": "e798a42b-33fe-4c9b-8ded-b5d39f7d8305",
   "metadata": {
    "execution": {
     "iopub.execute_input": "2022-06-19T00:10:15.029984Z",
     "iopub.status.busy": "2022-06-19T00:10:15.028613Z",
     "iopub.status.idle": "2022-06-19T00:10:15.043120Z",
     "shell.execute_reply": "2022-06-19T00:10:15.040386Z",
     "shell.execute_reply.started": "2022-06-19T00:10:15.029920Z"
    },
    "tags": []
   },
   "outputs": [
    {
     "data": {
      "text/plain": [
       "{'cols': (hp(name='train_response_col'),), 'dest_cols': ('price_train',)}"
      ]
     },
     "execution_count": 10,
     "metadata": {},
     "output_type": "execute_result"
    }
   ],
   "source": [
    "t.bound_params"
   ]
  },
  {
   "cell_type": "code",
   "execution_count": 30,
   "id": "1d9fcb37-eebd-45fa-aa73-55eab9f5b2f2",
   "metadata": {
    "execution": {
     "iopub.execute_input": "2022-06-18T22:21:19.034640Z",
     "iopub.status.busy": "2022-06-18T22:21:19.034116Z",
     "iopub.status.idle": "2022-06-18T22:21:19.039169Z",
     "shell.execute_reply": "2022-06-18T22:21:19.038214Z",
     "shell.execute_reply.started": "2022-06-18T22:21:19.034612Z"
    },
    "tags": []
   },
   "outputs": [],
   "source": [
    "t.bound_params = 1\n",
    "#object.__setattr__(t, 'bound_params', 1)"
   ]
  },
  {
   "cell_type": "code",
   "execution_count": 86,
   "id": "1b37ba80-639f-486b-894e-12cf9377efed",
   "metadata": {
    "execution": {
     "iopub.execute_input": "2022-06-19T02:05:32.390278Z",
     "iopub.status.busy": "2022-06-19T02:05:32.389609Z",
     "iopub.status.idle": "2022-06-19T02:05:32.488306Z",
     "shell.execute_reply": "2022-06-19T02:05:32.484476Z",
     "shell.execute_reply.started": "2022-06-19T02:05:32.390233Z"
    },
    "tags": []
   },
   "outputs": [
    {
     "data": {
      "text/plain": [
       "<__main__.Decorator at 0x7f31e71f7d00>"
      ]
     },
     "metadata": {},
     "output_type": "display_data"
    },
    {
     "name": "stdout",
     "output_type": "stream",
     "text": [
      "Help on Decorator in module __main__:\n",
      "\n",
      "MyClass = <__main__.Decorator object>\n",
      "    My class docstr\n",
      "\n",
      "Deco\n"
     ]
    },
    {
     "data": {
      "text/plain": [
       "MyClass(1, 2)"
      ]
     },
     "metadata": {},
     "output_type": "display_data"
    },
    {
     "ename": "TypeError",
     "evalue": "decorator2() missing 1 required positional argument: 'cls'",
     "output_type": "error",
     "traceback": [
      "\u001b[0;31m---------------------------------------------------------------------------\u001b[0m",
      "\u001b[0;31mTypeError\u001b[0m                                 Traceback (most recent call last)",
      "Input \u001b[0;32mIn [86]\u001b[0m, in \u001b[0;36m<cell line: 49>\u001b[0;34m()\u001b[0m\n\u001b[1;32m     45\u001b[0m     \u001b[38;5;28msetattr\u001b[39m(\u001b[38;5;28mcls\u001b[39m, inner_cls_name, InnerClass)\n\u001b[1;32m     47\u001b[0m     \u001b[38;5;28;01mreturn\u001b[39;00m \u001b[38;5;28mcls\u001b[39m\n\u001b[0;32m---> 49\u001b[0m \u001b[38;5;129m@decorator2\u001b[39m\u001b[43m(\u001b[49m\u001b[43mfoo\u001b[49m\u001b[38;5;241;43m=\u001b[39;49m\u001b[38;5;241;43m2\u001b[39;49m\u001b[43m)\u001b[49m\n\u001b[1;32m     50\u001b[0m \u001b[38;5;28;01mclass\u001b[39;00m \u001b[38;5;21;01mMyClass2\u001b[39;00m:\n\u001b[1;32m     51\u001b[0m     \u001b[38;5;124m\"\u001b[39m\u001b[38;5;124mMy class docstr\u001b[39m\u001b[38;5;124m\"\u001b[39m\n\u001b[1;32m     52\u001b[0m     \u001b[38;5;28;01mdef\u001b[39;00m \u001b[38;5;21m__init__\u001b[39m(\u001b[38;5;28mself\u001b[39m, x, y):\n",
      "\u001b[0;31mTypeError\u001b[0m: decorator2() missing 1 required positional argument: 'cls'"
     ]
    }
   ],
   "source": [
    "import functools\n",
    "\n",
    "class Decorator:\n",
    "    \"Decorator docstr\"\n",
    "    def __init__(self, cls):\n",
    "        functools.update_wrapper(self, cls)\n",
    "        self.cls = cls\n",
    "        \n",
    "    def __call__(self, *args, **kwargs):\n",
    "        # forward to wrapped class's __init__\n",
    "        print('Deco')\n",
    "        return self.cls(*args, **kwargs)\n",
    "    \n",
    "@Decorator\n",
    "class MyClass:\n",
    "    \"My class docstr\"\n",
    "    def __init__(self, x, y):\n",
    "        self.x = x\n",
    "        self.y = y\n",
    "    def __repr__(self):\n",
    "        return f'MyClass({repr(self.x)}, {repr(self.y)})'\n",
    "    \n",
    "display(MyClass)\n",
    "help(MyClass)\n",
    "display(MyClass(1, 2))\n",
    "\n",
    "def decorator2(cls, foo=None):\n",
    "    orig_init = cls.__init__\n",
    "    cls_name = cls.__name__\n",
    "    @functools.wraps(orig_init)\n",
    "    def new_init(self, *args, **kwargs):\n",
    "        print('Deco2')\n",
    "        self.foo = foo\n",
    "        return orig_init(self, *args, **kwargs)\n",
    "    cls.__init__ = new_init\n",
    "    \n",
    "    class InnerClass:\n",
    "        \"Placeholder\"\n",
    "        myvar = 2\n",
    "        \n",
    "    inner_cls_name = f'Fit{cls_name}'\n",
    "    InnerClass.__name__ = inner_cls_name\n",
    "    InnerClass.__doc__ = f\"The fit version of {cls_name}\"\n",
    "        \n",
    "    setattr(cls, inner_cls_name, InnerClass)\n",
    "        \n",
    "    return cls\n",
    "    \n",
    "@decorator2k\n",
    "class MyClass2:\n",
    "    \"My class docstr\"\n",
    "    def __init__(self, x, y):\n",
    "        \"\"\"\n",
    "        Init docstr.\n",
    "        \"\"\"\n",
    "        self.x = x\n",
    "        self.y = y\n",
    "    def __repr__(self):\n",
    "        return f'MyClass2({repr(self.x)}, {repr(self.y)})'\n",
    "    \n",
    "display(MyClass2)\n",
    "help(MyClass2)\n",
    "display(MyClass2(1, 2))\n",
    "display(dir(MyClass2(1,2)))"
   ]
  },
  {
   "cell_type": "code",
   "execution_count": 75,
   "id": "523e7c9d-fb23-4af3-ae28-b34ed589ce2e",
   "metadata": {
    "execution": {
     "iopub.execute_input": "2022-06-19T01:57:16.609651Z",
     "iopub.status.busy": "2022-06-19T01:57:16.608089Z",
     "iopub.status.idle": "2022-06-19T01:57:16.621003Z",
     "shell.execute_reply": "2022-06-19T01:57:16.618549Z",
     "shell.execute_reply.started": "2022-06-19T01:57:16.609589Z"
    },
    "tags": []
   },
   "outputs": [
    {
     "name": "stdout",
     "output_type": "stream",
     "text": [
      "Help on class FitMyClass2 in module __main__:\n",
      "\n",
      "class FitMyClass2(builtins.object)\n",
      " |  The fit version of MyClass2\n",
      " |  \n",
      " |  Data descriptors defined here:\n",
      " |  \n",
      " |  __dict__\n",
      " |      dictionary for instance variables (if defined)\n",
      " |  \n",
      " |  __weakref__\n",
      " |      list of weak references to the object (if defined)\n",
      " |  \n",
      " |  ----------------------------------------------------------------------\n",
      " |  Data and other attributes defined here:\n",
      " |  \n",
      " |  myvar = 2\n",
      "\n"
     ]
    }
   ],
   "source": [
    "help(MyClass2.FitMyClass2)"
   ]
  },
  {
   "cell_type": "code",
   "execution_count": 111,
   "id": "9c7a8eb8-090e-4915-b0cf-8c710b3bb89e",
   "metadata": {
    "execution": {
     "iopub.execute_input": "2022-06-19T02:38:13.644291Z",
     "iopub.status.busy": "2022-06-19T02:38:13.643223Z",
     "iopub.status.idle": "2022-06-19T02:38:13.658428Z",
     "shell.execute_reply": "2022-06-19T02:38:13.655893Z",
     "shell.execute_reply.started": "2022-06-19T02:38:13.644245Z"
    },
    "tags": []
   },
   "outputs": [
    {
     "data": {
      "text/plain": [
       "\u001b[0;31mSignature:\u001b[0m\n",
       "\u001b[0mfunctools\u001b[0m\u001b[0;34m.\u001b[0m\u001b[0mwraps\u001b[0m\u001b[0;34m(\u001b[0m\u001b[0;34m\u001b[0m\n",
       "\u001b[0;34m\u001b[0m    \u001b[0mwrapped\u001b[0m\u001b[0;34m,\u001b[0m\u001b[0;34m\u001b[0m\n",
       "\u001b[0;34m\u001b[0m    \u001b[0massigned\u001b[0m\u001b[0;34m=\u001b[0m\u001b[0;34m(\u001b[0m\u001b[0;34m'__module__'\u001b[0m\u001b[0;34m,\u001b[0m \u001b[0;34m'__name__'\u001b[0m\u001b[0;34m,\u001b[0m \u001b[0;34m'__qualname__'\u001b[0m\u001b[0;34m,\u001b[0m \u001b[0;34m'__doc__'\u001b[0m\u001b[0;34m,\u001b[0m \u001b[0;34m'__annotations__'\u001b[0m\u001b[0;34m)\u001b[0m\u001b[0;34m,\u001b[0m\u001b[0;34m\u001b[0m\n",
       "\u001b[0;34m\u001b[0m    \u001b[0mupdated\u001b[0m\u001b[0;34m=\u001b[0m\u001b[0;34m(\u001b[0m\u001b[0;34m'__dict__'\u001b[0m\u001b[0;34m,\u001b[0m\u001b[0;34m)\u001b[0m\u001b[0;34m,\u001b[0m\u001b[0;34m\u001b[0m\n",
       "\u001b[0;34m\u001b[0m\u001b[0;34m)\u001b[0m\u001b[0;34m\u001b[0m\u001b[0;34m\u001b[0m\u001b[0m\n",
       "\u001b[0;31mDocstring:\u001b[0m\n",
       "Decorator factory to apply update_wrapper() to a wrapper function\n",
       "\n",
       "Returns a decorator that invokes update_wrapper() with the decorated\n",
       "function as the wrapper argument and the arguments to wraps() as the\n",
       "remaining arguments. Default arguments are as for update_wrapper().\n",
       "This is a convenience function to simplify applying partial() to\n",
       "update_wrapper().\n",
       "\u001b[0;31mFile:\u001b[0m      /usr/lib/python3.9/functools.py\n",
       "\u001b[0;31mType:\u001b[0m      function\n"
      ]
     },
     "metadata": {},
     "output_type": "display_data"
    }
   ],
   "source": [
    "functools.wraps?"
   ]
  },
  {
   "cell_type": "code",
   "execution_count": 26,
   "id": "be4308df-ca1e-4f49-bb06-cfcdf366da27",
   "metadata": {
    "execution": {
     "iopub.execute_input": "2022-06-19T02:57:19.339188Z",
     "iopub.status.busy": "2022-06-19T02:57:19.338059Z",
     "iopub.status.idle": "2022-06-19T02:57:19.351946Z",
     "shell.execute_reply": "2022-06-19T02:57:19.349566Z",
     "shell.execute_reply.started": "2022-06-19T02:57:19.339131Z"
    },
    "tags": []
   },
   "outputs": [
    {
     "data": {
      "text/plain": [
       "\u001b[0;31mSignature:\u001b[0m \u001b[0mcopy\u001b[0m\u001b[0;34m.\u001b[0m\u001b[0mcopy\u001b[0m\u001b[0;34m(\u001b[0m\u001b[0mx\u001b[0m\u001b[0;34m)\u001b[0m\u001b[0;34m\u001b[0m\u001b[0;34m\u001b[0m\u001b[0m\n",
       "\u001b[0;31mDocstring:\u001b[0m\n",
       "Shallow copy operation on arbitrary Python objects.\n",
       "\n",
       "See the module's __doc__ string for more info.\n",
       "\u001b[0;31mFile:\u001b[0m      /usr/lib/python3.9/copy.py\n",
       "\u001b[0;31mType:\u001b[0m      function\n"
      ]
     },
     "metadata": {},
     "output_type": "display_data"
    }
   ],
   "source": [
    "import copy\n",
    "copy.copy?"
   ]
  },
  {
   "cell_type": "code",
   "execution_count": 33,
   "id": "85a95f78-1eea-41b7-aac3-7c5c5f65f68e",
   "metadata": {
    "execution": {
     "iopub.execute_input": "2022-06-19T03:03:59.339367Z",
     "iopub.status.busy": "2022-06-19T03:03:59.338174Z",
     "iopub.status.idle": "2022-06-19T03:03:59.384554Z",
     "shell.execute_reply": "2022-06-19T03:03:59.382618Z",
     "shell.execute_reply.started": "2022-06-19T03:03:59.339300Z"
    },
    "tags": []
   },
   "outputs": [
    {
     "name": "stdout",
     "output_type": "stream",
     "text": [
      "Help on class Foo in module __main__:\n",
      "\n",
      "class Foo(builtins.object)\n",
      " |  Hot stuff.\n",
      " |  \n",
      " |  Methods defined here:\n",
      " |  \n",
      " |  __init__(self, x=None)\n",
      " |      Constructor help.\n",
      " |  \n",
      " |  __repr__(self)\n",
      " |      Return repr(self).\n",
      " |  \n",
      " |  fit(self, df: pandas.core.frame.DataFrame)\n",
      " |      Fit docstr\n",
      " |  \n",
      " |  ----------------------------------------------------------------------\n",
      " |  Data descriptors defined here:\n",
      " |  \n",
      " |  __dict__\n",
      " |      dictionary for instance variables (if defined)\n",
      " |  \n",
      " |  __weakref__\n",
      " |      list of weak references to the object (if defined)\n",
      " |  \n",
      " |  ----------------------------------------------------------------------\n",
      " |  Data and other attributes defined here:\n",
      " |  \n",
      " |  __annotations__ = {'x': <class 'int'>}\n",
      " |  \n",
      " |  __wrapped__ = <class '__main__.Foo'>\n",
      " |      Hot stuff.\n",
      " |  \n",
      " |  \n",
      " |  x = 1\n",
      "\n"
     ]
    },
    {
     "data": {
      "text/plain": [
       "\u001b[0;31mInit signature:\u001b[0m \u001b[0mFoo\u001b[0m\u001b[0;34m(\u001b[0m\u001b[0mself\u001b[0m\u001b[0;34m,\u001b[0m \u001b[0mx\u001b[0m\u001b[0;34m=\u001b[0m\u001b[0;32mNone\u001b[0m\u001b[0;34m)\u001b[0m\u001b[0;34m\u001b[0m\u001b[0;34m\u001b[0m\u001b[0m\n",
       "\u001b[0;31mDocstring:\u001b[0m      Hot stuff.\n",
       "\u001b[0;31mInit docstring:\u001b[0m Constructor help.\n",
       "\u001b[0;31mType:\u001b[0m           type\n",
       "\u001b[0;31mSubclasses:\u001b[0m     \n"
      ]
     },
     "metadata": {},
     "output_type": "display_data"
    }
   ],
   "source": [
    "reload(fp.core); reload(fp.transforms); reload(fp)\n",
    "\n",
    "@fp.core.transform\n",
    "class Foo:\n",
    "    \"\"\"\n",
    "    Hot stuff.\n",
    "    \"\"\"\n",
    "    x: int = 1\n",
    "    \n",
    "    def __init__(self, x=None):\n",
    "        \"\"\"\n",
    "        Constructor help.\n",
    "        \"\"\"\n",
    "        if x is not None:\n",
    "            self.x = x\n",
    "            \n",
    "    def fit(self, df: pd.DataFrame):\n",
    "        \"Fit docstr\"\n",
    "        return len(df)\n",
    "    \n",
    "    def __repr__(self):\n",
    "        return f'Foo({self.x=})'\n",
    "    \n",
    "help(Foo)\n",
    "Foo?"
   ]
  },
  {
   "cell_type": "code",
   "execution_count": 34,
   "id": "7b1d9ee6-d399-41fd-b07e-41e6125257e0",
   "metadata": {
    "execution": {
     "iopub.execute_input": "2022-06-19T03:04:00.062146Z",
     "iopub.status.busy": "2022-06-19T03:04:00.060330Z",
     "iopub.status.idle": "2022-06-19T03:04:00.085780Z",
     "shell.execute_reply": "2022-06-19T03:04:00.082956Z",
     "shell.execute_reply.started": "2022-06-19T03:04:00.062060Z"
    },
    "tags": []
   },
   "outputs": [
    {
     "data": {
      "text/plain": [
       "Foo(self.x=2)"
      ]
     },
     "metadata": {},
     "output_type": "display_data"
    },
    {
     "name": "stdout",
     "output_type": "stream",
     "text": [
      "bleh\n"
     ]
    },
    {
     "data": {
      "text/plain": [
       "53940"
      ]
     },
     "execution_count": 34,
     "metadata": {},
     "output_type": "execute_result"
    }
   ],
   "source": [
    "d = Foo(2)\n",
    "display(d)\n",
    "d.fit(df)"
   ]
  },
  {
   "cell_type": "code",
   "execution_count": 23,
   "id": "fb4b7c94-0d09-4bdf-9cf5-db20b8e7ea57",
   "metadata": {
    "execution": {
     "iopub.execute_input": "2022-06-19T02:56:24.104200Z",
     "iopub.status.busy": "2022-06-19T02:56:24.103072Z",
     "iopub.status.idle": "2022-06-19T02:56:24.126213Z",
     "shell.execute_reply": "2022-06-19T02:56:24.123480Z",
     "shell.execute_reply.started": "2022-06-19T02:56:24.104149Z"
    },
    "tags": []
   },
   "outputs": [
    {
     "name": "stdout",
     "output_type": "stream",
     "text": [
      "Help on class Bar in module __main__:\n",
      "\n",
      "class Bar(builtins.object)\n",
      " |  Bar(x: int = 1) -> None\n",
      " |  \n",
      " |  Bar docstr\n",
      " |  \n",
      " |  Methods defined here:\n",
      " |  \n",
      " |  __eq__(self, other)\n",
      " |      Method generated by attrs for class Bar.\n",
      " |  \n",
      " |  __getstate__ = slots_getstate(self)\n",
      " |      Automatically created by attrs.\n",
      " |  \n",
      " |  __init__(self, x: int = 1) -> None\n",
      " |      Method generated by attrs for class Bar.\n",
      " |  \n",
      " |  __ne__(self, other)\n",
      " |      Method generated by attrs for class Bar.\n",
      " |  \n",
      " |  __repr__(self)\n",
      " |      Method generated by attrs for class Bar.\n",
      " |  \n",
      " |  __setstate__ = slots_setstate(self, state)\n",
      " |      Automatically created by attrs.\n",
      " |  \n",
      " |  fit(self, df: pandas.core.frame.DataFrame)\n",
      " |      Fit docstr\n",
      " |  \n",
      " |  ----------------------------------------------------------------------\n",
      " |  Data descriptors defined here:\n",
      " |  \n",
      " |  __weakref__\n",
      " |      list of weak references to the object (if defined)\n",
      " |  \n",
      " |  x\n",
      " |  \n",
      " |  ----------------------------------------------------------------------\n",
      " |  Data and other attributes defined here:\n",
      " |  \n",
      " |  __annotations__ = {'x': <class 'int'>}\n",
      " |  \n",
      " |  __attrs_attrs__ = (Attribute(name='x', default=1, validator=None, ...w...\n",
      " |  \n",
      " |  __attrs_own_setattr__ = False\n",
      " |  \n",
      " |  __hash__ = None\n",
      "\n"
     ]
    },
    {
     "data": {
      "text/plain": [
       "\u001b[0;31mInit signature:\u001b[0m \u001b[0mBar\u001b[0m\u001b[0;34m(\u001b[0m\u001b[0mx\u001b[0m\u001b[0;34m:\u001b[0m \u001b[0mint\u001b[0m \u001b[0;34m=\u001b[0m \u001b[0;36m1\u001b[0m\u001b[0;34m)\u001b[0m \u001b[0;34m->\u001b[0m \u001b[0;32mNone\u001b[0m\u001b[0;34m\u001b[0m\u001b[0;34m\u001b[0m\u001b[0m\n",
       "\u001b[0;31mDocstring:\u001b[0m      Bar docstr\n",
       "\u001b[0;31mInit docstring:\u001b[0m Method generated by attrs for class Bar.\n",
       "\u001b[0;31mType:\u001b[0m           type\n",
       "\u001b[0;31mSubclasses:\u001b[0m     \n"
      ]
     },
     "metadata": {},
     "output_type": "display_data"
    }
   ],
   "source": [
    "import attrs\n",
    "@attrs.define\n",
    "class Bar:\n",
    "    \"Bar docstr\"\n",
    "    x: int = 1\n",
    "    def fit(self, df: pd.DataFrame):\n",
    "        \"Fit docstr\"\n",
    "        return len(df)\n",
    "    \n",
    "help(Bar)\n",
    "Bar?"
   ]
  }
 ],
 "metadata": {
  "kernelspec": {
   "display_name": "venv-ardua-dev",
   "language": "python",
   "name": "venv-ardua-dev"
  },
  "language_info": {
   "codemirror_mode": {
    "name": "ipython",
    "version": 3
   },
   "file_extension": ".py",
   "mimetype": "text/x-python",
   "name": "python",
   "nbconvert_exporter": "python",
   "pygments_lexer": "ipython3",
   "version": "3.9.5"
  },
  "toc-autonumbering": false,
  "toc-showcode": false,
  "toc-showmarkdowntxt": false
 },
 "nbformat": 4,
 "nbformat_minor": 5
}
