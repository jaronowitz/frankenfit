{
 "cells": [
  {
   "cell_type": "code",
   "execution_count": 56,
   "id": "4d09ec29-c2c4-42d0-99be-19ad4f45ae31",
   "metadata": {
    "execution": {
     "iopub.execute_input": "2022-06-20T02:35:09.648865Z",
     "iopub.status.busy": "2022-06-20T02:35:09.648309Z",
     "iopub.status.idle": "2022-06-20T02:35:09.671309Z",
     "shell.execute_reply": "2022-06-20T02:35:09.668564Z",
     "shell.execute_reply.started": "2022-06-20T02:35:09.648827Z"
    },
    "tags": []
   },
   "outputs": [
    {
     "name": "stderr",
     "output_type": "stream",
     "text": [
      "\u001b[49m\u001b[37m\u001b[1m2022-06-19 22:35:09,659:    INFO\u001b[0m\u001b[39m\u001b[49m:      ard_logging: \u001b[44m\u001b[37m\u001b[1mMainProcess\u001b[0m\u001b[39m\u001b[49m 2188: Logging initialized.\n",
      "\u001b[49m\u001b[37m\u001b[1m2022-06-19 22:35:09,662:    INFO\u001b[0m\u001b[39m\u001b[49m:         __main__: \u001b[44m\u001b[37m\u001b[1mMainProcess\u001b[0m\u001b[39m\u001b[49m 2188: Hello from notebook\n"
     ]
    }
   ],
   "source": [
    "from importlib import reload\n",
    "import pandas as pd\n",
    "import numpy as np\n",
    "import seaborn as sns\n",
    "import matplotlib.pyplot as plt\n",
    "sns.set_theme(style='whitegrid')\n",
    "import ard_logging\n",
    "import logging\n",
    "ard_logging.init(force_debug=True)\n",
    "LOG = logging.getLogger(__name__)\n",
    "LOG.info('Hello from notebook')"
   ]
  },
  {
   "cell_type": "code",
   "execution_count": 18,
   "id": "bc7d1e02-95d7-4218-9591-a8c0f243019f",
   "metadata": {
    "execution": {
     "iopub.execute_input": "2022-06-20T02:16:15.418176Z",
     "iopub.status.busy": "2022-06-20T02:16:15.417360Z",
     "iopub.status.idle": "2022-06-20T02:16:15.681608Z",
     "shell.execute_reply": "2022-06-20T02:16:15.677687Z",
     "shell.execute_reply.started": "2022-06-20T02:16:15.418137Z"
    }
   },
   "outputs": [
    {
     "name": "stdout",
     "output_type": "stream",
     "text": [
      "<class 'pandas.core.frame.DataFrame'>\n",
      "RangeIndex: 53940 entries, 0 to 53939\n",
      "Data columns (total 10 columns):\n",
      " #   Column   Non-Null Count  Dtype   \n",
      "---  ------   --------------  -----   \n",
      " 0   carat    53940 non-null  float64 \n",
      " 1   cut      53940 non-null  category\n",
      " 2   color    53940 non-null  category\n",
      " 3   clarity  53940 non-null  category\n",
      " 4   depth    53940 non-null  float64 \n",
      " 5   table    53940 non-null  float64 \n",
      " 6   price    53940 non-null  int64   \n",
      " 7   x        53940 non-null  float64 \n",
      " 8   y        53940 non-null  float64 \n",
      " 9   z        53940 non-null  float64 \n",
      "dtypes: category(3), float64(6), int64(1)\n",
      "memory usage: 3.0 MB\n"
     ]
    },
    {
     "data": {
      "text/html": [
       "<div>\n",
       "<style scoped>\n",
       "    .dataframe tbody tr th:only-of-type {\n",
       "        vertical-align: middle;\n",
       "    }\n",
       "\n",
       "    .dataframe tbody tr th {\n",
       "        vertical-align: top;\n",
       "    }\n",
       "\n",
       "    .dataframe thead th {\n",
       "        text-align: right;\n",
       "    }\n",
       "</style>\n",
       "<table border=\"1\" class=\"dataframe\">\n",
       "  <thead>\n",
       "    <tr style=\"text-align: right;\">\n",
       "      <th></th>\n",
       "      <th>carat</th>\n",
       "      <th>cut</th>\n",
       "      <th>color</th>\n",
       "      <th>clarity</th>\n",
       "      <th>depth</th>\n",
       "      <th>table</th>\n",
       "      <th>price</th>\n",
       "      <th>x</th>\n",
       "      <th>y</th>\n",
       "      <th>z</th>\n",
       "    </tr>\n",
       "  </thead>\n",
       "  <tbody>\n",
       "    <tr>\n",
       "      <th>0</th>\n",
       "      <td>0.23</td>\n",
       "      <td>Ideal</td>\n",
       "      <td>E</td>\n",
       "      <td>SI2</td>\n",
       "      <td>61.5</td>\n",
       "      <td>55.0</td>\n",
       "      <td>326</td>\n",
       "      <td>3.95</td>\n",
       "      <td>3.98</td>\n",
       "      <td>2.43</td>\n",
       "    </tr>\n",
       "    <tr>\n",
       "      <th>1</th>\n",
       "      <td>0.21</td>\n",
       "      <td>Premium</td>\n",
       "      <td>E</td>\n",
       "      <td>SI1</td>\n",
       "      <td>59.8</td>\n",
       "      <td>61.0</td>\n",
       "      <td>326</td>\n",
       "      <td>3.89</td>\n",
       "      <td>3.84</td>\n",
       "      <td>2.31</td>\n",
       "    </tr>\n",
       "    <tr>\n",
       "      <th>2</th>\n",
       "      <td>0.23</td>\n",
       "      <td>Good</td>\n",
       "      <td>E</td>\n",
       "      <td>VS1</td>\n",
       "      <td>56.9</td>\n",
       "      <td>65.0</td>\n",
       "      <td>327</td>\n",
       "      <td>4.05</td>\n",
       "      <td>4.07</td>\n",
       "      <td>2.31</td>\n",
       "    </tr>\n",
       "    <tr>\n",
       "      <th>3</th>\n",
       "      <td>0.29</td>\n",
       "      <td>Premium</td>\n",
       "      <td>I</td>\n",
       "      <td>VS2</td>\n",
       "      <td>62.4</td>\n",
       "      <td>58.0</td>\n",
       "      <td>334</td>\n",
       "      <td>4.20</td>\n",
       "      <td>4.23</td>\n",
       "      <td>2.63</td>\n",
       "    </tr>\n",
       "    <tr>\n",
       "      <th>4</th>\n",
       "      <td>0.31</td>\n",
       "      <td>Good</td>\n",
       "      <td>J</td>\n",
       "      <td>SI2</td>\n",
       "      <td>63.3</td>\n",
       "      <td>58.0</td>\n",
       "      <td>335</td>\n",
       "      <td>4.34</td>\n",
       "      <td>4.35</td>\n",
       "      <td>2.75</td>\n",
       "    </tr>\n",
       "  </tbody>\n",
       "</table>\n",
       "</div>"
      ],
      "text/plain": [
       "   carat      cut color clarity  depth  table  price     x     y     z\n",
       "0   0.23    Ideal     E     SI2   61.5   55.0    326  3.95  3.98  2.43\n",
       "1   0.21  Premium     E     SI1   59.8   61.0    326  3.89  3.84  2.31\n",
       "2   0.23     Good     E     VS1   56.9   65.0    327  4.05  4.07  2.31\n",
       "3   0.29  Premium     I     VS2   62.4   58.0    334  4.20  4.23  2.63\n",
       "4   0.31     Good     J     SI2   63.3   58.0    335  4.34  4.35  2.75"
      ]
     },
     "execution_count": 18,
     "metadata": {},
     "output_type": "execute_result"
    }
   ],
   "source": [
    "df = sns.load_dataset('diamonds')\n",
    "df.info()\n",
    "df.head()"
   ]
  },
  {
   "cell_type": "code",
   "execution_count": 73,
   "id": "726b4c73-5be3-4c9b-b969-9f032c5fa5d5",
   "metadata": {
    "execution": {
     "iopub.execute_input": "2022-06-20T02:42:36.847338Z",
     "iopub.status.busy": "2022-06-20T02:42:36.846243Z",
     "iopub.status.idle": "2022-06-20T02:42:36.868101Z",
     "shell.execute_reply": "2022-06-20T02:42:36.866127Z",
     "shell.execute_reply.started": "2022-06-20T02:42:36.847287Z"
    },
    "tags": []
   },
   "outputs": [],
   "source": [
    "from __future__ import annotations\n",
    "\n",
    "from attrs import define\n",
    "\n",
    "@define\n",
    "class hp:\n",
    "    name: str\n",
    "    \n",
    "    @staticmethod\n",
    "    def resolve(v, bindings):\n",
    "        if isinstance(v, hp):\n",
    "            return bindings[v.name]\n",
    "        return v\n",
    "\n",
    "class DeMean:\n",
    "    \"\"\"\n",
    "    Two operations: fit and apply. Fit-time and apply-time.\n",
    "\n",
    "    Params and hyperparams.\n",
    "    \"\"\"\n",
    "    def __init__(self, cols):\n",
    "        self.cols = cols\n",
    "\n",
    "    def fit(\n",
    "        self: DeMean,\n",
    "        X_fit: pd.DataFrame,\n",
    "        bindings: Optional[dict[str, object]]=None\n",
    "    ) -> FitDeMean:\n",
    "        LOG.debug('Fitting Transform on %d rows of data: %r', len(X_fit), self)\n",
    "        return self.FitDeMean(self, bindings or {}, X_fit)\n",
    "\n",
    "    class FitDeMean:\n",
    "        def __init__(self, tf, bindings, X_fit):\n",
    "            self.cols = hp.resolve(tf.cols, bindings)\n",
    "            self.means = X_fit[self.cols].mean()\n",
    "\n",
    "        def apply(self, X_apply: pd.DataFrame) -> pd.DataFrame:\n",
    "            LOG.debug('Applying Transform to %d rows of data: %r', len(X_apply),\n",
    "                self)\n",
    "            means = self.means\n",
    "            return X_apply.assign(**{\n",
    "                c: X_apply[c] - means[c]\n",
    "                for c in self.cols\n",
    "            })\n"
   ]
  },
  {
   "cell_type": "code",
   "execution_count": 74,
   "id": "de57b168-7f8a-4851-9262-21848cf28f77",
   "metadata": {
    "execution": {
     "iopub.execute_input": "2022-06-20T02:42:37.579973Z",
     "iopub.status.busy": "2022-06-20T02:42:37.578893Z",
     "iopub.status.idle": "2022-06-20T02:42:37.691524Z",
     "shell.execute_reply": "2022-06-20T02:42:37.687377Z",
     "shell.execute_reply.started": "2022-06-20T02:42:37.579799Z"
    },
    "tags": []
   },
   "outputs": [
    {
     "name": "stderr",
     "output_type": "stream",
     "text": [
      "\u001b[49m\u001b[37m\u001b[22m2022-06-19 22:42:37,591:   DEBUG\u001b[0m\u001b[39m\u001b[49m:         __main__: \u001b[44m\u001b[37m\u001b[1mMainProcess\u001b[0m\u001b[39m\u001b[49m 2188: Fitting Transform on 53940 rows of data: <__main__.DeMean object at 0x7f415f25dd60>\n",
      "\u001b[49m\u001b[37m\u001b[22m2022-06-19 22:42:37,609:   DEBUG\u001b[0m\u001b[39m\u001b[49m:         __main__: \u001b[44m\u001b[37m\u001b[1mMainProcess\u001b[0m\u001b[39m\u001b[49m 2188: Applying Transform to 53940 rows of data: <__main__.DeMean.FitDeMean object at 0x7f415f25d8b0>\n"
     ]
    },
    {
     "name": "stdout",
     "output_type": "stream",
     "text": [
      "hp(name='features')\n"
     ]
    },
    {
     "data": {
      "text/html": [
       "<div>\n",
       "<style scoped>\n",
       "    .dataframe tbody tr th:only-of-type {\n",
       "        vertical-align: middle;\n",
       "    }\n",
       "\n",
       "    .dataframe tbody tr th {\n",
       "        vertical-align: top;\n",
       "    }\n",
       "\n",
       "    .dataframe thead th {\n",
       "        text-align: right;\n",
       "    }\n",
       "</style>\n",
       "<table border=\"1\" class=\"dataframe\">\n",
       "  <thead>\n",
       "    <tr style=\"text-align: right;\">\n",
       "      <th></th>\n",
       "      <th>carat</th>\n",
       "      <th>cut</th>\n",
       "      <th>color</th>\n",
       "      <th>clarity</th>\n",
       "      <th>depth</th>\n",
       "      <th>table</th>\n",
       "      <th>price</th>\n",
       "      <th>x</th>\n",
       "      <th>y</th>\n",
       "      <th>z</th>\n",
       "    </tr>\n",
       "  </thead>\n",
       "  <tbody>\n",
       "    <tr>\n",
       "      <th>0</th>\n",
       "      <td>0.23</td>\n",
       "      <td>Ideal</td>\n",
       "      <td>E</td>\n",
       "      <td>SI2</td>\n",
       "      <td>61.5</td>\n",
       "      <td>55.0</td>\n",
       "      <td>-3606.799722</td>\n",
       "      <td>3.95</td>\n",
       "      <td>3.98</td>\n",
       "      <td>2.43</td>\n",
       "    </tr>\n",
       "    <tr>\n",
       "      <th>1</th>\n",
       "      <td>0.21</td>\n",
       "      <td>Premium</td>\n",
       "      <td>E</td>\n",
       "      <td>SI1</td>\n",
       "      <td>59.8</td>\n",
       "      <td>61.0</td>\n",
       "      <td>-3606.799722</td>\n",
       "      <td>3.89</td>\n",
       "      <td>3.84</td>\n",
       "      <td>2.31</td>\n",
       "    </tr>\n",
       "    <tr>\n",
       "      <th>2</th>\n",
       "      <td>0.23</td>\n",
       "      <td>Good</td>\n",
       "      <td>E</td>\n",
       "      <td>VS1</td>\n",
       "      <td>56.9</td>\n",
       "      <td>65.0</td>\n",
       "      <td>-3605.799722</td>\n",
       "      <td>4.05</td>\n",
       "      <td>4.07</td>\n",
       "      <td>2.31</td>\n",
       "    </tr>\n",
       "    <tr>\n",
       "      <th>3</th>\n",
       "      <td>0.29</td>\n",
       "      <td>Premium</td>\n",
       "      <td>I</td>\n",
       "      <td>VS2</td>\n",
       "      <td>62.4</td>\n",
       "      <td>58.0</td>\n",
       "      <td>-3598.799722</td>\n",
       "      <td>4.20</td>\n",
       "      <td>4.23</td>\n",
       "      <td>2.63</td>\n",
       "    </tr>\n",
       "    <tr>\n",
       "      <th>4</th>\n",
       "      <td>0.31</td>\n",
       "      <td>Good</td>\n",
       "      <td>J</td>\n",
       "      <td>SI2</td>\n",
       "      <td>63.3</td>\n",
       "      <td>58.0</td>\n",
       "      <td>-3597.799722</td>\n",
       "      <td>4.34</td>\n",
       "      <td>4.35</td>\n",
       "      <td>2.75</td>\n",
       "    </tr>\n",
       "  </tbody>\n",
       "</table>\n",
       "</div>"
      ],
      "text/plain": [
       "   carat      cut color clarity  depth  table        price     x     y     z\n",
       "0   0.23    Ideal     E     SI2   61.5   55.0 -3606.799722  3.95  3.98  2.43\n",
       "1   0.21  Premium     E     SI1   59.8   61.0 -3606.799722  3.89  3.84  2.31\n",
       "2   0.23     Good     E     VS1   56.9   65.0 -3605.799722  4.05  4.07  2.31\n",
       "3   0.29  Premium     I     VS2   62.4   58.0 -3598.799722  4.20  4.23  2.63\n",
       "4   0.31     Good     J     SI2   63.3   58.0 -3597.799722  4.34  4.35  2.75"
      ]
     },
     "execution_count": 74,
     "metadata": {},
     "output_type": "execute_result"
    }
   ],
   "source": [
    "t = DeMean(['price'])\n",
    "t = DeMean(hp('features'))\n",
    "#t.fit(df)\n",
    "#t.apply(df)\n",
    "print(t.cols)\n",
    "t.fit(df, bindings={'features': ['price']}).apply(df).head()"
   ]
  },
  {
   "cell_type": "code",
   "execution_count": 54,
   "id": "fcd2d3d1-551d-4b67-93f1-a38f6e41c280",
   "metadata": {
    "execution": {
     "iopub.execute_input": "2022-06-20T02:29:26.386881Z",
     "iopub.status.busy": "2022-06-20T02:29:26.385776Z",
     "iopub.status.idle": "2022-06-20T02:29:26.405351Z",
     "shell.execute_reply": "2022-06-20T02:29:26.403082Z",
     "shell.execute_reply.started": "2022-06-20T02:29:26.386817Z"
    },
    "tags": []
   },
   "outputs": [
    {
     "data": {
      "text/plain": [
       "(['price'],\n",
       " price    3932.799722\n",
       " dtype: float64)"
      ]
     },
     "execution_count": 54,
     "metadata": {},
     "output_type": "execute_result"
    }
   ],
   "source": [
    "tfit = t.fit(df, bindings={'features': ['price']})\n",
    "tfit.cols, tfit.means"
   ]
  },
  {
   "cell_type": "code",
   "execution_count": 266,
   "id": "c25946bf-e2f0-4371-af63-525aee91407c",
   "metadata": {
    "execution": {
     "iopub.execute_input": "2022-06-20T04:25:12.705672Z",
     "iopub.status.busy": "2022-06-20T04:25:12.704841Z",
     "iopub.status.idle": "2022-06-20T04:25:12.813286Z",
     "shell.execute_reply": "2022-06-20T04:25:12.810050Z",
     "shell.execute_reply.started": "2022-06-20T04:25:12.705613Z"
    },
    "tags": []
   },
   "outputs": [
    {
     "name": "stderr",
     "output_type": "stream",
     "text": [
      "\u001b[49m\u001b[37m\u001b[22m2022-06-20 00:25:12,742:   DEBUG\u001b[0m\u001b[39m\u001b[49m:         __main__: \u001b[44m\u001b[37m\u001b[1mMainProcess\u001b[0m\u001b[39m\u001b[49m 2188: Fitting Transform on 53940 rows of data: <__main__.DeMean object at 0x7f415de44730>\n",
      "\u001b[49m\u001b[37m\u001b[22m2022-06-20 00:25:12,750:   DEBUG\u001b[0m\u001b[39m\u001b[49m:         __main__: \u001b[44m\u001b[37m\u001b[1mMainProcess\u001b[0m\u001b[39m\u001b[49m 2188: Applying Transform to 53940 rows of data: <__main__.DeMean.FitDeMean object at 0x7f415e8bdc70>\n"
     ]
    },
    {
     "data": {
      "text/html": [
       "<div>\n",
       "<style scoped>\n",
       "    .dataframe tbody tr th:only-of-type {\n",
       "        vertical-align: middle;\n",
       "    }\n",
       "\n",
       "    .dataframe tbody tr th {\n",
       "        vertical-align: top;\n",
       "    }\n",
       "\n",
       "    .dataframe thead th {\n",
       "        text-align: right;\n",
       "    }\n",
       "</style>\n",
       "<table border=\"1\" class=\"dataframe\">\n",
       "  <thead>\n",
       "    <tr style=\"text-align: right;\">\n",
       "      <th></th>\n",
       "      <th>carat</th>\n",
       "      <th>cut</th>\n",
       "      <th>color</th>\n",
       "      <th>clarity</th>\n",
       "      <th>depth</th>\n",
       "      <th>table</th>\n",
       "      <th>price</th>\n",
       "      <th>x</th>\n",
       "      <th>y</th>\n",
       "      <th>z</th>\n",
       "    </tr>\n",
       "  </thead>\n",
       "  <tbody>\n",
       "    <tr>\n",
       "      <th>0</th>\n",
       "      <td>0.23</td>\n",
       "      <td>Ideal</td>\n",
       "      <td>E</td>\n",
       "      <td>SI2</td>\n",
       "      <td>61.5</td>\n",
       "      <td>55.0</td>\n",
       "      <td>-3606.799722</td>\n",
       "      <td>3.95</td>\n",
       "      <td>3.98</td>\n",
       "      <td>2.43</td>\n",
       "    </tr>\n",
       "    <tr>\n",
       "      <th>1</th>\n",
       "      <td>0.21</td>\n",
       "      <td>Premium</td>\n",
       "      <td>E</td>\n",
       "      <td>SI1</td>\n",
       "      <td>59.8</td>\n",
       "      <td>61.0</td>\n",
       "      <td>-3606.799722</td>\n",
       "      <td>3.89</td>\n",
       "      <td>3.84</td>\n",
       "      <td>2.31</td>\n",
       "    </tr>\n",
       "    <tr>\n",
       "      <th>2</th>\n",
       "      <td>0.23</td>\n",
       "      <td>Good</td>\n",
       "      <td>E</td>\n",
       "      <td>VS1</td>\n",
       "      <td>56.9</td>\n",
       "      <td>65.0</td>\n",
       "      <td>-3605.799722</td>\n",
       "      <td>4.05</td>\n",
       "      <td>4.07</td>\n",
       "      <td>2.31</td>\n",
       "    </tr>\n",
       "    <tr>\n",
       "      <th>3</th>\n",
       "      <td>0.29</td>\n",
       "      <td>Premium</td>\n",
       "      <td>I</td>\n",
       "      <td>VS2</td>\n",
       "      <td>62.4</td>\n",
       "      <td>58.0</td>\n",
       "      <td>-3598.799722</td>\n",
       "      <td>4.20</td>\n",
       "      <td>4.23</td>\n",
       "      <td>2.63</td>\n",
       "    </tr>\n",
       "    <tr>\n",
       "      <th>4</th>\n",
       "      <td>0.31</td>\n",
       "      <td>Good</td>\n",
       "      <td>J</td>\n",
       "      <td>SI2</td>\n",
       "      <td>63.3</td>\n",
       "      <td>58.0</td>\n",
       "      <td>-3597.799722</td>\n",
       "      <td>4.34</td>\n",
       "      <td>4.35</td>\n",
       "      <td>2.75</td>\n",
       "    </tr>\n",
       "  </tbody>\n",
       "</table>\n",
       "</div>"
      ],
      "text/plain": [
       "   carat      cut color clarity  depth  table        price     x     y     z\n",
       "0   0.23    Ideal     E     SI2   61.5   55.0 -3606.799722  3.95  3.98  2.43\n",
       "1   0.21  Premium     E     SI1   59.8   61.0 -3606.799722  3.89  3.84  2.31\n",
       "2   0.23     Good     E     VS1   56.9   65.0 -3605.799722  4.05  4.07  2.31\n",
       "3   0.29  Premium     I     VS2   62.4   58.0 -3598.799722  4.20  4.23  2.63\n",
       "4   0.31     Good     J     SI2   63.3   58.0 -3597.799722  4.34  4.35  2.75"
      ]
     },
     "execution_count": 266,
     "metadata": {},
     "output_type": "execute_result"
    }
   ],
   "source": [
    "from abc import ABC, abstractmethod\n",
    "from functools import wraps\n",
    "\n",
    "class Transform(ABC):\n",
    "    \"The abstract base class of all Transforms\"\n",
    "    def __init_subclass__(cls, /, no_magic=False, **kwargs):\n",
    "        super().__init_subclass__(**kwargs)\n",
    "        if no_magic:\n",
    "            return\n",
    "        class_name = cls.__name__\n",
    "        cls.fit_class_name = f'Fit{class_name}'\n",
    "        class DerivedFitTransform(FitTransform):\n",
    "            _apply = cls._apply\n",
    "            \n",
    "        fit_class = DerivedFitTransform\n",
    "        fit_class.__name__ = cls.fit_class_name\n",
    "        fit_class.__qualname__ = '.'.join((cls.__qualname__, cls.fit_class_name))\n",
    "        fit_class.__doc__ = FitTransform.__doc__.format(\n",
    "            class_name=class_name)\n",
    "        cls.fit.__annotations__['return'] = fit_class.__qualname__\n",
    "        setattr(cls, cls.fit_class_name, fit_class)\n",
    "\n",
    "    def __init__(self, cols):\n",
    "        \"Transform init docstr\"\n",
    "        self.cols = cols\n",
    "\n",
    "    @abstractmethod\n",
    "    def _fit(self, X_fit):\n",
    "        raise NotImplementedError\n",
    "        \n",
    "    @abstractmethod\n",
    "    def _apply(self, X_apply, state=None):\n",
    "        raise NotImplementedError\n",
    "        \n",
    "    fit_class_name = FitTransform.__name__\n",
    "        \n",
    "    def fit(\n",
    "        self,\n",
    "        X_fit: pd.DataFrame,\n",
    "        bindings: Optional[dict[str, object]]=None\n",
    "    ) -> FitTransform:\n",
    "        LOG.debug('Fitting Transform on %d rows of data: %r', len(X_fit), self)\n",
    "        fit_class = getattr(self, self.fit_class_name)\n",
    "        #return fit_class(self, X_fit, bindings)\n",
    "        return fit_class.from_fitting(self, X_fit, bindings)\n",
    "\n",
    "class FitTransform(ABC):\n",
    "    \"The result of fitting a {class_name} Transform. Blah blah.\"\n",
    "    \n",
    "    def __init__(self, transform, X_fit, bindings=None):\n",
    "        \"Docstr for FitTransform.__init__\"\n",
    "        self.cols = hp.resolve(transform.cols, bindings or {})\n",
    "        self.__tf = transform\n",
    "        self.__state = transform._fit.__func__(self, X_fit)\n",
    "    \n",
    "    @classmethod\n",
    "    def from_fitting(cls, transform, X_fit, bindings=None):\n",
    "        # todo: \n",
    "        return cls(transform, X_fit, bindings)\n",
    "        \n",
    "    @abstractmethod\n",
    "    def _apply(self, X_apply, state=None):\n",
    "        raise NotImplementedError\n",
    "        \n",
    "    def apply(self, X_apply: pd.DataFrame) -> pd.DataFrame:\n",
    "        \"Docstr for FitTransform.apply\"\n",
    "        LOG.debug('Applying Transform to %d rows of data: %r', len(X_apply),\n",
    "            self)\n",
    "        return self._apply(X_apply, state=self.__state)\n",
    "    \n",
    "    # TODO: refit()\n",
    "    \n",
    "    def original(self):\n",
    "        # what if there's a field named 'original'?\n",
    "        return self.__tf\n",
    "    \n",
    "    def state(self):\n",
    "        # what if there's a field named 'state'?\n",
    "        return self.__state\n",
    "        \n",
    "class DeMean(Transform):\n",
    "    \"Docstr for MyDeMean\"\n",
    "    \n",
    "    def _fit(self, X_fit):\n",
    "        return X_fit[self.cols].mean()\n",
    "    \n",
    "    def _apply(self, X_apply, state):\n",
    "        means = state\n",
    "        return X_apply.assign(**{\n",
    "            c: X_apply[c] - means[c]\n",
    "            for c in self.cols\n",
    "        })\n",
    "        \n",
    "\n",
    "t = DeMean(cols=['price'])\n",
    "tfit = t.fit(df)\n",
    "tfit.apply(df).head()"
   ]
  },
  {
   "cell_type": "code",
   "execution_count": 245,
   "id": "b227666c-2ea8-468c-b001-711d51edd38c",
   "metadata": {
    "execution": {
     "iopub.execute_input": "2022-06-20T04:11:20.936245Z",
     "iopub.status.busy": "2022-06-20T04:11:20.934348Z",
     "iopub.status.idle": "2022-06-20T04:11:20.946847Z",
     "shell.execute_reply": "2022-06-20T04:11:20.944818Z",
     "shell.execute_reply.started": "2022-06-20T04:11:20.936189Z"
    },
    "tags": []
   },
   "outputs": [
    {
     "data": {
      "text/plain": [
       "\u001b[0;31mInit signature:\u001b[0m \u001b[0mDeMean\u001b[0m\u001b[0;34m(\u001b[0m\u001b[0mcols\u001b[0m\u001b[0;34m)\u001b[0m\u001b[0;34m\u001b[0m\u001b[0;34m\u001b[0m\u001b[0m\n",
       "\u001b[0;31mDocstring:\u001b[0m      Docstr for MyDeMean\n",
       "\u001b[0;31mInit docstring:\u001b[0m Transform init docstr\n",
       "\u001b[0;31mFile:\u001b[0m           /usr/lib/python3.9/abc.py\n",
       "\u001b[0;31mType:\u001b[0m           ABCMeta\n",
       "\u001b[0;31mSubclasses:\u001b[0m     \n"
      ]
     },
     "metadata": {},
     "output_type": "display_data"
    }
   ],
   "source": [
    "DeMean?"
   ]
  },
  {
   "cell_type": "code",
   "execution_count": 214,
   "id": "5e4c004f-91d5-4e11-bc77-503da09ac774",
   "metadata": {
    "execution": {
     "iopub.execute_input": "2022-06-20T03:51:19.703332Z",
     "iopub.status.busy": "2022-06-20T03:51:19.701829Z",
     "iopub.status.idle": "2022-06-20T03:51:19.724968Z",
     "shell.execute_reply": "2022-06-20T03:51:19.720104Z",
     "shell.execute_reply.started": "2022-06-20T03:51:19.703266Z"
    },
    "tags": []
   },
   "outputs": [
    {
     "data": {
      "text/plain": [
       "('__main__', 'DeMean', 'DeMean')"
      ]
     },
     "execution_count": 214,
     "metadata": {},
     "output_type": "execute_result"
    }
   ],
   "source": [
    "(DeMean.__module__,\n",
    "DeMean.__name__,\n",
    "DeMean.__qualname__)"
   ]
  },
  {
   "cell_type": "code",
   "execution_count": 215,
   "id": "7578144e-8f1c-4c46-ab07-b8ffee510692",
   "metadata": {
    "execution": {
     "iopub.execute_input": "2022-06-20T03:51:20.807435Z",
     "iopub.status.busy": "2022-06-20T03:51:20.806918Z",
     "iopub.status.idle": "2022-06-20T03:51:20.831683Z",
     "shell.execute_reply": "2022-06-20T03:51:20.823373Z",
     "shell.execute_reply.started": "2022-06-20T03:51:20.807396Z"
    },
    "tags": []
   },
   "outputs": [
    {
     "data": {
      "text/plain": [
       "('__main__', 'FitDeMean', 'DeMean.FitDeMean')"
      ]
     },
     "execution_count": 215,
     "metadata": {},
     "output_type": "execute_result"
    }
   ],
   "source": [
    "(DeMean.FitDeMean.__module__,\n",
    "DeMean.FitDeMean.__name__,\n",
    "DeMean.FitDeMean.__qualname__)"
   ]
  },
  {
   "cell_type": "code",
   "execution_count": 250,
   "id": "764c68df-4c5a-4b1c-a38b-b10f291e650c",
   "metadata": {
    "execution": {
     "iopub.execute_input": "2022-06-20T04:15:50.434112Z",
     "iopub.status.busy": "2022-06-20T04:15:50.432395Z",
     "iopub.status.idle": "2022-06-20T04:15:50.447193Z",
     "shell.execute_reply": "2022-06-20T04:15:50.444984Z",
     "shell.execute_reply.started": "2022-06-20T04:15:50.434061Z"
    },
    "tags": []
   },
   "outputs": [
    {
     "data": {
      "text/plain": [
       "{'X_fit': 'pd.DataFrame',\n",
       " 'bindings': 'Optional[dict[str, object]]',\n",
       " 'return': 'DeMean.FitDeMean'}"
      ]
     },
     "execution_count": 250,
     "metadata": {},
     "output_type": "execute_result"
    }
   ],
   "source": [
    "DeMean.fit.__annotations__"
   ]
  },
  {
   "cell_type": "code",
   "execution_count": 256,
   "id": "11750a80-f75e-4d45-8dc9-32f21cd39b31",
   "metadata": {
    "execution": {
     "iopub.execute_input": "2022-06-20T04:22:11.344526Z",
     "iopub.status.busy": "2022-06-20T04:22:11.343277Z",
     "iopub.status.idle": "2022-06-20T04:22:11.355416Z",
     "shell.execute_reply": "2022-06-20T04:22:11.353240Z",
     "shell.execute_reply.started": "2022-06-20T04:22:11.344483Z"
    },
    "tags": []
   },
   "outputs": [
    {
     "name": "stdout",
     "output_type": "stream",
     "text": [
      "Help on class DeMean in module __main__:\n",
      "\n",
      "class DeMean(Transform)\n",
      " |  DeMean(cols)\n",
      " |  \n",
      " |  Docstr for MyDeMean\n",
      " |  \n",
      " |  Method resolution order:\n",
      " |      DeMean\n",
      " |      Transform\n",
      " |      abc.ABC\n",
      " |      builtins.object\n",
      " |  \n",
      " |  Data and other attributes defined here:\n",
      " |  \n",
      " |  FitDeMean = <class '__main__.DeMean.FitDeMean'>\n",
      " |      The result of fitting a DeMean Transform. Blah blah.\n",
      " |  \n",
      " |  \n",
      " |  __abstractmethods__ = frozenset()\n",
      " |  \n",
      " |  fit_class_name = 'FitDeMean'\n",
      " |  \n",
      " |  ----------------------------------------------------------------------\n",
      " |  Methods inherited from Transform:\n",
      " |  \n",
      " |  __init__(self, cols)\n",
      " |      Transform init docstr\n",
      " |  \n",
      " |  fit(self, X_fit: 'pd.DataFrame', bindings: 'Optional[dict[str, object]]' = None) -> 'DeMean.FitDeMean'\n",
      " |  \n",
      " |  ----------------------------------------------------------------------\n",
      " |  Class methods inherited from Transform:\n",
      " |  \n",
      " |  __init_subclass__(no_magic=False, **kwargs) from abc.ABCMeta\n",
      " |      This method is called when a class is subclassed.\n",
      " |      \n",
      " |      The default implementation does nothing. It may be\n",
      " |      overridden to extend subclasses.\n",
      " |  \n",
      " |  ----------------------------------------------------------------------\n",
      " |  Data descriptors inherited from Transform:\n",
      " |  \n",
      " |  __dict__\n",
      " |      dictionary for instance variables (if defined)\n",
      " |  \n",
      " |  __weakref__\n",
      " |      list of weak references to the object (if defined)\n",
      "\n"
     ]
    }
   ],
   "source": [
    "help(DeMean)"
   ]
  },
  {
   "cell_type": "code",
   "execution_count": 257,
   "id": "9ee8517b-f1d9-453a-bf34-9db7b2ab68cb",
   "metadata": {
    "execution": {
     "iopub.execute_input": "2022-06-20T04:22:15.087383Z",
     "iopub.status.busy": "2022-06-20T04:22:15.086894Z",
     "iopub.status.idle": "2022-06-20T04:22:15.099357Z",
     "shell.execute_reply": "2022-06-20T04:22:15.097273Z",
     "shell.execute_reply.started": "2022-06-20T04:22:15.087345Z"
    },
    "tags": []
   },
   "outputs": [
    {
     "name": "stdout",
     "output_type": "stream",
     "text": [
      "Help on class FitDeMean in module __main__:\n",
      "\n",
      "class FitDeMean(FitTransform)\n",
      " |  FitDeMean(transform, X_fit, bindings=None)\n",
      " |  \n",
      " |  The result of fitting a DeMean Transform. Blah blah.\n",
      " |  \n",
      " |  Method resolution order:\n",
      " |      FitDeMean\n",
      " |      FitTransform\n",
      " |      abc.ABC\n",
      " |      builtins.object\n",
      " |  \n",
      " |  Data and other attributes defined here:\n",
      " |  \n",
      " |  __abstractmethods__ = frozenset()\n",
      " |  \n",
      " |  ----------------------------------------------------------------------\n",
      " |  Methods inherited from FitTransform:\n",
      " |  \n",
      " |  __init__(self, transform, X_fit, bindings=None)\n",
      " |      Docstr for FitTransform.__init__\n",
      " |  \n",
      " |  apply(self, X_apply: 'pd.DataFrame') -> 'pd.DataFrame'\n",
      " |      Docstr for FitTransform.apply\n",
      " |  \n",
      " |  from_fitting(cls, transform, X_fit, bindings=None)\n",
      " |  \n",
      " |  original(self)\n",
      " |  \n",
      " |  state(self)\n",
      " |  \n",
      " |  ----------------------------------------------------------------------\n",
      " |  Data descriptors inherited from FitTransform:\n",
      " |  \n",
      " |  __dict__\n",
      " |      dictionary for instance variables (if defined)\n",
      " |  \n",
      " |  __weakref__\n",
      " |      list of weak references to the object (if defined)\n",
      "\n"
     ]
    }
   ],
   "source": [
    "help(DeMean.FitDeMean)"
   ]
  },
  {
   "cell_type": "code",
   "execution_count": 231,
   "id": "aff1a3a9-335c-442f-be47-023b8f2cec4f",
   "metadata": {
    "execution": {
     "iopub.execute_input": "2022-06-20T04:01:35.231377Z",
     "iopub.status.busy": "2022-06-20T04:01:35.230842Z",
     "iopub.status.idle": "2022-06-20T04:01:35.244090Z",
     "shell.execute_reply": "2022-06-20T04:01:35.241466Z",
     "shell.execute_reply.started": "2022-06-20T04:01:35.231339Z"
    },
    "tags": []
   },
   "outputs": [
    {
     "data": {
      "text/plain": [
       "<__main__.DeMean at 0x7f415e0dba90>"
      ]
     },
     "execution_count": 231,
     "metadata": {},
     "output_type": "execute_result"
    }
   ],
   "source": [
    "t"
   ]
  },
  {
   "cell_type": "code",
   "execution_count": 232,
   "id": "6fbc892d-4dc4-4c45-8243-80e1e065e0ca",
   "metadata": {
    "execution": {
     "iopub.execute_input": "2022-06-20T04:01:35.977496Z",
     "iopub.status.busy": "2022-06-20T04:01:35.976957Z",
     "iopub.status.idle": "2022-06-20T04:01:35.990705Z",
     "shell.execute_reply": "2022-06-20T04:01:35.988559Z",
     "shell.execute_reply.started": "2022-06-20T04:01:35.977457Z"
    },
    "tags": []
   },
   "outputs": [
    {
     "data": {
      "text/plain": [
       "<__main__.DeMean.FitDeMean at 0x7f415e0dbbe0>"
      ]
     },
     "execution_count": 232,
     "metadata": {},
     "output_type": "execute_result"
    }
   ],
   "source": [
    "tfit"
   ]
  },
  {
   "cell_type": "code",
   "execution_count": 233,
   "id": "3e8a453c-44a1-4570-bd0f-7a25fcffc33d",
   "metadata": {
    "execution": {
     "iopub.execute_input": "2022-06-20T04:01:40.686179Z",
     "iopub.status.busy": "2022-06-20T04:01:40.684494Z",
     "iopub.status.idle": "2022-06-20T04:01:40.697906Z",
     "shell.execute_reply": "2022-06-20T04:01:40.696143Z",
     "shell.execute_reply.started": "2022-06-20T04:01:40.686130Z"
    },
    "tags": []
   },
   "outputs": [
    {
     "data": {
      "text/plain": [
       "'FitDeMean'"
      ]
     },
     "execution_count": 233,
     "metadata": {},
     "output_type": "execute_result"
    }
   ],
   "source": [
    "tfit.__class__.__name__"
   ]
  },
  {
   "cell_type": "code",
   "execution_count": 234,
   "id": "520c4dbf-01fa-4b17-ae66-b8d87e64ee6c",
   "metadata": {
    "execution": {
     "iopub.execute_input": "2022-06-20T04:01:42.059656Z",
     "iopub.status.busy": "2022-06-20T04:01:42.058000Z",
     "iopub.status.idle": "2022-06-20T04:01:42.069831Z",
     "shell.execute_reply": "2022-06-20T04:01:42.067745Z",
     "shell.execute_reply.started": "2022-06-20T04:01:42.059608Z"
    },
    "tags": []
   },
   "outputs": [
    {
     "data": {
      "text/plain": [
       "\u001b[0;31mInit signature:\u001b[0m \u001b[0mDeMean\u001b[0m\u001b[0;34m.\u001b[0m\u001b[0mFitDeMean\u001b[0m\u001b[0;34m(\u001b[0m\u001b[0mtf\u001b[0m\u001b[0;34m,\u001b[0m \u001b[0mbindings\u001b[0m\u001b[0;34m,\u001b[0m \u001b[0mX_fit\u001b[0m\u001b[0;34m)\u001b[0m\u001b[0;34m\u001b[0m\u001b[0;34m\u001b[0m\u001b[0m\n",
       "\u001b[0;31mDocstring:\u001b[0m      The result of fitting a DeMean. Blah blah.\n",
       "\u001b[0;31mInit docstring:\u001b[0m Docstr for FitTransform.__init__\n",
       "\u001b[0;31mFile:\u001b[0m           /usr/lib/python3.9/abc.py\n",
       "\u001b[0;31mType:\u001b[0m           ABCMeta\n",
       "\u001b[0;31mSubclasses:\u001b[0m     \n"
      ]
     },
     "metadata": {},
     "output_type": "display_data"
    }
   ],
   "source": [
    "DeMean.FitDeMean?"
   ]
  },
  {
   "cell_type": "code",
   "execution_count": 236,
   "id": "6f37b559-2c2c-43b9-8c83-3acf93877907",
   "metadata": {
    "execution": {
     "iopub.execute_input": "2022-06-20T04:01:53.996758Z",
     "iopub.status.busy": "2022-06-20T04:01:53.996192Z",
     "iopub.status.idle": "2022-06-20T04:01:54.007592Z",
     "shell.execute_reply": "2022-06-20T04:01:54.005258Z",
     "shell.execute_reply.started": "2022-06-20T04:01:53.996714Z"
    },
    "tags": []
   },
   "outputs": [
    {
     "data": {
      "text/plain": [
       "\u001b[0;31mSignature:\u001b[0m \u001b[0mtfit\u001b[0m\u001b[0;34m.\u001b[0m\u001b[0mapply\u001b[0m\u001b[0;34m(\u001b[0m\u001b[0mX_apply\u001b[0m\u001b[0;34m:\u001b[0m \u001b[0;34m'pd.DataFrame'\u001b[0m\u001b[0;34m)\u001b[0m \u001b[0;34m->\u001b[0m \u001b[0;34m'pd.DataFrame'\u001b[0m\u001b[0;34m\u001b[0m\u001b[0;34m\u001b[0m\u001b[0m\n",
       "\u001b[0;31mDocstring:\u001b[0m Docstr for FitTransform.apply\n",
       "\u001b[0;31mFile:\u001b[0m      /tmp/ipykernel_2188/2031211177.py\n",
       "\u001b[0;31mType:\u001b[0m      method\n"
      ]
     },
     "metadata": {},
     "output_type": "display_data"
    }
   ],
   "source": [
    "tfit.apply?"
   ]
  },
  {
   "cell_type": "code",
   "execution_count": 265,
   "id": "cc93eef2-69ad-4c6b-960f-054ae939491b",
   "metadata": {
    "execution": {
     "iopub.execute_input": "2022-06-20T04:24:10.314761Z",
     "iopub.status.busy": "2022-06-20T04:24:10.313704Z",
     "iopub.status.idle": "2022-06-20T04:24:10.335406Z",
     "shell.execute_reply": "2022-06-20T04:24:10.331234Z",
     "shell.execute_reply.started": "2022-06-20T04:24:10.314715Z"
    },
    "tags": []
   },
   "outputs": [
    {
     "data": {
      "text/plain": [
       "<__main__.DeMean.FitDeMean at 0x7f415e065280>"
      ]
     },
     "execution_count": 265,
     "metadata": {},
     "output_type": "execute_result"
    }
   ],
   "source": [
    "DeMean.FitDeMean.from_fitting(t, df, {})"
   ]
  },
  {
   "cell_type": "code",
   "execution_count": 281,
   "id": "4b3d5c58-611a-4838-baf3-7f1bfde55404",
   "metadata": {
    "execution": {
     "iopub.execute_input": "2022-06-20T04:37:43.283882Z",
     "iopub.status.busy": "2022-06-20T04:37:43.283321Z",
     "iopub.status.idle": "2022-06-20T04:37:43.294399Z",
     "shell.execute_reply": "2022-06-20T04:37:43.291564Z",
     "shell.execute_reply.started": "2022-06-20T04:37:43.283842Z"
    },
    "tags": []
   },
   "outputs": [],
   "source": [
    "class StatelessTransform(Transform):\n",
    "    def _fit(self, X_fit):\n",
    "        return None\n",
    "    \n",
    "    #@abstractmethod\n",
    "    #def _apply(self, X_apply):\n",
    "    #    # no kwarg for state\n",
    "    #    raise NotImplementedError\n",
    "    \n",
    "    #def apply(self, X_apply: pd.DataFrame) -> pd.DataFrame:\n",
    "    #    pass"
   ]
  },
  {
   "cell_type": "code",
   "execution_count": 282,
   "id": "d69ed87c-cdcb-4fa1-8955-32131d2d7d01",
   "metadata": {
    "execution": {
     "iopub.execute_input": "2022-06-20T04:37:44.135541Z",
     "iopub.status.busy": "2022-06-20T04:37:44.134987Z",
     "iopub.status.idle": "2022-06-20T04:37:44.179201Z",
     "shell.execute_reply": "2022-06-20T04:37:44.171678Z",
     "shell.execute_reply.started": "2022-06-20T04:37:44.135502Z"
    },
    "tags": []
   },
   "outputs": [
    {
     "ename": "TypeError",
     "evalue": "Can't instantiate abstract class StatelessTransform with abstract method _apply",
     "output_type": "error",
     "traceback": [
      "\u001b[0;31m---------------------------------------------------------------------------\u001b[0m",
      "\u001b[0;31mTypeError\u001b[0m                                 Traceback (most recent call last)",
      "Input \u001b[0;32mIn [282]\u001b[0m, in \u001b[0;36m<cell line: 1>\u001b[0;34m()\u001b[0m\n\u001b[0;32m----> 1\u001b[0m \u001b[43mStatelessTransform\u001b[49m\u001b[43m(\u001b[49m\u001b[43mcols\u001b[49m\u001b[38;5;241;43m=\u001b[39;49m\u001b[43m[\u001b[49m\u001b[38;5;124;43m'\u001b[39;49m\u001b[38;5;124;43mprice\u001b[39;49m\u001b[38;5;124;43m'\u001b[39;49m\u001b[43m]\u001b[49m\u001b[43m)\u001b[49m\n",
      "\u001b[0;31mTypeError\u001b[0m: Can't instantiate abstract class StatelessTransform with abstract method _apply"
     ]
    }
   ],
   "source": [
    "StatelessTransform(cols=['price'])"
   ]
  },
  {
   "cell_type": "code",
   "execution_count": 285,
   "id": "89b33332-4b54-480e-bf1f-c5274baaa7e8",
   "metadata": {
    "execution": {
     "iopub.execute_input": "2022-06-20T04:38:01.758034Z",
     "iopub.status.busy": "2022-06-20T04:38:01.756558Z",
     "iopub.status.idle": "2022-06-20T04:38:01.771227Z",
     "shell.execute_reply": "2022-06-20T04:38:01.768604Z",
     "shell.execute_reply.started": "2022-06-20T04:38:01.757956Z"
    },
    "tags": []
   },
   "outputs": [],
   "source": [
    "class AssignConstant(StatelessTransform):\n",
    "    def __init__(self, cols, value):\n",
    "        super().__init__(cols)\n",
    "        self.value = value\n",
    "        \n",
    "    def _apply(self, X_apply, state=None):\n",
    "        return X_apply.assign(**{\n",
    "            c: self.value\n",
    "            for c in self.cols\n",
    "        })\n",
    "        \n",
    "        "
   ]
  },
  {
   "cell_type": "code",
   "execution_count": 286,
   "id": "a97d0060-b555-49ef-b1cc-c01c7fcc883e",
   "metadata": {
    "execution": {
     "iopub.execute_input": "2022-06-20T04:38:02.286861Z",
     "iopub.status.busy": "2022-06-20T04:38:02.285492Z",
     "iopub.status.idle": "2022-06-20T04:38:02.434344Z",
     "shell.execute_reply": "2022-06-20T04:38:02.428022Z",
     "shell.execute_reply.started": "2022-06-20T04:38:02.286789Z"
    },
    "tags": []
   },
   "outputs": [
    {
     "name": "stderr",
     "output_type": "stream",
     "text": [
      "\u001b[49m\u001b[37m\u001b[22m2022-06-20 00:38:02,290:   DEBUG\u001b[0m\u001b[39m\u001b[49m:         __main__: \u001b[44m\u001b[37m\u001b[1mMainProcess\u001b[0m\u001b[39m\u001b[49m 2188: Fitting Transform on 53940 rows of data: <__main__.AssignConstant object at 0x7f415dd3a2e0>\n",
      "\u001b[49m\u001b[37m\u001b[22m2022-06-20 00:38:02,293:   DEBUG\u001b[0m\u001b[39m\u001b[49m:         __main__: \u001b[44m\u001b[37m\u001b[1mMainProcess\u001b[0m\u001b[39m\u001b[49m 2188: Applying Transform to 53940 rows of data: <__main__.AssignConstant.FitAssignConstant object at 0x7f415e018670>\n"
     ]
    },
    {
     "ename": "AttributeError",
     "evalue": "'FitAssignConstant' object has no attribute 'value'",
     "output_type": "error",
     "traceback": [
      "\u001b[0;31m---------------------------------------------------------------------------\u001b[0m",
      "\u001b[0;31mAttributeError\u001b[0m                            Traceback (most recent call last)",
      "Input \u001b[0;32mIn [286]\u001b[0m, in \u001b[0;36m<cell line: 1>\u001b[0;34m()\u001b[0m\n\u001b[0;32m----> 1\u001b[0m \u001b[43mAssignConstant\u001b[49m\u001b[43m(\u001b[49m\u001b[43m[\u001b[49m\u001b[38;5;124;43m'\u001b[39;49m\u001b[38;5;124;43mprice\u001b[39;49m\u001b[38;5;124;43m'\u001b[39;49m\u001b[43m]\u001b[49m\u001b[43m,\u001b[49m\u001b[43m \u001b[49m\u001b[38;5;241;43m1\u001b[39;49m\u001b[43m)\u001b[49m\u001b[38;5;241;43m.\u001b[39;49m\u001b[43mfit\u001b[49m\u001b[43m(\u001b[49m\u001b[43mdf\u001b[49m\u001b[43m)\u001b[49m\u001b[38;5;241;43m.\u001b[39;49m\u001b[43mapply\u001b[49m\u001b[43m(\u001b[49m\u001b[43mdf\u001b[49m\u001b[43m)\u001b[49m\n",
      "Input \u001b[0;32mIn [266]\u001b[0m, in \u001b[0;36mFitTransform.apply\u001b[0;34m(self, X_apply)\u001b[0m\n\u001b[1;32m     67\u001b[0m \u001b[38;5;124m\"\u001b[39m\u001b[38;5;124mDocstr for FitTransform.apply\u001b[39m\u001b[38;5;124m\"\u001b[39m\n\u001b[1;32m     68\u001b[0m LOG\u001b[38;5;241m.\u001b[39mdebug(\u001b[38;5;124m'\u001b[39m\u001b[38;5;124mApplying Transform to \u001b[39m\u001b[38;5;132;01m%d\u001b[39;00m\u001b[38;5;124m rows of data: \u001b[39m\u001b[38;5;132;01m%r\u001b[39;00m\u001b[38;5;124m'\u001b[39m, \u001b[38;5;28mlen\u001b[39m(X_apply),\n\u001b[1;32m     69\u001b[0m     \u001b[38;5;28mself\u001b[39m)\n\u001b[0;32m---> 70\u001b[0m \u001b[38;5;28;01mreturn\u001b[39;00m \u001b[38;5;28;43mself\u001b[39;49m\u001b[38;5;241;43m.\u001b[39;49m\u001b[43m_apply\u001b[49m\u001b[43m(\u001b[49m\u001b[43mX_apply\u001b[49m\u001b[43m,\u001b[49m\u001b[43m \u001b[49m\u001b[43mstate\u001b[49m\u001b[38;5;241;43m=\u001b[39;49m\u001b[38;5;28;43mself\u001b[39;49m\u001b[38;5;241;43m.\u001b[39;49m\u001b[43m__state\u001b[49m\u001b[43m)\u001b[49m\n",
      "Input \u001b[0;32mIn [285]\u001b[0m, in \u001b[0;36mAssignConstant._apply\u001b[0;34m(self, X_apply, state)\u001b[0m\n\u001b[1;32m      6\u001b[0m \u001b[38;5;28;01mdef\u001b[39;00m \u001b[38;5;21m_apply\u001b[39m(\u001b[38;5;28mself\u001b[39m, X_apply, state\u001b[38;5;241m=\u001b[39m\u001b[38;5;28;01mNone\u001b[39;00m):\n\u001b[0;32m----> 7\u001b[0m     \u001b[38;5;28;01mreturn\u001b[39;00m X_apply\u001b[38;5;241m.\u001b[39massign(\u001b[38;5;241m*\u001b[39m\u001b[38;5;241m*\u001b[39m{\n\u001b[1;32m      8\u001b[0m         c: \u001b[38;5;28mself\u001b[39m\u001b[38;5;241m.\u001b[39mvalue\n\u001b[1;32m      9\u001b[0m         \u001b[38;5;28;01mfor\u001b[39;00m c \u001b[38;5;129;01min\u001b[39;00m \u001b[38;5;28mself\u001b[39m\u001b[38;5;241m.\u001b[39mcols\n\u001b[1;32m     10\u001b[0m     })\n",
      "Input \u001b[0;32mIn [285]\u001b[0m, in \u001b[0;36m<dictcomp>\u001b[0;34m(.0)\u001b[0m\n\u001b[1;32m      6\u001b[0m \u001b[38;5;28;01mdef\u001b[39;00m \u001b[38;5;21m_apply\u001b[39m(\u001b[38;5;28mself\u001b[39m, X_apply, state\u001b[38;5;241m=\u001b[39m\u001b[38;5;28;01mNone\u001b[39;00m):\n\u001b[1;32m      7\u001b[0m     \u001b[38;5;28;01mreturn\u001b[39;00m X_apply\u001b[38;5;241m.\u001b[39massign(\u001b[38;5;241m*\u001b[39m\u001b[38;5;241m*\u001b[39m{\n\u001b[0;32m----> 8\u001b[0m         c: \u001b[38;5;28;43mself\u001b[39;49m\u001b[38;5;241;43m.\u001b[39;49m\u001b[43mvalue\u001b[49m\n\u001b[1;32m      9\u001b[0m         \u001b[38;5;28;01mfor\u001b[39;00m c \u001b[38;5;129;01min\u001b[39;00m \u001b[38;5;28mself\u001b[39m\u001b[38;5;241m.\u001b[39mcols\n\u001b[1;32m     10\u001b[0m     })\n",
      "\u001b[0;31mAttributeError\u001b[0m: 'FitAssignConstant' object has no attribute 'value'"
     ]
    }
   ],
   "source": [
    "AssignConstant(['price'], 1).fit(df).apply(df)"
   ]
  }
 ],
 "metadata": {
  "kernelspec": {
   "display_name": "venv-ardua-dev",
   "language": "python",
   "name": "venv-ardua-dev"
  },
  "language_info": {
   "codemirror_mode": {
    "name": "ipython",
    "version": 3
   },
   "file_extension": ".py",
   "mimetype": "text/x-python",
   "name": "python",
   "nbconvert_exporter": "python",
   "pygments_lexer": "ipython3",
   "version": "3.9.5"
  }
 },
 "nbformat": 4,
 "nbformat_minor": 5
}
