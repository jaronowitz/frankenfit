{
 "cells": [
  {
   "cell_type": "code",
   "execution_count": 47,
   "id": "f82f522d-c41e-4caf-a0d5-2106a553ab8b",
   "metadata": {
    "execution": {
     "iopub.execute_input": "2022-06-28T17:23:36.838112Z",
     "iopub.status.busy": "2022-06-28T17:23:36.837877Z",
     "iopub.status.idle": "2022-06-28T17:23:36.903253Z",
     "shell.execute_reply": "2022-06-28T17:23:36.902461Z",
     "shell.execute_reply.started": "2022-06-28T17:23:36.838096Z"
    },
    "tags": []
   },
   "outputs": [
    {
     "name": "stderr",
     "output_type": "stream",
     "text": [
      "\u001b[49m\u001b[37m\u001b[1m2022-06-28 13:23:36,842:    INFO\u001b[0m\u001b[39m\u001b[49m:      ard_logging: \u001b[44m\u001b[37m\u001b[1mMainProcess\u001b[0m\u001b[39m\u001b[49m 148: Logging initialized.\n",
      "\u001b[49m\u001b[37m\u001b[1m2022-06-28 13:23:36,843:    INFO\u001b[0m\u001b[39m\u001b[49m:         __main__: \u001b[44m\u001b[37m\u001b[1mMainProcess\u001b[0m\u001b[39m\u001b[49m 148: Hello from notebook\n"
     ]
    },
    {
     "name": "stdout",
     "output_type": "stream",
     "text": [
      "<class 'pandas.core.frame.DataFrame'>\n",
      "RangeIndex: 53940 entries, 0 to 53939\n",
      "Data columns (total 10 columns):\n",
      " #   Column   Non-Null Count  Dtype   \n",
      "---  ------   --------------  -----   \n",
      " 0   carat    53940 non-null  float64 \n",
      " 1   cut      53940 non-null  category\n",
      " 2   color    53940 non-null  category\n",
      " 3   clarity  53940 non-null  category\n",
      " 4   depth    53940 non-null  float64 \n",
      " 5   table    53940 non-null  float64 \n",
      " 6   price    53940 non-null  int64   \n",
      " 7   x        53940 non-null  float64 \n",
      " 8   y        53940 non-null  float64 \n",
      " 9   z        53940 non-null  float64 \n",
      "dtypes: category(3), float64(6), int64(1)\n",
      "memory usage: 3.0 MB\n"
     ]
    },
    {
     "data": {
      "text/html": [
       "<div>\n",
       "<style scoped>\n",
       "    .dataframe tbody tr th:only-of-type {\n",
       "        vertical-align: middle;\n",
       "    }\n",
       "\n",
       "    .dataframe tbody tr th {\n",
       "        vertical-align: top;\n",
       "    }\n",
       "\n",
       "    .dataframe thead th {\n",
       "        text-align: right;\n",
       "    }\n",
       "</style>\n",
       "<table border=\"1\" class=\"dataframe\">\n",
       "  <thead>\n",
       "    <tr style=\"text-align: right;\">\n",
       "      <th></th>\n",
       "      <th>carat</th>\n",
       "      <th>cut</th>\n",
       "      <th>color</th>\n",
       "      <th>clarity</th>\n",
       "      <th>depth</th>\n",
       "      <th>table</th>\n",
       "      <th>price</th>\n",
       "      <th>x</th>\n",
       "      <th>y</th>\n",
       "      <th>z</th>\n",
       "    </tr>\n",
       "  </thead>\n",
       "  <tbody>\n",
       "    <tr>\n",
       "      <th>0</th>\n",
       "      <td>0.23</td>\n",
       "      <td>Ideal</td>\n",
       "      <td>E</td>\n",
       "      <td>SI2</td>\n",
       "      <td>61.5</td>\n",
       "      <td>55.0</td>\n",
       "      <td>326</td>\n",
       "      <td>3.95</td>\n",
       "      <td>3.98</td>\n",
       "      <td>2.43</td>\n",
       "    </tr>\n",
       "    <tr>\n",
       "      <th>1</th>\n",
       "      <td>0.21</td>\n",
       "      <td>Premium</td>\n",
       "      <td>E</td>\n",
       "      <td>SI1</td>\n",
       "      <td>59.8</td>\n",
       "      <td>61.0</td>\n",
       "      <td>326</td>\n",
       "      <td>3.89</td>\n",
       "      <td>3.84</td>\n",
       "      <td>2.31</td>\n",
       "    </tr>\n",
       "    <tr>\n",
       "      <th>2</th>\n",
       "      <td>0.23</td>\n",
       "      <td>Good</td>\n",
       "      <td>E</td>\n",
       "      <td>VS1</td>\n",
       "      <td>56.9</td>\n",
       "      <td>65.0</td>\n",
       "      <td>327</td>\n",
       "      <td>4.05</td>\n",
       "      <td>4.07</td>\n",
       "      <td>2.31</td>\n",
       "    </tr>\n",
       "    <tr>\n",
       "      <th>3</th>\n",
       "      <td>0.29</td>\n",
       "      <td>Premium</td>\n",
       "      <td>I</td>\n",
       "      <td>VS2</td>\n",
       "      <td>62.4</td>\n",
       "      <td>58.0</td>\n",
       "      <td>334</td>\n",
       "      <td>4.20</td>\n",
       "      <td>4.23</td>\n",
       "      <td>2.63</td>\n",
       "    </tr>\n",
       "    <tr>\n",
       "      <th>4</th>\n",
       "      <td>0.31</td>\n",
       "      <td>Good</td>\n",
       "      <td>J</td>\n",
       "      <td>SI2</td>\n",
       "      <td>63.3</td>\n",
       "      <td>58.0</td>\n",
       "      <td>335</td>\n",
       "      <td>4.34</td>\n",
       "      <td>4.35</td>\n",
       "      <td>2.75</td>\n",
       "    </tr>\n",
       "  </tbody>\n",
       "</table>\n",
       "</div>"
      ],
      "text/plain": [
       "   carat      cut color clarity  depth  table  price     x     y     z\n",
       "0   0.23    Ideal     E     SI2   61.5   55.0    326  3.95  3.98  2.43\n",
       "1   0.21  Premium     E     SI1   59.8   61.0    326  3.89  3.84  2.31\n",
       "2   0.23     Good     E     VS1   56.9   65.0    327  4.05  4.07  2.31\n",
       "3   0.29  Premium     I     VS2   62.4   58.0    334  4.20  4.23  2.63\n",
       "4   0.31     Good     J     SI2   63.3   58.0    335  4.34  4.35  2.75"
      ]
     },
     "execution_count": 47,
     "metadata": {},
     "output_type": "execute_result"
    }
   ],
   "source": [
    "from importlib import reload\n",
    "import pandas as pd\n",
    "import numpy as np\n",
    "import seaborn as sns\n",
    "import matplotlib.pyplot as plt\n",
    "sns.set_theme(style='whitegrid')\n",
    "import ard_logging\n",
    "import logging\n",
    "ard_logging.init(force_debug=True)\n",
    "LOG = logging.getLogger(__name__)\n",
    "LOG.info('Hello from notebook')\n",
    "\n",
    "df = sns.load_dataset('diamonds')\n",
    "df.info()\n",
    "df.head()"
   ]
  },
  {
   "cell_type": "code",
   "execution_count": 96,
   "id": "7b3d0a85-8384-42b3-afe2-fbb5003ea856",
   "metadata": {
    "execution": {
     "iopub.execute_input": "2022-06-28T18:36:12.524140Z",
     "iopub.status.busy": "2022-06-28T18:36:12.522916Z",
     "iopub.status.idle": "2022-06-28T18:36:12.542554Z",
     "shell.execute_reply": "2022-06-28T18:36:12.541795Z",
     "shell.execute_reply.started": "2022-06-28T18:36:12.524117Z"
    },
    "tags": []
   },
   "outputs": [],
   "source": [
    "import ard_fit_pipelines as fp\n",
    "reload(fp.core); reload(fp.transforms); reload(fp)\n",
    "import ard_fit_pipelines.core as fpc\n",
    "import ard_fit_pipelines.transforms as fpt\n",
    "\n",
    "logging.getLogger('ard_fit_pipelines').setLevel(logging.DEBUG)\n",
    "#reload(fpc)"
   ]
  },
  {
   "cell_type": "code",
   "execution_count": 97,
   "id": "21a74e78-babb-442f-8a14-c1b25ce2ba4e",
   "metadata": {
    "execution": {
     "iopub.execute_input": "2022-06-28T18:36:13.593001Z",
     "iopub.status.busy": "2022-06-28T18:36:13.592615Z",
     "iopub.status.idle": "2022-06-28T18:36:13.596920Z",
     "shell.execute_reply": "2022-06-28T18:36:13.596084Z",
     "shell.execute_reply.started": "2022-06-28T18:36:13.592972Z"
    },
    "tags": []
   },
   "outputs": [],
   "source": [
    "cols = ['price', 'x', 'y' ,'z']\n",
    "t = fpt.DeMean(cols)"
   ]
  },
  {
   "cell_type": "code",
   "execution_count": 98,
   "id": "3b5a9c37-7c90-42ef-beb3-ea65a2284fc4",
   "metadata": {
    "execution": {
     "iopub.execute_input": "2022-06-28T18:36:16.155977Z",
     "iopub.status.busy": "2022-06-28T18:36:16.155094Z",
     "iopub.status.idle": "2022-06-28T18:36:16.162374Z",
     "shell.execute_reply": "2022-06-28T18:36:16.161262Z",
     "shell.execute_reply.started": "2022-06-28T18:36:16.155947Z"
    },
    "tags": []
   },
   "outputs": [
    {
     "data": {
      "text/plain": [
       "DeMean(cols=['price', 'x', 'y', 'z'], w_col=None)"
      ]
     },
     "execution_count": 98,
     "metadata": {},
     "output_type": "execute_result"
    }
   ],
   "source": [
    "t"
   ]
  },
  {
   "cell_type": "code",
   "execution_count": 92,
   "id": "48a1fb9b-3d6d-4a38-86cc-fedd5a9230b0",
   "metadata": {
    "execution": {
     "iopub.execute_input": "2022-06-28T18:35:34.141142Z",
     "iopub.status.busy": "2022-06-28T18:35:34.140683Z",
     "iopub.status.idle": "2022-06-28T18:35:34.148249Z",
     "shell.execute_reply": "2022-06-28T18:35:34.147225Z",
     "shell.execute_reply.started": "2022-06-28T18:35:34.141122Z"
    },
    "tags": []
   },
   "outputs": [
    {
     "data": {
      "text/plain": [
       "\u001b[0;31mInit signature:\u001b[0m\n",
       "\u001b[0mfpt\u001b[0m\u001b[0;34m.\u001b[0m\u001b[0mDeMean\u001b[0m\u001b[0;34m(\u001b[0m\u001b[0;34m\u001b[0m\n",
       "\u001b[0;34m\u001b[0m    \u001b[0mcols\u001b[0m\u001b[0;34m:\u001b[0m \u001b[0;34m'str | HP | Iterable[str | HP]'\u001b[0m\u001b[0;34m,\u001b[0m\u001b[0;34m\u001b[0m\n",
       "\u001b[0;34m\u001b[0m    \u001b[0mw_col\u001b[0m\u001b[0;34m:\u001b[0m \u001b[0;34m'Optional[str]'\u001b[0m \u001b[0;34m=\u001b[0m \u001b[0;32mNone\u001b[0m\u001b[0;34m,\u001b[0m\u001b[0;34m\u001b[0m\n",
       "\u001b[0;34m\u001b[0m\u001b[0;34m)\u001b[0m \u001b[0;34m->\u001b[0m \u001b[0;32mNone\u001b[0m\u001b[0;34m\u001b[0m\u001b[0;34m\u001b[0m\u001b[0m\n",
       "\u001b[0;31mDocstring:\u001b[0m      De-mean some columns.\n",
       "\u001b[0;31mInit docstring:\u001b[0m Method generated by attrs for class DeMean.\n",
       "\u001b[0;31mFile:\u001b[0m           ~/projects/ardua/codebases/local/ard-fit-pipelines/src/ard_fit_pipelines/transforms.py\n",
       "\u001b[0;31mType:\u001b[0m           ABCMeta\n",
       "\u001b[0;31mSubclasses:\u001b[0m     \n"
      ]
     },
     "metadata": {},
     "output_type": "display_data"
    }
   ],
   "source": [
    "fpt.DeMean?"
   ]
  },
  {
   "cell_type": "code",
   "execution_count": 82,
   "id": "15017700-5411-4e9b-bfad-6cd74e1d0e0a",
   "metadata": {
    "execution": {
     "iopub.execute_input": "2022-06-28T18:32:10.621243Z",
     "iopub.status.busy": "2022-06-28T18:32:10.620535Z",
     "iopub.status.idle": "2022-06-28T18:32:10.627156Z",
     "shell.execute_reply": "2022-06-28T18:32:10.626373Z",
     "shell.execute_reply.started": "2022-06-28T18:32:10.621211Z"
    },
    "tags": []
   },
   "outputs": [
    {
     "data": {
      "text/plain": [
       "\u001b[0;31mInit signature:\u001b[0m \u001b[0mDeMean\u001b[0m\u001b[0;34m(\u001b[0m\u001b[0mw_col\u001b[0m\u001b[0;34m:\u001b[0m \u001b[0;34m'Optional[str]'\u001b[0m \u001b[0;34m=\u001b[0m \u001b[0;32mNone\u001b[0m\u001b[0;34m)\u001b[0m \u001b[0;34m->\u001b[0m \u001b[0;32mNone\u001b[0m\u001b[0;34m\u001b[0m\u001b[0;34m\u001b[0m\u001b[0m\n",
       "\u001b[0;31mDocstring:\u001b[0m      De-mean some columns.\n",
       "\u001b[0;31mInit docstring:\u001b[0m Method generated by attrs for class WeightedTransform.\n",
       "\u001b[0;31mFile:\u001b[0m           /usr/lib/python3.9/abc.py\n",
       "\u001b[0;31mType:\u001b[0m           ABCMeta\n",
       "\u001b[0;31mSubclasses:\u001b[0m     \n"
      ]
     },
     "metadata": {},
     "output_type": "display_data"
    }
   ],
   "source": [
    "class DeMean(fpc.WeightedTransform, fpc.ColumnsTransform):\n",
    "    \"\"\"\n",
    "    De-mean some columns.\n",
    "    \"\"\"\n",
    "\n",
    "    def _fit(self, df_fit: pd.DataFrame) -> object:\n",
    "        if self.w_col is not None:\n",
    "            return weighted_means(df_fit, self.cols, self.w_col)\n",
    "        return df_fit[self.cols].mean()\n",
    "\n",
    "    def _apply(self, df_apply: pd.DataFrame, state: pd.DataFrame):\n",
    "        means = state\n",
    "        return df_apply.assign(**{c: df_apply[c] - means[c] for c in self.cols})\n",
    "    \n",
    "DeMean?"
   ]
  },
  {
   "cell_type": "code",
   "execution_count": 89,
   "id": "65be7880-c656-4ba9-82f8-de05b1b8ac37",
   "metadata": {
    "execution": {
     "iopub.execute_input": "2022-06-28T18:33:52.637014Z",
     "iopub.status.busy": "2022-06-28T18:33:52.636645Z",
     "iopub.status.idle": "2022-06-28T18:33:52.645622Z",
     "shell.execute_reply": "2022-06-28T18:33:52.644765Z",
     "shell.execute_reply.started": "2022-06-28T18:33:52.636996Z"
    },
    "tags": []
   },
   "outputs": [
    {
     "data": {
      "text/plain": [
       "\u001b[0;31mInit signature:\u001b[0m \u001b[0mBaz\u001b[0m\u001b[0;34m(\u001b[0m\u001b[0mbar\u001b[0m\u001b[0;34m:\u001b[0m \u001b[0mint\u001b[0m\u001b[0;34m,\u001b[0m \u001b[0mfoo\u001b[0m\u001b[0;34m:\u001b[0m \u001b[0mint\u001b[0m\u001b[0;34m)\u001b[0m \u001b[0;34m->\u001b[0m \u001b[0;32mNone\u001b[0m\u001b[0;34m\u001b[0m\u001b[0;34m\u001b[0m\u001b[0m\n",
       "\u001b[0;31mDocstring:\u001b[0m      <no docstring>\n",
       "\u001b[0;31mInit docstring:\u001b[0m Method generated by attrs for class Baz.\n",
       "\u001b[0;31mType:\u001b[0m           type\n",
       "\u001b[0;31mSubclasses:\u001b[0m     \n"
      ]
     },
     "metadata": {},
     "output_type": "display_data"
    }
   ],
   "source": [
    "from attrs import define\n",
    "@define(slots=False)\n",
    "class Foo:\n",
    "    foo: int\n",
    "    \n",
    "@define(slots=False)\n",
    "class Bar:\n",
    "    bar: int\n",
    "    \n",
    "@define\n",
    "class Baz(Foo, Bar):\n",
    "    pass\n",
    "\n",
    "Baz?"
   ]
  },
  {
   "cell_type": "code",
   "execution_count": 63,
   "id": "4c51cd33-bd31-4c79-b836-ff2659fe04a3",
   "metadata": {
    "execution": {
     "iopub.execute_input": "2022-06-28T18:02:48.367565Z",
     "iopub.status.busy": "2022-06-28T18:02:48.367311Z",
     "iopub.status.idle": "2022-06-28T18:02:48.376935Z",
     "shell.execute_reply": "2022-06-28T18:02:48.376167Z",
     "shell.execute_reply.started": "2022-06-28T18:02:48.367548Z"
    },
    "tags": []
   },
   "outputs": [
    {
     "data": {
      "text/plain": [
       "depth    61.773424\n",
       "table    57.698256\n",
       "dtype: float64"
      ]
     },
     "execution_count": 63,
     "metadata": {},
     "output_type": "execute_result"
    }
   ],
   "source": [
    "\n",
    "df[['depth', 'table']].multiply(df['carat'], axis='index').sum() / df['carat'].sum()"
   ]
  },
  {
   "cell_type": "code",
   "execution_count": 57,
   "id": "20af16e2-f8cf-4fd8-9edc-96215f5ed43b",
   "metadata": {
    "execution": {
     "iopub.execute_input": "2022-06-28T18:01:31.374518Z",
     "iopub.status.busy": "2022-06-28T18:01:31.373967Z",
     "iopub.status.idle": "2022-06-28T18:01:31.385468Z",
     "shell.execute_reply": "2022-06-28T18:01:31.384479Z",
     "shell.execute_reply.started": "2022-06-28T18:01:31.374499Z"
    },
    "tags": []
   },
   "outputs": [
    {
     "data": {
      "text/plain": [
       "\u001b[0;31mSignature:\u001b[0m \u001b[0mdf\u001b[0m\u001b[0;34m.\u001b[0m\u001b[0mmultiply\u001b[0m\u001b[0;34m(\u001b[0m\u001b[0mother\u001b[0m\u001b[0;34m,\u001b[0m \u001b[0maxis\u001b[0m\u001b[0;34m=\u001b[0m\u001b[0;34m'columns'\u001b[0m\u001b[0;34m,\u001b[0m \u001b[0mlevel\u001b[0m\u001b[0;34m=\u001b[0m\u001b[0;32mNone\u001b[0m\u001b[0;34m,\u001b[0m \u001b[0mfill_value\u001b[0m\u001b[0;34m=\u001b[0m\u001b[0;32mNone\u001b[0m\u001b[0;34m)\u001b[0m\u001b[0;34m\u001b[0m\u001b[0;34m\u001b[0m\u001b[0m\n",
       "\u001b[0;31mDocstring:\u001b[0m\n",
       "Get Multiplication of dataframe and other, element-wise (binary operator `mul`).\n",
       "\n",
       "Equivalent to ``dataframe * other``, but with support to substitute a fill_value\n",
       "for missing data in one of the inputs. With reverse version, `rmul`.\n",
       "\n",
       "Among flexible wrappers (`add`, `sub`, `mul`, `div`, `mod`, `pow`) to\n",
       "arithmetic operators: `+`, `-`, `*`, `/`, `//`, `%`, `**`.\n",
       "\n",
       "Parameters\n",
       "----------\n",
       "other : scalar, sequence, Series, or DataFrame\n",
       "    Any single or multiple element data structure, or list-like object.\n",
       "axis : {0 or 'index', 1 or 'columns'}\n",
       "    Whether to compare by the index (0 or 'index') or columns\n",
       "    (1 or 'columns'). For Series input, axis to match Series index on.\n",
       "level : int or label\n",
       "    Broadcast across a level, matching Index values on the\n",
       "    passed MultiIndex level.\n",
       "fill_value : float or None, default None\n",
       "    Fill existing missing (NaN) values, and any new element needed for\n",
       "    successful DataFrame alignment, with this value before computation.\n",
       "    If data in both corresponding DataFrame locations is missing\n",
       "    the result will be missing.\n",
       "\n",
       "Returns\n",
       "-------\n",
       "DataFrame\n",
       "    Result of the arithmetic operation.\n",
       "\n",
       "See Also\n",
       "--------\n",
       "DataFrame.add : Add DataFrames.\n",
       "DataFrame.sub : Subtract DataFrames.\n",
       "DataFrame.mul : Multiply DataFrames.\n",
       "DataFrame.div : Divide DataFrames (float division).\n",
       "DataFrame.truediv : Divide DataFrames (float division).\n",
       "DataFrame.floordiv : Divide DataFrames (integer division).\n",
       "DataFrame.mod : Calculate modulo (remainder after division).\n",
       "DataFrame.pow : Calculate exponential power.\n",
       "\n",
       "Notes\n",
       "-----\n",
       "Mismatched indices will be unioned together.\n",
       "\n",
       "Examples\n",
       "--------\n",
       ">>> df = pd.DataFrame({'angles': [0, 3, 4],\n",
       "...                    'degrees': [360, 180, 360]},\n",
       "...                   index=['circle', 'triangle', 'rectangle'])\n",
       ">>> df\n",
       "           angles  degrees\n",
       "circle          0      360\n",
       "triangle        3      180\n",
       "rectangle       4      360\n",
       "\n",
       "Add a scalar with operator version which return the same\n",
       "results.\n",
       "\n",
       ">>> df + 1\n",
       "           angles  degrees\n",
       "circle          1      361\n",
       "triangle        4      181\n",
       "rectangle       5      361\n",
       "\n",
       ">>> df.add(1)\n",
       "           angles  degrees\n",
       "circle          1      361\n",
       "triangle        4      181\n",
       "rectangle       5      361\n",
       "\n",
       "Divide by constant with reverse version.\n",
       "\n",
       ">>> df.div(10)\n",
       "           angles  degrees\n",
       "circle        0.0     36.0\n",
       "triangle      0.3     18.0\n",
       "rectangle     0.4     36.0\n",
       "\n",
       ">>> df.rdiv(10)\n",
       "             angles   degrees\n",
       "circle          inf  0.027778\n",
       "triangle   3.333333  0.055556\n",
       "rectangle  2.500000  0.027778\n",
       "\n",
       "Subtract a list and Series by axis with operator version.\n",
       "\n",
       ">>> df - [1, 2]\n",
       "           angles  degrees\n",
       "circle         -1      358\n",
       "triangle        2      178\n",
       "rectangle       3      358\n",
       "\n",
       ">>> df.sub([1, 2], axis='columns')\n",
       "           angles  degrees\n",
       "circle         -1      358\n",
       "triangle        2      178\n",
       "rectangle       3      358\n",
       "\n",
       ">>> df.sub(pd.Series([1, 1, 1], index=['circle', 'triangle', 'rectangle']),\n",
       "...        axis='index')\n",
       "           angles  degrees\n",
       "circle         -1      359\n",
       "triangle        2      179\n",
       "rectangle       3      359\n",
       "\n",
       "Multiply a DataFrame of different shape with operator version.\n",
       "\n",
       ">>> other = pd.DataFrame({'angles': [0, 3, 4]},\n",
       "...                      index=['circle', 'triangle', 'rectangle'])\n",
       ">>> other\n",
       "           angles\n",
       "circle          0\n",
       "triangle        3\n",
       "rectangle       4\n",
       "\n",
       ">>> df * other\n",
       "           angles  degrees\n",
       "circle          0      NaN\n",
       "triangle        9      NaN\n",
       "rectangle      16      NaN\n",
       "\n",
       ">>> df.mul(other, fill_value=0)\n",
       "           angles  degrees\n",
       "circle          0      0.0\n",
       "triangle        9      0.0\n",
       "rectangle      16      0.0\n",
       "\n",
       "Divide by a MultiIndex by level.\n",
       "\n",
       ">>> df_multindex = pd.DataFrame({'angles': [0, 3, 4, 4, 5, 6],\n",
       "...                              'degrees': [360, 180, 360, 360, 540, 720]},\n",
       "...                             index=[['A', 'A', 'A', 'B', 'B', 'B'],\n",
       "...                                    ['circle', 'triangle', 'rectangle',\n",
       "...                                     'square', 'pentagon', 'hexagon']])\n",
       ">>> df_multindex\n",
       "             angles  degrees\n",
       "A circle          0      360\n",
       "  triangle        3      180\n",
       "  rectangle       4      360\n",
       "B square          4      360\n",
       "  pentagon        5      540\n",
       "  hexagon         6      720\n",
       "\n",
       ">>> df.div(df_multindex, level=1, fill_value=0)\n",
       "             angles  degrees\n",
       "A circle        NaN      1.0\n",
       "  triangle      1.0      1.0\n",
       "  rectangle     1.0      1.0\n",
       "B square        0.0      0.0\n",
       "  pentagon      0.0      0.0\n",
       "  hexagon       0.0      0.0\n",
       "\u001b[0;31mFile:\u001b[0m      ~/projects/ardua/.venv-dev/lib/python3.9/site-packages/pandas/core/ops/__init__.py\n",
       "\u001b[0;31mType:\u001b[0m      method\n"
      ]
     },
     "metadata": {},
     "output_type": "display_data"
    }
   ],
   "source": [
    "df.multiply?"
   ]
  },
  {
   "cell_type": "code",
   "execution_count": 52,
   "id": "17368617-4f44-4326-8093-ad1f34276f79",
   "metadata": {
    "execution": {
     "iopub.execute_input": "2022-06-28T17:25:01.840678Z",
     "iopub.status.busy": "2022-06-28T17:25:01.840266Z",
     "iopub.status.idle": "2022-06-28T17:25:01.871328Z",
     "shell.execute_reply": "2022-06-28T17:25:01.870542Z",
     "shell.execute_reply.started": "2022-06-28T17:25:01.840662Z"
    },
    "tags": []
   },
   "outputs": [
    {
     "name": "stderr",
     "output_type": "stream",
     "text": [
      "\u001b[49m\u001b[37m\u001b[22m2022-06-28 13:25:01,842:   DEBUG\u001b[0m\u001b[39m\u001b[49m: ard_fit_pipelines.core: \u001b[44m\u001b[37m\u001b[1mMainProcess\u001b[0m\u001b[39m\u001b[49m 148: Fitting IfHyperparamIsTrue on 53940 rows: IfHyperparamIsTrue(name='do_it', then=StatefulLambda(fit_fun=<function <lambda> at 0x7f9e503ddf70>, apply_fun=<function <lambda> at 0x7f9e503dde50>), otherwise=None)\n",
      "\u001b[49m\u001b[37m\u001b[22m2022-06-28 13:25:01,844:   DEBUG\u001b[0m\u001b[39m\u001b[49m: ard_fit_pipelines.core: \u001b[44m\u001b[37m\u001b[1mMainProcess\u001b[0m\u001b[39m\u001b[49m 148: Applying IfHyperparamIsTrue.FitIfHyperparamIsTrue to 53940 rows: FitIfHyperparamIsTrue(name='do_it', then=StatefulLambda(fit_fun=<function <lambda> at 0x7f9e503ddf70>, apply_fun=<function <lambda> at 0x7f9e503dde50>), otherwise=None, <53940 rows of fitting data>)\n",
      "\u001b[49m\u001b[37m\u001b[22m2022-06-28 13:25:01,844:   DEBUG\u001b[0m\u001b[39m\u001b[49m: ard_fit_pipelines.core: \u001b[44m\u001b[37m\u001b[1mMainProcess\u001b[0m\u001b[39m\u001b[49m 148: Fitting IfHyperparamIsTrue on 53940 rows: IfHyperparamIsTrue(name='do_it', then=StatefulLambda(fit_fun=<function <lambda> at 0x7f9e503ddf70>, apply_fun=<function <lambda> at 0x7f9e503dde50>), otherwise=None)\n",
      "\u001b[49m\u001b[37m\u001b[22m2022-06-28 13:25:01,845:   DEBUG\u001b[0m\u001b[39m\u001b[49m: ard_fit_pipelines.core: \u001b[44m\u001b[37m\u001b[1mMainProcess\u001b[0m\u001b[39m\u001b[49m 148: Fitting StatefulLambda on 53940 rows: StatefulLambda(fit_fun=<function <lambda> at 0x7f9e503ddf70>, apply_fun=<function <lambda> at 0x7f9e503dde50>)\n",
      "\u001b[49m\u001b[37m\u001b[22m2022-06-28 13:25:01,846:   DEBUG\u001b[0m\u001b[39m\u001b[49m: ard_fit_pipelines.core: \u001b[44m\u001b[37m\u001b[1mMainProcess\u001b[0m\u001b[39m\u001b[49m 148: Applying IfHyperparamIsTrue.FitIfHyperparamIsTrue to 53940 rows: FitIfHyperparamIsTrue(name='do_it', then=StatefulLambda(fit_fun=<function <lambda> at 0x7f9e503ddf70>, apply_fun=<function <lambda> at 0x7f9e503dde50>), otherwise=None, <53940 rows of fitting data>)\n",
      "\u001b[49m\u001b[37m\u001b[22m2022-06-28 13:25:01,847:   DEBUG\u001b[0m\u001b[39m\u001b[49m: ard_fit_pipelines.core: \u001b[44m\u001b[37m\u001b[1mMainProcess\u001b[0m\u001b[39m\u001b[49m 148: Applying StatefulLambda.FitStatefulLambda to 53940 rows: FitStatefulLambda(fit_fun=<function <lambda> at 0x7f9e503ddf70>, apply_fun=<function <lambda> at 0x7f9e503dde50>, <53940 rows of fitting data>)\n",
      "\u001b[49m\u001b[37m\u001b[22m2022-06-28 13:25:01,850:   DEBUG\u001b[0m\u001b[39m\u001b[49m: ard_fit_pipelines.core: \u001b[44m\u001b[37m\u001b[1mMainProcess\u001b[0m\u001b[39m\u001b[49m 148: Fitting IfHyperparamIsTrue on 53940 rows: IfHyperparamIsTrue(name='do_it', then=StatefulLambda(fit_fun=<function <lambda> at 0x7f9e503ddf70>, apply_fun=<function <lambda> at 0x7f9e503dde50>), otherwise=StatelessLambda(apply_fun=<function <lambda> at 0x7f9e50358040>))\n",
      "\u001b[49m\u001b[37m\u001b[22m2022-06-28 13:25:01,851:   DEBUG\u001b[0m\u001b[39m\u001b[49m: ard_fit_pipelines.core: \u001b[44m\u001b[37m\u001b[1mMainProcess\u001b[0m\u001b[39m\u001b[49m 148: Fitting StatelessLambda on 53940 rows: StatelessLambda(apply_fun=<function <lambda> at 0x7f9e50358040>)\n",
      "\u001b[49m\u001b[37m\u001b[22m2022-06-28 13:25:01,852:   DEBUG\u001b[0m\u001b[39m\u001b[49m: ard_fit_pipelines.core: \u001b[44m\u001b[37m\u001b[1mMainProcess\u001b[0m\u001b[39m\u001b[49m 148: Applying IfHyperparamIsTrue.FitIfHyperparamIsTrue to 53940 rows: FitIfHyperparamIsTrue(name='do_it', then=StatefulLambda(fit_fun=<function <lambda> at 0x7f9e503ddf70>, apply_fun=<function <lambda> at 0x7f9e503dde50>), otherwise=StatelessLambda(apply_fun=<function <lambda> at 0x7f9e50358040>), <53940 rows of fitting data>)\n",
      "\u001b[49m\u001b[37m\u001b[22m2022-06-28 13:25:01,852:   DEBUG\u001b[0m\u001b[39m\u001b[49m: ard_fit_pipelines.core: \u001b[44m\u001b[37m\u001b[1mMainProcess\u001b[0m\u001b[39m\u001b[49m 148: Applying StatelessLambda.FitStatelessLambda to 53940 rows: FitStatelessLambda(apply_fun=<function <lambda> at 0x7f9e50358040>, <53940 rows of fitting data>)\n",
      "\u001b[49m\u001b[37m\u001b[22m2022-06-28 13:25:01,855:   DEBUG\u001b[0m\u001b[39m\u001b[49m: ard_fit_pipelines.core: \u001b[44m\u001b[37m\u001b[1mMainProcess\u001b[0m\u001b[39m\u001b[49m 148: Fitting IfHyperparamIsTrue on 53940 rows: IfHyperparamIsTrue(name='do_it', then=StatelessLambda(apply_fun=<function <lambda> at 0x7f9e50358040>), otherwise=StatefulLambda(fit_fun=<function <lambda> at 0x7f9e503ddf70>, apply_fun=<function <lambda> at 0x7f9e503dde50>))\n",
      "\u001b[49m\u001b[37m\u001b[22m2022-06-28 13:25:01,855:   DEBUG\u001b[0m\u001b[39m\u001b[49m: ard_fit_pipelines.core: \u001b[44m\u001b[37m\u001b[1mMainProcess\u001b[0m\u001b[39m\u001b[49m 148: Fitting StatefulLambda on 53940 rows: StatefulLambda(fit_fun=<function <lambda> at 0x7f9e503ddf70>, apply_fun=<function <lambda> at 0x7f9e503dde50>)\n",
      "\u001b[49m\u001b[37m\u001b[22m2022-06-28 13:25:01,857:   DEBUG\u001b[0m\u001b[39m\u001b[49m: ard_fit_pipelines.core: \u001b[44m\u001b[37m\u001b[1mMainProcess\u001b[0m\u001b[39m\u001b[49m 148: Applying IfHyperparamIsTrue.FitIfHyperparamIsTrue to 53940 rows: FitIfHyperparamIsTrue(name='do_it', then=StatelessLambda(apply_fun=<function <lambda> at 0x7f9e50358040>), otherwise=StatefulLambda(fit_fun=<function <lambda> at 0x7f9e503ddf70>, apply_fun=<function <lambda> at 0x7f9e503dde50>), <53940 rows of fitting data>)\n",
      "\u001b[49m\u001b[37m\u001b[22m2022-06-28 13:25:01,858:   DEBUG\u001b[0m\u001b[39m\u001b[49m: ard_fit_pipelines.core: \u001b[44m\u001b[37m\u001b[1mMainProcess\u001b[0m\u001b[39m\u001b[49m 148: Applying StatefulLambda.FitStatefulLambda to 53940 rows: FitStatefulLambda(fit_fun=<function <lambda> at 0x7f9e503ddf70>, apply_fun=<function <lambda> at 0x7f9e503dde50>, <53940 rows of fitting data>)\n"
     ]
    },
    {
     "data": {
      "text/html": [
       "<div>\n",
       "<style scoped>\n",
       "    .dataframe tbody tr th:only-of-type {\n",
       "        vertical-align: middle;\n",
       "    }\n",
       "\n",
       "    .dataframe tbody tr th {\n",
       "        vertical-align: top;\n",
       "    }\n",
       "\n",
       "    .dataframe thead th {\n",
       "        text-align: right;\n",
       "    }\n",
       "</style>\n",
       "<table border=\"1\" class=\"dataframe\">\n",
       "  <thead>\n",
       "    <tr style=\"text-align: right;\">\n",
       "      <th></th>\n",
       "      <th>carat</th>\n",
       "      <th>cut</th>\n",
       "      <th>color</th>\n",
       "      <th>clarity</th>\n",
       "      <th>depth</th>\n",
       "      <th>table</th>\n",
       "      <th>price</th>\n",
       "      <th>x</th>\n",
       "      <th>y</th>\n",
       "      <th>z</th>\n",
       "    </tr>\n",
       "  </thead>\n",
       "  <tbody>\n",
       "    <tr>\n",
       "      <th>0</th>\n",
       "      <td>0.23</td>\n",
       "      <td>Ideal</td>\n",
       "      <td>E</td>\n",
       "      <td>SI2</td>\n",
       "      <td>61.5</td>\n",
       "      <td>55.0</td>\n",
       "      <td>-3606.799722</td>\n",
       "      <td>3.95</td>\n",
       "      <td>3.98</td>\n",
       "      <td>2.43</td>\n",
       "    </tr>\n",
       "    <tr>\n",
       "      <th>1</th>\n",
       "      <td>0.21</td>\n",
       "      <td>Premium</td>\n",
       "      <td>E</td>\n",
       "      <td>SI1</td>\n",
       "      <td>59.8</td>\n",
       "      <td>61.0</td>\n",
       "      <td>-3606.799722</td>\n",
       "      <td>3.89</td>\n",
       "      <td>3.84</td>\n",
       "      <td>2.31</td>\n",
       "    </tr>\n",
       "    <tr>\n",
       "      <th>2</th>\n",
       "      <td>0.23</td>\n",
       "      <td>Good</td>\n",
       "      <td>E</td>\n",
       "      <td>VS1</td>\n",
       "      <td>56.9</td>\n",
       "      <td>65.0</td>\n",
       "      <td>-3605.799722</td>\n",
       "      <td>4.05</td>\n",
       "      <td>4.07</td>\n",
       "      <td>2.31</td>\n",
       "    </tr>\n",
       "    <tr>\n",
       "      <th>3</th>\n",
       "      <td>0.29</td>\n",
       "      <td>Premium</td>\n",
       "      <td>I</td>\n",
       "      <td>VS2</td>\n",
       "      <td>62.4</td>\n",
       "      <td>58.0</td>\n",
       "      <td>-3598.799722</td>\n",
       "      <td>4.20</td>\n",
       "      <td>4.23</td>\n",
       "      <td>2.63</td>\n",
       "    </tr>\n",
       "    <tr>\n",
       "      <th>4</th>\n",
       "      <td>0.31</td>\n",
       "      <td>Good</td>\n",
       "      <td>J</td>\n",
       "      <td>SI2</td>\n",
       "      <td>63.3</td>\n",
       "      <td>58.0</td>\n",
       "      <td>-3597.799722</td>\n",
       "      <td>4.34</td>\n",
       "      <td>4.35</td>\n",
       "      <td>2.75</td>\n",
       "    </tr>\n",
       "  </tbody>\n",
       "</table>\n",
       "</div>"
      ],
      "text/plain": [
       "   carat      cut color clarity  depth  table        price     x     y     z\n",
       "0   0.23    Ideal     E     SI2   61.5   55.0 -3606.799722  3.95  3.98  2.43\n",
       "1   0.21  Premium     E     SI1   59.8   61.0 -3606.799722  3.89  3.84  2.31\n",
       "2   0.23     Good     E     VS1   56.9   65.0 -3605.799722  4.05  4.07  2.31\n",
       "3   0.29  Premium     I     VS2   62.4   58.0 -3598.799722  4.20  4.23  2.63\n",
       "4   0.31     Good     J     SI2   63.3   58.0 -3597.799722  4.34  4.35  2.75"
      ]
     },
     "execution_count": 52,
     "metadata": {},
     "output_type": "execute_result"
    }
   ],
   "source": [
    "lambda_demean = fpt.StatefulLambda(\n",
    "        fit_fun=lambda df: df[\"price\"].mean(),\n",
    "        apply_fun=lambda df, mean: df.assign(price=df[\"price\"] - mean),\n",
    "    )\n",
    "lambda_add_ones = fpt.StatelessLambda(\n",
    "    apply_fun=lambda df: df.assign(ones=1.0)\n",
    ")\n",
    "result = fpc.IfHyperparamIsTrue('do_it', then = lambda_demean).fit(df, bindings={'do_it': False}).apply(df)\n",
    "result = fpc.IfHyperparamIsTrue('do_it', then = lambda_demean).fit(df, bindings={'do_it': True}).apply(df)\n",
    "result = fpc.IfHyperparamIsTrue('do_it', then=lambda_demean, otherwise=lambda_add_ones).fit(df, bindings={'do_it': False}).apply(df)\n",
    "result = fpc.IfHyperparamIsTrue('do_it', then=lambda_add_ones, otherwise=lambda_demean).fit(df, bindings={'do_it': False}).apply(df)\n",
    "result.head()"
   ]
  },
  {
   "cell_type": "code",
   "execution_count": 30,
   "id": "6818ff8e-77cb-4723-add7-d01252719717",
   "metadata": {
    "execution": {
     "iopub.execute_input": "2022-06-28T15:14:11.338554Z",
     "iopub.status.busy": "2022-06-28T15:14:11.337891Z",
     "iopub.status.idle": "2022-06-28T15:14:11.357370Z",
     "shell.execute_reply": "2022-06-28T15:14:11.356462Z",
     "shell.execute_reply.started": "2022-06-28T15:14:11.338533Z"
    },
    "tags": []
   },
   "outputs": [
    {
     "name": "stderr",
     "output_type": "stream",
     "text": [
      "\u001b[49m\u001b[37m\u001b[22m2022-06-28 11:14:11,340:   DEBUG\u001b[0m\u001b[39m\u001b[49m: ard_fit_pipelines.core: \u001b[44m\u001b[37m\u001b[1mMainProcess\u001b[0m\u001b[39m\u001b[49m 148: Fitting StatelessLambda on 0 rows: StatelessLambda(lambda_fun=<function <lambda> at 0x7f9e5021c430>)\n",
      "\u001b[49m\u001b[37m\u001b[22m2022-06-28 11:14:11,341:   DEBUG\u001b[0m\u001b[39m\u001b[49m: ard_fit_pipelines.core: \u001b[44m\u001b[37m\u001b[1mMainProcess\u001b[0m\u001b[39m\u001b[49m 148: Applying StatelessLambda.FitStatelessLambda to 53940 rows: FitStatelessLambda(lambda_fun=<function <lambda> at 0x7f9e5021c430>, <0 rows of fitting data>)\n"
     ]
    },
    {
     "data": {
      "text/html": [
       "<div>\n",
       "<style scoped>\n",
       "    .dataframe tbody tr th:only-of-type {\n",
       "        vertical-align: middle;\n",
       "    }\n",
       "\n",
       "    .dataframe tbody tr th {\n",
       "        vertical-align: top;\n",
       "    }\n",
       "\n",
       "    .dataframe thead th {\n",
       "        text-align: right;\n",
       "    }\n",
       "</style>\n",
       "<table border=\"1\" class=\"dataframe\">\n",
       "  <thead>\n",
       "    <tr style=\"text-align: right;\">\n",
       "      <th></th>\n",
       "      <th>carat</th>\n",
       "      <th>cut</th>\n",
       "      <th>color</th>\n",
       "      <th>clarity</th>\n",
       "      <th>depth</th>\n",
       "      <th>table</th>\n",
       "      <th>price_orig</th>\n",
       "      <th>x</th>\n",
       "      <th>y</th>\n",
       "      <th>z</th>\n",
       "    </tr>\n",
       "  </thead>\n",
       "  <tbody>\n",
       "    <tr>\n",
       "      <th>0</th>\n",
       "      <td>0.23</td>\n",
       "      <td>Ideal</td>\n",
       "      <td>E</td>\n",
       "      <td>SI2</td>\n",
       "      <td>61.5</td>\n",
       "      <td>55.0</td>\n",
       "      <td>326</td>\n",
       "      <td>3.95</td>\n",
       "      <td>3.98</td>\n",
       "      <td>2.43</td>\n",
       "    </tr>\n",
       "    <tr>\n",
       "      <th>1</th>\n",
       "      <td>0.21</td>\n",
       "      <td>Premium</td>\n",
       "      <td>E</td>\n",
       "      <td>SI1</td>\n",
       "      <td>59.8</td>\n",
       "      <td>61.0</td>\n",
       "      <td>326</td>\n",
       "      <td>3.89</td>\n",
       "      <td>3.84</td>\n",
       "      <td>2.31</td>\n",
       "    </tr>\n",
       "    <tr>\n",
       "      <th>2</th>\n",
       "      <td>0.23</td>\n",
       "      <td>Good</td>\n",
       "      <td>E</td>\n",
       "      <td>VS1</td>\n",
       "      <td>56.9</td>\n",
       "      <td>65.0</td>\n",
       "      <td>327</td>\n",
       "      <td>4.05</td>\n",
       "      <td>4.07</td>\n",
       "      <td>2.31</td>\n",
       "    </tr>\n",
       "    <tr>\n",
       "      <th>3</th>\n",
       "      <td>0.29</td>\n",
       "      <td>Premium</td>\n",
       "      <td>I</td>\n",
       "      <td>VS2</td>\n",
       "      <td>62.4</td>\n",
       "      <td>58.0</td>\n",
       "      <td>334</td>\n",
       "      <td>4.20</td>\n",
       "      <td>4.23</td>\n",
       "      <td>2.63</td>\n",
       "    </tr>\n",
       "    <tr>\n",
       "      <th>4</th>\n",
       "      <td>0.31</td>\n",
       "      <td>Good</td>\n",
       "      <td>J</td>\n",
       "      <td>SI2</td>\n",
       "      <td>63.3</td>\n",
       "      <td>58.0</td>\n",
       "      <td>335</td>\n",
       "      <td>4.34</td>\n",
       "      <td>4.35</td>\n",
       "      <td>2.75</td>\n",
       "    </tr>\n",
       "  </tbody>\n",
       "</table>\n",
       "</div>"
      ],
      "text/plain": [
       "   carat      cut color clarity  depth  table  price_orig     x     y     z\n",
       "0   0.23    Ideal     E     SI2   61.5   55.0         326  3.95  3.98  2.43\n",
       "1   0.21  Premium     E     SI1   59.8   61.0         326  3.89  3.84  2.31\n",
       "2   0.23     Good     E     VS1   56.9   65.0         327  4.05  4.07  2.31\n",
       "3   0.29  Premium     I     VS2   62.4   58.0         334  4.20  4.23  2.63\n",
       "4   0.31     Good     J     SI2   63.3   58.0         335  4.34  4.35  2.75"
      ]
     },
     "execution_count": 30,
     "metadata": {},
     "output_type": "execute_result"
    }
   ],
   "source": [
    "fpt.StatelessLambda(lambda df: df.rename(columns={'price': 'price_orig'})).apply(df).head()"
   ]
  },
  {
   "cell_type": "code",
   "execution_count": 34,
   "id": "5c03df4b-0d58-4600-85ba-c295ddc0c579",
   "metadata": {
    "execution": {
     "iopub.execute_input": "2022-06-28T15:15:24.558382Z",
     "iopub.status.busy": "2022-06-28T15:15:24.558140Z",
     "iopub.status.idle": "2022-06-28T15:15:24.577067Z",
     "shell.execute_reply": "2022-06-28T15:15:24.575871Z",
     "shell.execute_reply.started": "2022-06-28T15:15:24.558363Z"
    },
    "tags": []
   },
   "outputs": [
    {
     "name": "stderr",
     "output_type": "stream",
     "text": [
      "\u001b[49m\u001b[37m\u001b[22m2022-06-28 11:15:24,559:   DEBUG\u001b[0m\u001b[39m\u001b[49m: ard_fit_pipelines.core: \u001b[44m\u001b[37m\u001b[1mMainProcess\u001b[0m\u001b[39m\u001b[49m 148: Fitting StatelessLambda on 0 rows: StatelessLambda(lambda_fun=<function <lambda> at 0x7f9e50117040>)\n",
      "\u001b[49m\u001b[37m\u001b[22m2022-06-28 11:15:24,561:   DEBUG\u001b[0m\u001b[39m\u001b[49m: ard_fit_pipelines.core: \u001b[44m\u001b[37m\u001b[1mMainProcess\u001b[0m\u001b[39m\u001b[49m 148: Applying StatelessLambda.FitStatelessLambda to 53940 rows: FitStatelessLambda(lambda_fun=<function <lambda> at 0x7f9e50117040>, <0 rows of fitting data>)\n"
     ]
    },
    {
     "data": {
      "text/html": [
       "<div>\n",
       "<style scoped>\n",
       "    .dataframe tbody tr th:only-of-type {\n",
       "        vertical-align: middle;\n",
       "    }\n",
       "\n",
       "    .dataframe tbody tr th {\n",
       "        vertical-align: top;\n",
       "    }\n",
       "\n",
       "    .dataframe thead th {\n",
       "        text-align: right;\n",
       "    }\n",
       "</style>\n",
       "<table border=\"1\" class=\"dataframe\">\n",
       "  <thead>\n",
       "    <tr style=\"text-align: right;\">\n",
       "      <th></th>\n",
       "      <th>carat</th>\n",
       "      <th>cut</th>\n",
       "      <th>color</th>\n",
       "      <th>clarity</th>\n",
       "      <th>depth</th>\n",
       "      <th>table</th>\n",
       "      <th>foobagger</th>\n",
       "      <th>x</th>\n",
       "      <th>y</th>\n",
       "      <th>z</th>\n",
       "    </tr>\n",
       "  </thead>\n",
       "  <tbody>\n",
       "    <tr>\n",
       "      <th>0</th>\n",
       "      <td>0.23</td>\n",
       "      <td>Ideal</td>\n",
       "      <td>E</td>\n",
       "      <td>SI2</td>\n",
       "      <td>61.5</td>\n",
       "      <td>55.0</td>\n",
       "      <td>326</td>\n",
       "      <td>3.95</td>\n",
       "      <td>3.98</td>\n",
       "      <td>2.43</td>\n",
       "    </tr>\n",
       "    <tr>\n",
       "      <th>1</th>\n",
       "      <td>0.21</td>\n",
       "      <td>Premium</td>\n",
       "      <td>E</td>\n",
       "      <td>SI1</td>\n",
       "      <td>59.8</td>\n",
       "      <td>61.0</td>\n",
       "      <td>326</td>\n",
       "      <td>3.89</td>\n",
       "      <td>3.84</td>\n",
       "      <td>2.31</td>\n",
       "    </tr>\n",
       "    <tr>\n",
       "      <th>2</th>\n",
       "      <td>0.23</td>\n",
       "      <td>Good</td>\n",
       "      <td>E</td>\n",
       "      <td>VS1</td>\n",
       "      <td>56.9</td>\n",
       "      <td>65.0</td>\n",
       "      <td>327</td>\n",
       "      <td>4.05</td>\n",
       "      <td>4.07</td>\n",
       "      <td>2.31</td>\n",
       "    </tr>\n",
       "    <tr>\n",
       "      <th>3</th>\n",
       "      <td>0.29</td>\n",
       "      <td>Premium</td>\n",
       "      <td>I</td>\n",
       "      <td>VS2</td>\n",
       "      <td>62.4</td>\n",
       "      <td>58.0</td>\n",
       "      <td>334</td>\n",
       "      <td>4.20</td>\n",
       "      <td>4.23</td>\n",
       "      <td>2.63</td>\n",
       "    </tr>\n",
       "    <tr>\n",
       "      <th>4</th>\n",
       "      <td>0.31</td>\n",
       "      <td>Good</td>\n",
       "      <td>J</td>\n",
       "      <td>SI2</td>\n",
       "      <td>63.3</td>\n",
       "      <td>58.0</td>\n",
       "      <td>335</td>\n",
       "      <td>4.34</td>\n",
       "      <td>4.35</td>\n",
       "      <td>2.75</td>\n",
       "    </tr>\n",
       "  </tbody>\n",
       "</table>\n",
       "</div>"
      ],
      "text/plain": [
       "   carat      cut color clarity  depth  table  foobagger     x     y     z\n",
       "0   0.23    Ideal     E     SI2   61.5   55.0        326  3.95  3.98  2.43\n",
       "1   0.21  Premium     E     SI1   59.8   61.0        326  3.89  3.84  2.31\n",
       "2   0.23     Good     E     VS1   56.9   65.0        327  4.05  4.07  2.31\n",
       "3   0.29  Premium     I     VS2   62.4   58.0        334  4.20  4.23  2.63\n",
       "4   0.31     Good     J     SI2   63.3   58.0        335  4.34  4.35  2.75"
      ]
     },
     "execution_count": 34,
     "metadata": {},
     "output_type": "execute_result"
    }
   ],
   "source": [
    "fpt.StatelessLambda(\n",
    "    lambda df, bindings: df.rename(columns={bindings['response']: 'foobagger'})\n",
    ").apply(df, bindings={'response': 'price'}).head()"
   ]
  },
  {
   "cell_type": "code",
   "execution_count": 43,
   "id": "fe49e929-139f-4b5f-bb88-358fd4d489af",
   "metadata": {
    "execution": {
     "iopub.execute_input": "2022-06-28T17:04:35.395288Z",
     "iopub.status.busy": "2022-06-28T17:04:35.394801Z",
     "iopub.status.idle": "2022-06-28T17:04:35.407013Z",
     "shell.execute_reply": "2022-06-28T17:04:35.406314Z",
     "shell.execute_reply.started": "2022-06-28T17:04:35.395264Z"
    },
    "tags": []
   },
   "outputs": [
    {
     "data": {
      "text/plain": [
       "(col1    21.0\n",
       " Name: 0.2, dtype: float64,\n",
       " col1    80.0\n",
       " Name: 0.8, dtype: float64)"
      ]
     },
     "execution_count": 43,
     "metadata": {},
     "output_type": "execute_result"
    }
   ],
   "source": [
    "df = pd.DataFrame({\n",
    "    'col1': pd.Series([1.0, np.nan, 2.0])\n",
    "})\n",
    "df\n",
    "\n",
    "df = pd.DataFrame({\n",
    "        'col1': [float(x) for x in range(1, 101)]\n",
    "    })\n",
    "df.quantile(0.2, interpolation='nearest'), df.quantile(0.8, interpolation='nearest')"
   ]
  },
  {
   "cell_type": "code",
   "execution_count": 42,
   "id": "9e2c0174-4b4e-4983-9397-40a4891d91d8",
   "metadata": {
    "execution": {
     "iopub.execute_input": "2022-06-28T17:03:55.627416Z",
     "iopub.status.busy": "2022-06-28T17:03:55.626950Z",
     "iopub.status.idle": "2022-06-28T17:03:55.635219Z",
     "shell.execute_reply": "2022-06-28T17:03:55.633989Z",
     "shell.execute_reply.started": "2022-06-28T17:03:55.627399Z"
    },
    "tags": []
   },
   "outputs": [
    {
     "data": {
      "text/plain": [
       "\u001b[0;31mSignature:\u001b[0m\n",
       "\u001b[0mdf\u001b[0m\u001b[0;34m.\u001b[0m\u001b[0mquantile\u001b[0m\u001b[0;34m(\u001b[0m\u001b[0;34m\u001b[0m\n",
       "\u001b[0;34m\u001b[0m    \u001b[0mq\u001b[0m\u001b[0;34m=\u001b[0m\u001b[0;36m0.5\u001b[0m\u001b[0;34m,\u001b[0m\u001b[0;34m\u001b[0m\n",
       "\u001b[0;34m\u001b[0m    \u001b[0maxis\u001b[0m\u001b[0;34m:\u001b[0m \u001b[0;34m'Axis'\u001b[0m \u001b[0;34m=\u001b[0m \u001b[0;36m0\u001b[0m\u001b[0;34m,\u001b[0m\u001b[0;34m\u001b[0m\n",
       "\u001b[0;34m\u001b[0m    \u001b[0mnumeric_only\u001b[0m\u001b[0;34m:\u001b[0m \u001b[0;34m'bool'\u001b[0m \u001b[0;34m=\u001b[0m \u001b[0;32mTrue\u001b[0m\u001b[0;34m,\u001b[0m\u001b[0;34m\u001b[0m\n",
       "\u001b[0;34m\u001b[0m    \u001b[0minterpolation\u001b[0m\u001b[0;34m:\u001b[0m \u001b[0;34m'str'\u001b[0m \u001b[0;34m=\u001b[0m \u001b[0;34m'linear'\u001b[0m\u001b[0;34m,\u001b[0m\u001b[0;34m\u001b[0m\n",
       "\u001b[0;34m\u001b[0m\u001b[0;34m)\u001b[0m\u001b[0;34m\u001b[0m\u001b[0;34m\u001b[0m\u001b[0m\n",
       "\u001b[0;31mDocstring:\u001b[0m\n",
       "Return values at the given quantile over requested axis.\n",
       "\n",
       "Parameters\n",
       "----------\n",
       "q : float or array-like, default 0.5 (50% quantile)\n",
       "    Value between 0 <= q <= 1, the quantile(s) to compute.\n",
       "axis : {0, 1, 'index', 'columns'}, default 0\n",
       "    Equals 0 or 'index' for row-wise, 1 or 'columns' for column-wise.\n",
       "numeric_only : bool, default True\n",
       "    If False, the quantile of datetime and timedelta data will be\n",
       "    computed as well.\n",
       "interpolation : {'linear', 'lower', 'higher', 'midpoint', 'nearest'}\n",
       "    This optional parameter specifies the interpolation method to use,\n",
       "    when the desired quantile lies between two data points `i` and `j`:\n",
       "\n",
       "    * linear: `i + (j - i) * fraction`, where `fraction` is the\n",
       "      fractional part of the index surrounded by `i` and `j`.\n",
       "    * lower: `i`.\n",
       "    * higher: `j`.\n",
       "    * nearest: `i` or `j` whichever is nearest.\n",
       "    * midpoint: (`i` + `j`) / 2.\n",
       "\n",
       "Returns\n",
       "-------\n",
       "Series or DataFrame\n",
       "\n",
       "    If ``q`` is an array, a DataFrame will be returned where the\n",
       "      index is ``q``, the columns are the columns of self, and the\n",
       "      values are the quantiles.\n",
       "    If ``q`` is a float, a Series will be returned where the\n",
       "      index is the columns of self and the values are the quantiles.\n",
       "\n",
       "See Also\n",
       "--------\n",
       "core.window.Rolling.quantile: Rolling quantile.\n",
       "numpy.percentile: Numpy function to compute the percentile.\n",
       "\n",
       "Examples\n",
       "--------\n",
       ">>> df = pd.DataFrame(np.array([[1, 1], [2, 10], [3, 100], [4, 100]]),\n",
       "...                   columns=['a', 'b'])\n",
       ">>> df.quantile(.1)\n",
       "a    1.3\n",
       "b    3.7\n",
       "Name: 0.1, dtype: float64\n",
       ">>> df.quantile([.1, .5])\n",
       "       a     b\n",
       "0.1  1.3   3.7\n",
       "0.5  2.5  55.0\n",
       "\n",
       "Specifying `numeric_only=False` will also compute the quantile of\n",
       "datetime and timedelta data.\n",
       "\n",
       ">>> df = pd.DataFrame({'A': [1, 2],\n",
       "...                    'B': [pd.Timestamp('2010'),\n",
       "...                          pd.Timestamp('2011')],\n",
       "...                    'C': [pd.Timedelta('1 days'),\n",
       "...                          pd.Timedelta('2 days')]})\n",
       ">>> df.quantile(0.5, numeric_only=False)\n",
       "A                    1.5\n",
       "B    2010-07-02 12:00:00\n",
       "C        1 days 12:00:00\n",
       "Name: 0.5, dtype: object\n",
       "\u001b[0;31mFile:\u001b[0m      ~/projects/ardua/.venv-dev/lib/python3.9/site-packages/pandas/core/frame.py\n",
       "\u001b[0;31mType:\u001b[0m      method\n"
      ]
     },
     "metadata": {},
     "output_type": "display_data"
    }
   ],
   "source": [
    "df.quantile?"
   ]
  },
  {
   "cell_type": "code",
   "execution_count": 4,
   "id": "fe7fe05b-0ef1-49e9-830d-dad64d9bf07f",
   "metadata": {
    "execution": {
     "iopub.execute_input": "2022-06-28T13:34:40.688620Z",
     "iopub.status.busy": "2022-06-28T13:34:40.688321Z",
     "iopub.status.idle": "2022-06-28T13:34:40.716892Z",
     "shell.execute_reply": "2022-06-28T13:34:40.715109Z",
     "shell.execute_reply.started": "2022-06-28T13:34:40.688599Z"
    },
    "tags": []
   },
   "outputs": [
    {
     "name": "stderr",
     "output_type": "stream",
     "text": [
      "\u001b[49m\u001b[37m\u001b[22m2022-06-28 09:34:40,690:   DEBUG\u001b[0m\u001b[39m\u001b[49m: ard_fit_pipelines.core: \u001b[44m\u001b[37m\u001b[1mMainProcess\u001b[0m\u001b[39m\u001b[49m 148: Fitting DeMean on 53940 rows: DeMean(cols=HP(name='response_cols'))\n",
      "\u001b[49m\u001b[37m\u001b[22m2022-06-28 09:34:40,694:   DEBUG\u001b[0m\u001b[39m\u001b[49m: ard_fit_pipelines.core: \u001b[44m\u001b[37m\u001b[1mMainProcess\u001b[0m\u001b[39m\u001b[49m 148: Applying DeMean.FitDeMean to 53940 rows: FitDeMean(cols=['price'], <53940 rows of fitting data>)\n",
      "\u001b[49m\u001b[37m\u001b[22m2022-06-28 09:34:40,697:   DEBUG\u001b[0m\u001b[39m\u001b[49m: ard_fit_pipelines.core: \u001b[44m\u001b[37m\u001b[1mMainProcess\u001b[0m\u001b[39m\u001b[49m 148: Fitting CopyColumns on 0 rows: CopyColumns(cols=['price'], dest_cols=['price_copy_1', 'price_copy_2'])\n",
      "\u001b[49m\u001b[37m\u001b[22m2022-06-28 09:34:40,698:   DEBUG\u001b[0m\u001b[39m\u001b[49m: ard_fit_pipelines.core: \u001b[44m\u001b[37m\u001b[1mMainProcess\u001b[0m\u001b[39m\u001b[49m 148: Applying CopyColumns.FitCopyColumns to 53940 rows: FitCopyColumns(cols=['price'], dest_cols=['price_copy_1', 'price_copy_2'], <0 rows of fitting data>)\n"
     ]
    },
    {
     "data": {
      "text/html": [
       "<div>\n",
       "<style scoped>\n",
       "    .dataframe tbody tr th:only-of-type {\n",
       "        vertical-align: middle;\n",
       "    }\n",
       "\n",
       "    .dataframe tbody tr th {\n",
       "        vertical-align: top;\n",
       "    }\n",
       "\n",
       "    .dataframe thead th {\n",
       "        text-align: right;\n",
       "    }\n",
       "</style>\n",
       "<table border=\"1\" class=\"dataframe\">\n",
       "  <thead>\n",
       "    <tr style=\"text-align: right;\">\n",
       "      <th></th>\n",
       "      <th>carat</th>\n",
       "      <th>cut</th>\n",
       "      <th>color</th>\n",
       "      <th>clarity</th>\n",
       "      <th>depth</th>\n",
       "      <th>table</th>\n",
       "      <th>price</th>\n",
       "      <th>x</th>\n",
       "      <th>y</th>\n",
       "      <th>z</th>\n",
       "      <th>price_copy_1</th>\n",
       "      <th>price_copy_2</th>\n",
       "    </tr>\n",
       "  </thead>\n",
       "  <tbody>\n",
       "    <tr>\n",
       "      <th>0</th>\n",
       "      <td>0.23</td>\n",
       "      <td>Ideal</td>\n",
       "      <td>E</td>\n",
       "      <td>SI2</td>\n",
       "      <td>61.5</td>\n",
       "      <td>55.0</td>\n",
       "      <td>326</td>\n",
       "      <td>3.95</td>\n",
       "      <td>3.98</td>\n",
       "      <td>2.43</td>\n",
       "      <td>326</td>\n",
       "      <td>326</td>\n",
       "    </tr>\n",
       "    <tr>\n",
       "      <th>1</th>\n",
       "      <td>0.21</td>\n",
       "      <td>Premium</td>\n",
       "      <td>E</td>\n",
       "      <td>SI1</td>\n",
       "      <td>59.8</td>\n",
       "      <td>61.0</td>\n",
       "      <td>326</td>\n",
       "      <td>3.89</td>\n",
       "      <td>3.84</td>\n",
       "      <td>2.31</td>\n",
       "      <td>326</td>\n",
       "      <td>326</td>\n",
       "    </tr>\n",
       "    <tr>\n",
       "      <th>2</th>\n",
       "      <td>0.23</td>\n",
       "      <td>Good</td>\n",
       "      <td>E</td>\n",
       "      <td>VS1</td>\n",
       "      <td>56.9</td>\n",
       "      <td>65.0</td>\n",
       "      <td>327</td>\n",
       "      <td>4.05</td>\n",
       "      <td>4.07</td>\n",
       "      <td>2.31</td>\n",
       "      <td>327</td>\n",
       "      <td>327</td>\n",
       "    </tr>\n",
       "    <tr>\n",
       "      <th>3</th>\n",
       "      <td>0.29</td>\n",
       "      <td>Premium</td>\n",
       "      <td>I</td>\n",
       "      <td>VS2</td>\n",
       "      <td>62.4</td>\n",
       "      <td>58.0</td>\n",
       "      <td>334</td>\n",
       "      <td>4.20</td>\n",
       "      <td>4.23</td>\n",
       "      <td>2.63</td>\n",
       "      <td>334</td>\n",
       "      <td>334</td>\n",
       "    </tr>\n",
       "    <tr>\n",
       "      <th>4</th>\n",
       "      <td>0.31</td>\n",
       "      <td>Good</td>\n",
       "      <td>J</td>\n",
       "      <td>SI2</td>\n",
       "      <td>63.3</td>\n",
       "      <td>58.0</td>\n",
       "      <td>335</td>\n",
       "      <td>4.34</td>\n",
       "      <td>4.35</td>\n",
       "      <td>2.75</td>\n",
       "      <td>335</td>\n",
       "      <td>335</td>\n",
       "    </tr>\n",
       "  </tbody>\n",
       "</table>\n",
       "</div>"
      ],
      "text/plain": [
       "   carat      cut color clarity  depth  table  price     x     y     z  \\\n",
       "0   0.23    Ideal     E     SI2   61.5   55.0    326  3.95  3.98  2.43   \n",
       "1   0.21  Premium     E     SI1   59.8   61.0    326  3.89  3.84  2.31   \n",
       "2   0.23     Good     E     VS1   56.9   65.0    327  4.05  4.07  2.31   \n",
       "3   0.29  Premium     I     VS2   62.4   58.0    334  4.20  4.23  2.63   \n",
       "4   0.31     Good     J     SI2   63.3   58.0    335  4.34  4.35  2.75   \n",
       "\n",
       "   price_copy_1  price_copy_2  \n",
       "0           326           326  \n",
       "1           326           326  \n",
       "2           327           327  \n",
       "3           334           334  \n",
       "4           335           335  "
      ]
     },
     "execution_count": 4,
     "metadata": {},
     "output_type": "execute_result"
    }
   ],
   "source": [
    "t = fpt.DeMean(cols=fpc.HP('response_cols'))\n",
    "tfit = t.fit(df, bindings={'response_cols':['price']})\n",
    "tfit.apply(df).head()\n",
    "\n",
    "fpt.CopyColumns(cols=['price'], dest_cols=['price_copy_1', 'price_copy_2']).apply(df).head()"
   ]
  },
  {
   "cell_type": "code",
   "execution_count": 23,
   "id": "a917d329-9455-4a3c-b55f-fc4262543ce9",
   "metadata": {
    "execution": {
     "iopub.execute_input": "2022-06-28T15:10:45.934851Z",
     "iopub.status.busy": "2022-06-28T15:10:45.934426Z",
     "iopub.status.idle": "2022-06-28T15:10:45.939356Z",
     "shell.execute_reply": "2022-06-28T15:10:45.938438Z",
     "shell.execute_reply.started": "2022-06-28T15:10:45.934831Z"
    },
    "tags": []
   },
   "outputs": [],
   "source": [
    "f = lambda df, b=None: df.rename(lambda c: c+'_foo')"
   ]
  },
  {
   "cell_type": "code",
   "execution_count": 25,
   "id": "3a607793-56a6-4ecb-95b4-67a620a84614",
   "metadata": {
    "execution": {
     "iopub.execute_input": "2022-06-28T15:10:50.263054Z",
     "iopub.status.busy": "2022-06-28T15:10:50.262649Z",
     "iopub.status.idle": "2022-06-28T15:10:50.269206Z",
     "shell.execute_reply": "2022-06-28T15:10:50.268214Z",
     "shell.execute_reply.started": "2022-06-28T15:10:50.263031Z"
    },
    "tags": []
   },
   "outputs": [
    {
     "data": {
      "text/plain": [
       "mappingproxy({'df': <Parameter \"df\">, 'b': <Parameter \"b=None\">})"
      ]
     },
     "execution_count": 25,
     "metadata": {},
     "output_type": "execute_result"
    }
   ],
   "source": [
    "import inspect\n",
    "dir(inspect.signature(f))\n",
    "inspect.signature(f).parameters"
   ]
  },
  {
   "cell_type": "code",
   "execution_count": 30,
   "id": "372c4147-7f28-4082-a761-df5aac01c1f3",
   "metadata": {
    "execution": {
     "iopub.execute_input": "2022-06-20T17:57:00.149643Z",
     "iopub.status.busy": "2022-06-20T17:57:00.149095Z",
     "iopub.status.idle": "2022-06-20T17:57:00.171001Z",
     "shell.execute_reply": "2022-06-20T17:57:00.170058Z",
     "shell.execute_reply.started": "2022-06-20T17:57:00.149609Z"
    },
    "tags": []
   },
   "outputs": [
    {
     "name": "stderr",
     "output_type": "stream",
     "text": [
      "\u001b[49m\u001b[37m\u001b[22m2022-06-20 13:57:00,151:   DEBUG\u001b[0m\u001b[39m\u001b[49m: ard_fit_pipelines.core: \u001b[44m\u001b[37m\u001b[1mMainProcess\u001b[0m\u001b[39m\u001b[49m 3343: Fitting DeMean on 53940 rows: DeMean(cols=['price', 'x', 'y', 'z'])\n",
      "\u001b[49m\u001b[37m\u001b[22m2022-06-20 13:57:00,156:   DEBUG\u001b[0m\u001b[39m\u001b[49m: ard_fit_pipelines.core: \u001b[44m\u001b[37m\u001b[1mMainProcess\u001b[0m\u001b[39m\u001b[49m 3343: Applying DeMean.FitDeMean to 53940 rows: FitDeMean(cols=['price', 'x', 'y', 'z'], <53940 rows of fitting data>)\n"
     ]
    },
    {
     "name": "stdout",
     "output_type": "stream",
     "text": [
      "cols: Bound ['price', 'x', 'y', 'z'] -> ['price', 'x', 'y', 'z']\n"
     ]
    },
    {
     "data": {
      "text/plain": [
       "True"
      ]
     },
     "execution_count": 30,
     "metadata": {},
     "output_type": "execute_result"
    }
   ],
   "source": [
    "cols = ['price', 'x', 'y', 'z']\n",
    "t = fpt.DeMean(cols)\n",
    "result = t.fit(df).apply(df)\n",
    "(result[cols].mean().abs() < 1e-10).all()"
   ]
  },
  {
   "cell_type": "code",
   "execution_count": 19,
   "id": "c67873b5-fe94-4721-a6d6-df9ab015e6b0",
   "metadata": {
    "execution": {
     "iopub.execute_input": "2022-06-20T17:46:03.735545Z",
     "iopub.status.busy": "2022-06-20T17:46:03.735189Z",
     "iopub.status.idle": "2022-06-20T17:46:03.765076Z",
     "shell.execute_reply": "2022-06-20T17:46:03.763066Z",
     "shell.execute_reply.started": "2022-06-20T17:46:03.735527Z"
    },
    "tags": []
   },
   "outputs": [
    {
     "name": "stderr",
     "output_type": "stream",
     "text": [
      "\u001b[49m\u001b[37m\u001b[22m2022-06-20 13:46:03,738:   DEBUG\u001b[0m\u001b[39m\u001b[49m: ard_fit_pipelines.core: \u001b[44m\u001b[37m\u001b[1mMainProcess\u001b[0m\u001b[39m\u001b[49m 3343: Fitting DeMean on 53940 rows: DeMean(cols=hp(name='response_cols'))\n",
      "\u001b[49m\u001b[37m\u001b[22m2022-06-20 13:46:03,748:   DEBUG\u001b[0m\u001b[39m\u001b[49m: ard_fit_pipelines.core: \u001b[44m\u001b[37m\u001b[1mMainProcess\u001b[0m\u001b[39m\u001b[49m 3343: Applying DeMean.FitDeMean to 53940 rows: FitDeMean(cols=['price'], <53940 rows of fitting data>)\n"
     ]
    },
    {
     "name": "stdout",
     "output_type": "stream",
     "text": [
      "cols: Bound hp(name='response_cols') -> ['price']\n"
     ]
    },
    {
     "data": {
      "text/html": [
       "<div>\n",
       "<style scoped>\n",
       "    .dataframe tbody tr th:only-of-type {\n",
       "        vertical-align: middle;\n",
       "    }\n",
       "\n",
       "    .dataframe tbody tr th {\n",
       "        vertical-align: top;\n",
       "    }\n",
       "\n",
       "    .dataframe thead th {\n",
       "        text-align: right;\n",
       "    }\n",
       "</style>\n",
       "<table border=\"1\" class=\"dataframe\">\n",
       "  <thead>\n",
       "    <tr style=\"text-align: right;\">\n",
       "      <th></th>\n",
       "      <th>carat</th>\n",
       "      <th>cut</th>\n",
       "      <th>color</th>\n",
       "      <th>clarity</th>\n",
       "      <th>depth</th>\n",
       "      <th>table</th>\n",
       "      <th>price</th>\n",
       "      <th>x</th>\n",
       "      <th>y</th>\n",
       "      <th>z</th>\n",
       "    </tr>\n",
       "  </thead>\n",
       "  <tbody>\n",
       "    <tr>\n",
       "      <th>0</th>\n",
       "      <td>0.23</td>\n",
       "      <td>Ideal</td>\n",
       "      <td>E</td>\n",
       "      <td>SI2</td>\n",
       "      <td>61.5</td>\n",
       "      <td>55.0</td>\n",
       "      <td>-3606.799722</td>\n",
       "      <td>3.95</td>\n",
       "      <td>3.98</td>\n",
       "      <td>2.43</td>\n",
       "    </tr>\n",
       "    <tr>\n",
       "      <th>1</th>\n",
       "      <td>0.21</td>\n",
       "      <td>Premium</td>\n",
       "      <td>E</td>\n",
       "      <td>SI1</td>\n",
       "      <td>59.8</td>\n",
       "      <td>61.0</td>\n",
       "      <td>-3606.799722</td>\n",
       "      <td>3.89</td>\n",
       "      <td>3.84</td>\n",
       "      <td>2.31</td>\n",
       "    </tr>\n",
       "    <tr>\n",
       "      <th>2</th>\n",
       "      <td>0.23</td>\n",
       "      <td>Good</td>\n",
       "      <td>E</td>\n",
       "      <td>VS1</td>\n",
       "      <td>56.9</td>\n",
       "      <td>65.0</td>\n",
       "      <td>-3605.799722</td>\n",
       "      <td>4.05</td>\n",
       "      <td>4.07</td>\n",
       "      <td>2.31</td>\n",
       "    </tr>\n",
       "    <tr>\n",
       "      <th>3</th>\n",
       "      <td>0.29</td>\n",
       "      <td>Premium</td>\n",
       "      <td>I</td>\n",
       "      <td>VS2</td>\n",
       "      <td>62.4</td>\n",
       "      <td>58.0</td>\n",
       "      <td>-3598.799722</td>\n",
       "      <td>4.20</td>\n",
       "      <td>4.23</td>\n",
       "      <td>2.63</td>\n",
       "    </tr>\n",
       "    <tr>\n",
       "      <th>4</th>\n",
       "      <td>0.31</td>\n",
       "      <td>Good</td>\n",
       "      <td>J</td>\n",
       "      <td>SI2</td>\n",
       "      <td>63.3</td>\n",
       "      <td>58.0</td>\n",
       "      <td>-3597.799722</td>\n",
       "      <td>4.34</td>\n",
       "      <td>4.35</td>\n",
       "      <td>2.75</td>\n",
       "    </tr>\n",
       "  </tbody>\n",
       "</table>\n",
       "</div>"
      ],
      "text/plain": [
       "   carat      cut color clarity  depth  table        price     x     y     z\n",
       "0   0.23    Ideal     E     SI2   61.5   55.0 -3606.799722  3.95  3.98  2.43\n",
       "1   0.21  Premium     E     SI1   59.8   61.0 -3606.799722  3.89  3.84  2.31\n",
       "2   0.23     Good     E     VS1   56.9   65.0 -3605.799722  4.05  4.07  2.31\n",
       "3   0.29  Premium     I     VS2   62.4   58.0 -3598.799722  4.20  4.23  2.63\n",
       "4   0.31     Good     J     SI2   63.3   58.0 -3597.799722  4.34  4.35  2.75"
      ]
     },
     "execution_count": 19,
     "metadata": {},
     "output_type": "execute_result"
    }
   ],
   "source": [
    "class DeMean(fpc.ColumnsTransform):\n",
    "    \"Docstr for MyDeMean\"\n",
    "    \n",
    "    def _fit(self, X_fit):\n",
    "        return X_fit[self.cols].mean()\n",
    "    \n",
    "    def _apply(self, X_apply, state):\n",
    "        means = state\n",
    "        return X_apply.assign(**{\n",
    "            c: X_apply[c] - means[c]\n",
    "            for c in self.cols\n",
    "        })\n",
    "        \n",
    "\n",
    "#t = DeMean(cols=['price'])\n",
    "t = DeMean(cols=fpc.hp('response_cols'))\n",
    "tfit = t.fit(df, bindings={'response_cols':['price']})\n",
    "tfit.apply(df).head()"
   ]
  },
  {
   "cell_type": "code",
   "execution_count": 24,
   "id": "2877f46a-466f-419d-8eb2-5a4e711f7174",
   "metadata": {
    "execution": {
     "iopub.execute_input": "2022-06-20T17:51:57.189393Z",
     "iopub.status.busy": "2022-06-20T17:51:57.188412Z",
     "iopub.status.idle": "2022-06-20T17:51:57.196109Z",
     "shell.execute_reply": "2022-06-20T17:51:57.194640Z",
     "shell.execute_reply.started": "2022-06-20T17:51:57.189353Z"
    },
    "tags": []
   },
   "outputs": [
    {
     "data": {
      "text/plain": [
       "\"DeMean(cols=hp(name='response_cols'))\""
      ]
     },
     "execution_count": 24,
     "metadata": {},
     "output_type": "execute_result"
    }
   ],
   "source": [
    "repr(t)"
   ]
  },
  {
   "cell_type": "code",
   "execution_count": 25,
   "id": "2deec080-9c1f-4f21-8daf-414a43cc6c17",
   "metadata": {
    "execution": {
     "iopub.execute_input": "2022-06-20T17:52:08.230961Z",
     "iopub.status.busy": "2022-06-20T17:52:08.230241Z",
     "iopub.status.idle": "2022-06-20T17:52:08.237752Z",
     "shell.execute_reply": "2022-06-20T17:52:08.236380Z",
     "shell.execute_reply.started": "2022-06-20T17:52:08.230932Z"
    },
    "tags": []
   },
   "outputs": [
    {
     "data": {
      "text/plain": [
       "\"FitDeMean(cols=['price'], <53940 rows of fitting data>)\""
      ]
     },
     "execution_count": 25,
     "metadata": {},
     "output_type": "execute_result"
    }
   ],
   "source": [
    "repr(tfit)"
   ]
  },
  {
   "cell_type": "code",
   "execution_count": 23,
   "id": "cf8e6479-fe3e-4d1d-94eb-bee4ad98044c",
   "metadata": {
    "execution": {
     "iopub.execute_input": "2022-06-20T17:46:27.212923Z",
     "iopub.status.busy": "2022-06-20T17:46:27.211917Z",
     "iopub.status.idle": "2022-06-20T17:46:27.222801Z",
     "shell.execute_reply": "2022-06-20T17:46:27.221458Z",
     "shell.execute_reply.started": "2022-06-20T17:46:27.212888Z"
    },
    "tags": []
   },
   "outputs": [
    {
     "data": {
      "text/plain": [
       "True"
      ]
     },
     "execution_count": 23,
     "metadata": {},
     "output_type": "execute_result"
    }
   ],
   "source": [
    "isinstance(DeMean.FitDeMean, type) "
   ]
  },
  {
   "cell_type": "code",
   "execution_count": 177,
   "id": "31020419-9318-4d47-a05c-4e04ad9c0163",
   "metadata": {
    "execution": {
     "iopub.execute_input": "2022-06-20T16:10:52.906949Z",
     "iopub.status.busy": "2022-06-20T16:10:52.906039Z",
     "iopub.status.idle": "2022-06-20T16:10:52.929054Z",
     "shell.execute_reply": "2022-06-20T16:10:52.927504Z",
     "shell.execute_reply.started": "2022-06-20T16:10:52.906917Z"
    },
    "tags": []
   },
   "outputs": [
    {
     "name": "stderr",
     "output_type": "stream",
     "text": [
      "\u001b[49m\u001b[37m\u001b[22m2022-06-20 12:10:52,908:   DEBUG\u001b[0m\u001b[39m\u001b[49m: ard_fit_pipelines.core: \u001b[44m\u001b[37m\u001b[1mMainProcess\u001b[0m\u001b[39m\u001b[49m 2337: Fitting Identity on 0 rows: Identity()\n",
      "\u001b[49m\u001b[37m\u001b[22m2022-06-20 12:10:52,909:   DEBUG\u001b[0m\u001b[39m\u001b[49m: ard_fit_pipelines.core: \u001b[44m\u001b[37m\u001b[1mMainProcess\u001b[0m\u001b[39m\u001b[49m 2337: Applying Identity.FitIdentity to 53940 rows: FitIdentity(<0 rows of fitting data>)\n"
     ]
    },
    {
     "data": {
      "text/html": [
       "<div>\n",
       "<style scoped>\n",
       "    .dataframe tbody tr th:only-of-type {\n",
       "        vertical-align: middle;\n",
       "    }\n",
       "\n",
       "    .dataframe tbody tr th {\n",
       "        vertical-align: top;\n",
       "    }\n",
       "\n",
       "    .dataframe thead th {\n",
       "        text-align: right;\n",
       "    }\n",
       "</style>\n",
       "<table border=\"1\" class=\"dataframe\">\n",
       "  <thead>\n",
       "    <tr style=\"text-align: right;\">\n",
       "      <th></th>\n",
       "      <th>carat</th>\n",
       "      <th>cut</th>\n",
       "      <th>color</th>\n",
       "      <th>clarity</th>\n",
       "      <th>depth</th>\n",
       "      <th>table</th>\n",
       "      <th>price</th>\n",
       "      <th>x</th>\n",
       "      <th>y</th>\n",
       "      <th>z</th>\n",
       "    </tr>\n",
       "  </thead>\n",
       "  <tbody>\n",
       "    <tr>\n",
       "      <th>0</th>\n",
       "      <td>0.23</td>\n",
       "      <td>Ideal</td>\n",
       "      <td>E</td>\n",
       "      <td>SI2</td>\n",
       "      <td>61.5</td>\n",
       "      <td>55.0</td>\n",
       "      <td>326</td>\n",
       "      <td>3.95</td>\n",
       "      <td>3.98</td>\n",
       "      <td>2.43</td>\n",
       "    </tr>\n",
       "    <tr>\n",
       "      <th>1</th>\n",
       "      <td>0.21</td>\n",
       "      <td>Premium</td>\n",
       "      <td>E</td>\n",
       "      <td>SI1</td>\n",
       "      <td>59.8</td>\n",
       "      <td>61.0</td>\n",
       "      <td>326</td>\n",
       "      <td>3.89</td>\n",
       "      <td>3.84</td>\n",
       "      <td>2.31</td>\n",
       "    </tr>\n",
       "    <tr>\n",
       "      <th>2</th>\n",
       "      <td>0.23</td>\n",
       "      <td>Good</td>\n",
       "      <td>E</td>\n",
       "      <td>VS1</td>\n",
       "      <td>56.9</td>\n",
       "      <td>65.0</td>\n",
       "      <td>327</td>\n",
       "      <td>4.05</td>\n",
       "      <td>4.07</td>\n",
       "      <td>2.31</td>\n",
       "    </tr>\n",
       "    <tr>\n",
       "      <th>3</th>\n",
       "      <td>0.29</td>\n",
       "      <td>Premium</td>\n",
       "      <td>I</td>\n",
       "      <td>VS2</td>\n",
       "      <td>62.4</td>\n",
       "      <td>58.0</td>\n",
       "      <td>334</td>\n",
       "      <td>4.20</td>\n",
       "      <td>4.23</td>\n",
       "      <td>2.63</td>\n",
       "    </tr>\n",
       "    <tr>\n",
       "      <th>4</th>\n",
       "      <td>0.31</td>\n",
       "      <td>Good</td>\n",
       "      <td>J</td>\n",
       "      <td>SI2</td>\n",
       "      <td>63.3</td>\n",
       "      <td>58.0</td>\n",
       "      <td>335</td>\n",
       "      <td>4.34</td>\n",
       "      <td>4.35</td>\n",
       "      <td>2.75</td>\n",
       "    </tr>\n",
       "  </tbody>\n",
       "</table>\n",
       "</div>"
      ],
      "text/plain": [
       "   carat      cut color clarity  depth  table  price     x     y     z\n",
       "0   0.23    Ideal     E     SI2   61.5   55.0    326  3.95  3.98  2.43\n",
       "1   0.21  Premium     E     SI1   59.8   61.0    326  3.89  3.84  2.31\n",
       "2   0.23     Good     E     VS1   56.9   65.0    327  4.05  4.07  2.31\n",
       "3   0.29  Premium     I     VS2   62.4   58.0    334  4.20  4.23  2.63\n",
       "4   0.31     Good     J     SI2   63.3   58.0    335  4.34  4.35  2.75"
      ]
     },
     "execution_count": 177,
     "metadata": {},
     "output_type": "execute_result"
    }
   ],
   "source": [
    "t = fpc.Identity()\n",
    "t.apply(df).head()"
   ]
  },
  {
   "cell_type": "code",
   "execution_count": 137,
   "id": "21db8bae-0254-4834-854a-419cc2340202",
   "metadata": {
    "execution": {
     "iopub.execute_input": "2022-06-20T15:47:28.058248Z",
     "iopub.status.busy": "2022-06-20T15:47:28.057675Z",
     "iopub.status.idle": "2022-06-20T15:47:28.071617Z",
     "shell.execute_reply": "2022-06-20T15:47:28.068846Z",
     "shell.execute_reply.started": "2022-06-20T15:47:28.058212Z"
    },
    "tags": []
   },
   "outputs": [
    {
     "name": "stdout",
     "output_type": "stream",
     "text": [
      "Help on class FitDeMean in module ard_fit_pipelines.core:\n",
      "\n",
      "class FitDeMean(FitTransform)\n",
      " |  FitDeMean(transform: 'DeMean', X_fit: 'pd.DataFrame', bindings=None)\n",
      " |  \n",
      " |  The result of fitting a DeMean Transform. Blah blah.\n",
      " |  \n",
      " |  Method resolution order:\n",
      " |      FitDeMean\n",
      " |      FitTransform\n",
      " |      abc.ABC\n",
      " |      builtins.object\n",
      " |  \n",
      " |  Data and other attributes defined here:\n",
      " |  \n",
      " |  __abstractmethods__ = frozenset()\n",
      " |  \n",
      " |  ----------------------------------------------------------------------\n",
      " |  Methods inherited from FitTransform:\n",
      " |  \n",
      " |  __init__(self, transform: 'DeMean', X_fit: 'pd.DataFrame', bindings=None)\n",
      " |      Docstr for FitTransform.__init__\n",
      " |  \n",
      " |  __repr__(self)\n",
      " |      Return repr(self).\n",
      " |  \n",
      " |  apply(self, X_apply: 'pd.DataFrame') -> 'pd.DataFrame'\n",
      " |      Docstr for FitTransform.apply\n",
      " |  \n",
      " |  state(self)\n",
      " |  \n",
      " |  ----------------------------------------------------------------------\n",
      " |  Class methods inherited from FitTransform:\n",
      " |  \n",
      " |  __init_subclass__(transform_class=None, **kwargs) from abc.ABCMeta\n",
      " |      This method is called when a class is subclassed.\n",
      " |      \n",
      " |      The default implementation does nothing. It may be\n",
      " |      overridden to extend subclasses.\n",
      " |  \n",
      " |  ----------------------------------------------------------------------\n",
      " |  Data descriptors inherited from FitTransform:\n",
      " |  \n",
      " |  __dict__\n",
      " |      dictionary for instance variables (if defined)\n",
      " |  \n",
      " |  __weakref__\n",
      " |      list of weak references to the object (if defined)\n",
      "\n"
     ]
    }
   ],
   "source": [
    "help(DeMean.FitDeMean)"
   ]
  },
  {
   "cell_type": "code",
   "execution_count": 10,
   "id": "4d19614f-8e86-43a3-ad45-66d81cae7da8",
   "metadata": {
    "execution": {
     "iopub.execute_input": "2022-06-20T14:23:42.391500Z",
     "iopub.status.busy": "2022-06-20T14:23:42.390916Z",
     "iopub.status.idle": "2022-06-20T14:23:42.405508Z",
     "shell.execute_reply": "2022-06-20T14:23:42.403203Z",
     "shell.execute_reply.started": "2022-06-20T14:23:42.391460Z"
    },
    "tags": []
   },
   "outputs": [
    {
     "data": {
      "text/plain": [
       "\u001b[0;31mSignature:\u001b[0m\n",
       "\u001b[0mDeMean\u001b[0m\u001b[0;34m.\u001b[0m\u001b[0mfit\u001b[0m\u001b[0;34m(\u001b[0m\u001b[0;34m\u001b[0m\n",
       "\u001b[0;34m\u001b[0m    \u001b[0mself\u001b[0m\u001b[0;34m,\u001b[0m\u001b[0;34m\u001b[0m\n",
       "\u001b[0;34m\u001b[0m    \u001b[0mX_fit\u001b[0m\u001b[0;34m:\u001b[0m \u001b[0;34m'pd.DataFrame'\u001b[0m\u001b[0;34m,\u001b[0m\u001b[0;34m\u001b[0m\n",
       "\u001b[0;34m\u001b[0m    \u001b[0mbindings\u001b[0m\u001b[0;34m:\u001b[0m \u001b[0;34m'Optional[dict[str, object]]'\u001b[0m \u001b[0;34m=\u001b[0m \u001b[0;32mNone\u001b[0m\u001b[0;34m,\u001b[0m\u001b[0;34m\u001b[0m\n",
       "\u001b[0;34m\u001b[0m\u001b[0;34m)\u001b[0m \u001b[0;34m->\u001b[0m \u001b[0;34m'DeMean.FitDeMean'\u001b[0m\u001b[0;34m\u001b[0m\u001b[0;34m\u001b[0m\u001b[0m\n",
       "\u001b[0;31mDocstring:\u001b[0m <no docstring>\n",
       "\u001b[0;31mFile:\u001b[0m      ~/projects/ardua/codebases/local/ard-fit-pipelines/src/ard_fit_pipelines/core.py\n",
       "\u001b[0;31mType:\u001b[0m      function\n"
      ]
     },
     "metadata": {},
     "output_type": "display_data"
    }
   ],
   "source": [
    "DeMean.fit?"
   ]
  },
  {
   "cell_type": "code",
   "execution_count": 13,
   "id": "eeee8eff-68a3-4177-814e-739aebd9794c",
   "metadata": {
    "execution": {
     "iopub.execute_input": "2022-06-20T14:27:37.551830Z",
     "iopub.status.busy": "2022-06-20T14:27:37.550822Z",
     "iopub.status.idle": "2022-06-20T14:27:37.563611Z",
     "shell.execute_reply": "2022-06-20T14:27:37.561395Z",
     "shell.execute_reply.started": "2022-06-20T14:27:37.551781Z"
    },
    "tags": []
   },
   "outputs": [
    {
     "data": {
      "text/plain": [
       "<ard_fit_pipelines.core.DeMean.FitDeMean at 0x7f0d92769970>"
      ]
     },
     "execution_count": 13,
     "metadata": {},
     "output_type": "execute_result"
    }
   ],
   "source": [
    "tfit"
   ]
  }
 ],
 "metadata": {
  "kernelspec": {
   "display_name": "venv-ardua-dev",
   "language": "python",
   "name": "venv-ardua-dev"
  },
  "language_info": {
   "codemirror_mode": {
    "name": "ipython",
    "version": 3
   },
   "file_extension": ".py",
   "mimetype": "text/x-python",
   "name": "python",
   "nbconvert_exporter": "python",
   "pygments_lexer": "ipython3",
   "version": "3.9.5"
  }
 },
 "nbformat": 4,
 "nbformat_minor": 5
}
