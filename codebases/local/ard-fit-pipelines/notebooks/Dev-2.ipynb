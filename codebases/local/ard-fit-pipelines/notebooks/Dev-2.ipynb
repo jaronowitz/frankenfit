{
 "cells": [
  {
   "cell_type": "code",
   "execution_count": 17,
   "id": "f82f522d-c41e-4caf-a0d5-2106a553ab8b",
   "metadata": {
    "execution": {
     "iopub.execute_input": "2022-06-20T17:45:57.395386Z",
     "iopub.status.busy": "2022-06-20T17:45:57.395134Z",
     "iopub.status.idle": "2022-06-20T17:45:57.482180Z",
     "shell.execute_reply": "2022-06-20T17:45:57.481408Z",
     "shell.execute_reply.started": "2022-06-20T17:45:57.395370Z"
    },
    "tags": []
   },
   "outputs": [
    {
     "name": "stderr",
     "output_type": "stream",
     "text": [
      "\u001b[49m\u001b[37m\u001b[1m2022-06-20 13:45:57,399:    INFO\u001b[0m\u001b[39m\u001b[49m:      ard_logging: \u001b[44m\u001b[37m\u001b[1mMainProcess\u001b[0m\u001b[39m\u001b[49m 3343: Logging initialized.\n",
      "\u001b[49m\u001b[37m\u001b[1m2022-06-20 13:45:57,400:    INFO\u001b[0m\u001b[39m\u001b[49m:         __main__: \u001b[44m\u001b[37m\u001b[1mMainProcess\u001b[0m\u001b[39m\u001b[49m 3343: Hello from notebook\n"
     ]
    },
    {
     "name": "stdout",
     "output_type": "stream",
     "text": [
      "<class 'pandas.core.frame.DataFrame'>\n",
      "RangeIndex: 53940 entries, 0 to 53939\n",
      "Data columns (total 10 columns):\n",
      " #   Column   Non-Null Count  Dtype   \n",
      "---  ------   --------------  -----   \n",
      " 0   carat    53940 non-null  float64 \n",
      " 1   cut      53940 non-null  category\n",
      " 2   color    53940 non-null  category\n",
      " 3   clarity  53940 non-null  category\n",
      " 4   depth    53940 non-null  float64 \n",
      " 5   table    53940 non-null  float64 \n",
      " 6   price    53940 non-null  int64   \n",
      " 7   x        53940 non-null  float64 \n",
      " 8   y        53940 non-null  float64 \n",
      " 9   z        53940 non-null  float64 \n",
      "dtypes: category(3), float64(6), int64(1)\n",
      "memory usage: 3.0 MB\n"
     ]
    },
    {
     "data": {
      "text/html": [
       "<div>\n",
       "<style scoped>\n",
       "    .dataframe tbody tr th:only-of-type {\n",
       "        vertical-align: middle;\n",
       "    }\n",
       "\n",
       "    .dataframe tbody tr th {\n",
       "        vertical-align: top;\n",
       "    }\n",
       "\n",
       "    .dataframe thead th {\n",
       "        text-align: right;\n",
       "    }\n",
       "</style>\n",
       "<table border=\"1\" class=\"dataframe\">\n",
       "  <thead>\n",
       "    <tr style=\"text-align: right;\">\n",
       "      <th></th>\n",
       "      <th>carat</th>\n",
       "      <th>cut</th>\n",
       "      <th>color</th>\n",
       "      <th>clarity</th>\n",
       "      <th>depth</th>\n",
       "      <th>table</th>\n",
       "      <th>price</th>\n",
       "      <th>x</th>\n",
       "      <th>y</th>\n",
       "      <th>z</th>\n",
       "    </tr>\n",
       "  </thead>\n",
       "  <tbody>\n",
       "    <tr>\n",
       "      <th>0</th>\n",
       "      <td>0.23</td>\n",
       "      <td>Ideal</td>\n",
       "      <td>E</td>\n",
       "      <td>SI2</td>\n",
       "      <td>61.5</td>\n",
       "      <td>55.0</td>\n",
       "      <td>326</td>\n",
       "      <td>3.95</td>\n",
       "      <td>3.98</td>\n",
       "      <td>2.43</td>\n",
       "    </tr>\n",
       "    <tr>\n",
       "      <th>1</th>\n",
       "      <td>0.21</td>\n",
       "      <td>Premium</td>\n",
       "      <td>E</td>\n",
       "      <td>SI1</td>\n",
       "      <td>59.8</td>\n",
       "      <td>61.0</td>\n",
       "      <td>326</td>\n",
       "      <td>3.89</td>\n",
       "      <td>3.84</td>\n",
       "      <td>2.31</td>\n",
       "    </tr>\n",
       "    <tr>\n",
       "      <th>2</th>\n",
       "      <td>0.23</td>\n",
       "      <td>Good</td>\n",
       "      <td>E</td>\n",
       "      <td>VS1</td>\n",
       "      <td>56.9</td>\n",
       "      <td>65.0</td>\n",
       "      <td>327</td>\n",
       "      <td>4.05</td>\n",
       "      <td>4.07</td>\n",
       "      <td>2.31</td>\n",
       "    </tr>\n",
       "    <tr>\n",
       "      <th>3</th>\n",
       "      <td>0.29</td>\n",
       "      <td>Premium</td>\n",
       "      <td>I</td>\n",
       "      <td>VS2</td>\n",
       "      <td>62.4</td>\n",
       "      <td>58.0</td>\n",
       "      <td>334</td>\n",
       "      <td>4.20</td>\n",
       "      <td>4.23</td>\n",
       "      <td>2.63</td>\n",
       "    </tr>\n",
       "    <tr>\n",
       "      <th>4</th>\n",
       "      <td>0.31</td>\n",
       "      <td>Good</td>\n",
       "      <td>J</td>\n",
       "      <td>SI2</td>\n",
       "      <td>63.3</td>\n",
       "      <td>58.0</td>\n",
       "      <td>335</td>\n",
       "      <td>4.34</td>\n",
       "      <td>4.35</td>\n",
       "      <td>2.75</td>\n",
       "    </tr>\n",
       "  </tbody>\n",
       "</table>\n",
       "</div>"
      ],
      "text/plain": [
       "   carat      cut color clarity  depth  table  price     x     y     z\n",
       "0   0.23    Ideal     E     SI2   61.5   55.0    326  3.95  3.98  2.43\n",
       "1   0.21  Premium     E     SI1   59.8   61.0    326  3.89  3.84  2.31\n",
       "2   0.23     Good     E     VS1   56.9   65.0    327  4.05  4.07  2.31\n",
       "3   0.29  Premium     I     VS2   62.4   58.0    334  4.20  4.23  2.63\n",
       "4   0.31     Good     J     SI2   63.3   58.0    335  4.34  4.35  2.75"
      ]
     },
     "execution_count": 17,
     "metadata": {},
     "output_type": "execute_result"
    }
   ],
   "source": [
    "from importlib import reload\n",
    "import pandas as pd\n",
    "import numpy as np\n",
    "import seaborn as sns\n",
    "import matplotlib.pyplot as plt\n",
    "sns.set_theme(style='whitegrid')\n",
    "import ard_logging\n",
    "import logging\n",
    "ard_logging.init(force_debug=True)\n",
    "LOG = logging.getLogger(__name__)\n",
    "LOG.info('Hello from notebook')\n",
    "\n",
    "df = sns.load_dataset('diamonds')\n",
    "df.info()\n",
    "df.head()"
   ]
  },
  {
   "cell_type": "code",
   "execution_count": 18,
   "id": "7b3d0a85-8384-42b3-afe2-fbb5003ea856",
   "metadata": {
    "execution": {
     "iopub.execute_input": "2022-06-20T17:45:59.641518Z",
     "iopub.status.busy": "2022-06-20T17:45:59.640768Z",
     "iopub.status.idle": "2022-06-20T17:45:59.651971Z",
     "shell.execute_reply": "2022-06-20T17:45:59.651055Z",
     "shell.execute_reply.started": "2022-06-20T17:45:59.641488Z"
    },
    "tags": []
   },
   "outputs": [],
   "source": [
    "import ard_fit_pipelines as fp\n",
    "reload(fp.core); reload(fp.transforms); reload(fp)\n",
    "import ard_fit_pipelines.core as fpc\n",
    "import ard_fit_pipelines.transforms as fpt\n",
    "\n",
    "logging.getLogger('ard_fit_pipelines').setLevel(logging.DEBUG)\n",
    "#reload(fpc)"
   ]
  },
  {
   "cell_type": "code",
   "execution_count": 16,
   "id": "fe7fe05b-0ef1-49e9-830d-dad64d9bf07f",
   "metadata": {
    "execution": {
     "iopub.execute_input": "2022-06-20T16:37:28.786976Z",
     "iopub.status.busy": "2022-06-20T16:37:28.785939Z",
     "iopub.status.idle": "2022-06-20T16:37:28.815383Z",
     "shell.execute_reply": "2022-06-20T16:37:28.814295Z",
     "shell.execute_reply.started": "2022-06-20T16:37:28.786932Z"
    },
    "tags": []
   },
   "outputs": [
    {
     "name": "stderr",
     "output_type": "stream",
     "text": [
      "\u001b[49m\u001b[37m\u001b[22m2022-06-20 12:37:28,789:   DEBUG\u001b[0m\u001b[39m\u001b[49m: ard_fit_pipelines.core: \u001b[44m\u001b[37m\u001b[1mMainProcess\u001b[0m\u001b[39m\u001b[49m 3343: Fitting DeMean on 53940 rows: DeMean(cols=hp(name='response_cols'))\n",
      "\u001b[49m\u001b[37m\u001b[22m2022-06-20 12:37:28,793:   DEBUG\u001b[0m\u001b[39m\u001b[49m: ard_fit_pipelines.core: \u001b[44m\u001b[37m\u001b[1mMainProcess\u001b[0m\u001b[39m\u001b[49m 3343: Applying DeMean.FitDeMean to 53940 rows: FitDeMean(cols=['price'], <53940 rows of fitting data>)\n",
      "\u001b[49m\u001b[37m\u001b[22m2022-06-20 12:37:28,797:   DEBUG\u001b[0m\u001b[39m\u001b[49m: ard_fit_pipelines.core: \u001b[44m\u001b[37m\u001b[1mMainProcess\u001b[0m\u001b[39m\u001b[49m 3343: Fitting CopyColumns on 0 rows: CopyColumns(cols=['price'], dest_cols=['price_copy_1', 'price_copy_2'])\n",
      "\u001b[49m\u001b[37m\u001b[22m2022-06-20 12:37:28,797:   DEBUG\u001b[0m\u001b[39m\u001b[49m: ard_fit_pipelines.core: \u001b[44m\u001b[37m\u001b[1mMainProcess\u001b[0m\u001b[39m\u001b[49m 3343: Applying CopyColumns.FitCopyColumns to 53940 rows: FitCopyColumns(cols=['price'], dest_cols=['price_copy_1', 'price_copy_2'], <0 rows of fitting data>)\n"
     ]
    },
    {
     "name": "stdout",
     "output_type": "stream",
     "text": [
      "cols: Bound hp(name='response_cols') -> ['price']\n",
      "cols: Bound ['price'] -> ['price']\n",
      "dest_cols: Bound ['price_copy_1', 'price_copy_2'] -> ['price_copy_1', 'price_copy_2']\n"
     ]
    },
    {
     "data": {
      "text/html": [
       "<div>\n",
       "<style scoped>\n",
       "    .dataframe tbody tr th:only-of-type {\n",
       "        vertical-align: middle;\n",
       "    }\n",
       "\n",
       "    .dataframe tbody tr th {\n",
       "        vertical-align: top;\n",
       "    }\n",
       "\n",
       "    .dataframe thead th {\n",
       "        text-align: right;\n",
       "    }\n",
       "</style>\n",
       "<table border=\"1\" class=\"dataframe\">\n",
       "  <thead>\n",
       "    <tr style=\"text-align: right;\">\n",
       "      <th></th>\n",
       "      <th>carat</th>\n",
       "      <th>cut</th>\n",
       "      <th>color</th>\n",
       "      <th>clarity</th>\n",
       "      <th>depth</th>\n",
       "      <th>table</th>\n",
       "      <th>price</th>\n",
       "      <th>x</th>\n",
       "      <th>y</th>\n",
       "      <th>z</th>\n",
       "      <th>price_copy_1</th>\n",
       "      <th>price_copy_2</th>\n",
       "    </tr>\n",
       "  </thead>\n",
       "  <tbody>\n",
       "    <tr>\n",
       "      <th>0</th>\n",
       "      <td>0.23</td>\n",
       "      <td>Ideal</td>\n",
       "      <td>E</td>\n",
       "      <td>SI2</td>\n",
       "      <td>61.5</td>\n",
       "      <td>55.0</td>\n",
       "      <td>326</td>\n",
       "      <td>3.95</td>\n",
       "      <td>3.98</td>\n",
       "      <td>2.43</td>\n",
       "      <td>326</td>\n",
       "      <td>326</td>\n",
       "    </tr>\n",
       "    <tr>\n",
       "      <th>1</th>\n",
       "      <td>0.21</td>\n",
       "      <td>Premium</td>\n",
       "      <td>E</td>\n",
       "      <td>SI1</td>\n",
       "      <td>59.8</td>\n",
       "      <td>61.0</td>\n",
       "      <td>326</td>\n",
       "      <td>3.89</td>\n",
       "      <td>3.84</td>\n",
       "      <td>2.31</td>\n",
       "      <td>326</td>\n",
       "      <td>326</td>\n",
       "    </tr>\n",
       "    <tr>\n",
       "      <th>2</th>\n",
       "      <td>0.23</td>\n",
       "      <td>Good</td>\n",
       "      <td>E</td>\n",
       "      <td>VS1</td>\n",
       "      <td>56.9</td>\n",
       "      <td>65.0</td>\n",
       "      <td>327</td>\n",
       "      <td>4.05</td>\n",
       "      <td>4.07</td>\n",
       "      <td>2.31</td>\n",
       "      <td>327</td>\n",
       "      <td>327</td>\n",
       "    </tr>\n",
       "    <tr>\n",
       "      <th>3</th>\n",
       "      <td>0.29</td>\n",
       "      <td>Premium</td>\n",
       "      <td>I</td>\n",
       "      <td>VS2</td>\n",
       "      <td>62.4</td>\n",
       "      <td>58.0</td>\n",
       "      <td>334</td>\n",
       "      <td>4.20</td>\n",
       "      <td>4.23</td>\n",
       "      <td>2.63</td>\n",
       "      <td>334</td>\n",
       "      <td>334</td>\n",
       "    </tr>\n",
       "    <tr>\n",
       "      <th>4</th>\n",
       "      <td>0.31</td>\n",
       "      <td>Good</td>\n",
       "      <td>J</td>\n",
       "      <td>SI2</td>\n",
       "      <td>63.3</td>\n",
       "      <td>58.0</td>\n",
       "      <td>335</td>\n",
       "      <td>4.34</td>\n",
       "      <td>4.35</td>\n",
       "      <td>2.75</td>\n",
       "      <td>335</td>\n",
       "      <td>335</td>\n",
       "    </tr>\n",
       "  </tbody>\n",
       "</table>\n",
       "</div>"
      ],
      "text/plain": [
       "   carat      cut color clarity  depth  table  price     x     y     z  \\\n",
       "0   0.23    Ideal     E     SI2   61.5   55.0    326  3.95  3.98  2.43   \n",
       "1   0.21  Premium     E     SI1   59.8   61.0    326  3.89  3.84  2.31   \n",
       "2   0.23     Good     E     VS1   56.9   65.0    327  4.05  4.07  2.31   \n",
       "3   0.29  Premium     I     VS2   62.4   58.0    334  4.20  4.23  2.63   \n",
       "4   0.31     Good     J     SI2   63.3   58.0    335  4.34  4.35  2.75   \n",
       "\n",
       "   price_copy_1  price_copy_2  \n",
       "0           326           326  \n",
       "1           326           326  \n",
       "2           327           327  \n",
       "3           334           334  \n",
       "4           335           335  "
      ]
     },
     "execution_count": 16,
     "metadata": {},
     "output_type": "execute_result"
    }
   ],
   "source": [
    "t = fpt.DeMean(cols=fpc.hp('response_cols'))\n",
    "tfit = t.fit(df, bindings={'response_cols':['price']})\n",
    "tfit.apply(df).head()\n",
    "\n",
    "fpt.CopyColumns(cols=['price'], dest_cols=['price_copy_1', 'price_copy_2']).apply(df).head()"
   ]
  },
  {
   "cell_type": "code",
   "execution_count": 30,
   "id": "372c4147-7f28-4082-a761-df5aac01c1f3",
   "metadata": {
    "execution": {
     "iopub.execute_input": "2022-06-20T17:57:00.149643Z",
     "iopub.status.busy": "2022-06-20T17:57:00.149095Z",
     "iopub.status.idle": "2022-06-20T17:57:00.171001Z",
     "shell.execute_reply": "2022-06-20T17:57:00.170058Z",
     "shell.execute_reply.started": "2022-06-20T17:57:00.149609Z"
    },
    "tags": []
   },
   "outputs": [
    {
     "name": "stderr",
     "output_type": "stream",
     "text": [
      "\u001b[49m\u001b[37m\u001b[22m2022-06-20 13:57:00,151:   DEBUG\u001b[0m\u001b[39m\u001b[49m: ard_fit_pipelines.core: \u001b[44m\u001b[37m\u001b[1mMainProcess\u001b[0m\u001b[39m\u001b[49m 3343: Fitting DeMean on 53940 rows: DeMean(cols=['price', 'x', 'y', 'z'])\n",
      "\u001b[49m\u001b[37m\u001b[22m2022-06-20 13:57:00,156:   DEBUG\u001b[0m\u001b[39m\u001b[49m: ard_fit_pipelines.core: \u001b[44m\u001b[37m\u001b[1mMainProcess\u001b[0m\u001b[39m\u001b[49m 3343: Applying DeMean.FitDeMean to 53940 rows: FitDeMean(cols=['price', 'x', 'y', 'z'], <53940 rows of fitting data>)\n"
     ]
    },
    {
     "name": "stdout",
     "output_type": "stream",
     "text": [
      "cols: Bound ['price', 'x', 'y', 'z'] -> ['price', 'x', 'y', 'z']\n"
     ]
    },
    {
     "data": {
      "text/plain": [
       "True"
      ]
     },
     "execution_count": 30,
     "metadata": {},
     "output_type": "execute_result"
    }
   ],
   "source": [
    "cols = ['price', 'x', 'y', 'z']\n",
    "t = fpt.DeMean(cols)\n",
    "result = t.fit(df).apply(df)\n",
    "(result[cols].mean().abs() < 1e-10).all()"
   ]
  },
  {
   "cell_type": "code",
   "execution_count": 19,
   "id": "c67873b5-fe94-4721-a6d6-df9ab015e6b0",
   "metadata": {
    "execution": {
     "iopub.execute_input": "2022-06-20T17:46:03.735545Z",
     "iopub.status.busy": "2022-06-20T17:46:03.735189Z",
     "iopub.status.idle": "2022-06-20T17:46:03.765076Z",
     "shell.execute_reply": "2022-06-20T17:46:03.763066Z",
     "shell.execute_reply.started": "2022-06-20T17:46:03.735527Z"
    },
    "tags": []
   },
   "outputs": [
    {
     "name": "stderr",
     "output_type": "stream",
     "text": [
      "\u001b[49m\u001b[37m\u001b[22m2022-06-20 13:46:03,738:   DEBUG\u001b[0m\u001b[39m\u001b[49m: ard_fit_pipelines.core: \u001b[44m\u001b[37m\u001b[1mMainProcess\u001b[0m\u001b[39m\u001b[49m 3343: Fitting DeMean on 53940 rows: DeMean(cols=hp(name='response_cols'))\n",
      "\u001b[49m\u001b[37m\u001b[22m2022-06-20 13:46:03,748:   DEBUG\u001b[0m\u001b[39m\u001b[49m: ard_fit_pipelines.core: \u001b[44m\u001b[37m\u001b[1mMainProcess\u001b[0m\u001b[39m\u001b[49m 3343: Applying DeMean.FitDeMean to 53940 rows: FitDeMean(cols=['price'], <53940 rows of fitting data>)\n"
     ]
    },
    {
     "name": "stdout",
     "output_type": "stream",
     "text": [
      "cols: Bound hp(name='response_cols') -> ['price']\n"
     ]
    },
    {
     "data": {
      "text/html": [
       "<div>\n",
       "<style scoped>\n",
       "    .dataframe tbody tr th:only-of-type {\n",
       "        vertical-align: middle;\n",
       "    }\n",
       "\n",
       "    .dataframe tbody tr th {\n",
       "        vertical-align: top;\n",
       "    }\n",
       "\n",
       "    .dataframe thead th {\n",
       "        text-align: right;\n",
       "    }\n",
       "</style>\n",
       "<table border=\"1\" class=\"dataframe\">\n",
       "  <thead>\n",
       "    <tr style=\"text-align: right;\">\n",
       "      <th></th>\n",
       "      <th>carat</th>\n",
       "      <th>cut</th>\n",
       "      <th>color</th>\n",
       "      <th>clarity</th>\n",
       "      <th>depth</th>\n",
       "      <th>table</th>\n",
       "      <th>price</th>\n",
       "      <th>x</th>\n",
       "      <th>y</th>\n",
       "      <th>z</th>\n",
       "    </tr>\n",
       "  </thead>\n",
       "  <tbody>\n",
       "    <tr>\n",
       "      <th>0</th>\n",
       "      <td>0.23</td>\n",
       "      <td>Ideal</td>\n",
       "      <td>E</td>\n",
       "      <td>SI2</td>\n",
       "      <td>61.5</td>\n",
       "      <td>55.0</td>\n",
       "      <td>-3606.799722</td>\n",
       "      <td>3.95</td>\n",
       "      <td>3.98</td>\n",
       "      <td>2.43</td>\n",
       "    </tr>\n",
       "    <tr>\n",
       "      <th>1</th>\n",
       "      <td>0.21</td>\n",
       "      <td>Premium</td>\n",
       "      <td>E</td>\n",
       "      <td>SI1</td>\n",
       "      <td>59.8</td>\n",
       "      <td>61.0</td>\n",
       "      <td>-3606.799722</td>\n",
       "      <td>3.89</td>\n",
       "      <td>3.84</td>\n",
       "      <td>2.31</td>\n",
       "    </tr>\n",
       "    <tr>\n",
       "      <th>2</th>\n",
       "      <td>0.23</td>\n",
       "      <td>Good</td>\n",
       "      <td>E</td>\n",
       "      <td>VS1</td>\n",
       "      <td>56.9</td>\n",
       "      <td>65.0</td>\n",
       "      <td>-3605.799722</td>\n",
       "      <td>4.05</td>\n",
       "      <td>4.07</td>\n",
       "      <td>2.31</td>\n",
       "    </tr>\n",
       "    <tr>\n",
       "      <th>3</th>\n",
       "      <td>0.29</td>\n",
       "      <td>Premium</td>\n",
       "      <td>I</td>\n",
       "      <td>VS2</td>\n",
       "      <td>62.4</td>\n",
       "      <td>58.0</td>\n",
       "      <td>-3598.799722</td>\n",
       "      <td>4.20</td>\n",
       "      <td>4.23</td>\n",
       "      <td>2.63</td>\n",
       "    </tr>\n",
       "    <tr>\n",
       "      <th>4</th>\n",
       "      <td>0.31</td>\n",
       "      <td>Good</td>\n",
       "      <td>J</td>\n",
       "      <td>SI2</td>\n",
       "      <td>63.3</td>\n",
       "      <td>58.0</td>\n",
       "      <td>-3597.799722</td>\n",
       "      <td>4.34</td>\n",
       "      <td>4.35</td>\n",
       "      <td>2.75</td>\n",
       "    </tr>\n",
       "  </tbody>\n",
       "</table>\n",
       "</div>"
      ],
      "text/plain": [
       "   carat      cut color clarity  depth  table        price     x     y     z\n",
       "0   0.23    Ideal     E     SI2   61.5   55.0 -3606.799722  3.95  3.98  2.43\n",
       "1   0.21  Premium     E     SI1   59.8   61.0 -3606.799722  3.89  3.84  2.31\n",
       "2   0.23     Good     E     VS1   56.9   65.0 -3605.799722  4.05  4.07  2.31\n",
       "3   0.29  Premium     I     VS2   62.4   58.0 -3598.799722  4.20  4.23  2.63\n",
       "4   0.31     Good     J     SI2   63.3   58.0 -3597.799722  4.34  4.35  2.75"
      ]
     },
     "execution_count": 19,
     "metadata": {},
     "output_type": "execute_result"
    }
   ],
   "source": [
    "class DeMean(fpc.ColumnsTransform):\n",
    "    \"Docstr for MyDeMean\"\n",
    "    \n",
    "    def _fit(self, X_fit):\n",
    "        return X_fit[self.cols].mean()\n",
    "    \n",
    "    def _apply(self, X_apply, state):\n",
    "        means = state\n",
    "        return X_apply.assign(**{\n",
    "            c: X_apply[c] - means[c]\n",
    "            for c in self.cols\n",
    "        })\n",
    "        \n",
    "\n",
    "#t = DeMean(cols=['price'])\n",
    "t = DeMean(cols=fpc.hp('response_cols'))\n",
    "tfit = t.fit(df, bindings={'response_cols':['price']})\n",
    "tfit.apply(df).head()"
   ]
  },
  {
   "cell_type": "code",
   "execution_count": 24,
   "id": "2877f46a-466f-419d-8eb2-5a4e711f7174",
   "metadata": {
    "execution": {
     "iopub.execute_input": "2022-06-20T17:51:57.189393Z",
     "iopub.status.busy": "2022-06-20T17:51:57.188412Z",
     "iopub.status.idle": "2022-06-20T17:51:57.196109Z",
     "shell.execute_reply": "2022-06-20T17:51:57.194640Z",
     "shell.execute_reply.started": "2022-06-20T17:51:57.189353Z"
    },
    "tags": []
   },
   "outputs": [
    {
     "data": {
      "text/plain": [
       "\"DeMean(cols=hp(name='response_cols'))\""
      ]
     },
     "execution_count": 24,
     "metadata": {},
     "output_type": "execute_result"
    }
   ],
   "source": [
    "repr(t)"
   ]
  },
  {
   "cell_type": "code",
   "execution_count": 25,
   "id": "2deec080-9c1f-4f21-8daf-414a43cc6c17",
   "metadata": {
    "execution": {
     "iopub.execute_input": "2022-06-20T17:52:08.230961Z",
     "iopub.status.busy": "2022-06-20T17:52:08.230241Z",
     "iopub.status.idle": "2022-06-20T17:52:08.237752Z",
     "shell.execute_reply": "2022-06-20T17:52:08.236380Z",
     "shell.execute_reply.started": "2022-06-20T17:52:08.230932Z"
    },
    "tags": []
   },
   "outputs": [
    {
     "data": {
      "text/plain": [
       "\"FitDeMean(cols=['price'], <53940 rows of fitting data>)\""
      ]
     },
     "execution_count": 25,
     "metadata": {},
     "output_type": "execute_result"
    }
   ],
   "source": [
    "repr(tfit)"
   ]
  },
  {
   "cell_type": "code",
   "execution_count": 23,
   "id": "cf8e6479-fe3e-4d1d-94eb-bee4ad98044c",
   "metadata": {
    "execution": {
     "iopub.execute_input": "2022-06-20T17:46:27.212923Z",
     "iopub.status.busy": "2022-06-20T17:46:27.211917Z",
     "iopub.status.idle": "2022-06-20T17:46:27.222801Z",
     "shell.execute_reply": "2022-06-20T17:46:27.221458Z",
     "shell.execute_reply.started": "2022-06-20T17:46:27.212888Z"
    },
    "tags": []
   },
   "outputs": [
    {
     "data": {
      "text/plain": [
       "True"
      ]
     },
     "execution_count": 23,
     "metadata": {},
     "output_type": "execute_result"
    }
   ],
   "source": [
    "isinstance(DeMean.FitDeMean, type) "
   ]
  },
  {
   "cell_type": "code",
   "execution_count": 177,
   "id": "31020419-9318-4d47-a05c-4e04ad9c0163",
   "metadata": {
    "execution": {
     "iopub.execute_input": "2022-06-20T16:10:52.906949Z",
     "iopub.status.busy": "2022-06-20T16:10:52.906039Z",
     "iopub.status.idle": "2022-06-20T16:10:52.929054Z",
     "shell.execute_reply": "2022-06-20T16:10:52.927504Z",
     "shell.execute_reply.started": "2022-06-20T16:10:52.906917Z"
    },
    "tags": []
   },
   "outputs": [
    {
     "name": "stderr",
     "output_type": "stream",
     "text": [
      "\u001b[49m\u001b[37m\u001b[22m2022-06-20 12:10:52,908:   DEBUG\u001b[0m\u001b[39m\u001b[49m: ard_fit_pipelines.core: \u001b[44m\u001b[37m\u001b[1mMainProcess\u001b[0m\u001b[39m\u001b[49m 2337: Fitting Identity on 0 rows: Identity()\n",
      "\u001b[49m\u001b[37m\u001b[22m2022-06-20 12:10:52,909:   DEBUG\u001b[0m\u001b[39m\u001b[49m: ard_fit_pipelines.core: \u001b[44m\u001b[37m\u001b[1mMainProcess\u001b[0m\u001b[39m\u001b[49m 2337: Applying Identity.FitIdentity to 53940 rows: FitIdentity(<0 rows of fitting data>)\n"
     ]
    },
    {
     "data": {
      "text/html": [
       "<div>\n",
       "<style scoped>\n",
       "    .dataframe tbody tr th:only-of-type {\n",
       "        vertical-align: middle;\n",
       "    }\n",
       "\n",
       "    .dataframe tbody tr th {\n",
       "        vertical-align: top;\n",
       "    }\n",
       "\n",
       "    .dataframe thead th {\n",
       "        text-align: right;\n",
       "    }\n",
       "</style>\n",
       "<table border=\"1\" class=\"dataframe\">\n",
       "  <thead>\n",
       "    <tr style=\"text-align: right;\">\n",
       "      <th></th>\n",
       "      <th>carat</th>\n",
       "      <th>cut</th>\n",
       "      <th>color</th>\n",
       "      <th>clarity</th>\n",
       "      <th>depth</th>\n",
       "      <th>table</th>\n",
       "      <th>price</th>\n",
       "      <th>x</th>\n",
       "      <th>y</th>\n",
       "      <th>z</th>\n",
       "    </tr>\n",
       "  </thead>\n",
       "  <tbody>\n",
       "    <tr>\n",
       "      <th>0</th>\n",
       "      <td>0.23</td>\n",
       "      <td>Ideal</td>\n",
       "      <td>E</td>\n",
       "      <td>SI2</td>\n",
       "      <td>61.5</td>\n",
       "      <td>55.0</td>\n",
       "      <td>326</td>\n",
       "      <td>3.95</td>\n",
       "      <td>3.98</td>\n",
       "      <td>2.43</td>\n",
       "    </tr>\n",
       "    <tr>\n",
       "      <th>1</th>\n",
       "      <td>0.21</td>\n",
       "      <td>Premium</td>\n",
       "      <td>E</td>\n",
       "      <td>SI1</td>\n",
       "      <td>59.8</td>\n",
       "      <td>61.0</td>\n",
       "      <td>326</td>\n",
       "      <td>3.89</td>\n",
       "      <td>3.84</td>\n",
       "      <td>2.31</td>\n",
       "    </tr>\n",
       "    <tr>\n",
       "      <th>2</th>\n",
       "      <td>0.23</td>\n",
       "      <td>Good</td>\n",
       "      <td>E</td>\n",
       "      <td>VS1</td>\n",
       "      <td>56.9</td>\n",
       "      <td>65.0</td>\n",
       "      <td>327</td>\n",
       "      <td>4.05</td>\n",
       "      <td>4.07</td>\n",
       "      <td>2.31</td>\n",
       "    </tr>\n",
       "    <tr>\n",
       "      <th>3</th>\n",
       "      <td>0.29</td>\n",
       "      <td>Premium</td>\n",
       "      <td>I</td>\n",
       "      <td>VS2</td>\n",
       "      <td>62.4</td>\n",
       "      <td>58.0</td>\n",
       "      <td>334</td>\n",
       "      <td>4.20</td>\n",
       "      <td>4.23</td>\n",
       "      <td>2.63</td>\n",
       "    </tr>\n",
       "    <tr>\n",
       "      <th>4</th>\n",
       "      <td>0.31</td>\n",
       "      <td>Good</td>\n",
       "      <td>J</td>\n",
       "      <td>SI2</td>\n",
       "      <td>63.3</td>\n",
       "      <td>58.0</td>\n",
       "      <td>335</td>\n",
       "      <td>4.34</td>\n",
       "      <td>4.35</td>\n",
       "      <td>2.75</td>\n",
       "    </tr>\n",
       "  </tbody>\n",
       "</table>\n",
       "</div>"
      ],
      "text/plain": [
       "   carat      cut color clarity  depth  table  price     x     y     z\n",
       "0   0.23    Ideal     E     SI2   61.5   55.0    326  3.95  3.98  2.43\n",
       "1   0.21  Premium     E     SI1   59.8   61.0    326  3.89  3.84  2.31\n",
       "2   0.23     Good     E     VS1   56.9   65.0    327  4.05  4.07  2.31\n",
       "3   0.29  Premium     I     VS2   62.4   58.0    334  4.20  4.23  2.63\n",
       "4   0.31     Good     J     SI2   63.3   58.0    335  4.34  4.35  2.75"
      ]
     },
     "execution_count": 177,
     "metadata": {},
     "output_type": "execute_result"
    }
   ],
   "source": [
    "t = fpc.Identity()\n",
    "t.apply(df).head()"
   ]
  },
  {
   "cell_type": "code",
   "execution_count": 137,
   "id": "21db8bae-0254-4834-854a-419cc2340202",
   "metadata": {
    "execution": {
     "iopub.execute_input": "2022-06-20T15:47:28.058248Z",
     "iopub.status.busy": "2022-06-20T15:47:28.057675Z",
     "iopub.status.idle": "2022-06-20T15:47:28.071617Z",
     "shell.execute_reply": "2022-06-20T15:47:28.068846Z",
     "shell.execute_reply.started": "2022-06-20T15:47:28.058212Z"
    },
    "tags": []
   },
   "outputs": [
    {
     "name": "stdout",
     "output_type": "stream",
     "text": [
      "Help on class FitDeMean in module ard_fit_pipelines.core:\n",
      "\n",
      "class FitDeMean(FitTransform)\n",
      " |  FitDeMean(transform: 'DeMean', X_fit: 'pd.DataFrame', bindings=None)\n",
      " |  \n",
      " |  The result of fitting a DeMean Transform. Blah blah.\n",
      " |  \n",
      " |  Method resolution order:\n",
      " |      FitDeMean\n",
      " |      FitTransform\n",
      " |      abc.ABC\n",
      " |      builtins.object\n",
      " |  \n",
      " |  Data and other attributes defined here:\n",
      " |  \n",
      " |  __abstractmethods__ = frozenset()\n",
      " |  \n",
      " |  ----------------------------------------------------------------------\n",
      " |  Methods inherited from FitTransform:\n",
      " |  \n",
      " |  __init__(self, transform: 'DeMean', X_fit: 'pd.DataFrame', bindings=None)\n",
      " |      Docstr for FitTransform.__init__\n",
      " |  \n",
      " |  __repr__(self)\n",
      " |      Return repr(self).\n",
      " |  \n",
      " |  apply(self, X_apply: 'pd.DataFrame') -> 'pd.DataFrame'\n",
      " |      Docstr for FitTransform.apply\n",
      " |  \n",
      " |  state(self)\n",
      " |  \n",
      " |  ----------------------------------------------------------------------\n",
      " |  Class methods inherited from FitTransform:\n",
      " |  \n",
      " |  __init_subclass__(transform_class=None, **kwargs) from abc.ABCMeta\n",
      " |      This method is called when a class is subclassed.\n",
      " |      \n",
      " |      The default implementation does nothing. It may be\n",
      " |      overridden to extend subclasses.\n",
      " |  \n",
      " |  ----------------------------------------------------------------------\n",
      " |  Data descriptors inherited from FitTransform:\n",
      " |  \n",
      " |  __dict__\n",
      " |      dictionary for instance variables (if defined)\n",
      " |  \n",
      " |  __weakref__\n",
      " |      list of weak references to the object (if defined)\n",
      "\n"
     ]
    }
   ],
   "source": [
    "help(DeMean.FitDeMean)"
   ]
  },
  {
   "cell_type": "code",
   "execution_count": 10,
   "id": "4d19614f-8e86-43a3-ad45-66d81cae7da8",
   "metadata": {
    "execution": {
     "iopub.execute_input": "2022-06-20T14:23:42.391500Z",
     "iopub.status.busy": "2022-06-20T14:23:42.390916Z",
     "iopub.status.idle": "2022-06-20T14:23:42.405508Z",
     "shell.execute_reply": "2022-06-20T14:23:42.403203Z",
     "shell.execute_reply.started": "2022-06-20T14:23:42.391460Z"
    },
    "tags": []
   },
   "outputs": [
    {
     "data": {
      "text/plain": [
       "\u001b[0;31mSignature:\u001b[0m\n",
       "\u001b[0mDeMean\u001b[0m\u001b[0;34m.\u001b[0m\u001b[0mfit\u001b[0m\u001b[0;34m(\u001b[0m\u001b[0;34m\u001b[0m\n",
       "\u001b[0;34m\u001b[0m    \u001b[0mself\u001b[0m\u001b[0;34m,\u001b[0m\u001b[0;34m\u001b[0m\n",
       "\u001b[0;34m\u001b[0m    \u001b[0mX_fit\u001b[0m\u001b[0;34m:\u001b[0m \u001b[0;34m'pd.DataFrame'\u001b[0m\u001b[0;34m,\u001b[0m\u001b[0;34m\u001b[0m\n",
       "\u001b[0;34m\u001b[0m    \u001b[0mbindings\u001b[0m\u001b[0;34m:\u001b[0m \u001b[0;34m'Optional[dict[str, object]]'\u001b[0m \u001b[0;34m=\u001b[0m \u001b[0;32mNone\u001b[0m\u001b[0;34m,\u001b[0m\u001b[0;34m\u001b[0m\n",
       "\u001b[0;34m\u001b[0m\u001b[0;34m)\u001b[0m \u001b[0;34m->\u001b[0m \u001b[0;34m'DeMean.FitDeMean'\u001b[0m\u001b[0;34m\u001b[0m\u001b[0;34m\u001b[0m\u001b[0m\n",
       "\u001b[0;31mDocstring:\u001b[0m <no docstring>\n",
       "\u001b[0;31mFile:\u001b[0m      ~/projects/ardua/codebases/local/ard-fit-pipelines/src/ard_fit_pipelines/core.py\n",
       "\u001b[0;31mType:\u001b[0m      function\n"
      ]
     },
     "metadata": {},
     "output_type": "display_data"
    }
   ],
   "source": [
    "DeMean.fit?"
   ]
  },
  {
   "cell_type": "code",
   "execution_count": 13,
   "id": "eeee8eff-68a3-4177-814e-739aebd9794c",
   "metadata": {
    "execution": {
     "iopub.execute_input": "2022-06-20T14:27:37.551830Z",
     "iopub.status.busy": "2022-06-20T14:27:37.550822Z",
     "iopub.status.idle": "2022-06-20T14:27:37.563611Z",
     "shell.execute_reply": "2022-06-20T14:27:37.561395Z",
     "shell.execute_reply.started": "2022-06-20T14:27:37.551781Z"
    },
    "tags": []
   },
   "outputs": [
    {
     "data": {
      "text/plain": [
       "<ard_fit_pipelines.core.DeMean.FitDeMean at 0x7f0d92769970>"
      ]
     },
     "execution_count": 13,
     "metadata": {},
     "output_type": "execute_result"
    }
   ],
   "source": [
    "tfit"
   ]
  }
 ],
 "metadata": {
  "kernelspec": {
   "display_name": "venv-ardua-dev",
   "language": "python",
   "name": "venv-ardua-dev"
  },
  "language_info": {
   "codemirror_mode": {
    "name": "ipython",
    "version": 3
   },
   "file_extension": ".py",
   "mimetype": "text/x-python",
   "name": "python",
   "nbconvert_exporter": "python",
   "pygments_lexer": "ipython3",
   "version": "3.9.5"
  }
 },
 "nbformat": 4,
 "nbformat_minor": 5
}
