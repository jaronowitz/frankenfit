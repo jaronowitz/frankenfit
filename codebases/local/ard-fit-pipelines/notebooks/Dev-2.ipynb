{
 "cells": [
  {
   "cell_type": "code",
   "execution_count": 1,
   "id": "f82f522d-c41e-4caf-a0d5-2106a553ab8b",
   "metadata": {
    "execution": {
     "iopub.execute_input": "2022-06-28T21:50:30.964038Z",
     "iopub.status.busy": "2022-06-28T21:50:30.963706Z",
     "iopub.status.idle": "2022-06-28T21:50:31.892687Z",
     "shell.execute_reply": "2022-06-28T21:50:31.891906Z",
     "shell.execute_reply.started": "2022-06-28T21:50:30.963991Z"
    },
    "tags": []
   },
   "outputs": [
    {
     "name": "stderr",
     "output_type": "stream",
     "text": [
      "\u001b[49m\u001b[37m\u001b[1m2022-06-28 17:50:31,889:    INFO\u001b[0m\u001b[39m\u001b[49m:      ard_logging: \u001b[44m\u001b[37m\u001b[1mMainProcess\u001b[0m\u001b[39m\u001b[49m 7948: Logging initialized.\n",
      "\u001b[49m\u001b[37m\u001b[1m2022-06-28 17:50:31,889:    INFO\u001b[0m\u001b[39m\u001b[49m:         __main__: \u001b[44m\u001b[37m\u001b[1mMainProcess\u001b[0m\u001b[39m\u001b[49m 7948: Hello from notebook\n"
     ]
    }
   ],
   "source": [
    "from importlib import reload\n",
    "import pandas as pd\n",
    "import numpy as np\n",
    "import seaborn as sns\n",
    "import matplotlib.pyplot as plt\n",
    "sns.set_theme(style='whitegrid')\n",
    "import ard_logging\n",
    "import logging\n",
    "ard_logging.init()\n",
    "LOG = logging.getLogger(__name__)\n",
    "LOG.info('Hello from notebook')"
   ]
  },
  {
   "cell_type": "code",
   "execution_count": 3,
   "id": "7b3d0a85-8384-42b3-afe2-fbb5003ea856",
   "metadata": {
    "execution": {
     "iopub.execute_input": "2022-06-28T21:51:49.602649Z",
     "iopub.status.busy": "2022-06-28T21:51:49.602163Z",
     "iopub.status.idle": "2022-06-28T21:51:49.628400Z",
     "shell.execute_reply": "2022-06-28T21:51:49.627387Z",
     "shell.execute_reply.started": "2022-06-28T21:51:49.602627Z"
    },
    "tags": []
   },
   "outputs": [],
   "source": [
    "import ard_fit_pipelines as fp\n",
    "#reload(fp.core); reload(fp.transforms); reload(fp)\n",
    "#import ard_fit_pipelines.core as fpc\n",
    "#import ard_fit_pipelines.transforms as fpt\n",
    "\n",
    "logging.getLogger('ard_fit_pipelines').setLevel(logging.INFO)\n",
    "#reload(fpc)"
   ]
  },
  {
   "cell_type": "code",
   "execution_count": null,
   "id": "a2a806af-44ce-4c3c-9a7b-3883f1fe47fd",
   "metadata": {},
   "outputs": [],
   "source": [
    "fp."
   ]
  },
  {
   "cell_type": "code",
   "execution_count": 4,
   "id": "a2c8e6cc-3aa6-43d0-be01-3101e4e05124",
   "metadata": {
    "execution": {
     "iopub.execute_input": "2022-06-28T21:52:15.850833Z",
     "iopub.status.busy": "2022-06-28T21:52:15.849978Z",
     "iopub.status.idle": "2022-06-28T21:52:15.872928Z",
     "shell.execute_reply": "2022-06-28T21:52:15.871975Z",
     "shell.execute_reply.started": "2022-06-28T21:52:15.850807Z"
    },
    "tags": []
   },
   "outputs": [],
   "source": [
    "from pydataset import data"
   ]
  },
  {
   "cell_type": "code",
   "execution_count": 5,
   "id": "fd4ddb4c-d8e5-4e8e-b529-8e2e4f134439",
   "metadata": {
    "execution": {
     "iopub.execute_input": "2022-06-28T21:52:17.480883Z",
     "iopub.status.busy": "2022-06-28T21:52:17.480271Z",
     "iopub.status.idle": "2022-06-28T21:52:17.528659Z",
     "shell.execute_reply": "2022-06-28T21:52:17.527731Z",
     "shell.execute_reply.started": "2022-06-28T21:52:17.480848Z"
    },
    "tags": []
   },
   "outputs": [
    {
     "name": "stdout",
     "output_type": "stream",
     "text": [
      "diamonds\n",
      "\n",
      "PyDataset Documentation (adopted from R Documentation. The displayed examples are in R)\n",
      "\n",
      "## Prices of 50,000 round cut diamonds\n",
      "\n",
      "### Description\n",
      "\n",
      "A dataset containing the prices and other attributes of almost 54,000\n",
      "diamonds. The variables are as follows:\n",
      "\n",
      "### Usage\n",
      "\n",
      "    data(diamonds)\n",
      "\n",
      "### Format\n",
      "\n",
      "A data frame with 53940 rows and 10 variables\n",
      "\n",
      "### Details\n",
      "\n",
      "  * price. price in US dollars (\\$326–\\$18,823) \n",
      "\n",
      "  * carat. weight of the diamond (0.2–5.01) \n",
      "\n",
      "  * cut. quality of the cut (Fair, Good, Very Good, Premium, Ideal) \n",
      "\n",
      "  * colour. diamond colour, from J (worst) to D (best) \n",
      "\n",
      "  * clarity. a measurement of how clear the diamond is (I1 (worst), SI1, SI2, VS1, VS2, VVS1, VVS2, IF (best)) \n",
      "\n",
      "  * x. length in mm (0–10.74) \n",
      "\n",
      "  * y. width in mm (0–58.9) \n",
      "\n",
      "  * z. depth in mm (0–31.8) \n",
      "\n",
      "  * depth. total depth percentage = z / mean(x, y) = 2 * z / (x + y) (43–79) \n",
      "\n",
      "  * table. width of top of diamond relative to widest point (43–95) \n",
      "\n",
      "\n"
     ]
    }
   ],
   "source": [
    "df = data('diamonds')\n",
    "data('diamonds', show_doc=True)"
   ]
  },
  {
   "cell_type": "code",
   "execution_count": 6,
   "id": "2b4adeee-1b9d-4f3d-a888-12e9bfa3c9d8",
   "metadata": {
    "execution": {
     "iopub.execute_input": "2022-06-28T21:52:22.151564Z",
     "iopub.status.busy": "2022-06-28T21:52:22.151325Z",
     "iopub.status.idle": "2022-06-28T21:52:22.192654Z",
     "shell.execute_reply": "2022-06-28T21:52:22.191790Z",
     "shell.execute_reply.started": "2022-06-28T21:52:22.151548Z"
    },
    "tags": []
   },
   "outputs": [
    {
     "data": {
      "text/html": [
       "<div>\n",
       "<style scoped>\n",
       "    .dataframe tbody tr th:only-of-type {\n",
       "        vertical-align: middle;\n",
       "    }\n",
       "\n",
       "    .dataframe tbody tr th {\n",
       "        vertical-align: top;\n",
       "    }\n",
       "\n",
       "    .dataframe thead th {\n",
       "        text-align: right;\n",
       "    }\n",
       "</style>\n",
       "<table border=\"1\" class=\"dataframe\">\n",
       "  <thead>\n",
       "    <tr style=\"text-align: right;\">\n",
       "      <th></th>\n",
       "      <th>carat</th>\n",
       "      <th>cut</th>\n",
       "      <th>color</th>\n",
       "      <th>clarity</th>\n",
       "      <th>depth</th>\n",
       "      <th>table</th>\n",
       "      <th>price</th>\n",
       "      <th>x</th>\n",
       "      <th>y</th>\n",
       "      <th>z</th>\n",
       "    </tr>\n",
       "  </thead>\n",
       "  <tbody>\n",
       "    <tr>\n",
       "      <th>1</th>\n",
       "      <td>0.23</td>\n",
       "      <td>Ideal</td>\n",
       "      <td>E</td>\n",
       "      <td>SI2</td>\n",
       "      <td>61.5</td>\n",
       "      <td>55.0</td>\n",
       "      <td>326</td>\n",
       "      <td>3.95</td>\n",
       "      <td>3.98</td>\n",
       "      <td>2.43</td>\n",
       "    </tr>\n",
       "    <tr>\n",
       "      <th>2</th>\n",
       "      <td>0.21</td>\n",
       "      <td>Premium</td>\n",
       "      <td>E</td>\n",
       "      <td>SI1</td>\n",
       "      <td>59.8</td>\n",
       "      <td>61.0</td>\n",
       "      <td>326</td>\n",
       "      <td>3.89</td>\n",
       "      <td>3.84</td>\n",
       "      <td>2.31</td>\n",
       "    </tr>\n",
       "    <tr>\n",
       "      <th>4</th>\n",
       "      <td>0.29</td>\n",
       "      <td>Premium</td>\n",
       "      <td>I</td>\n",
       "      <td>VS2</td>\n",
       "      <td>62.4</td>\n",
       "      <td>58.0</td>\n",
       "      <td>334</td>\n",
       "      <td>4.20</td>\n",
       "      <td>4.23</td>\n",
       "      <td>2.63</td>\n",
       "    </tr>\n",
       "    <tr>\n",
       "      <th>5</th>\n",
       "      <td>0.31</td>\n",
       "      <td>Good</td>\n",
       "      <td>J</td>\n",
       "      <td>SI2</td>\n",
       "      <td>63.3</td>\n",
       "      <td>58.0</td>\n",
       "      <td>335</td>\n",
       "      <td>4.34</td>\n",
       "      <td>4.35</td>\n",
       "      <td>2.75</td>\n",
       "    </tr>\n",
       "    <tr>\n",
       "      <th>6</th>\n",
       "      <td>0.24</td>\n",
       "      <td>Very Good</td>\n",
       "      <td>J</td>\n",
       "      <td>VVS2</td>\n",
       "      <td>62.8</td>\n",
       "      <td>57.0</td>\n",
       "      <td>336</td>\n",
       "      <td>3.94</td>\n",
       "      <td>3.96</td>\n",
       "      <td>2.48</td>\n",
       "    </tr>\n",
       "  </tbody>\n",
       "</table>\n",
       "</div>"
      ],
      "text/plain": [
       "   carat        cut color clarity  depth  table  price     x     y     z\n",
       "1   0.23      Ideal     E     SI2   61.5   55.0    326  3.95  3.98  2.43\n",
       "2   0.21    Premium     E     SI1   59.8   61.0    326  3.89  3.84  2.31\n",
       "4   0.29    Premium     I     VS2   62.4   58.0    334  4.20  4.23  2.63\n",
       "5   0.31       Good     J     SI2   63.3   58.0    335  4.34  4.35  2.75\n",
       "6   0.24  Very Good     J    VVS2   62.8   57.0    336  3.94  3.96  2.48"
      ]
     },
     "execution_count": 6,
     "metadata": {},
     "output_type": "execute_result"
    }
   ],
   "source": [
    "index_all = set(df.index)\n",
    "index_in = set(np.random.choice(df.index, size=int(len(df)/2), replace=False))\n",
    "index_out = index_all - index_in\n",
    "len(index_all), len(index_in), len(index_out)\n",
    "df_in = df.loc[list(index_in)]\n",
    "df_out = df.loc[list(index_out)]\n",
    "df_in.head()"
   ]
  },
  {
   "cell_type": "code",
   "execution_count": 7,
   "id": "6de0ca63-c224-4ae0-8393-440e70a75ddf",
   "metadata": {
    "execution": {
     "iopub.execute_input": "2022-06-28T21:52:22.571692Z",
     "iopub.status.busy": "2022-06-28T21:52:22.571449Z",
     "iopub.status.idle": "2022-06-28T21:52:22.584762Z",
     "shell.execute_reply": "2022-06-28T21:52:22.583181Z",
     "shell.execute_reply.started": "2022-06-28T21:52:22.571675Z"
    },
    "tags": []
   },
   "outputs": [
    {
     "data": {
      "text/html": [
       "<div>\n",
       "<style scoped>\n",
       "    .dataframe tbody tr th:only-of-type {\n",
       "        vertical-align: middle;\n",
       "    }\n",
       "\n",
       "    .dataframe tbody tr th {\n",
       "        vertical-align: top;\n",
       "    }\n",
       "\n",
       "    .dataframe thead th {\n",
       "        text-align: right;\n",
       "    }\n",
       "</style>\n",
       "<table border=\"1\" class=\"dataframe\">\n",
       "  <thead>\n",
       "    <tr style=\"text-align: right;\">\n",
       "      <th></th>\n",
       "      <th>carat</th>\n",
       "      <th>cut</th>\n",
       "      <th>color</th>\n",
       "      <th>clarity</th>\n",
       "      <th>depth</th>\n",
       "      <th>table</th>\n",
       "      <th>price</th>\n",
       "      <th>x</th>\n",
       "      <th>y</th>\n",
       "      <th>z</th>\n",
       "    </tr>\n",
       "  </thead>\n",
       "  <tbody>\n",
       "    <tr>\n",
       "      <th>3</th>\n",
       "      <td>0.23</td>\n",
       "      <td>Good</td>\n",
       "      <td>E</td>\n",
       "      <td>VS1</td>\n",
       "      <td>56.9</td>\n",
       "      <td>65.0</td>\n",
       "      <td>327</td>\n",
       "      <td>4.05</td>\n",
       "      <td>4.07</td>\n",
       "      <td>2.31</td>\n",
       "    </tr>\n",
       "    <tr>\n",
       "      <th>7</th>\n",
       "      <td>0.24</td>\n",
       "      <td>Very Good</td>\n",
       "      <td>I</td>\n",
       "      <td>VVS1</td>\n",
       "      <td>62.3</td>\n",
       "      <td>57.0</td>\n",
       "      <td>336</td>\n",
       "      <td>3.95</td>\n",
       "      <td>3.98</td>\n",
       "      <td>2.47</td>\n",
       "    </tr>\n",
       "    <tr>\n",
       "      <th>8</th>\n",
       "      <td>0.26</td>\n",
       "      <td>Very Good</td>\n",
       "      <td>H</td>\n",
       "      <td>SI1</td>\n",
       "      <td>61.9</td>\n",
       "      <td>55.0</td>\n",
       "      <td>337</td>\n",
       "      <td>4.07</td>\n",
       "      <td>4.11</td>\n",
       "      <td>2.53</td>\n",
       "    </tr>\n",
       "    <tr>\n",
       "      <th>10</th>\n",
       "      <td>0.23</td>\n",
       "      <td>Very Good</td>\n",
       "      <td>H</td>\n",
       "      <td>VS1</td>\n",
       "      <td>59.4</td>\n",
       "      <td>61.0</td>\n",
       "      <td>338</td>\n",
       "      <td>4.00</td>\n",
       "      <td>4.05</td>\n",
       "      <td>2.39</td>\n",
       "    </tr>\n",
       "    <tr>\n",
       "      <th>11</th>\n",
       "      <td>0.30</td>\n",
       "      <td>Good</td>\n",
       "      <td>J</td>\n",
       "      <td>SI1</td>\n",
       "      <td>64.0</td>\n",
       "      <td>55.0</td>\n",
       "      <td>339</td>\n",
       "      <td>4.25</td>\n",
       "      <td>4.28</td>\n",
       "      <td>2.73</td>\n",
       "    </tr>\n",
       "  </tbody>\n",
       "</table>\n",
       "</div>"
      ],
      "text/plain": [
       "    carat        cut color clarity  depth  table  price     x     y     z\n",
       "3    0.23       Good     E     VS1   56.9   65.0    327  4.05  4.07  2.31\n",
       "7    0.24  Very Good     I    VVS1   62.3   57.0    336  3.95  3.98  2.47\n",
       "8    0.26  Very Good     H     SI1   61.9   55.0    337  4.07  4.11  2.53\n",
       "10   0.23  Very Good     H     VS1   59.4   61.0    338  4.00  4.05  2.39\n",
       "11   0.30       Good     J     SI1   64.0   55.0    339  4.25  4.28  2.73"
      ]
     },
     "execution_count": 7,
     "metadata": {},
     "output_type": "execute_result"
    }
   ],
   "source": [
    "df_out.head()"
   ]
  },
  {
   "cell_type": "code",
   "execution_count": 9,
   "id": "80235137-0e8d-45b1-9c91-55127b037eb8",
   "metadata": {
    "execution": {
     "iopub.execute_input": "2022-06-28T21:53:28.186141Z",
     "iopub.status.busy": "2022-06-28T21:53:28.185672Z",
     "iopub.status.idle": "2022-06-28T21:53:28.839038Z",
     "shell.execute_reply": "2022-06-28T21:53:28.838265Z",
     "shell.execute_reply.started": "2022-06-28T21:53:28.186120Z"
    },
    "tags": []
   },
   "outputs": [
    {
     "data": {
      "text/plain": [
       "array([[<AxesSubplot:title={'center':'price'}>]], dtype=object)"
      ]
     },
     "execution_count": 9,
     "metadata": {},
     "output_type": "execute_result"
    },
    {
     "data": {
      "image/png": "[encoded data removed]",
      "text/plain": [
       "<Figure size 432x288 with 6 Axes>"
      ]
     },
     "metadata": {
      "needs_background": "light"
     },
     "output_type": "display_data"
    },
    {
     "data": {
      "image/png": "[encoded data removed]",
      "text/plain": [
       "<Figure size 432x288 with 1 Axes>"
      ]
     },
     "metadata": {
      "needs_background": "light"
     },
     "output_type": "display_data"
    }
   ],
   "source": [
    "FEATURES = ['carat', 'x', 'y', 'z', 'depth', 'table']\n",
    "df_in[FEATURES].hist();\n",
    "df_in[['price']].hist()"
   ]
  },
  {
   "cell_type": "code",
   "execution_count": 10,
   "id": "3b5a9c37-7c90-42ef-beb3-ea65a2284fc4",
   "metadata": {
    "execution": {
     "iopub.execute_input": "2022-06-28T21:53:46.981624Z",
     "iopub.status.busy": "2022-06-28T21:53:46.981359Z",
     "iopub.status.idle": "2022-06-28T21:53:46.988029Z",
     "shell.execute_reply": "2022-06-28T21:53:46.987152Z",
     "shell.execute_reply.started": "2022-06-28T21:53:46.981609Z"
    },
    "tags": []
   },
   "outputs": [
    {
     "data": {
      "text/plain": [
       "Pipeline(transforms=[CopyColumns(cols=['price'], dest_cols=['price_train']), Pipe(cols=['carat', 'price_train'], apply_fun=<ufunc 'log1p'>), Pipeline(transforms=[Winsorize(cols=['carat', 'x', 'y', 'z', 'depth', 'table', 'price_train'], limit=0.05), ZScore(cols=['carat', 'x', 'y', 'z', 'depth', 'table', 'price_train'], w_col=None), ImputeConstant(cols=['carat', 'x', 'y', 'z', 'depth', 'table', 'price_train'], value=0.0), Clip(cols=['carat', 'x', 'y', 'z', 'depth', 'table', 'price_train'], upper=2, lower=-2)])])"
      ]
     },
     "execution_count": 10,
     "metadata": {},
     "output_type": "execute_result"
    }
   ],
   "source": [
    "def standardize(cols):\n",
    "    return fp.Pipeline([\n",
    "        fp.Winsorize(cols, limit=0.05),\n",
    "        fp.ZScore(cols),\n",
    "        fp.ImputeConstant(cols, 0.0),\n",
    "        fp.Clip(cols, upper=2, lower=-2)\n",
    "    ])\n",
    "\n",
    "FEATURES = ['carat', 'x', 'y', 'z', 'depth', 'table']\n",
    "\n",
    "pipeline = fp.Pipeline([\n",
    "    fp.CopyColumns('price', 'price_train'),\n",
    "    fp.Pipe(['carat', 'price_train'], np.log1p),\n",
    "    standardize(FEATURES + ['price_train'])\n",
    "])\n",
    "pipeline"
   ]
  },
  {
   "cell_type": "code",
   "execution_count": null,
   "id": "eed39b11-9cf7-4699-a84a-c22cc0ae74f6",
   "metadata": {},
   "outputs": [],
   "source": [
    "# call-chain syntax...\n",
    "\n",
    "def standardize(cols):\n",
    "    return (\n",
    "        fp.Pipeline()\n",
    "        .winsorize(cols, limit=0.05)\n",
    "        .z_score(cols)\n",
    "        .impute_constant(cols, 0.)\n",
    "        .clip(cols, upper=2, lower=-2)\n",
    "    )\n",
    "\n",
    "FEATURES = ['carat', 'x', 'y', 'z', 'depth', 'table']\n",
    "\n",
    "pipeline = (\n",
    "    fpc.Pipeline()\n",
    "    .copy_columns('price', 'price_train')\n",
    "    .pipe(['carat', 'price_train'], np.log1p)\n",
    "    .then(standardize(FEATURES + ['price_train']))\n",
    ")"
   ]
  },
  {
   "cell_type": "code",
   "execution_count": 11,
   "id": "2683faf6-a530-46d7-9fe1-fe77d2b32bbd",
   "metadata": {
    "execution": {
     "iopub.execute_input": "2022-06-28T21:53:56.141680Z",
     "iopub.status.busy": "2022-06-28T21:53:56.141229Z",
     "iopub.status.idle": "2022-06-28T21:53:56.896906Z",
     "shell.execute_reply": "2022-06-28T21:53:56.895987Z",
     "shell.execute_reply.started": "2022-06-28T21:53:56.141652Z"
    },
    "tags": []
   },
   "outputs": [
    {
     "data": {
      "image/png": "[encoded data removed]",
      "text/plain": [
       "<Figure size 432x288 with 6 Axes>"
      ]
     },
     "metadata": {
      "needs_background": "light"
     },
     "output_type": "display_data"
    },
    {
     "data": {
      "image/png": "[encoded data removed]",
      "text/plain": [
       "<Figure size 432x288 with 1 Axes>"
      ]
     },
     "metadata": {
      "needs_background": "light"
     },
     "output_type": "display_data"
    }
   ],
   "source": [
    "fit_pipeline = pipeline.fit(df_in)\n",
    "result_in = fit_pipeline.apply(df_in)\n",
    "\n",
    "result_in[FEATURES].hist();\n",
    "result_in[['price_train']].hist();"
   ]
  },
  {
   "cell_type": "code",
   "execution_count": 12,
   "id": "0605de5e-6669-4b20-9ea1-87fb05d766d5",
   "metadata": {
    "execution": {
     "iopub.execute_input": "2022-06-28T21:54:00.730173Z",
     "iopub.status.busy": "2022-06-28T21:54:00.729714Z",
     "iopub.status.idle": "2022-06-28T21:54:00.736566Z",
     "shell.execute_reply": "2022-06-28T21:54:00.735589Z",
     "shell.execute_reply.started": "2022-06-28T21:54:00.730152Z"
    },
    "tags": []
   },
   "outputs": [
    {
     "data": {
      "text/plain": [
       "[FitCopyColumns(cols=['price'], dest_cols=['price_train'], <26970 rows of fitting data>),\n",
       " FitPipe(cols=['carat', 'price_train'], apply_fun=<ufunc 'log1p'>, <26970 rows of fitting data>),\n",
       " FitPipeline(transforms=[Winsorize(cols=['carat', 'x', 'y', 'z', 'depth', 'table', 'price_train'], limit=0.05), ZScore(cols=['carat', 'x', 'y', 'z', 'depth', 'table', 'price_train'], w_col=None), ImputeConstant(cols=['carat', 'x', 'y', 'z', 'depth', 'table', 'price_train'], value=0.0), Clip(cols=['carat', 'x', 'y', 'z', 'depth', 'table', 'price_train'], upper=2, lower=-2)], <26970 rows of fitting data>)]"
      ]
     },
     "execution_count": 12,
     "metadata": {},
     "output_type": "execute_result"
    }
   ],
   "source": [
    "fit_pipeline.state()"
   ]
  },
  {
   "cell_type": "code",
   "execution_count": 13,
   "id": "48a1fb9b-3d6d-4a38-86cc-fedd5a9230b0",
   "metadata": {
    "execution": {
     "iopub.execute_input": "2022-06-28T21:54:01.201549Z",
     "iopub.status.busy": "2022-06-28T21:54:01.200591Z",
     "iopub.status.idle": "2022-06-28T21:54:01.865656Z",
     "shell.execute_reply": "2022-06-28T21:54:01.864879Z",
     "shell.execute_reply.started": "2022-06-28T21:54:01.201506Z"
    },
    "tags": []
   },
   "outputs": [
    {
     "data": {
      "image/png": "[encoded data removed]",
      "text/plain": [
       "<Figure size 432x288 with 6 Axes>"
      ]
     },
     "metadata": {
      "needs_background": "light"
     },
     "output_type": "display_data"
    },
    {
     "data": {
      "image/png": "[encoded data removed]",
      "text/plain": [
       "<Figure size 432x288 with 1 Axes>"
      ]
     },
     "metadata": {
      "needs_background": "light"
     },
     "output_type": "display_data"
    }
   ],
   "source": [
    "result_out = fit_pipeline.apply(df_out)\n",
    "result_out[FEATURES].hist();\n",
    "result_out[['price_train']].hist();"
   ]
  }
 ],
 "metadata": {
  "kernelspec": {
   "display_name": "venv-ardua-dev",
   "language": "python",
   "name": "venv-ardua-dev"
  },
  "language_info": {
   "codemirror_mode": {
    "name": "ipython",
    "version": 3
   },
   "file_extension": ".py",
   "mimetype": "text/x-python",
   "name": "python",
   "nbconvert_exporter": "python",
   "pygments_lexer": "ipython3",
   "version": "3.9.5"
  }
 },
 "nbformat": 4,
 "nbformat_minor": 5
}
