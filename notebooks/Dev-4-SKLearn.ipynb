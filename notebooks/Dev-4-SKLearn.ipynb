{
 "cells": [
  {
   "cell_type": "code",
   "execution_count": 1,
   "id": "aaa0a35f-2ca4-4c7a-a7b7-00d86e8a5fe5",
   "metadata": {
    "tags": []
   },
   "outputs": [],
   "source": [
    "from importlib import reload\n",
    "import pandas as pd\n",
    "import numpy as np\n",
    "import matplotlib.pyplot as plt\n",
    "plt.style.use('./dracula.mplstyle')\n",
    "import logging\n",
    "LOG = logging.getLogger(__name__)\n",
    "LOG.info('Hello from notebook')\n",
    "\n",
    "from pydataset import data\n",
    "\n",
    "import frankenfit as ff\n",
    "reload(ff.core)\n",
    "reload(ff.transforms)\n",
    "reload(ff.graph)\n",
    "reload(ff)\n",
    "\n",
    "logging.getLogger('frankenfit').setLevel(logging.INFO)"
   ]
  },
  {
   "cell_type": "code",
   "execution_count": 2,
   "id": "c91d0b3f-833a-4cf2-a0ad-d997c8d03aab",
   "metadata": {
    "tags": []
   },
   "outputs": [],
   "source": [
    "df = data('diamonds')"
   ]
  },
  {
   "cell_type": "code",
   "execution_count": 3,
   "id": "ea1cab77-2489-48a0-8d2c-0824cd0e5a32",
   "metadata": {
    "tags": []
   },
   "outputs": [
    {
     "data": {
      "text/html": [
       "<div>\n",
       "<style scoped>\n",
       "    .dataframe tbody tr th:only-of-type {\n",
       "        vertical-align: middle;\n",
       "    }\n",
       "\n",
       "    .dataframe tbody tr th {\n",
       "        vertical-align: top;\n",
       "    }\n",
       "\n",
       "    .dataframe thead th {\n",
       "        text-align: right;\n",
       "    }\n",
       "</style>\n",
       "<table border=\"1\" class=\"dataframe\">\n",
       "  <thead>\n",
       "    <tr style=\"text-align: right;\">\n",
       "      <th></th>\n",
       "      <th>carat</th>\n",
       "      <th>cut</th>\n",
       "      <th>color</th>\n",
       "      <th>clarity</th>\n",
       "      <th>depth</th>\n",
       "      <th>table</th>\n",
       "      <th>price</th>\n",
       "      <th>x</th>\n",
       "      <th>y</th>\n",
       "      <th>z</th>\n",
       "    </tr>\n",
       "  </thead>\n",
       "  <tbody>\n",
       "    <tr>\n",
       "      <th>1</th>\n",
       "      <td>0.23</td>\n",
       "      <td>Ideal</td>\n",
       "      <td>E</td>\n",
       "      <td>SI2</td>\n",
       "      <td>61.5</td>\n",
       "      <td>55.0</td>\n",
       "      <td>326</td>\n",
       "      <td>3.95</td>\n",
       "      <td>3.98</td>\n",
       "      <td>2.43</td>\n",
       "    </tr>\n",
       "    <tr>\n",
       "      <th>2</th>\n",
       "      <td>0.21</td>\n",
       "      <td>Premium</td>\n",
       "      <td>E</td>\n",
       "      <td>SI1</td>\n",
       "      <td>59.8</td>\n",
       "      <td>61.0</td>\n",
       "      <td>326</td>\n",
       "      <td>3.89</td>\n",
       "      <td>3.84</td>\n",
       "      <td>2.31</td>\n",
       "    </tr>\n",
       "    <tr>\n",
       "      <th>3</th>\n",
       "      <td>0.23</td>\n",
       "      <td>Good</td>\n",
       "      <td>E</td>\n",
       "      <td>VS1</td>\n",
       "      <td>56.9</td>\n",
       "      <td>65.0</td>\n",
       "      <td>327</td>\n",
       "      <td>4.05</td>\n",
       "      <td>4.07</td>\n",
       "      <td>2.31</td>\n",
       "    </tr>\n",
       "    <tr>\n",
       "      <th>4</th>\n",
       "      <td>0.29</td>\n",
       "      <td>Premium</td>\n",
       "      <td>I</td>\n",
       "      <td>VS2</td>\n",
       "      <td>62.4</td>\n",
       "      <td>58.0</td>\n",
       "      <td>334</td>\n",
       "      <td>4.20</td>\n",
       "      <td>4.23</td>\n",
       "      <td>2.63</td>\n",
       "    </tr>\n",
       "    <tr>\n",
       "      <th>5</th>\n",
       "      <td>0.31</td>\n",
       "      <td>Good</td>\n",
       "      <td>J</td>\n",
       "      <td>SI2</td>\n",
       "      <td>63.3</td>\n",
       "      <td>58.0</td>\n",
       "      <td>335</td>\n",
       "      <td>4.34</td>\n",
       "      <td>4.35</td>\n",
       "      <td>2.75</td>\n",
       "    </tr>\n",
       "    <tr>\n",
       "      <th>...</th>\n",
       "      <td>...</td>\n",
       "      <td>...</td>\n",
       "      <td>...</td>\n",
       "      <td>...</td>\n",
       "      <td>...</td>\n",
       "      <td>...</td>\n",
       "      <td>...</td>\n",
       "      <td>...</td>\n",
       "      <td>...</td>\n",
       "      <td>...</td>\n",
       "    </tr>\n",
       "    <tr>\n",
       "      <th>53936</th>\n",
       "      <td>0.72</td>\n",
       "      <td>Ideal</td>\n",
       "      <td>D</td>\n",
       "      <td>SI1</td>\n",
       "      <td>60.8</td>\n",
       "      <td>57.0</td>\n",
       "      <td>2757</td>\n",
       "      <td>5.75</td>\n",
       "      <td>5.76</td>\n",
       "      <td>3.50</td>\n",
       "    </tr>\n",
       "    <tr>\n",
       "      <th>53937</th>\n",
       "      <td>0.72</td>\n",
       "      <td>Good</td>\n",
       "      <td>D</td>\n",
       "      <td>SI1</td>\n",
       "      <td>63.1</td>\n",
       "      <td>55.0</td>\n",
       "      <td>2757</td>\n",
       "      <td>5.69</td>\n",
       "      <td>5.75</td>\n",
       "      <td>3.61</td>\n",
       "    </tr>\n",
       "    <tr>\n",
       "      <th>53938</th>\n",
       "      <td>0.70</td>\n",
       "      <td>Very Good</td>\n",
       "      <td>D</td>\n",
       "      <td>SI1</td>\n",
       "      <td>62.8</td>\n",
       "      <td>60.0</td>\n",
       "      <td>2757</td>\n",
       "      <td>5.66</td>\n",
       "      <td>5.68</td>\n",
       "      <td>3.56</td>\n",
       "    </tr>\n",
       "    <tr>\n",
       "      <th>53939</th>\n",
       "      <td>0.86</td>\n",
       "      <td>Premium</td>\n",
       "      <td>H</td>\n",
       "      <td>SI2</td>\n",
       "      <td>61.0</td>\n",
       "      <td>58.0</td>\n",
       "      <td>2757</td>\n",
       "      <td>6.15</td>\n",
       "      <td>6.12</td>\n",
       "      <td>3.74</td>\n",
       "    </tr>\n",
       "    <tr>\n",
       "      <th>53940</th>\n",
       "      <td>0.75</td>\n",
       "      <td>Ideal</td>\n",
       "      <td>D</td>\n",
       "      <td>SI2</td>\n",
       "      <td>62.2</td>\n",
       "      <td>55.0</td>\n",
       "      <td>2757</td>\n",
       "      <td>5.83</td>\n",
       "      <td>5.87</td>\n",
       "      <td>3.64</td>\n",
       "    </tr>\n",
       "  </tbody>\n",
       "</table>\n",
       "<p>53940 rows × 10 columns</p>\n",
       "</div>"
      ],
      "text/plain": [
       "       carat        cut color clarity  depth  table  price     x     y     z\n",
       "1       0.23      Ideal     E     SI2   61.5   55.0    326  3.95  3.98  2.43\n",
       "2       0.21    Premium     E     SI1   59.8   61.0    326  3.89  3.84  2.31\n",
       "3       0.23       Good     E     VS1   56.9   65.0    327  4.05  4.07  2.31\n",
       "4       0.29    Premium     I     VS2   62.4   58.0    334  4.20  4.23  2.63\n",
       "5       0.31       Good     J     SI2   63.3   58.0    335  4.34  4.35  2.75\n",
       "...      ...        ...   ...     ...    ...    ...    ...   ...   ...   ...\n",
       "53936   0.72      Ideal     D     SI1   60.8   57.0   2757  5.75  5.76  3.50\n",
       "53937   0.72       Good     D     SI1   63.1   55.0   2757  5.69  5.75  3.61\n",
       "53938   0.70  Very Good     D     SI1   62.8   60.0   2757  5.66  5.68  3.56\n",
       "53939   0.86    Premium     H     SI2   61.0   58.0   2757  6.15  6.12  3.74\n",
       "53940   0.75      Ideal     D     SI2   62.2   55.0   2757  5.83  5.87  3.64\n",
       "\n",
       "[53940 rows x 10 columns]"
      ]
     },
     "execution_count": 3,
     "metadata": {},
     "output_type": "execute_result"
    }
   ],
   "source": [
    "df"
   ]
  },
  {
   "cell_type": "code",
   "execution_count": 4,
   "id": "c48bcdea-dbe7-471b-b8d1-309a870e0a9c",
   "metadata": {
    "tags": []
   },
   "outputs": [
    {
     "data": {
      "text/plain": [
       "\u001b[0;31mInit signature:\u001b[0m\n",
       "\u001b[0mff\u001b[0m\u001b[0;34m.\u001b[0m\u001b[0mSKLearn\u001b[0m\u001b[0;34m(\u001b[0m\u001b[0;34m\u001b[0m\n",
       "\u001b[0;34m\u001b[0m    \u001b[0msklearn_class\u001b[0m\u001b[0;34m:\u001b[0m \u001b[0;34m'type | HP'\u001b[0m\u001b[0;34m,\u001b[0m\u001b[0;34m\u001b[0m\n",
       "\u001b[0;34m\u001b[0m    \u001b[0mx_cols\u001b[0m\u001b[0;34m:\u001b[0m \u001b[0;34m'str | HP | Iterable[str | HP]'\u001b[0m\u001b[0;34m,\u001b[0m\u001b[0;34m\u001b[0m\n",
       "\u001b[0;34m\u001b[0m    \u001b[0mresponse_col\u001b[0m\u001b[0;34m:\u001b[0m \u001b[0;34m'str | HP'\u001b[0m\u001b[0;34m,\u001b[0m\u001b[0;34m\u001b[0m\n",
       "\u001b[0;34m\u001b[0m    \u001b[0mhat_col\u001b[0m\u001b[0;34m:\u001b[0m \u001b[0;34m'str | HP'\u001b[0m\u001b[0;34m,\u001b[0m\u001b[0;34m\u001b[0m\n",
       "\u001b[0;34m\u001b[0m    \u001b[0mclass_params\u001b[0m\u001b[0;34m:\u001b[0m \u001b[0;34m'dict | HP'\u001b[0m \u001b[0;34m=\u001b[0m \u001b[0mNOTHING\u001b[0m\u001b[0;34m,\u001b[0m\u001b[0;34m\u001b[0m\n",
       "\u001b[0;34m\u001b[0m    \u001b[0mw_col\u001b[0m\u001b[0;34m:\u001b[0m \u001b[0;34m'str | HP'\u001b[0m \u001b[0;34m=\u001b[0m \u001b[0mNOTHING\u001b[0m\u001b[0;34m,\u001b[0m\u001b[0;34m\u001b[0m\n",
       "\u001b[0;34m\u001b[0m    \u001b[0;34m*\u001b[0m\u001b[0;34m,\u001b[0m\u001b[0;34m\u001b[0m\n",
       "\u001b[0;34m\u001b[0m    \u001b[0mtag\u001b[0m\u001b[0;34m:\u001b[0m \u001b[0;34m'str'\u001b[0m \u001b[0;34m=\u001b[0m \u001b[0mNOTHING\u001b[0m\u001b[0;34m,\u001b[0m\u001b[0;34m\u001b[0m\n",
       "\u001b[0;34m\u001b[0m\u001b[0;34m)\u001b[0m \u001b[0;34m->\u001b[0m \u001b[0;32mNone\u001b[0m\u001b[0;34m\u001b[0m\u001b[0;34m\u001b[0m\u001b[0m\n",
       "\u001b[0;31mDocstring:\u001b[0m     \n",
       "Wrap a scikit-learn (\"sklearn\") model. At fit-time, the given sklearn model class\n",
       "is instantiated (with arguments from ``class_params``) and trained on the fitting\n",
       "data by calling its ``fit()`` method. At apply-time, the now-fit sklearn model\n",
       "object is used to generated predictions by calling its `predict()` method, which are\n",
       "assigned to the apply-time data as a new column, ``hat_col``.\n",
       "\n",
       ":param sklearn_class: The sklearn class to wrap.\n",
       ":param x_cols: The predictor columns. These are selected from the fit/apply-data to\n",
       "    create the ``X`` argument to the sklearn model's ``fit()`` and ``predict()``\n",
       "    methods.\n",
       ":param response_col: The response column. At fit-time, this is selected from the\n",
       "    fitting data to create the ``y`` argument to the sklearn model's ``fit()``\n",
       "    method.\n",
       ":param hat_col: The name of the new column to create at apply-time containing\n",
       "    predictions from the sklearn model.\n",
       ":param class_params: Parameters to pass as kwargs to the ``sklearn_class``\n",
       "    constructor when instantiating it.\n",
       ":param w_col: The sample weight column. If specified, this is selected at fit-time\n",
       "    from the fitting data to create the ``sample_weight`` keyword argument to the\n",
       "    sklearn model's ``fit()`` method.\n",
       "\n",
       "    .. WARNING:: Not every sklearn model accepts a ``sample_weight`` keyword\n",
       "        argument to its ``fit()`` method. Consult the documentation of whichever\n",
       "        sklearn model you are using.\n",
       "\n",
       "\n",
       ".. SEEALSO:: :meth:`Pipeline.sklearn`\n",
       "\u001b[0;31mInit docstring:\u001b[0m Method generated by attrs for class SKLearn.\n",
       "\u001b[0;31mFile:\u001b[0m           ~/frankenfit/src/frankenfit/transforms.py\n",
       "\u001b[0;31mType:\u001b[0m           ABCMeta\n",
       "\u001b[0;31mSubclasses:\u001b[0m     \n"
      ]
     },
     "metadata": {},
     "output_type": "display_data"
    }
   ],
   "source": [
    "sk = ff.SKLearn?"
   ]
  },
  {
   "cell_type": "code",
   "execution_count": 5,
   "id": "06a70219-d472-4199-900d-76b79c1f50bf",
   "metadata": {
    "tags": []
   },
   "outputs": [
    {
     "data": {
      "text/plain": [
       "SKLearn(tag='SKLearn#1', sklearn_class=<class 'sklearn.linear_model._base.LinearRegression'>, x_cols=['carat', 'depth', 'table'], response_col=HPFmtStr(name='price'), hat_col=HPFmtStr(name='price_hat'), class_params={'fit_intercept': True}, w_col='')"
      ]
     },
     "execution_count": 5,
     "metadata": {},
     "output_type": "execute_result"
    }
   ],
   "source": [
    "import sklearn\n",
    "from sklearn.linear_model import LinearRegression\n",
    "sk = ff.SKLearn(LinearRegression, ['carat', 'depth', 'table'], 'price', 'price_hat', class_params={'fit_intercept': True})\n",
    "sk"
   ]
  },
  {
   "cell_type": "code",
   "execution_count": 6,
   "id": "fa2897b8-861f-43c1-89d9-1166bc1f0e6b",
   "metadata": {
    "tags": []
   },
   "outputs": [
    {
     "data": {
      "text/plain": [
       "FitSKLearn(tag='SKLearn#1', sklearn_class=<class 'sklearn.linear_model._base.LinearRegression'>, x_cols=['carat', 'depth', 'table'], response_col='price', hat_col='price_hat', class_params={'fit_intercept': True}, w_col='', <53940 rows of fitting data>)"
      ]
     },
     "execution_count": 6,
     "metadata": {},
     "output_type": "execute_result"
    }
   ],
   "source": [
    "fit_sk = sk.fit(df)\n",
    "fit_sk"
   ]
  },
  {
   "cell_type": "code",
   "execution_count": 7,
   "id": "acf60b03-7b49-4080-aab5-dbfd132c6706",
   "metadata": {
    "tags": []
   },
   "outputs": [
    {
     "data": {
      "text/plain": [
       "['tag',\n",
       " 'sklearn_class',\n",
       " 'x_cols',\n",
       " 'response_col',\n",
       " 'hat_col',\n",
       " 'class_params',\n",
       " 'w_col']"
      ]
     },
     "execution_count": 7,
     "metadata": {},
     "output_type": "execute_result"
    }
   ],
   "source": [
    "fit_sk._field_names"
   ]
  },
  {
   "cell_type": "code",
   "execution_count": 8,
   "id": "a32763f3-590f-499f-a5bb-b4f2e90154ab",
   "metadata": {
    "tags": []
   },
   "outputs": [
    {
     "data": {
      "text/plain": [
       "array([7858.77050994, -151.23634689, -104.47278016])"
      ]
     },
     "execution_count": 8,
     "metadata": {},
     "output_type": "execute_result"
    }
   ],
   "source": [
    "fit_sk.state().coef_"
   ]
  },
  {
   "cell_type": "code",
   "execution_count": 9,
   "id": "8c76ca3a-d593-477c-b0ab-dd36fb7bf4c3",
   "metadata": {
    "tags": []
   },
   "outputs": [
    {
     "data": {
      "text/plain": [
       "['tag',\n",
       " 'sklearn_class',\n",
       " 'x_cols',\n",
       " 'response_col',\n",
       " 'hat_col',\n",
       " 'class_params',\n",
       " 'w_col']"
      ]
     },
     "execution_count": 9,
     "metadata": {},
     "output_type": "execute_result"
    }
   ],
   "source": [
    "sk.params()"
   ]
  },
  {
   "cell_type": "code",
   "execution_count": 10,
   "id": "661582e5-bbfa-47fc-90fb-90442aa3f5d6",
   "metadata": {
    "tags": []
   },
   "outputs": [
    {
     "data": {
      "image/png": "[encoded data removed]",
      "text/plain": [
       "<Figure size 800x600 with 4 Axes>"
      ]
     },
     "metadata": {},
     "output_type": "display_data"
    }
   ],
   "source": [
    "df[['carat', 'depth', 'table', 'price']].hist(figsize=(8,6));"
   ]
  },
  {
   "cell_type": "code",
   "execution_count": 13,
   "id": "60494aee-ed27-4420-92a4-5973f50224d5",
   "metadata": {
    "tags": []
   },
   "outputs": [
    {
     "data": {
      "text/plain": [
       "Pipeline(tag='Pipeline#27', transforms=[Copy(cols=['{response_col}'], tag='Copy#2', dest_cols=['{response_col}_train']), Winsorize(tag='Winsorize#3', cols=['{response_col}_train'], limit=0.05), Pipe(cols=['carat', '{response_col}_train'], tag='Pipe#2', apply_fun=<ufunc 'log1p'>), IfHyperparamIsTrue(tag='IfHyperparamIsTrue#2', name='bake_features', then=Pipeline(tag='Pipeline#23', transforms=[Print(tag='Print#2', fit_msg=\"Baking: ['carat', 'x', 'y', 'z', 'depth', 'table']\", apply_msg=None, dest=None), Winsorize(tag='Winsorize#4', cols=['carat', 'x', 'y', 'z', 'depth', 'table'], limit=0.05), ZScore(tag='ZScore#2', cols=['carat', 'x', 'y', 'z', 'depth', 'table'], w_col=None), ImputeConstant(cols=['carat', 'x', 'y', 'z', 'depth', 'table'], tag='ImputeConstant#2', value=0.0), Clip(cols=['carat', 'x', 'y', 'z', 'depth', 'table'], tag='Clip#2', upper=2, lower=-2)]), otherwise=None, allow_unresolved=False), SKLearn(tag='SKLearn#3', sklearn_class=<class 'sklearn.linear_model._base.LinearRegression'>, x_cols=HP(name='predictors'), response_col=HPFmtStr(name='{response_col}_train'), hat_col=HPFmtStr(name='{response_col}_hat'), class_params={'fit_intercept': True}, w_col=''), Copy(cols=['{response_col}_hat'], tag='Copy#3', dest_cols=['{response_col}_hat_dollars']), Pipe(cols=['{response_col}_hat_dollars'], tag='Pipe#3', apply_fun=<ufunc 'expm1'>)])"
      ]
     },
     "execution_count": 13,
     "metadata": {},
     "output_type": "execute_result"
    }
   ],
   "source": [
    "from sklearn.linear_model import LinearRegression\n",
    "\n",
    "FEATURES = [\"carat\", \"x\", \"y\", \"z\", \"depth\", \"table\"]\n",
    "\n",
    "def bake_features(cols):\n",
    "    return (\n",
    "        ff.Pipeline()\n",
    "        .print(fit_msg=f\"Baking: {cols}\")\n",
    "        .winsorize(cols, limit=0.05)\n",
    "        .z_score(cols)\n",
    "        .impute_constant(cols, 0.)\n",
    "        .clip(cols, upper=2, lower=-2)\n",
    "    )\n",
    "\n",
    "pipeline = (\n",
    "    ff.Pipeline()\n",
    "    .copy(\"{response_col}\", \"{response_col}_train\")\n",
    "    .winsorize(\"{response_col}_train\", limit=0.05)\n",
    "    .pipe([\"carat\", \"{response_col}_train\"], np.log1p)\n",
    "    .if_hyperparam_is_true(\"bake_features\", bake_features(FEATURES))\n",
    "    .sklearn(\n",
    "        LinearRegression,\n",
    "        #x_cols=[\"carat\", \"depth\", \"table\"],\n",
    "        x_cols=ff.HP('predictors'),\n",
    "        response_col=\"{response_col}_train\",\n",
    "        hat_col=\"{response_col}_hat\",\n",
    "        class_params={\"fit_intercept\": True}\n",
    "    )\n",
    "    # transform {response_col}_hat from log-dollars back to dollars\n",
    "    .copy(\"{response_col}_hat\", \"{response_col}_hat_dollars\")\n",
    "    .pipe(\"{response_col}_hat_dollars\", np.expm1)\n",
    ")\n",
    "pipeline"
   ]
  },
  {
   "cell_type": "code",
   "execution_count": 14,
   "id": "1f66ab56-2f1b-46d0-8f47-66c30eb1a6cd",
   "metadata": {
    "tags": []
   },
   "outputs": [
    {
     "data": {
      "text/plain": [
       "{'bake_features', 'predictors', 'response_col'}"
      ]
     },
     "execution_count": 14,
     "metadata": {},
     "output_type": "execute_result"
    }
   ],
   "source": [
    "pipeline.hyperparams()"
   ]
  },
  {
   "cell_type": "code",
   "execution_count": 15,
   "id": "b4a47c0a-7edf-4439-84a1-46c1d2dd891d",
   "metadata": {
    "tags": []
   },
   "outputs": [
    {
     "data": {
      "text/plain": [
       "'x_train'"
      ]
     },
     "execution_count": 15,
     "metadata": {},
     "output_type": "execute_result"
    }
   ],
   "source": [
    "sd = ff.core.SentinelDict({'response_col': 'x'})\n",
    "'{response_col}_train'.format(**sd)"
   ]
  },
  {
   "cell_type": "code",
   "execution_count": 16,
   "id": "fd3b2ed8-77bd-455f-9f74-965f2307e825",
   "metadata": {
    "tags": []
   },
   "outputs": [],
   "source": [
    "sd.keys_checked"
   ]
  },
  {
   "cell_type": "code",
   "execution_count": 17,
   "id": "dfcdf6ec-0392-4f6a-b71f-c5108db90d53",
   "metadata": {
    "tags": []
   },
   "outputs": [
    {
     "data": {
      "text/plain": [
       "{'response_col'}"
      ]
     },
     "execution_count": 17,
     "metadata": {},
     "output_type": "execute_result"
    }
   ],
   "source": [
    "pipeline.transforms[0].hyperparams()"
   ]
  },
  {
   "cell_type": "code",
   "execution_count": 22,
   "id": "d6dd62e4-e4d6-4b69-9f8d-563873d16ba5",
   "metadata": {
    "tags": []
   },
   "outputs": [
    {
     "name": "stdout",
     "output_type": "stream",
     "text": [
      "{'bake_features': True, 'response_col': 'price', 'predictors': ['carat', 'x', 'y', 'z', 'depth', 'table']}\n",
      "Baking: ['carat', 'x', 'y', 'z', 'depth', 'table']\n",
      "{'bake_features': False, 'response_col': 'price', 'predictors': ['carat', 'x', 'y', 'z', 'depth', 'table']}\n"
     ]
    }
   ],
   "source": [
    "df = data('diamonds')\n",
    "index_all = set(df.index)\n",
    "index_in = set(np.random.choice(df.index, size=int(len(df) / 2), replace=False))\n",
    "index_out = index_all - index_in\n",
    "df_in = df.loc[list(index_in)]\n",
    "df_out = df.loc[list(index_out)]\n",
    "    \n",
    "import itertools\n",
    "\n",
    "fits = []\n",
    "for bf in (True, False):\n",
    "    bindings = {'bake_features': bf, 'response_col': 'price', 'predictors': FEATURES}\n",
    "    print(bindings)\n",
    "    fit_pipeline = pipeline.fit(df_in, bindings)\n",
    "    fits.append(fit_pipeline)\n"
   ]
  },
  {
   "cell_type": "code",
   "execution_count": 23,
   "id": "67e11890-77ac-4ca2-961c-bff72659986a",
   "metadata": {
    "tags": []
   },
   "outputs": [
    {
     "name": "stdout",
     "output_type": "stream",
     "text": [
      "{'bake_features': True, 'response_col': 'price', 'predictors': ['carat', 'x', 'y', 'z', 'depth', 'table']}\n",
      "\tCorr with in-sample training response:\t0.9683\n",
      "\tCorr with in-sample raw response:\t0.9310\n",
      "{'bake_features': False, 'response_col': 'price', 'predictors': ['carat', 'x', 'y', 'z', 'depth', 'table']}\n",
      "\tCorr with in-sample training response:\t0.9576\n",
      "\tCorr with in-sample raw response:\t0.8459\n"
     ]
    }
   ],
   "source": [
    "for fit in fits:\n",
    "    # performance on own training data\n",
    "    pdf = fit.apply(df_in)\n",
    "    corr_train = pdf[['price_hat', 'price_train']].corr().iloc[0,1]\n",
    "    corr_raw = pdf[['price_hat_dollars', 'price']].corr().iloc[0,1]\n",
    "    print(fit.bindings())\n",
    "    print('\\tCorr with in-sample training response:\\t%.4f' % corr_train)\n",
    "    print('\\tCorr with in-sample raw response:\\t%.4f' % corr_raw)"
   ]
  },
  {
   "cell_type": "code",
   "execution_count": 24,
   "id": "cd81c8cc-422b-4f60-84f8-e5b2147b6977",
   "metadata": {
    "tags": []
   },
   "outputs": [
    {
     "name": "stdout",
     "output_type": "stream",
     "text": [
      "{'bake_features': True, 'response_col': 'price', 'predictors': ['carat', 'x', 'y', 'z', 'depth', 'table']}\n",
      "\tCorr with out-of-sample training response:\t0.9681\n",
      "\tCorr with out-of-sample raw response:\t\t0.9311\n",
      "{'bake_features': False, 'response_col': 'price', 'predictors': ['carat', 'x', 'y', 'z', 'depth', 'table']}\n",
      "\tCorr with out-of-sample training response:\t0.9556\n",
      "\tCorr with out-of-sample raw response:\t\t0.0102\n"
     ]
    }
   ],
   "source": [
    "for fit in fits:\n",
    "    # performance on held-out data\n",
    "    pdf = fit.apply(df_out)\n",
    "    corr_train = pdf[['price_hat', 'price_train']].corr().iloc[0,1]\n",
    "    corr_raw = pdf[['price_hat_dollars', 'price']].corr().iloc[0,1]\n",
    "    print(fit.bindings())\n",
    "    print('\\tCorr with out-of-sample training response:\\t%.4f' % corr_train)\n",
    "    print('\\tCorr with out-of-sample raw response:\\t\\t%.4f' % corr_raw)"
   ]
  },
  {
   "cell_type": "code",
   "execution_count": null,
   "id": "d5b136b4-93ef-4d7a-9f06-24e156fea12d",
   "metadata": {},
   "outputs": [],
   "source": []
  },
  {
   "cell_type": "code",
   "execution_count": 42,
   "id": "6c3e66bf-3d78-4cf4-b573-236cce68e539",
   "metadata": {
    "execution": {
     "iopub.execute_input": "2022-06-30T17:45:36.217390Z",
     "iopub.status.busy": "2022-06-30T17:45:36.216911Z",
     "iopub.status.idle": "2022-06-30T17:45:36.262055Z",
     "shell.execute_reply": "2022-06-30T17:45:36.260496Z",
     "shell.execute_reply.started": "2022-06-30T17:45:36.217372Z"
    }
   },
   "outputs": [],
   "source": [
    "import yfinance"
   ]
  },
  {
   "cell_type": "code",
   "execution_count": 44,
   "id": "477ff273-6a41-44d2-907c-3ae9c3270155",
   "metadata": {
    "execution": {
     "iopub.execute_input": "2022-06-30T17:48:31.615577Z",
     "iopub.status.busy": "2022-06-30T17:48:31.615168Z",
     "iopub.status.idle": "2022-06-30T17:48:31.623063Z",
     "shell.execute_reply": "2022-06-30T17:48:31.621997Z",
     "shell.execute_reply.started": "2022-06-30T17:48:31.615559Z"
    },
    "tags": []
   },
   "outputs": [],
   "source": [
    "x = yfinance.Ticker('MSFT')"
   ]
  },
  {
   "cell_type": "code",
   "execution_count": 49,
   "id": "dd3044e5-34c6-443f-98ae-3f4ac07bdd5a",
   "metadata": {
    "execution": {
     "iopub.execute_input": "2022-06-30T17:49:44.196387Z",
     "iopub.status.busy": "2022-06-30T17:49:44.195982Z",
     "iopub.status.idle": "2022-06-30T17:49:44.644184Z",
     "shell.execute_reply": "2022-06-30T17:49:44.643064Z",
     "shell.execute_reply.started": "2022-06-30T17:49:44.196357Z"
    },
    "tags": []
   },
   "outputs": [],
   "source": [
    "df = x.history()"
   ]
  },
  {
   "cell_type": "code",
   "execution_count": 50,
   "id": "a7c8e2df-eaab-4509-b1a0-b5cebc38dd01",
   "metadata": {
    "execution": {
     "iopub.execute_input": "2022-06-30T17:49:46.754360Z",
     "iopub.status.busy": "2022-06-30T17:49:46.753829Z",
     "iopub.status.idle": "2022-06-30T17:49:46.766058Z",
     "shell.execute_reply": "2022-06-30T17:49:46.764641Z",
     "shell.execute_reply.started": "2022-06-30T17:49:46.754331Z"
    },
    "tags": []
   },
   "outputs": [
    {
     "data": {
      "text/html": [
       "<div>\n",
       "<style scoped>\n",
       "    .dataframe tbody tr th:only-of-type {\n",
       "        vertical-align: middle;\n",
       "    }\n",
       "\n",
       "    .dataframe tbody tr th {\n",
       "        vertical-align: top;\n",
       "    }\n",
       "\n",
       "    .dataframe thead th {\n",
       "        text-align: right;\n",
       "    }\n",
       "</style>\n",
       "<table border=\"1\" class=\"dataframe\">\n",
       "  <thead>\n",
       "    <tr style=\"text-align: right;\">\n",
       "      <th></th>\n",
       "      <th>Open</th>\n",
       "      <th>High</th>\n",
       "      <th>Low</th>\n",
       "      <th>Close</th>\n",
       "      <th>Volume</th>\n",
       "      <th>Dividends</th>\n",
       "      <th>Stock Splits</th>\n",
       "    </tr>\n",
       "    <tr>\n",
       "      <th>Date</th>\n",
       "      <th></th>\n",
       "      <th></th>\n",
       "      <th></th>\n",
       "      <th></th>\n",
       "      <th></th>\n",
       "      <th></th>\n",
       "      <th></th>\n",
       "    </tr>\n",
       "  </thead>\n",
       "  <tbody>\n",
       "    <tr>\n",
       "      <th>2022-05-31</th>\n",
       "      <td>272.529999</td>\n",
       "      <td>274.769989</td>\n",
       "      <td>268.929993</td>\n",
       "      <td>271.869995</td>\n",
       "      <td>37827700</td>\n",
       "      <td>0</td>\n",
       "      <td>0</td>\n",
       "    </tr>\n",
       "    <tr>\n",
       "      <th>2022-06-01</th>\n",
       "      <td>275.200012</td>\n",
       "      <td>277.690002</td>\n",
       "      <td>270.040009</td>\n",
       "      <td>272.420013</td>\n",
       "      <td>25292200</td>\n",
       "      <td>0</td>\n",
       "      <td>0</td>\n",
       "    </tr>\n",
       "    <tr>\n",
       "      <th>2022-06-02</th>\n",
       "      <td>264.450012</td>\n",
       "      <td>274.649994</td>\n",
       "      <td>261.600006</td>\n",
       "      <td>274.579987</td>\n",
       "      <td>44008200</td>\n",
       "      <td>0</td>\n",
       "      <td>0</td>\n",
       "    </tr>\n",
       "    <tr>\n",
       "      <th>2022-06-03</th>\n",
       "      <td>270.309998</td>\n",
       "      <td>273.450012</td>\n",
       "      <td>268.410004</td>\n",
       "      <td>270.019989</td>\n",
       "      <td>28048000</td>\n",
       "      <td>0</td>\n",
       "      <td>0</td>\n",
       "    </tr>\n",
       "    <tr>\n",
       "      <th>2022-06-06</th>\n",
       "      <td>272.059998</td>\n",
       "      <td>274.179993</td>\n",
       "      <td>267.220001</td>\n",
       "      <td>268.750000</td>\n",
       "      <td>22400300</td>\n",
       "      <td>0</td>\n",
       "      <td>0</td>\n",
       "    </tr>\n",
       "  </tbody>\n",
       "</table>\n",
       "</div>"
      ],
      "text/plain": [
       "                  Open        High         Low       Close    Volume  \\\n",
       "Date                                                                   \n",
       "2022-05-31  272.529999  274.769989  268.929993  271.869995  37827700   \n",
       "2022-06-01  275.200012  277.690002  270.040009  272.420013  25292200   \n",
       "2022-06-02  264.450012  274.649994  261.600006  274.579987  44008200   \n",
       "2022-06-03  270.309998  273.450012  268.410004  270.019989  28048000   \n",
       "2022-06-06  272.059998  274.179993  267.220001  268.750000  22400300   \n",
       "\n",
       "            Dividends  Stock Splits  \n",
       "Date                                 \n",
       "2022-05-31          0             0  \n",
       "2022-06-01          0             0  \n",
       "2022-06-02          0             0  \n",
       "2022-06-03          0             0  \n",
       "2022-06-06          0             0  "
      ]
     },
     "execution_count": 50,
     "metadata": {},
     "output_type": "execute_result"
    }
   ],
   "source": [
    "df.head()"
   ]
  },
  {
   "cell_type": "code",
   "execution_count": 61,
   "id": "e90c522f-2e6f-4202-91bd-7be3c7c587a4",
   "metadata": {
    "execution": {
     "iopub.execute_input": "2022-06-30T17:51:29.914128Z",
     "iopub.status.busy": "2022-06-30T17:51:29.913672Z",
     "iopub.status.idle": "2022-06-30T17:51:29.926310Z",
     "shell.execute_reply": "2022-06-30T17:51:29.924654Z",
     "shell.execute_reply.started": "2022-06-30T17:51:29.914107Z"
    },
    "tags": []
   },
   "outputs": [
    {
     "data": {
      "text/html": [
       "<div>\n",
       "<style scoped>\n",
       "    .dataframe tbody tr th:only-of-type {\n",
       "        vertical-align: middle;\n",
       "    }\n",
       "\n",
       "    .dataframe tbody tr th {\n",
       "        vertical-align: top;\n",
       "    }\n",
       "\n",
       "    .dataframe thead th {\n",
       "        text-align: right;\n",
       "    }\n",
       "</style>\n",
       "<table border=\"1\" class=\"dataframe\">\n",
       "  <thead>\n",
       "    <tr style=\"text-align: right;\">\n",
       "      <th></th>\n",
       "      <th>2021-06-30</th>\n",
       "      <th>2020-06-30</th>\n",
       "      <th>2019-06-30</th>\n",
       "      <th>2018-06-30</th>\n",
       "    </tr>\n",
       "  </thead>\n",
       "  <tbody>\n",
       "    <tr>\n",
       "      <th>Research Development</th>\n",
       "      <td>20716000000.0</td>\n",
       "      <td>19269000000.0</td>\n",
       "      <td>16876000000.0</td>\n",
       "      <td>14726000000.0</td>\n",
       "    </tr>\n",
       "    <tr>\n",
       "      <th>Effect Of Accounting Charges</th>\n",
       "      <td>None</td>\n",
       "      <td>None</td>\n",
       "      <td>None</td>\n",
       "      <td>None</td>\n",
       "    </tr>\n",
       "    <tr>\n",
       "      <th>Income Before Tax</th>\n",
       "      <td>71102000000.0</td>\n",
       "      <td>53036000000.0</td>\n",
       "      <td>43688000000.0</td>\n",
       "      <td>36474000000.0</td>\n",
       "    </tr>\n",
       "    <tr>\n",
       "      <th>Minority Interest</th>\n",
       "      <td>None</td>\n",
       "      <td>None</td>\n",
       "      <td>None</td>\n",
       "      <td>None</td>\n",
       "    </tr>\n",
       "    <tr>\n",
       "      <th>Net Income</th>\n",
       "      <td>61271000000.0</td>\n",
       "      <td>44281000000.0</td>\n",
       "      <td>39240000000.0</td>\n",
       "      <td>16571000000.0</td>\n",
       "    </tr>\n",
       "    <tr>\n",
       "      <th>Selling General Administrative</th>\n",
       "      <td>25224000000.0</td>\n",
       "      <td>24523000000.0</td>\n",
       "      <td>23098000000.0</td>\n",
       "      <td>22223000000.0</td>\n",
       "    </tr>\n",
       "    <tr>\n",
       "      <th>Gross Profit</th>\n",
       "      <td>115856000000.0</td>\n",
       "      <td>96937000000.0</td>\n",
       "      <td>82933000000.0</td>\n",
       "      <td>72007000000.0</td>\n",
       "    </tr>\n",
       "    <tr>\n",
       "      <th>Ebit</th>\n",
       "      <td>69916000000.0</td>\n",
       "      <td>53145000000.0</td>\n",
       "      <td>42959000000.0</td>\n",
       "      <td>35058000000.0</td>\n",
       "    </tr>\n",
       "    <tr>\n",
       "      <th>Operating Income</th>\n",
       "      <td>69916000000.0</td>\n",
       "      <td>53145000000.0</td>\n",
       "      <td>42959000000.0</td>\n",
       "      <td>35058000000.0</td>\n",
       "    </tr>\n",
       "    <tr>\n",
       "      <th>Other Operating Expenses</th>\n",
       "      <td>None</td>\n",
       "      <td>None</td>\n",
       "      <td>None</td>\n",
       "      <td>None</td>\n",
       "    </tr>\n",
       "    <tr>\n",
       "      <th>Interest Expense</th>\n",
       "      <td>-2330000000.0</td>\n",
       "      <td>-2591000000.0</td>\n",
       "      <td>-2686000000.0</td>\n",
       "      <td>-2733000000.0</td>\n",
       "    </tr>\n",
       "    <tr>\n",
       "      <th>Extraordinary Items</th>\n",
       "      <td>None</td>\n",
       "      <td>None</td>\n",
       "      <td>None</td>\n",
       "      <td>None</td>\n",
       "    </tr>\n",
       "    <tr>\n",
       "      <th>Non Recurring</th>\n",
       "      <td>None</td>\n",
       "      <td>None</td>\n",
       "      <td>None</td>\n",
       "      <td>None</td>\n",
       "    </tr>\n",
       "    <tr>\n",
       "      <th>Other Items</th>\n",
       "      <td>None</td>\n",
       "      <td>None</td>\n",
       "      <td>None</td>\n",
       "      <td>None</td>\n",
       "    </tr>\n",
       "    <tr>\n",
       "      <th>Income Tax Expense</th>\n",
       "      <td>9831000000.0</td>\n",
       "      <td>8755000000.0</td>\n",
       "      <td>4448000000.0</td>\n",
       "      <td>19903000000.0</td>\n",
       "    </tr>\n",
       "    <tr>\n",
       "      <th>Total Revenue</th>\n",
       "      <td>168088000000.0</td>\n",
       "      <td>143015000000.0</td>\n",
       "      <td>125843000000.0</td>\n",
       "      <td>110360000000.0</td>\n",
       "    </tr>\n",
       "    <tr>\n",
       "      <th>Total Operating Expenses</th>\n",
       "      <td>98172000000.0</td>\n",
       "      <td>89870000000.0</td>\n",
       "      <td>82884000000.0</td>\n",
       "      <td>75302000000.0</td>\n",
       "    </tr>\n",
       "    <tr>\n",
       "      <th>Cost Of Revenue</th>\n",
       "      <td>52232000000.0</td>\n",
       "      <td>46078000000.0</td>\n",
       "      <td>42910000000.0</td>\n",
       "      <td>38353000000.0</td>\n",
       "    </tr>\n",
       "    <tr>\n",
       "      <th>Total Other Income Expense Net</th>\n",
       "      <td>1186000000.0</td>\n",
       "      <td>-109000000.0</td>\n",
       "      <td>729000000.0</td>\n",
       "      <td>1416000000.0</td>\n",
       "    </tr>\n",
       "    <tr>\n",
       "      <th>Discontinued Operations</th>\n",
       "      <td>None</td>\n",
       "      <td>None</td>\n",
       "      <td>None</td>\n",
       "      <td>None</td>\n",
       "    </tr>\n",
       "    <tr>\n",
       "      <th>Net Income From Continuing Ops</th>\n",
       "      <td>61271000000.0</td>\n",
       "      <td>44281000000.0</td>\n",
       "      <td>39240000000.0</td>\n",
       "      <td>16571000000.0</td>\n",
       "    </tr>\n",
       "    <tr>\n",
       "      <th>Net Income Applicable To Common Shares</th>\n",
       "      <td>61271000000.0</td>\n",
       "      <td>44281000000.0</td>\n",
       "      <td>39240000000.0</td>\n",
       "      <td>16571000000.0</td>\n",
       "    </tr>\n",
       "  </tbody>\n",
       "</table>\n",
       "</div>"
      ],
      "text/plain": [
       "                                            2021-06-30      2020-06-30  \\\n",
       "Research Development                     20716000000.0   19269000000.0   \n",
       "Effect Of Accounting Charges                      None            None   \n",
       "Income Before Tax                        71102000000.0   53036000000.0   \n",
       "Minority Interest                                 None            None   \n",
       "Net Income                               61271000000.0   44281000000.0   \n",
       "Selling General Administrative           25224000000.0   24523000000.0   \n",
       "Gross Profit                            115856000000.0   96937000000.0   \n",
       "Ebit                                     69916000000.0   53145000000.0   \n",
       "Operating Income                         69916000000.0   53145000000.0   \n",
       "Other Operating Expenses                          None            None   \n",
       "Interest Expense                         -2330000000.0   -2591000000.0   \n",
       "Extraordinary Items                               None            None   \n",
       "Non Recurring                                     None            None   \n",
       "Other Items                                       None            None   \n",
       "Income Tax Expense                        9831000000.0    8755000000.0   \n",
       "Total Revenue                           168088000000.0  143015000000.0   \n",
       "Total Operating Expenses                 98172000000.0   89870000000.0   \n",
       "Cost Of Revenue                          52232000000.0   46078000000.0   \n",
       "Total Other Income Expense Net            1186000000.0    -109000000.0   \n",
       "Discontinued Operations                           None            None   \n",
       "Net Income From Continuing Ops           61271000000.0   44281000000.0   \n",
       "Net Income Applicable To Common Shares   61271000000.0   44281000000.0   \n",
       "\n",
       "                                            2019-06-30      2018-06-30  \n",
       "Research Development                     16876000000.0   14726000000.0  \n",
       "Effect Of Accounting Charges                      None            None  \n",
       "Income Before Tax                        43688000000.0   36474000000.0  \n",
       "Minority Interest                                 None            None  \n",
       "Net Income                               39240000000.0   16571000000.0  \n",
       "Selling General Administrative           23098000000.0   22223000000.0  \n",
       "Gross Profit                             82933000000.0   72007000000.0  \n",
       "Ebit                                     42959000000.0   35058000000.0  \n",
       "Operating Income                         42959000000.0   35058000000.0  \n",
       "Other Operating Expenses                          None            None  \n",
       "Interest Expense                         -2686000000.0   -2733000000.0  \n",
       "Extraordinary Items                               None            None  \n",
       "Non Recurring                                     None            None  \n",
       "Other Items                                       None            None  \n",
       "Income Tax Expense                        4448000000.0   19903000000.0  \n",
       "Total Revenue                           125843000000.0  110360000000.0  \n",
       "Total Operating Expenses                 82884000000.0   75302000000.0  \n",
       "Cost Of Revenue                          42910000000.0   38353000000.0  \n",
       "Total Other Income Expense Net             729000000.0    1416000000.0  \n",
       "Discontinued Operations                           None            None  \n",
       "Net Income From Continuing Ops           39240000000.0   16571000000.0  \n",
       "Net Income Applicable To Common Shares   39240000000.0   16571000000.0  "
      ]
     },
     "execution_count": 61,
     "metadata": {},
     "output_type": "execute_result"
    }
   ],
   "source": [
    "x.financials"
   ]
  },
  {
   "cell_type": "code",
   "execution_count": 74,
   "id": "a48de16a-4b20-48a3-96f3-12a83344a31c",
   "metadata": {
    "execution": {
     "iopub.execute_input": "2022-06-30T17:56:56.023247Z",
     "iopub.status.busy": "2022-06-30T17:56:56.022712Z",
     "iopub.status.idle": "2022-06-30T17:56:56.029882Z",
     "shell.execute_reply": "2022-06-30T17:56:56.028815Z",
     "shell.execute_reply.started": "2022-06-30T17:56:56.023226Z"
    },
    "tags": []
   },
   "outputs": [
    {
     "data": {
      "text/plain": [
       "\u001b[0;31mSignature:\u001b[0m\n",
       "\u001b[0myfinance\u001b[0m\u001b[0;34m.\u001b[0m\u001b[0mdownload\u001b[0m\u001b[0;34m(\u001b[0m\u001b[0;34m\u001b[0m\n",
       "\u001b[0;34m\u001b[0m    \u001b[0mtickers\u001b[0m\u001b[0;34m,\u001b[0m\u001b[0;34m\u001b[0m\n",
       "\u001b[0;34m\u001b[0m    \u001b[0mstart\u001b[0m\u001b[0;34m=\u001b[0m\u001b[0;32mNone\u001b[0m\u001b[0;34m,\u001b[0m\u001b[0;34m\u001b[0m\n",
       "\u001b[0;34m\u001b[0m    \u001b[0mend\u001b[0m\u001b[0;34m=\u001b[0m\u001b[0;32mNone\u001b[0m\u001b[0;34m,\u001b[0m\u001b[0;34m\u001b[0m\n",
       "\u001b[0;34m\u001b[0m    \u001b[0mactions\u001b[0m\u001b[0;34m=\u001b[0m\u001b[0;32mFalse\u001b[0m\u001b[0;34m,\u001b[0m\u001b[0;34m\u001b[0m\n",
       "\u001b[0;34m\u001b[0m    \u001b[0mthreads\u001b[0m\u001b[0;34m=\u001b[0m\u001b[0;32mTrue\u001b[0m\u001b[0;34m,\u001b[0m\u001b[0;34m\u001b[0m\n",
       "\u001b[0;34m\u001b[0m    \u001b[0mgroup_by\u001b[0m\u001b[0;34m=\u001b[0m\u001b[0;34m'column'\u001b[0m\u001b[0;34m,\u001b[0m\u001b[0;34m\u001b[0m\n",
       "\u001b[0;34m\u001b[0m    \u001b[0mauto_adjust\u001b[0m\u001b[0;34m=\u001b[0m\u001b[0;32mFalse\u001b[0m\u001b[0;34m,\u001b[0m\u001b[0;34m\u001b[0m\n",
       "\u001b[0;34m\u001b[0m    \u001b[0mback_adjust\u001b[0m\u001b[0;34m=\u001b[0m\u001b[0;32mFalse\u001b[0m\u001b[0;34m,\u001b[0m\u001b[0;34m\u001b[0m\n",
       "\u001b[0;34m\u001b[0m    \u001b[0mprogress\u001b[0m\u001b[0;34m=\u001b[0m\u001b[0;32mTrue\u001b[0m\u001b[0;34m,\u001b[0m\u001b[0;34m\u001b[0m\n",
       "\u001b[0;34m\u001b[0m    \u001b[0mperiod\u001b[0m\u001b[0;34m=\u001b[0m\u001b[0;34m'max'\u001b[0m\u001b[0;34m,\u001b[0m\u001b[0;34m\u001b[0m\n",
       "\u001b[0;34m\u001b[0m    \u001b[0mshow_errors\u001b[0m\u001b[0;34m=\u001b[0m\u001b[0;32mTrue\u001b[0m\u001b[0;34m,\u001b[0m\u001b[0;34m\u001b[0m\n",
       "\u001b[0;34m\u001b[0m    \u001b[0minterval\u001b[0m\u001b[0;34m=\u001b[0m\u001b[0;34m'1d'\u001b[0m\u001b[0;34m,\u001b[0m\u001b[0;34m\u001b[0m\n",
       "\u001b[0;34m\u001b[0m    \u001b[0mprepost\u001b[0m\u001b[0;34m=\u001b[0m\u001b[0;32mFalse\u001b[0m\u001b[0;34m,\u001b[0m\u001b[0;34m\u001b[0m\n",
       "\u001b[0;34m\u001b[0m    \u001b[0mproxy\u001b[0m\u001b[0;34m=\u001b[0m\u001b[0;32mNone\u001b[0m\u001b[0;34m,\u001b[0m\u001b[0;34m\u001b[0m\n",
       "\u001b[0;34m\u001b[0m    \u001b[0mrounding\u001b[0m\u001b[0;34m=\u001b[0m\u001b[0;32mFalse\u001b[0m\u001b[0;34m,\u001b[0m\u001b[0;34m\u001b[0m\n",
       "\u001b[0;34m\u001b[0m    \u001b[0mtimeout\u001b[0m\u001b[0;34m=\u001b[0m\u001b[0;32mNone\u001b[0m\u001b[0;34m,\u001b[0m\u001b[0;34m\u001b[0m\n",
       "\u001b[0;34m\u001b[0m    \u001b[0;34m**\u001b[0m\u001b[0mkwargs\u001b[0m\u001b[0;34m,\u001b[0m\u001b[0;34m\u001b[0m\n",
       "\u001b[0;34m\u001b[0m\u001b[0;34m)\u001b[0m\u001b[0;34m\u001b[0m\u001b[0;34m\u001b[0m\u001b[0m\n",
       "\u001b[0;31mDocstring:\u001b[0m\n",
       "Download yahoo tickers\n",
       ":Parameters:\n",
       "    tickers : str, list\n",
       "        List of tickers to download\n",
       "    period : str\n",
       "        Valid periods: 1d,5d,1mo,3mo,6mo,1y,2y,5y,10y,ytd,max\n",
       "        Either Use period parameter or use start and end\n",
       "    interval : str\n",
       "        Valid intervals: 1m,2m,5m,15m,30m,60m,90m,1h,1d,5d,1wk,1mo,3mo\n",
       "        Intraday data cannot extend last 60 days\n",
       "    start: str\n",
       "        Download start date string (YYYY-MM-DD) or _datetime.\n",
       "        Default is 1900-01-01\n",
       "    end: str\n",
       "        Download end date string (YYYY-MM-DD) or _datetime.\n",
       "        Default is now\n",
       "    group_by : str\n",
       "        Group by 'ticker' or 'column' (default)\n",
       "    prepost : bool\n",
       "        Include Pre and Post market data in results?\n",
       "        Default is False\n",
       "    auto_adjust: bool\n",
       "        Adjust all OHLC automatically? Default is False\n",
       "    actions: bool\n",
       "        Download dividend + stock splits data. Default is False\n",
       "    threads: bool / int\n",
       "        How many threads to use for mass downloading. Default is True\n",
       "    proxy: str\n",
       "        Optional. Proxy server URL scheme. Default is None\n",
       "    rounding: bool\n",
       "        Optional. Round values to 2 decimal places?\n",
       "    show_errors: bool\n",
       "        Optional. Doesn't print errors if True\n",
       "    timeout: None or float\n",
       "        If not None stops waiting for a response after given number of\n",
       "        seconds. (Can also be a fraction of a second e.g. 0.01)\n",
       "\u001b[0;31mFile:\u001b[0m      ~/projects/frankenfit/.venv-dev/lib/python3.9/site-packages/yfinance/multi.py\n",
       "\u001b[0;31mType:\u001b[0m      function\n"
      ]
     },
     "metadata": {},
     "output_type": "display_data"
    }
   ],
   "source": [
    "yfinance.download?"
   ]
  },
  {
   "cell_type": "code",
   "execution_count": 75,
   "id": "3c748acd-2bcf-4fd6-8270-6d3d36c6417f",
   "metadata": {
    "execution": {
     "iopub.execute_input": "2022-06-30T17:57:21.595106Z",
     "iopub.status.busy": "2022-06-30T17:57:21.594493Z",
     "iopub.status.idle": "2022-06-30T17:57:22.794340Z",
     "shell.execute_reply": "2022-06-30T17:57:22.793236Z",
     "shell.execute_reply.started": "2022-06-30T17:57:21.595086Z"
    },
    "tags": []
   },
   "outputs": [
    {
     "name": "stdout",
     "output_type": "stream",
     "text": [
      "[*********************100%***********************]  2 of 2 completed\n"
     ]
    }
   ],
   "source": [
    "x = yfinance.download(['msft', 'aapl'], start='2010-01-01', auto_adjust=True)"
   ]
  },
  {
   "cell_type": "code",
   "execution_count": 77,
   "id": "5117de58-9d35-4c5c-845a-8b5a6ccb7376",
   "metadata": {
    "execution": {
     "iopub.execute_input": "2022-06-30T17:58:50.835179Z",
     "iopub.status.busy": "2022-06-30T17:58:50.834926Z",
     "iopub.status.idle": "2022-06-30T17:58:50.848249Z",
     "shell.execute_reply": "2022-06-30T17:58:50.847299Z",
     "shell.execute_reply.started": "2022-06-30T17:58:50.835162Z"
    },
    "tags": []
   },
   "outputs": [
    {
     "data": {
      "text/html": [
       "<div>\n",
       "<style scoped>\n",
       "    .dataframe tbody tr th:only-of-type {\n",
       "        vertical-align: middle;\n",
       "    }\n",
       "\n",
       "    .dataframe tbody tr th {\n",
       "        vertical-align: top;\n",
       "    }\n",
       "\n",
       "    .dataframe thead tr th {\n",
       "        text-align: left;\n",
       "    }\n",
       "\n",
       "    .dataframe thead tr:last-of-type th {\n",
       "        text-align: right;\n",
       "    }\n",
       "</style>\n",
       "<table border=\"1\" class=\"dataframe\">\n",
       "  <thead>\n",
       "    <tr>\n",
       "      <th></th>\n",
       "      <th colspan=\"2\" halign=\"left\">Close</th>\n",
       "      <th colspan=\"2\" halign=\"left\">High</th>\n",
       "      <th colspan=\"2\" halign=\"left\">Low</th>\n",
       "      <th colspan=\"2\" halign=\"left\">Open</th>\n",
       "      <th colspan=\"2\" halign=\"left\">Volume</th>\n",
       "    </tr>\n",
       "    <tr>\n",
       "      <th></th>\n",
       "      <th>AAPL</th>\n",
       "      <th>MSFT</th>\n",
       "      <th>AAPL</th>\n",
       "      <th>MSFT</th>\n",
       "      <th>AAPL</th>\n",
       "      <th>MSFT</th>\n",
       "      <th>AAPL</th>\n",
       "      <th>MSFT</th>\n",
       "      <th>AAPL</th>\n",
       "      <th>MSFT</th>\n",
       "    </tr>\n",
       "    <tr>\n",
       "      <th>Date</th>\n",
       "      <th></th>\n",
       "      <th></th>\n",
       "      <th></th>\n",
       "      <th></th>\n",
       "      <th></th>\n",
       "      <th></th>\n",
       "      <th></th>\n",
       "      <th></th>\n",
       "      <th></th>\n",
       "      <th></th>\n",
       "    </tr>\n",
       "  </thead>\n",
       "  <tbody>\n",
       "    <tr>\n",
       "      <th>2010-01-04</th>\n",
       "      <td>6.535086</td>\n",
       "      <td>23.800222</td>\n",
       "      <td>6.550049</td>\n",
       "      <td>23.915571</td>\n",
       "      <td>6.485312</td>\n",
       "      <td>23.523386</td>\n",
       "      <td>6.517375</td>\n",
       "      <td>23.546456</td>\n",
       "      <td>493729600</td>\n",
       "      <td>38409100</td>\n",
       "    </tr>\n",
       "    <tr>\n",
       "      <th>2010-01-05</th>\n",
       "      <td>6.546383</td>\n",
       "      <td>23.807917</td>\n",
       "      <td>6.583332</td>\n",
       "      <td>23.915576</td>\n",
       "      <td>6.511877</td>\n",
       "      <td>23.561840</td>\n",
       "      <td>6.553102</td>\n",
       "      <td>23.723329</td>\n",
       "      <td>601904800</td>\n",
       "      <td>49749600</td>\n",
       "    </tr>\n",
       "    <tr>\n",
       "      <th>2010-01-06</th>\n",
       "      <td>6.442255</td>\n",
       "      <td>23.661808</td>\n",
       "      <td>6.572341</td>\n",
       "      <td>23.900194</td>\n",
       "      <td>6.435537</td>\n",
       "      <td>23.469561</td>\n",
       "      <td>6.546384</td>\n",
       "      <td>23.746396</td>\n",
       "      <td>552160000</td>\n",
       "      <td>58182400</td>\n",
       "    </tr>\n",
       "    <tr>\n",
       "      <th>2010-01-07</th>\n",
       "      <td>6.430346</td>\n",
       "      <td>23.415728</td>\n",
       "      <td>6.473708</td>\n",
       "      <td>23.607975</td>\n",
       "      <td>6.383625</td>\n",
       "      <td>23.215790</td>\n",
       "      <td>6.466073</td>\n",
       "      <td>23.554144</td>\n",
       "      <td>477131200</td>\n",
       "      <td>50559700</td>\n",
       "    </tr>\n",
       "    <tr>\n",
       "      <th>2010-01-08</th>\n",
       "      <td>6.473097</td>\n",
       "      <td>23.577223</td>\n",
       "      <td>6.473708</td>\n",
       "      <td>23.746400</td>\n",
       "      <td>6.383931</td>\n",
       "      <td>23.254247</td>\n",
       "      <td>6.421796</td>\n",
       "      <td>23.285007</td>\n",
       "      <td>447610800</td>\n",
       "      <td>51197400</td>\n",
       "    </tr>\n",
       "  </tbody>\n",
       "</table>\n",
       "</div>"
      ],
      "text/plain": [
       "               Close                 High                  Low             \\\n",
       "                AAPL       MSFT      AAPL       MSFT      AAPL       MSFT   \n",
       "Date                                                                        \n",
       "2010-01-04  6.535086  23.800222  6.550049  23.915571  6.485312  23.523386   \n",
       "2010-01-05  6.546383  23.807917  6.583332  23.915576  6.511877  23.561840   \n",
       "2010-01-06  6.442255  23.661808  6.572341  23.900194  6.435537  23.469561   \n",
       "2010-01-07  6.430346  23.415728  6.473708  23.607975  6.383625  23.215790   \n",
       "2010-01-08  6.473097  23.577223  6.473708  23.746400  6.383931  23.254247   \n",
       "\n",
       "                Open                Volume            \n",
       "                AAPL       MSFT       AAPL      MSFT  \n",
       "Date                                                  \n",
       "2010-01-04  6.517375  23.546456  493729600  38409100  \n",
       "2010-01-05  6.553102  23.723329  601904800  49749600  \n",
       "2010-01-06  6.546384  23.746396  552160000  58182400  \n",
       "2010-01-07  6.466073  23.554144  477131200  50559700  \n",
       "2010-01-08  6.421796  23.285007  447610800  51197400  "
      ]
     },
     "execution_count": 77,
     "metadata": {},
     "output_type": "execute_result"
    }
   ],
   "source": [
    "x.head()"
   ]
  },
  {
   "cell_type": "code",
   "execution_count": 78,
   "id": "60391df5-1a94-4ae1-9487-13001d508aa9",
   "metadata": {
    "execution": {
     "iopub.execute_input": "2022-06-30T17:58:51.573098Z",
     "iopub.status.busy": "2022-06-30T17:58:51.571774Z",
     "iopub.status.idle": "2022-06-30T17:58:51.599194Z",
     "shell.execute_reply": "2022-06-30T17:58:51.598158Z",
     "shell.execute_reply.started": "2022-06-30T17:58:51.573050Z"
    },
    "tags": []
   },
   "outputs": [
    {
     "data": {
      "text/html": [
       "<div>\n",
       "<style scoped>\n",
       "    .dataframe tbody tr th:only-of-type {\n",
       "        vertical-align: middle;\n",
       "    }\n",
       "\n",
       "    .dataframe tbody tr th {\n",
       "        vertical-align: top;\n",
       "    }\n",
       "\n",
       "    .dataframe thead th {\n",
       "        text-align: right;\n",
       "    }\n",
       "</style>\n",
       "<table border=\"1\" class=\"dataframe\">\n",
       "  <thead>\n",
       "    <tr style=\"text-align: right;\">\n",
       "      <th></th>\n",
       "      <th>Ticker</th>\n",
       "      <th>Close</th>\n",
       "      <th>High</th>\n",
       "      <th>Low</th>\n",
       "      <th>Open</th>\n",
       "      <th>Volume</th>\n",
       "    </tr>\n",
       "    <tr>\n",
       "      <th>Date</th>\n",
       "      <th></th>\n",
       "      <th></th>\n",
       "      <th></th>\n",
       "      <th></th>\n",
       "      <th></th>\n",
       "      <th></th>\n",
       "    </tr>\n",
       "  </thead>\n",
       "  <tbody>\n",
       "    <tr>\n",
       "      <th>2010-01-04</th>\n",
       "      <td>AAPL</td>\n",
       "      <td>6.535086</td>\n",
       "      <td>6.550049</td>\n",
       "      <td>6.485312</td>\n",
       "      <td>6.517375</td>\n",
       "      <td>493729600</td>\n",
       "    </tr>\n",
       "    <tr>\n",
       "      <th>2010-01-04</th>\n",
       "      <td>MSFT</td>\n",
       "      <td>23.800222</td>\n",
       "      <td>23.915571</td>\n",
       "      <td>23.523386</td>\n",
       "      <td>23.546456</td>\n",
       "      <td>38409100</td>\n",
       "    </tr>\n",
       "    <tr>\n",
       "      <th>2010-01-05</th>\n",
       "      <td>AAPL</td>\n",
       "      <td>6.546383</td>\n",
       "      <td>6.583332</td>\n",
       "      <td>6.511877</td>\n",
       "      <td>6.553102</td>\n",
       "      <td>601904800</td>\n",
       "    </tr>\n",
       "    <tr>\n",
       "      <th>2010-01-05</th>\n",
       "      <td>MSFT</td>\n",
       "      <td>23.807917</td>\n",
       "      <td>23.915576</td>\n",
       "      <td>23.561840</td>\n",
       "      <td>23.723329</td>\n",
       "      <td>49749600</td>\n",
       "    </tr>\n",
       "    <tr>\n",
       "      <th>2010-01-06</th>\n",
       "      <td>AAPL</td>\n",
       "      <td>6.442255</td>\n",
       "      <td>6.572341</td>\n",
       "      <td>6.435537</td>\n",
       "      <td>6.546384</td>\n",
       "      <td>552160000</td>\n",
       "    </tr>\n",
       "    <tr>\n",
       "      <th>...</th>\n",
       "      <td>...</td>\n",
       "      <td>...</td>\n",
       "      <td>...</td>\n",
       "      <td>...</td>\n",
       "      <td>...</td>\n",
       "      <td>...</td>\n",
       "    </tr>\n",
       "    <tr>\n",
       "      <th>2022-06-28</th>\n",
       "      <td>MSFT</td>\n",
       "      <td>256.480011</td>\n",
       "      <td>266.910004</td>\n",
       "      <td>256.320007</td>\n",
       "      <td>263.980011</td>\n",
       "      <td>27295500</td>\n",
       "    </tr>\n",
       "    <tr>\n",
       "      <th>2022-06-29</th>\n",
       "      <td>AAPL</td>\n",
       "      <td>139.229996</td>\n",
       "      <td>140.669998</td>\n",
       "      <td>136.669998</td>\n",
       "      <td>137.460007</td>\n",
       "      <td>66177800</td>\n",
       "    </tr>\n",
       "    <tr>\n",
       "      <th>2022-06-29</th>\n",
       "      <td>MSFT</td>\n",
       "      <td>260.260010</td>\n",
       "      <td>261.970001</td>\n",
       "      <td>255.759995</td>\n",
       "      <td>257.589996</td>\n",
       "      <td>20042400</td>\n",
       "    </tr>\n",
       "    <tr>\n",
       "      <th>2022-06-30</th>\n",
       "      <td>AAPL</td>\n",
       "      <td>137.990005</td>\n",
       "      <td>138.360001</td>\n",
       "      <td>133.773697</td>\n",
       "      <td>137.250000</td>\n",
       "      <td>54820815</td>\n",
       "    </tr>\n",
       "    <tr>\n",
       "      <th>2022-06-30</th>\n",
       "      <td>MSFT</td>\n",
       "      <td>258.984985</td>\n",
       "      <td>259.529999</td>\n",
       "      <td>252.899994</td>\n",
       "      <td>257.049988</td>\n",
       "      <td>13889504</td>\n",
       "    </tr>\n",
       "  </tbody>\n",
       "</table>\n",
       "<p>6290 rows × 6 columns</p>\n",
       "</div>"
      ],
      "text/plain": [
       "           Ticker       Close        High         Low        Open     Volume\n",
       "Date                                                                        \n",
       "2010-01-04   AAPL    6.535086    6.550049    6.485312    6.517375  493729600\n",
       "2010-01-04   MSFT   23.800222   23.915571   23.523386   23.546456   38409100\n",
       "2010-01-05   AAPL    6.546383    6.583332    6.511877    6.553102  601904800\n",
       "2010-01-05   MSFT   23.807917   23.915576   23.561840   23.723329   49749600\n",
       "2010-01-06   AAPL    6.442255    6.572341    6.435537    6.546384  552160000\n",
       "...           ...         ...         ...         ...         ...        ...\n",
       "2022-06-28   MSFT  256.480011  266.910004  256.320007  263.980011   27295500\n",
       "2022-06-29   AAPL  139.229996  140.669998  136.669998  137.460007   66177800\n",
       "2022-06-29   MSFT  260.260010  261.970001  255.759995  257.589996   20042400\n",
       "2022-06-30   AAPL  137.990005  138.360001  133.773697  137.250000   54820815\n",
       "2022-06-30   MSFT  258.984985  259.529999  252.899994  257.049988   13889504\n",
       "\n",
       "[6290 rows x 6 columns]"
      ]
     },
     "execution_count": 78,
     "metadata": {},
     "output_type": "execute_result"
    }
   ],
   "source": [
    "x.stack(level=1).rename_axis(['Date', 'Ticker']).reset_index(level=1)"
   ]
  },
  {
   "cell_type": "code",
   "execution_count": 79,
   "id": "8ea8be74-d8f6-483b-b2d6-f5938e248c88",
   "metadata": {
    "execution": {
     "iopub.execute_input": "2022-06-30T17:58:53.484828Z",
     "iopub.status.busy": "2022-06-30T17:58:53.484285Z",
     "iopub.status.idle": "2022-06-30T17:58:53.716110Z",
     "shell.execute_reply": "2022-06-30T17:58:53.715052Z",
     "shell.execute_reply.started": "2022-06-30T17:58:53.484806Z"
    },
    "tags": []
   },
   "outputs": [
    {
     "data": {
      "text/plain": [
       "<AxesSubplot:xlabel='Date'>"
      ]
     },
     "execution_count": 79,
     "metadata": {},
     "output_type": "execute_result"
    },
    {
     "data": {
      "image/png": "[encoded data removed]",
      "text/plain": [
       "<Figure size 432x288 with 1 Axes>"
      ]
     },
     "metadata": {
      "needs_background": "light"
     },
     "output_type": "display_data"
    }
   ],
   "source": [
    "x['Close'].plot()"
   ]
  },
  {
   "cell_type": "code",
   "execution_count": 80,
   "id": "4da68429-ae31-4298-8dbf-76f61c4dc59c",
   "metadata": {
    "execution": {
     "iopub.execute_input": "2022-06-30T17:59:01.775030Z",
     "iopub.status.busy": "2022-06-30T17:59:01.774582Z",
     "iopub.status.idle": "2022-06-30T17:59:01.820266Z",
     "shell.execute_reply": "2022-06-30T17:59:01.819693Z",
     "shell.execute_reply.started": "2022-06-30T17:59:01.775009Z"
    },
    "tags": []
   },
   "outputs": [
    {
     "data": {
      "text/html": [
       "<div>\n",
       "<style scoped>\n",
       "    .dataframe tbody tr th:only-of-type {\n",
       "        vertical-align: middle;\n",
       "    }\n",
       "\n",
       "    .dataframe tbody tr th {\n",
       "        vertical-align: top;\n",
       "    }\n",
       "\n",
       "    .dataframe thead tr th {\n",
       "        text-align: left;\n",
       "    }\n",
       "</style>\n",
       "<table border=\"1\" class=\"dataframe\">\n",
       "  <thead>\n",
       "    <tr>\n",
       "      <th></th>\n",
       "      <th colspan=\"2\" halign=\"left\">Close</th>\n",
       "      <th colspan=\"2\" halign=\"left\">High</th>\n",
       "      <th colspan=\"2\" halign=\"left\">Low</th>\n",
       "      <th colspan=\"2\" halign=\"left\">Open</th>\n",
       "      <th colspan=\"2\" halign=\"left\">Volume</th>\n",
       "    </tr>\n",
       "    <tr>\n",
       "      <th></th>\n",
       "      <th>AAPL</th>\n",
       "      <th>MSFT</th>\n",
       "      <th>AAPL</th>\n",
       "      <th>MSFT</th>\n",
       "      <th>AAPL</th>\n",
       "      <th>MSFT</th>\n",
       "      <th>AAPL</th>\n",
       "      <th>MSFT</th>\n",
       "      <th>AAPL</th>\n",
       "      <th>MSFT</th>\n",
       "    </tr>\n",
       "  </thead>\n",
       "  <tbody>\n",
       "    <tr>\n",
       "      <th>count</th>\n",
       "      <td>3145.000000</td>\n",
       "      <td>3145.000000</td>\n",
       "      <td>3145.000000</td>\n",
       "      <td>3145.000000</td>\n",
       "      <td>3145.000000</td>\n",
       "      <td>3145.000000</td>\n",
       "      <td>3145.000000</td>\n",
       "      <td>3145.000000</td>\n",
       "      <td>3.145000e+03</td>\n",
       "      <td>3.145000e+03</td>\n",
       "    </tr>\n",
       "    <tr>\n",
       "      <th>mean</th>\n",
       "      <td>45.558384</td>\n",
       "      <td>89.467204</td>\n",
       "      <td>46.035423</td>\n",
       "      <td>90.314184</td>\n",
       "      <td>45.045779</td>\n",
       "      <td>88.530614</td>\n",
       "      <td>45.537830</td>\n",
       "      <td>89.447583</td>\n",
       "      <td>2.633266e+08</td>\n",
       "      <td>3.843883e+07</td>\n",
       "    </tr>\n",
       "    <tr>\n",
       "      <th>std</th>\n",
       "      <td>44.319403</td>\n",
       "      <td>85.601362</td>\n",
       "      <td>44.851387</td>\n",
       "      <td>86.492648</td>\n",
       "      <td>43.749395</td>\n",
       "      <td>84.626493</td>\n",
       "      <td>44.295218</td>\n",
       "      <td>85.601217</td>\n",
       "      <td>2.241274e+08</td>\n",
       "      <td>2.169913e+07</td>\n",
       "    </tr>\n",
       "    <tr>\n",
       "      <th>min</th>\n",
       "      <td>5.864507</td>\n",
       "      <td>17.857401</td>\n",
       "      <td>5.985125</td>\n",
       "      <td>18.097989</td>\n",
       "      <td>5.809542</td>\n",
       "      <td>17.640107</td>\n",
       "      <td>5.874278</td>\n",
       "      <td>17.919493</td>\n",
       "      <td>4.100000e+07</td>\n",
       "      <td>7.425600e+06</td>\n",
       "    </tr>\n",
       "    <tr>\n",
       "      <th>25%</th>\n",
       "      <td>16.448139</td>\n",
       "      <td>25.566660</td>\n",
       "      <td>16.592351</td>\n",
       "      <td>25.692514</td>\n",
       "      <td>16.307943</td>\n",
       "      <td>25.308378</td>\n",
       "      <td>16.458712</td>\n",
       "      <td>25.511162</td>\n",
       "      <td>1.061120e+08</td>\n",
       "      <td>2.406050e+07</td>\n",
       "    </tr>\n",
       "    <tr>\n",
       "      <th>50%</th>\n",
       "      <td>26.655197</td>\n",
       "      <td>48.373638</td>\n",
       "      <td>26.917357</td>\n",
       "      <td>48.634932</td>\n",
       "      <td>26.448585</td>\n",
       "      <td>47.843931</td>\n",
       "      <td>26.688814</td>\n",
       "      <td>48.102243</td>\n",
       "      <td>1.762672e+08</td>\n",
       "      <td>3.277580e+07</td>\n",
       "    </tr>\n",
       "    <tr>\n",
       "      <th>75%</th>\n",
       "      <td>50.637508</td>\n",
       "      <td>122.509201</td>\n",
       "      <td>51.033438</td>\n",
       "      <td>123.761090</td>\n",
       "      <td>50.225568</td>\n",
       "      <td>121.931710</td>\n",
       "      <td>50.672313</td>\n",
       "      <td>122.780929</td>\n",
       "      <td>3.584476e+08</td>\n",
       "      <td>4.769180e+07</td>\n",
       "    </tr>\n",
       "    <tr>\n",
       "      <th>max</th>\n",
       "      <td>181.511703</td>\n",
       "      <td>341.606354</td>\n",
       "      <td>182.439174</td>\n",
       "      <td>348.137633</td>\n",
       "      <td>178.629624</td>\n",
       "      <td>340.700368</td>\n",
       "      <td>182.130025</td>\n",
       "      <td>343.109746</td>\n",
       "      <td>1.880998e+09</td>\n",
       "      <td>3.193179e+08</td>\n",
       "    </tr>\n",
       "  </tbody>\n",
       "</table>\n",
       "</div>"
      ],
      "text/plain": [
       "             Close                      High                       Low  \\\n",
       "              AAPL         MSFT         AAPL         MSFT         AAPL   \n",
       "count  3145.000000  3145.000000  3145.000000  3145.000000  3145.000000   \n",
       "mean     45.558384    89.467204    46.035423    90.314184    45.045779   \n",
       "std      44.319403    85.601362    44.851387    86.492648    43.749395   \n",
       "min       5.864507    17.857401     5.985125    18.097989     5.809542   \n",
       "25%      16.448139    25.566660    16.592351    25.692514    16.307943   \n",
       "50%      26.655197    48.373638    26.917357    48.634932    26.448585   \n",
       "75%      50.637508   122.509201    51.033438   123.761090    50.225568   \n",
       "max     181.511703   341.606354   182.439174   348.137633   178.629624   \n",
       "\n",
       "                           Open                     Volume                \n",
       "              MSFT         AAPL         MSFT          AAPL          MSFT  \n",
       "count  3145.000000  3145.000000  3145.000000  3.145000e+03  3.145000e+03  \n",
       "mean     88.530614    45.537830    89.447583  2.633266e+08  3.843883e+07  \n",
       "std      84.626493    44.295218    85.601217  2.241274e+08  2.169913e+07  \n",
       "min      17.640107     5.874278    17.919493  4.100000e+07  7.425600e+06  \n",
       "25%      25.308378    16.458712    25.511162  1.061120e+08  2.406050e+07  \n",
       "50%      47.843931    26.688814    48.102243  1.762672e+08  3.277580e+07  \n",
       "75%     121.931710    50.672313   122.780929  3.584476e+08  4.769180e+07  \n",
       "max     340.700368   182.130025   343.109746  1.880998e+09  3.193179e+08  "
      ]
     },
     "execution_count": 80,
     "metadata": {},
     "output_type": "execute_result"
    }
   ],
   "source": [
    "x.describe()"
   ]
  }
 ],
 "metadata": {
  "kernelspec": {
   "display_name": "frankenfit-venv-dev",
   "language": "python",
   "name": "frankenfit-venv-dev"
  },
  "language_info": {
   "codemirror_mode": {
    "name": "ipython",
    "version": 3
   },
   "file_extension": ".py",
   "mimetype": "text/x-python",
   "name": "python",
   "nbconvert_exporter": "python",
   "pygments_lexer": "ipython3",
   "version": "3.10.4"
  }
 },
 "nbformat": 4,
 "nbformat_minor": 5
}
