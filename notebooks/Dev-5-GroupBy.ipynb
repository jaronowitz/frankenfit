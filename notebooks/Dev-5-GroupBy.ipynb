{
 "cells": [
  {
   "cell_type": "code",
   "execution_count": 1,
   "id": "3c9def6b-b76d-4be9-8c3c-484caea34dde",
   "metadata": {
    "execution": {
     "iopub.execute_input": "2022-09-21T23:23:40.659488Z",
     "iopub.status.busy": "2022-09-21T23:23:40.658963Z",
     "iopub.status.idle": "2022-09-21T23:23:42.058094Z",
     "shell.execute_reply": "2022-09-21T23:23:42.057171Z",
     "shell.execute_reply.started": "2022-09-21T23:23:40.659418Z"
    },
    "tags": []
   },
   "outputs": [],
   "source": [
    "from importlib import reload\n",
    "import pandas as pd\n",
    "import numpy as np\n",
    "import matplotlib.pyplot as plt\n",
    "plt.style.use('./dracula.mplstyle')\n",
    "import logging\n",
    "LOG = logging.getLogger(__name__)\n",
    "LOG.setLevel(logging.INFO)\n",
    "LOG.info('Hello from notebook')\n",
    "\n",
    "from pydataset import data\n",
    "\n",
    "import frankenfit as ff\n",
    "reload(ff.core)\n",
    "reload(ff.transforms)\n",
    "reload(ff.graph)\n",
    "reload(ff)\n",
    "\n",
    "logging.getLogger('frankenfit').setLevel(logging.INFO)"
   ]
  },
  {
   "cell_type": "code",
   "execution_count": 2,
   "id": "8494ffcd-050d-4a2e-9b04-188c5f7c8830",
   "metadata": {
    "execution": {
     "iopub.execute_input": "2022-09-21T23:23:42.059662Z",
     "iopub.status.busy": "2022-09-21T23:23:42.059333Z",
     "iopub.status.idle": "2022-09-21T23:23:42.155199Z",
     "shell.execute_reply": "2022-09-21T23:23:42.153779Z",
     "shell.execute_reply.started": "2022-09-21T23:23:42.059626Z"
    },
    "tags": []
   },
   "outputs": [
    {
     "data": {
      "text/html": [
       "<div>\n",
       "<style scoped>\n",
       "    .dataframe tbody tr th:only-of-type {\n",
       "        vertical-align: middle;\n",
       "    }\n",
       "\n",
       "    .dataframe tbody tr th {\n",
       "        vertical-align: top;\n",
       "    }\n",
       "\n",
       "    .dataframe thead th {\n",
       "        text-align: right;\n",
       "    }\n",
       "</style>\n",
       "<table border=\"1\" class=\"dataframe\">\n",
       "  <thead>\n",
       "    <tr style=\"text-align: right;\">\n",
       "      <th></th>\n",
       "      <th>carat</th>\n",
       "      <th>cut</th>\n",
       "      <th>color</th>\n",
       "      <th>clarity</th>\n",
       "      <th>depth</th>\n",
       "      <th>table</th>\n",
       "      <th>price</th>\n",
       "      <th>x</th>\n",
       "      <th>y</th>\n",
       "      <th>z</th>\n",
       "    </tr>\n",
       "  </thead>\n",
       "  <tbody>\n",
       "    <tr>\n",
       "      <th>0</th>\n",
       "      <td>0.23</td>\n",
       "      <td>Ideal</td>\n",
       "      <td>E</td>\n",
       "      <td>SI2</td>\n",
       "      <td>61.5</td>\n",
       "      <td>55.0</td>\n",
       "      <td>326</td>\n",
       "      <td>3.95</td>\n",
       "      <td>3.98</td>\n",
       "      <td>2.43</td>\n",
       "    </tr>\n",
       "    <tr>\n",
       "      <th>1</th>\n",
       "      <td>0.21</td>\n",
       "      <td>Premium</td>\n",
       "      <td>E</td>\n",
       "      <td>SI1</td>\n",
       "      <td>59.8</td>\n",
       "      <td>61.0</td>\n",
       "      <td>326</td>\n",
       "      <td>3.89</td>\n",
       "      <td>3.84</td>\n",
       "      <td>2.31</td>\n",
       "    </tr>\n",
       "    <tr>\n",
       "      <th>2</th>\n",
       "      <td>0.23</td>\n",
       "      <td>Good</td>\n",
       "      <td>E</td>\n",
       "      <td>VS1</td>\n",
       "      <td>56.9</td>\n",
       "      <td>65.0</td>\n",
       "      <td>327</td>\n",
       "      <td>4.05</td>\n",
       "      <td>4.07</td>\n",
       "      <td>2.31</td>\n",
       "    </tr>\n",
       "    <tr>\n",
       "      <th>3</th>\n",
       "      <td>0.29</td>\n",
       "      <td>Premium</td>\n",
       "      <td>I</td>\n",
       "      <td>VS2</td>\n",
       "      <td>62.4</td>\n",
       "      <td>58.0</td>\n",
       "      <td>334</td>\n",
       "      <td>4.20</td>\n",
       "      <td>4.23</td>\n",
       "      <td>2.63</td>\n",
       "    </tr>\n",
       "    <tr>\n",
       "      <th>4</th>\n",
       "      <td>0.31</td>\n",
       "      <td>Good</td>\n",
       "      <td>J</td>\n",
       "      <td>SI2</td>\n",
       "      <td>63.3</td>\n",
       "      <td>58.0</td>\n",
       "      <td>335</td>\n",
       "      <td>4.34</td>\n",
       "      <td>4.35</td>\n",
       "      <td>2.75</td>\n",
       "    </tr>\n",
       "  </tbody>\n",
       "</table>\n",
       "</div>"
      ],
      "text/plain": [
       "   carat      cut color clarity  depth  table  price     x     y     z\n",
       "0   0.23    Ideal     E     SI2   61.5   55.0    326  3.95  3.98  2.43\n",
       "1   0.21  Premium     E     SI1   59.8   61.0    326  3.89  3.84  2.31\n",
       "2   0.23     Good     E     VS1   56.9   65.0    327  4.05  4.07  2.31\n",
       "3   0.29  Premium     I     VS2   62.4   58.0    334  4.20  4.23  2.63\n",
       "4   0.31     Good     J     SI2   63.3   58.0    335  4.34  4.35  2.75"
      ]
     },
     "execution_count": 2,
     "metadata": {},
     "output_type": "execute_result"
    }
   ],
   "source": [
    "df = data('diamonds').reset_index().drop(['index'], axis=1)\n",
    "ds = ff.PandasDataset(df)\n",
    "df.head()"
   ]
  },
  {
   "cell_type": "code",
   "execution_count": 3,
   "id": "97f35d4a-4766-40b5-aafa-66bf3a2ade97",
   "metadata": {
    "execution": {
     "iopub.execute_input": "2022-09-21T23:23:42.156893Z",
     "iopub.status.busy": "2022-09-21T23:23:42.156516Z",
     "iopub.status.idle": "2022-09-21T23:23:42.177426Z",
     "shell.execute_reply": "2022-09-21T23:23:42.176138Z",
     "shell.execute_reply.started": "2022-09-21T23:23:42.156861Z"
    },
    "tags": []
   },
   "outputs": [
    {
     "data": {
      "text/html": [
       "<div>\n",
       "<style scoped>\n",
       "    .dataframe tbody tr th:only-of-type {\n",
       "        vertical-align: middle;\n",
       "    }\n",
       "\n",
       "    .dataframe tbody tr th {\n",
       "        vertical-align: top;\n",
       "    }\n",
       "\n",
       "    .dataframe thead th {\n",
       "        text-align: right;\n",
       "    }\n",
       "</style>\n",
       "<table border=\"1\" class=\"dataframe\">\n",
       "  <thead>\n",
       "    <tr style=\"text-align: right;\">\n",
       "      <th></th>\n",
       "      <th>table</th>\n",
       "      <th>depth</th>\n",
       "    </tr>\n",
       "    <tr>\n",
       "      <th>cut</th>\n",
       "      <th></th>\n",
       "      <th></th>\n",
       "    </tr>\n",
       "  </thead>\n",
       "  <tbody>\n",
       "    <tr>\n",
       "      <th>Fair</th>\n",
       "      <td>59.053789</td>\n",
       "      <td>64.041677</td>\n",
       "    </tr>\n",
       "    <tr>\n",
       "      <th>Good</th>\n",
       "      <td>58.694639</td>\n",
       "      <td>62.365879</td>\n",
       "    </tr>\n",
       "    <tr>\n",
       "      <th>Ideal</th>\n",
       "      <td>55.951668</td>\n",
       "      <td>61.709401</td>\n",
       "    </tr>\n",
       "    <tr>\n",
       "      <th>Premium</th>\n",
       "      <td>58.746095</td>\n",
       "      <td>61.264673</td>\n",
       "    </tr>\n",
       "    <tr>\n",
       "      <th>Very Good</th>\n",
       "      <td>57.956150</td>\n",
       "      <td>61.818275</td>\n",
       "    </tr>\n",
       "  </tbody>\n",
       "</table>\n",
       "</div>"
      ],
      "text/plain": [
       "               table      depth\n",
       "cut                            \n",
       "Fair       59.053789  64.041677\n",
       "Good       58.694639  62.365879\n",
       "Ideal      55.951668  61.709401\n",
       "Premium    58.746095  61.264673\n",
       "Very Good  57.956150  61.818275"
      ]
     },
     "execution_count": 3,
     "metadata": {},
     "output_type": "execute_result"
    }
   ],
   "source": [
    "df.groupby(\"cut\")[[\"table\", \"depth\"]].mean()"
   ]
  },
  {
   "cell_type": "code",
   "execution_count": 3,
   "id": "0e10fe70-1895-4353-8420-857f1751e4c7",
   "metadata": {
    "execution": {
     "iopub.execute_input": "2022-09-20T19:12:20.796693Z",
     "iopub.status.busy": "2022-09-20T19:12:20.795590Z",
     "iopub.status.idle": "2022-09-20T19:12:20.815505Z",
     "shell.execute_reply": "2022-09-20T19:12:20.814213Z",
     "shell.execute_reply.started": "2022-09-20T19:12:20.796651Z"
    },
    "tags": []
   },
   "outputs": [
    {
     "data": {
      "text/plain": [
       "cut\n",
       "Fair          1610\n",
       "Good          4906\n",
       "Ideal        21551\n",
       "Premium      13791\n",
       "Very Good    12082\n",
       "dtype: int64"
      ]
     },
     "execution_count": 3,
     "metadata": {},
     "output_type": "execute_result"
    }
   ],
   "source": [
    "df.groupby(\"cut\").apply(len)"
   ]
  },
  {
   "cell_type": "code",
   "execution_count": 4,
   "id": "8c50a188-3063-4ae5-8aa9-38a5b9f4ebca",
   "metadata": {
    "execution": {
     "iopub.execute_input": "2022-09-20T19:12:36.033147Z",
     "iopub.status.busy": "2022-09-20T19:12:36.032777Z",
     "iopub.status.idle": "2022-09-20T19:12:36.037961Z",
     "shell.execute_reply": "2022-09-20T19:12:36.036656Z",
     "shell.execute_reply.started": "2022-09-20T19:12:36.033126Z"
    },
    "tags": []
   },
   "outputs": [],
   "source": [
    "transform = ff.DeMean([\"table\", \"depth\"])"
   ]
  },
  {
   "cell_type": "code",
   "execution_count": 5,
   "id": "1066d8bb-a7a7-4a66-92d3-3da75c179265",
   "metadata": {
    "execution": {
     "iopub.execute_input": "2022-09-20T19:12:36.702973Z",
     "iopub.status.busy": "2022-09-20T19:12:36.702445Z",
     "iopub.status.idle": "2022-09-20T19:12:36.708538Z",
     "shell.execute_reply": "2022-09-20T19:12:36.707611Z",
     "shell.execute_reply.started": "2022-09-20T19:12:36.702951Z"
    },
    "tags": []
   },
   "outputs": [
    {
     "data": {
      "text/plain": [
       "GroupBy(tag='GroupBy#1', cols=['cut'], transform=DeMean(tag='DeMean#1', cols=['table', 'depth'], w_col=None), fitting_schedule=<function fit_group_on_self at 0x7f9129b39700>)"
      ]
     },
     "execution_count": 5,
     "metadata": {},
     "output_type": "execute_result"
    }
   ],
   "source": [
    "ff.GroupBy(\"cut\", transform)"
   ]
  },
  {
   "cell_type": "code",
   "execution_count": 6,
   "id": "fd9e1317-dbae-4587-8593-5f511902ea94",
   "metadata": {
    "execution": {
     "iopub.execute_input": "2022-09-20T19:13:13.335258Z",
     "iopub.status.busy": "2022-09-20T19:13:13.334711Z",
     "iopub.status.idle": "2022-09-20T19:13:13.383301Z",
     "shell.execute_reply": "2022-09-20T19:13:13.382324Z",
     "shell.execute_reply.started": "2022-09-20T19:13:13.335231Z"
    },
    "tags": []
   },
   "outputs": [
    {
     "data": {
      "text/plain": [
       "\u001b[0;31mInit signature:\u001b[0m\n",
       "\u001b[0mff\u001b[0m\u001b[0;34m.\u001b[0m\u001b[0mGroupBy\u001b[0m\u001b[0;34m(\u001b[0m\u001b[0;34m\u001b[0m\n",
       "\u001b[0;34m\u001b[0m    \u001b[0mcols\u001b[0m\u001b[0;34m:\u001b[0m \u001b[0;34m'str | HP | Iterable[str | HP]'\u001b[0m\u001b[0;34m,\u001b[0m\u001b[0;34m\u001b[0m\n",
       "\u001b[0;34m\u001b[0m    \u001b[0mtransform\u001b[0m\u001b[0;34m:\u001b[0m \u001b[0;34m'ffc.HP | ffc.Transform'\u001b[0m\u001b[0;34m,\u001b[0m\u001b[0;34m\u001b[0m\n",
       "\u001b[0;34m\u001b[0m    \u001b[0mfitting_schedule\u001b[0m\u001b[0;34m:\u001b[0m \u001b[0;34m'Callable'\u001b[0m \u001b[0;34m=\u001b[0m \u001b[0;34m<\u001b[0m\u001b[0mfunction\u001b[0m \u001b[0mfit_group_on_self\u001b[0m \u001b[0mat\u001b[0m \u001b[0;36m0x7f9129b39700\u001b[0m\u001b[0;34m>\u001b[0m\u001b[0;34m,\u001b[0m\u001b[0;34m\u001b[0m\n",
       "\u001b[0;34m\u001b[0m    \u001b[0;34m*\u001b[0m\u001b[0;34m,\u001b[0m\u001b[0;34m\u001b[0m\n",
       "\u001b[0;34m\u001b[0m    \u001b[0mtag\u001b[0m\u001b[0;34m:\u001b[0m \u001b[0;34m'str'\u001b[0m \u001b[0;34m=\u001b[0m \u001b[0mNOTHING\u001b[0m\u001b[0;34m,\u001b[0m\u001b[0;34m\u001b[0m\n",
       "\u001b[0;34m\u001b[0m\u001b[0;34m)\u001b[0m \u001b[0;34m->\u001b[0m \u001b[0;32mNone\u001b[0m\u001b[0;34m\u001b[0m\u001b[0;34m\u001b[0m\u001b[0m\n",
       "\u001b[0;31mDocstring:\u001b[0m     \n",
       "Group the fitting and application of a :class:`Transform` by the distinct values of\n",
       "some column or combination of columns.\n",
       "\u001b[0;31mInit docstring:\u001b[0m Method generated by attrs for class GroupBy.\n",
       "\u001b[0;31mFile:\u001b[0m           ~/projects/frankenfit/src/frankenfit/graph.py\n",
       "\u001b[0;31mType:\u001b[0m           ABCMeta\n",
       "\u001b[0;31mSubclasses:\u001b[0m     \n"
      ]
     },
     "metadata": {},
     "output_type": "display_data"
    }
   ],
   "source": [
    "ff.GroupBy?"
   ]
  },
  {
   "cell_type": "code",
   "execution_count": 229,
   "id": "deaabdb2-69aa-48d2-a544-085f550e682d",
   "metadata": {
    "execution": {
     "iopub.execute_input": "2022-07-07T15:12:21.082776Z",
     "iopub.status.busy": "2022-07-07T15:12:21.082114Z",
     "iopub.status.idle": "2022-07-07T15:12:21.102519Z",
     "shell.execute_reply": "2022-07-07T15:12:21.101315Z",
     "shell.execute_reply.started": "2022-07-07T15:12:21.082756Z"
    },
    "tags": []
   },
   "outputs": [],
   "source": [
    "fit_gb = ff.GroupBy(\"cut\", transform).fit(df)"
   ]
  },
  {
   "cell_type": "code",
   "execution_count": 230,
   "id": "7ff2dbde-2f70-4431-8472-b19cfa482c8e",
   "metadata": {
    "execution": {
     "iopub.execute_input": "2022-07-07T15:12:21.243934Z",
     "iopub.status.busy": "2022-07-07T15:12:21.243664Z",
     "iopub.status.idle": "2022-07-07T15:12:21.252168Z",
     "shell.execute_reply": "2022-07-07T15:12:21.251283Z",
     "shell.execute_reply.started": "2022-07-07T15:12:21.243915Z"
    },
    "tags": []
   },
   "outputs": [
    {
     "data": {
      "text/html": [
       "<div>\n",
       "<style scoped>\n",
       "    .dataframe tbody tr th:only-of-type {\n",
       "        vertical-align: middle;\n",
       "    }\n",
       "\n",
       "    .dataframe tbody tr th {\n",
       "        vertical-align: top;\n",
       "    }\n",
       "\n",
       "    .dataframe thead th {\n",
       "        text-align: right;\n",
       "    }\n",
       "</style>\n",
       "<table border=\"1\" class=\"dataframe\">\n",
       "  <thead>\n",
       "    <tr style=\"text-align: right;\">\n",
       "      <th></th>\n",
       "      <th>cut</th>\n",
       "      <th>__state__</th>\n",
       "    </tr>\n",
       "  </thead>\n",
       "  <tbody>\n",
       "    <tr>\n",
       "      <th>0</th>\n",
       "      <td>Ideal</td>\n",
       "      <td>FitDeMean(cols=['table', 'depth'], w_col=None, &lt;21551 rows of fitting data&gt;)</td>\n",
       "    </tr>\n",
       "    <tr>\n",
       "      <th>1</th>\n",
       "      <td>Premium</td>\n",
       "      <td>FitDeMean(cols=['table', 'depth'], w_col=None, &lt;13791 rows of fitting data&gt;)</td>\n",
       "    </tr>\n",
       "    <tr>\n",
       "      <th>2</th>\n",
       "      <td>Good</td>\n",
       "      <td>FitDeMean(cols=['table', 'depth'], w_col=None, &lt;4906 rows of fitting data&gt;)</td>\n",
       "    </tr>\n",
       "    <tr>\n",
       "      <th>3</th>\n",
       "      <td>Very Good</td>\n",
       "      <td>FitDeMean(cols=['table', 'depth'], w_col=None, &lt;12082 rows of fitting data&gt;)</td>\n",
       "    </tr>\n",
       "    <tr>\n",
       "      <th>4</th>\n",
       "      <td>Fair</td>\n",
       "      <td>FitDeMean(cols=['table', 'depth'], w_col=None, &lt;1610 rows of fitting data&gt;)</td>\n",
       "    </tr>\n",
       "  </tbody>\n",
       "</table>\n",
       "</div>"
      ],
      "text/plain": [
       "         cut  \\\n",
       "0      Ideal   \n",
       "1    Premium   \n",
       "2       Good   \n",
       "3  Very Good   \n",
       "4       Fair   \n",
       "\n",
       "                                                                      __state__  \n",
       "0  FitDeMean(cols=['table', 'depth'], w_col=None, <21551 rows of fitting data>)  \n",
       "1  FitDeMean(cols=['table', 'depth'], w_col=None, <13791 rows of fitting data>)  \n",
       "2   FitDeMean(cols=['table', 'depth'], w_col=None, <4906 rows of fitting data>)  \n",
       "3  FitDeMean(cols=['table', 'depth'], w_col=None, <12082 rows of fitting data>)  \n",
       "4   FitDeMean(cols=['table', 'depth'], w_col=None, <1610 rows of fitting data>)  "
      ]
     },
     "execution_count": 230,
     "metadata": {},
     "output_type": "execute_result"
    }
   ],
   "source": [
    "s = fit_gb.state()\n",
    "s"
   ]
  },
  {
   "cell_type": "code",
   "execution_count": 231,
   "id": "9577023f-f623-4779-a62d-58aa584dc1e6",
   "metadata": {
    "execution": {
     "iopub.execute_input": "2022-07-07T15:12:21.367198Z",
     "iopub.status.busy": "2022-07-07T15:12:21.366511Z",
     "iopub.status.idle": "2022-07-07T15:12:21.374360Z",
     "shell.execute_reply": "2022-07-07T15:12:21.372218Z",
     "shell.execute_reply.started": "2022-07-07T15:12:21.367176Z"
    },
    "tags": []
   },
   "outputs": [
    {
     "data": {
      "text/plain": [
       "53940"
      ]
     },
     "execution_count": 231,
     "metadata": {},
     "output_type": "execute_result"
    }
   ],
   "source": [
    "len(df)"
   ]
  },
  {
   "cell_type": "code",
   "execution_count": 232,
   "id": "8c063972-5e7d-42e4-b42d-812f29635d8c",
   "metadata": {
    "execution": {
     "iopub.execute_input": "2022-07-07T15:12:21.527419Z",
     "iopub.status.busy": "2022-07-07T15:12:21.527021Z",
     "iopub.status.idle": "2022-07-07T15:12:21.587033Z",
     "shell.execute_reply": "2022-07-07T15:12:21.586388Z",
     "shell.execute_reply.started": "2022-07-07T15:12:21.527396Z"
    },
    "tags": []
   },
   "outputs": [
    {
     "data": {
      "text/html": [
       "<div>\n",
       "<style scoped>\n",
       "    .dataframe tbody tr th:only-of-type {\n",
       "        vertical-align: middle;\n",
       "    }\n",
       "\n",
       "    .dataframe tbody tr th {\n",
       "        vertical-align: top;\n",
       "    }\n",
       "\n",
       "    .dataframe thead th {\n",
       "        text-align: right;\n",
       "    }\n",
       "</style>\n",
       "<table border=\"1\" class=\"dataframe\">\n",
       "  <thead>\n",
       "    <tr style=\"text-align: right;\">\n",
       "      <th></th>\n",
       "      <th>carat</th>\n",
       "      <th>cut</th>\n",
       "      <th>color</th>\n",
       "      <th>clarity</th>\n",
       "      <th>depth</th>\n",
       "      <th>table</th>\n",
       "      <th>price</th>\n",
       "      <th>x</th>\n",
       "      <th>y</th>\n",
       "      <th>z</th>\n",
       "    </tr>\n",
       "  </thead>\n",
       "  <tbody>\n",
       "    <tr>\n",
       "      <th>0</th>\n",
       "      <td>0.23</td>\n",
       "      <td>Ideal</td>\n",
       "      <td>E</td>\n",
       "      <td>SI2</td>\n",
       "      <td>-0.209401</td>\n",
       "      <td>-0.951668</td>\n",
       "      <td>326</td>\n",
       "      <td>3.95</td>\n",
       "      <td>3.98</td>\n",
       "      <td>2.43</td>\n",
       "    </tr>\n",
       "    <tr>\n",
       "      <th>1</th>\n",
       "      <td>0.21</td>\n",
       "      <td>Premium</td>\n",
       "      <td>E</td>\n",
       "      <td>SI1</td>\n",
       "      <td>-1.464673</td>\n",
       "      <td>2.253905</td>\n",
       "      <td>326</td>\n",
       "      <td>3.89</td>\n",
       "      <td>3.84</td>\n",
       "      <td>2.31</td>\n",
       "    </tr>\n",
       "    <tr>\n",
       "      <th>2</th>\n",
       "      <td>0.23</td>\n",
       "      <td>Good</td>\n",
       "      <td>E</td>\n",
       "      <td>VS1</td>\n",
       "      <td>-5.465879</td>\n",
       "      <td>6.305361</td>\n",
       "      <td>327</td>\n",
       "      <td>4.05</td>\n",
       "      <td>4.07</td>\n",
       "      <td>2.31</td>\n",
       "    </tr>\n",
       "    <tr>\n",
       "      <th>3</th>\n",
       "      <td>0.29</td>\n",
       "      <td>Premium</td>\n",
       "      <td>I</td>\n",
       "      <td>VS2</td>\n",
       "      <td>1.135327</td>\n",
       "      <td>-0.746095</td>\n",
       "      <td>334</td>\n",
       "      <td>4.20</td>\n",
       "      <td>4.23</td>\n",
       "      <td>2.63</td>\n",
       "    </tr>\n",
       "    <tr>\n",
       "      <th>4</th>\n",
       "      <td>0.31</td>\n",
       "      <td>Good</td>\n",
       "      <td>J</td>\n",
       "      <td>SI2</td>\n",
       "      <td>0.934121</td>\n",
       "      <td>-0.694639</td>\n",
       "      <td>335</td>\n",
       "      <td>4.34</td>\n",
       "      <td>4.35</td>\n",
       "      <td>2.75</td>\n",
       "    </tr>\n",
       "  </tbody>\n",
       "</table>\n",
       "</div>"
      ],
      "text/plain": [
       "   carat      cut color clarity     depth     table  price     x     y     z\n",
       "0   0.23    Ideal     E     SI2 -0.209401 -0.951668    326  3.95  3.98  2.43\n",
       "1   0.21  Premium     E     SI1 -1.464673  2.253905    326  3.89  3.84  2.31\n",
       "2   0.23     Good     E     VS1 -5.465879  6.305361    327  4.05  4.07  2.31\n",
       "3   0.29  Premium     I     VS2  1.135327 -0.746095    334  4.20  4.23  2.63\n",
       "4   0.31     Good     J     SI2  0.934121 -0.694639    335  4.34  4.35  2.75"
      ]
     },
     "execution_count": 232,
     "metadata": {},
     "output_type": "execute_result"
    }
   ],
   "source": [
    "result_df = fit_gb.apply(df)\n",
    "result_df.head()"
   ]
  },
  {
   "cell_type": "code",
   "execution_count": 233,
   "id": "740d0a62-b522-48d2-80e8-f5ec397f85ba",
   "metadata": {
    "execution": {
     "iopub.execute_input": "2022-07-07T15:12:21.652356Z",
     "iopub.status.busy": "2022-07-07T15:12:21.651893Z",
     "iopub.status.idle": "2022-07-07T15:12:21.665369Z",
     "shell.execute_reply": "2022-07-07T15:12:21.664296Z",
     "shell.execute_reply.started": "2022-07-07T15:12:21.652336Z"
    },
    "tags": []
   },
   "outputs": [
    {
     "data": {
      "text/plain": [
       "table    2.375326e-15\n",
       "depth   -4.944555e-15\n",
       "dtype: float64"
      ]
     },
     "execution_count": 233,
     "metadata": {},
     "output_type": "execute_result"
    }
   ],
   "source": [
    "result_df[[\"table\", \"depth\"]].mean()"
   ]
  },
  {
   "cell_type": "code",
   "execution_count": 234,
   "id": "d785ef38-9623-4aa1-830a-bbbf8be8a2c1",
   "metadata": {
    "execution": {
     "iopub.execute_input": "2022-07-07T15:12:21.797252Z",
     "iopub.status.busy": "2022-07-07T15:12:21.796999Z",
     "iopub.status.idle": "2022-07-07T15:12:21.814978Z",
     "shell.execute_reply": "2022-07-07T15:12:21.813379Z",
     "shell.execute_reply.started": "2022-07-07T15:12:21.797235Z"
    },
    "tags": []
   },
   "outputs": [
    {
     "data": {
      "text/html": [
       "<div>\n",
       "<style scoped>\n",
       "    .dataframe tbody tr th:only-of-type {\n",
       "        vertical-align: middle;\n",
       "    }\n",
       "\n",
       "    .dataframe tbody tr th {\n",
       "        vertical-align: top;\n",
       "    }\n",
       "\n",
       "    .dataframe thead th {\n",
       "        text-align: right;\n",
       "    }\n",
       "</style>\n",
       "<table border=\"1\" class=\"dataframe\">\n",
       "  <thead>\n",
       "    <tr style=\"text-align: right;\">\n",
       "      <th></th>\n",
       "      <th>table</th>\n",
       "      <th>depth</th>\n",
       "    </tr>\n",
       "    <tr>\n",
       "      <th>cut</th>\n",
       "      <th></th>\n",
       "      <th></th>\n",
       "    </tr>\n",
       "  </thead>\n",
       "  <tbody>\n",
       "    <tr>\n",
       "      <th>Fair</th>\n",
       "      <td>-5.825568e-16</td>\n",
       "      <td>-9.488614e-15</td>\n",
       "    </tr>\n",
       "    <tr>\n",
       "      <th>Good</th>\n",
       "      <td>-1.283206e-15</td>\n",
       "      <td>-1.257136e-15</td>\n",
       "    </tr>\n",
       "    <tr>\n",
       "      <th>Ideal</th>\n",
       "      <td>7.751315e-15</td>\n",
       "      <td>-2.420019e-15</td>\n",
       "    </tr>\n",
       "    <tr>\n",
       "      <th>Premium</th>\n",
       "      <td>-2.649787e-15</td>\n",
       "      <td>-1.010763e-14</td>\n",
       "    </tr>\n",
       "    <tr>\n",
       "      <th>Very Good</th>\n",
       "      <td>3.934391e-16</td>\n",
       "      <td>-4.456036e-15</td>\n",
       "    </tr>\n",
       "  </tbody>\n",
       "</table>\n",
       "</div>"
      ],
      "text/plain": [
       "                  table         depth\n",
       "cut                                  \n",
       "Fair      -5.825568e-16 -9.488614e-15\n",
       "Good      -1.283206e-15 -1.257136e-15\n",
       "Ideal      7.751315e-15 -2.420019e-15\n",
       "Premium   -2.649787e-15 -1.010763e-14\n",
       "Very Good  3.934391e-16 -4.456036e-15"
      ]
     },
     "execution_count": 234,
     "metadata": {},
     "output_type": "execute_result"
    }
   ],
   "source": [
    "result_df.groupby(\"cut\")[[\"table\", \"depth\"]].mean()"
   ]
  },
  {
   "cell_type": "code",
   "execution_count": 19,
   "id": "8f6bcc9f-edb2-47f5-a80f-19f2705809dc",
   "metadata": {
    "execution": {
     "iopub.execute_input": "2022-09-20T19:15:25.221870Z",
     "iopub.status.busy": "2022-09-20T19:15:25.221494Z",
     "iopub.status.idle": "2022-09-20T19:15:25.229009Z",
     "shell.execute_reply": "2022-09-20T19:15:25.227482Z",
     "shell.execute_reply.started": "2022-09-20T19:15:25.221848Z"
    },
    "tags": []
   },
   "outputs": [
    {
     "data": {
      "text/plain": [
       "Pipeline(tag='Pipeline#11', dataset_name='__pass__', transforms=[StatelessLambda(tag='StatelessLambda#4', apply_fun=<built-in function len>)])"
      ]
     },
     "execution_count": 19,
     "metadata": {},
     "output_type": "execute_result"
    }
   ],
   "source": [
    "pip = (\n",
    "    ff.Pipeline()\n",
    "    .stateless_lambda(len)\n",
    ")\n",
    "pip"
   ]
  },
  {
   "cell_type": "code",
   "execution_count": 20,
   "id": "8d96efef-1943-46c4-9f41-9435043a6608",
   "metadata": {
    "execution": {
     "iopub.execute_input": "2022-09-20T19:15:25.678578Z",
     "iopub.status.busy": "2022-09-20T19:15:25.678256Z",
     "iopub.status.idle": "2022-09-20T19:15:25.685746Z",
     "shell.execute_reply": "2022-09-20T19:15:25.684674Z",
     "shell.execute_reply.started": "2022-09-20T19:15:25.678555Z"
    },
    "tags": []
   },
   "outputs": [
    {
     "data": {
      "text/plain": [
       "53940"
      ]
     },
     "execution_count": 20,
     "metadata": {},
     "output_type": "execute_result"
    }
   ],
   "source": [
    "pip.fit(df).apply(df)"
   ]
  },
  {
   "cell_type": "code",
   "execution_count": 25,
   "id": "ad55dd93-93ab-4ac9-92ed-d4574cc3e1d2",
   "metadata": {
    "execution": {
     "iopub.execute_input": "2022-09-20T19:18:08.040702Z",
     "iopub.status.busy": "2022-09-20T19:18:08.039852Z",
     "iopub.status.idle": "2022-09-20T19:18:08.118768Z",
     "shell.execute_reply": "2022-09-20T19:18:08.117728Z",
     "shell.execute_reply.started": "2022-09-20T19:18:08.040674Z"
    },
    "tags": []
   },
   "outputs": [
    {
     "data": {
      "text/html": [
       "<div>\n",
       "<style scoped>\n",
       "    .dataframe tbody tr th:only-of-type {\n",
       "        vertical-align: middle;\n",
       "    }\n",
       "\n",
       "    .dataframe tbody tr th {\n",
       "        vertical-align: top;\n",
       "    }\n",
       "\n",
       "    .dataframe thead th {\n",
       "        text-align: right;\n",
       "    }\n",
       "</style>\n",
       "<table border=\"1\" class=\"dataframe\">\n",
       "  <thead>\n",
       "    <tr style=\"text-align: right;\">\n",
       "      <th></th>\n",
       "      <th>cut</th>\n",
       "      <th>None</th>\n",
       "    </tr>\n",
       "  </thead>\n",
       "  <tbody>\n",
       "    <tr>\n",
       "      <th>0</th>\n",
       "      <td>Ideal</td>\n",
       "      <td>21551</td>\n",
       "    </tr>\n",
       "    <tr>\n",
       "      <th>1</th>\n",
       "      <td>Premium</td>\n",
       "      <td>13791</td>\n",
       "    </tr>\n",
       "    <tr>\n",
       "      <th>2</th>\n",
       "      <td>Good</td>\n",
       "      <td>4906</td>\n",
       "    </tr>\n",
       "    <tr>\n",
       "      <th>3</th>\n",
       "      <td>Very Good</td>\n",
       "      <td>12082</td>\n",
       "    </tr>\n",
       "    <tr>\n",
       "      <th>4</th>\n",
       "      <td>Fair</td>\n",
       "      <td>1610</td>\n",
       "    </tr>\n",
       "  </tbody>\n",
       "</table>\n",
       "</div>"
      ],
      "text/plain": [
       "         cut   None\n",
       "0      Ideal  21551\n",
       "1    Premium  13791\n",
       "2       Good   4906\n",
       "3  Very Good  12082\n",
       "4       Fair   1610"
      ]
     },
     "execution_count": 25,
     "metadata": {},
     "output_type": "execute_result"
    }
   ],
   "source": [
    "ff.GroupBy(\"cut\", pip).fit(df).apply(df)"
   ]
  },
  {
   "cell_type": "code",
   "execution_count": 22,
   "id": "dcbaf240-0062-48dc-a1e6-1197ba45031a",
   "metadata": {
    "execution": {
     "iopub.execute_input": "2022-09-20T19:15:28.524705Z",
     "iopub.status.busy": "2022-09-20T19:15:28.524270Z",
     "iopub.status.idle": "2022-09-20T19:15:28.544098Z",
     "shell.execute_reply": "2022-09-20T19:15:28.542966Z",
     "shell.execute_reply.started": "2022-09-20T19:15:28.524676Z"
    },
    "tags": []
   },
   "outputs": [
    {
     "data": {
      "text/html": [
       "<div>\n",
       "<style scoped>\n",
       "    .dataframe tbody tr th:only-of-type {\n",
       "        vertical-align: middle;\n",
       "    }\n",
       "\n",
       "    .dataframe tbody tr th {\n",
       "        vertical-align: top;\n",
       "    }\n",
       "\n",
       "    .dataframe thead th {\n",
       "        text-align: right;\n",
       "    }\n",
       "</style>\n",
       "<table border=\"1\" class=\"dataframe\">\n",
       "  <thead>\n",
       "    <tr style=\"text-align: right;\">\n",
       "      <th></th>\n",
       "      <th>cut</th>\n",
       "      <th>None</th>\n",
       "    </tr>\n",
       "  </thead>\n",
       "  <tbody>\n",
       "    <tr>\n",
       "      <th>0</th>\n",
       "      <td>Ideal</td>\n",
       "      <td>21551</td>\n",
       "    </tr>\n",
       "    <tr>\n",
       "      <th>1</th>\n",
       "      <td>Premium</td>\n",
       "      <td>13791</td>\n",
       "    </tr>\n",
       "    <tr>\n",
       "      <th>2</th>\n",
       "      <td>Good</td>\n",
       "      <td>4906</td>\n",
       "    </tr>\n",
       "    <tr>\n",
       "      <th>3</th>\n",
       "      <td>Very Good</td>\n",
       "      <td>12082</td>\n",
       "    </tr>\n",
       "    <tr>\n",
       "      <th>4</th>\n",
       "      <td>Fair</td>\n",
       "      <td>1610</td>\n",
       "    </tr>\n",
       "  </tbody>\n",
       "</table>\n",
       "</div>"
      ],
      "text/plain": [
       "         cut   None\n",
       "0      Ideal  21551\n",
       "1    Premium  13791\n",
       "2       Good   4906\n",
       "3  Very Good  12082\n",
       "4       Fair   1610"
      ]
     },
     "execution_count": 22,
     "metadata": {},
     "output_type": "execute_result"
    }
   ],
   "source": [
    "df.groupby(\"cut\", as_index=False, sort=False).apply(len)"
   ]
  },
  {
   "cell_type": "code",
   "execution_count": 13,
   "id": "791ac285-3bbb-4c97-ac6f-b1a337beda29",
   "metadata": {
    "execution": {
     "iopub.execute_input": "2022-09-20T19:14:35.271956Z",
     "iopub.status.busy": "2022-09-20T19:14:35.271679Z",
     "iopub.status.idle": "2022-09-20T19:14:35.278472Z",
     "shell.execute_reply": "2022-09-20T19:14:35.277324Z",
     "shell.execute_reply.started": "2022-09-20T19:14:35.271938Z"
    },
    "tags": []
   },
   "outputs": [
    {
     "data": {
      "text/plain": [
       "Pipeline(tag='Pipeline#7', dataset_name='__pass__', transforms=[GroupBy(tag='GroupBy#4', cols=['cut'], transform=StatelessLambda(tag='StatelessLambda#3', apply_fun=<built-in function len>), fitting_schedule=<function fit_group_on_self at 0x7f9129b39700>)])"
      ]
     },
     "execution_count": 13,
     "metadata": {},
     "output_type": "execute_result"
    }
   ],
   "source": [
    "pip = (\n",
    "    ff.Pipeline()\n",
    "    .group_by(\"cut\")\n",
    "        .stateless_lambda(len)\n",
    ")\n",
    "pip"
   ]
  },
  {
   "cell_type": "code",
   "execution_count": 14,
   "id": "a828dbba-1c69-4344-8279-c0b68d57e7ae",
   "metadata": {
    "execution": {
     "iopub.execute_input": "2022-09-20T19:14:36.111513Z",
     "iopub.status.busy": "2022-09-20T19:14:36.110786Z",
     "iopub.status.idle": "2022-09-20T19:14:36.228749Z",
     "shell.execute_reply": "2022-09-20T19:14:36.227839Z",
     "shell.execute_reply.started": "2022-09-20T19:14:36.111488Z"
    },
    "tags": []
   },
   "outputs": [
    {
     "data": {
      "text/html": [
       "<div>\n",
       "<style scoped>\n",
       "    .dataframe tbody tr th:only-of-type {\n",
       "        vertical-align: middle;\n",
       "    }\n",
       "\n",
       "    .dataframe tbody tr th {\n",
       "        vertical-align: top;\n",
       "    }\n",
       "\n",
       "    .dataframe thead th {\n",
       "        text-align: right;\n",
       "    }\n",
       "</style>\n",
       "<table border=\"1\" class=\"dataframe\">\n",
       "  <thead>\n",
       "    <tr style=\"text-align: right;\">\n",
       "      <th></th>\n",
       "      <th>cut</th>\n",
       "      <th>None</th>\n",
       "    </tr>\n",
       "  </thead>\n",
       "  <tbody>\n",
       "    <tr>\n",
       "      <th>0</th>\n",
       "      <td>Ideal</td>\n",
       "      <td>21551</td>\n",
       "    </tr>\n",
       "    <tr>\n",
       "      <th>1</th>\n",
       "      <td>Premium</td>\n",
       "      <td>13791</td>\n",
       "    </tr>\n",
       "    <tr>\n",
       "      <th>2</th>\n",
       "      <td>Good</td>\n",
       "      <td>4906</td>\n",
       "    </tr>\n",
       "    <tr>\n",
       "      <th>3</th>\n",
       "      <td>Very Good</td>\n",
       "      <td>12082</td>\n",
       "    </tr>\n",
       "    <tr>\n",
       "      <th>4</th>\n",
       "      <td>Fair</td>\n",
       "      <td>1610</td>\n",
       "    </tr>\n",
       "  </tbody>\n",
       "</table>\n",
       "</div>"
      ],
      "text/plain": [
       "         cut   None\n",
       "0      Ideal  21551\n",
       "1    Premium  13791\n",
       "2       Good   4906\n",
       "3  Very Good  12082\n",
       "4       Fair   1610"
      ]
     },
     "execution_count": 14,
     "metadata": {},
     "output_type": "execute_result"
    }
   ],
   "source": [
    "pip.fit(df).apply(df)"
   ]
  },
  {
   "cell_type": "code",
   "execution_count": 15,
   "id": "9281d4cc-05c2-4553-9b1a-a6b090af1f6b",
   "metadata": {
    "execution": {
     "iopub.execute_input": "2022-09-20T19:14:54.082786Z",
     "iopub.status.busy": "2022-09-20T19:14:54.081883Z",
     "iopub.status.idle": "2022-09-20T19:14:54.089078Z",
     "shell.execute_reply": "2022-09-20T19:14:54.087967Z",
     "shell.execute_reply.started": "2022-09-20T19:14:54.082750Z"
    },
    "tags": []
   },
   "outputs": [
    {
     "data": {
      "text/plain": [
       "<pandas.core.groupby.generic.DataFrameGroupBy object at 0x7f9129ad0e20>"
      ]
     },
     "execution_count": 15,
     "metadata": {},
     "output_type": "execute_result"
    }
   ],
   "source": [
    "df.groupby(\"cut\")"
   ]
  },
  {
   "cell_type": "code",
   "execution_count": 17,
   "id": "bdb604a7-8b4b-48ce-acb3-6d6948dd87aa",
   "metadata": {
    "execution": {
     "iopub.execute_input": "2022-09-20T19:15:02.574869Z",
     "iopub.status.busy": "2022-09-20T19:15:02.574275Z",
     "iopub.status.idle": "2022-09-20T19:15:02.580495Z",
     "shell.execute_reply": "2022-09-20T19:15:02.579027Z",
     "shell.execute_reply.started": "2022-09-20T19:15:02.574831Z"
    },
    "tags": []
   },
   "outputs": [],
   "source": [
    "gb = ff.Pipeline().group_by(\"cut\")"
   ]
  },
  {
   "cell_type": "code",
   "execution_count": 18,
   "id": "4c6f64db-0c1a-4248-bfa7-81ba865ff8ce",
   "metadata": {
    "execution": {
     "iopub.execute_input": "2022-09-20T19:15:04.181964Z",
     "iopub.status.busy": "2022-09-20T19:15:04.181342Z",
     "iopub.status.idle": "2022-09-20T19:15:04.189473Z",
     "shell.execute_reply": "2022-09-20T19:15:04.188062Z",
     "shell.execute_reply.started": "2022-09-20T19:15:04.181922Z"
    },
    "tags": []
   },
   "outputs": [
    {
     "data": {
      "text/plain": [
       "PipelineGrouper('cut', Pipeline(tag='Pipeline#9', dataset_name='__pass__', transforms=[]))"
      ]
     },
     "execution_count": 18,
     "metadata": {},
     "output_type": "execute_result"
    }
   ],
   "source": [
    "gb"
   ]
  },
  {
   "cell_type": "code",
   "execution_count": 26,
   "id": "01dd7756-17c4-4cb7-9cbd-2feb895bb1c9",
   "metadata": {
    "execution": {
     "iopub.execute_input": "2022-09-20T19:18:19.907052Z",
     "iopub.status.busy": "2022-09-20T19:18:19.906533Z",
     "iopub.status.idle": "2022-09-20T19:18:20.389264Z",
     "shell.execute_reply": "2022-09-20T19:18:20.387770Z",
     "shell.execute_reply.started": "2022-09-20T19:18:19.907028Z"
    },
    "tags": []
   },
   "outputs": [
    {
     "name": "stderr",
     "output_type": "stream",
     "text": [
      "/home/max/projects/frankenfit/.venv-dev/lib/python3.9/site-packages/numpy/core/fromnumeric.py:3430: FutureWarning: In a future version, DataFrame.mean(axis=None) will return a scalar mean over the entire DataFrame. To retain the old behavior, use 'frame.mean(axis=0)' or just 'frame.mean()'\n",
      "  return mean(axis=axis, dtype=dtype, out=out, **kwargs)\n",
      "/home/max/projects/frankenfit/.venv-dev/lib/python3.9/site-packages/numpy/core/fromnumeric.py:3430: FutureWarning: Dropping of nuisance columns in DataFrame reductions (with 'numeric_only=None') is deprecated; in a future version this will raise TypeError.  Select only valid columns before calling the reduction.\n",
      "  return mean(axis=axis, dtype=dtype, out=out, **kwargs)\n"
     ]
    },
    {
     "data": {
      "text/plain": [
       "carat       0.797940\n",
       "depth      61.749405\n",
       "table      57.457184\n",
       "price    3932.799722\n",
       "x           5.731157\n",
       "y           5.734526\n",
       "z           3.538734\n",
       "dtype: float64"
      ]
     },
     "execution_count": 26,
     "metadata": {},
     "output_type": "execute_result"
    }
   ],
   "source": [
    "np.mean(df)"
   ]
  },
  {
   "cell_type": "code",
   "execution_count": 35,
   "id": "300dc352-29b1-4c78-89a8-24904757e19f",
   "metadata": {
    "execution": {
     "iopub.execute_input": "2022-09-20T19:27:23.293005Z",
     "iopub.status.busy": "2022-09-20T19:27:23.292681Z",
     "iopub.status.idle": "2022-09-20T19:27:23.333726Z",
     "shell.execute_reply": "2022-09-20T19:27:23.332925Z",
     "shell.execute_reply.started": "2022-09-20T19:27:23.292975Z"
    },
    "tags": []
   },
   "outputs": [
    {
     "data": {
      "text/html": [
       "<div>\n",
       "<style scoped>\n",
       "    .dataframe tbody tr th:only-of-type {\n",
       "        vertical-align: middle;\n",
       "    }\n",
       "\n",
       "    .dataframe tbody tr th {\n",
       "        vertical-align: top;\n",
       "    }\n",
       "\n",
       "    .dataframe thead tr th {\n",
       "        text-align: left;\n",
       "    }\n",
       "\n",
       "    .dataframe thead tr:last-of-type th {\n",
       "        text-align: right;\n",
       "    }\n",
       "</style>\n",
       "<table border=\"1\" class=\"dataframe\">\n",
       "  <thead>\n",
       "    <tr>\n",
       "      <th></th>\n",
       "      <th colspan=\"8\" halign=\"left\">price</th>\n",
       "    </tr>\n",
       "    <tr>\n",
       "      <th></th>\n",
       "      <th>count</th>\n",
       "      <th>mean</th>\n",
       "      <th>std</th>\n",
       "      <th>min</th>\n",
       "      <th>25%</th>\n",
       "      <th>50%</th>\n",
       "      <th>75%</th>\n",
       "      <th>max</th>\n",
       "    </tr>\n",
       "    <tr>\n",
       "      <th>cut</th>\n",
       "      <th></th>\n",
       "      <th></th>\n",
       "      <th></th>\n",
       "      <th></th>\n",
       "      <th></th>\n",
       "      <th></th>\n",
       "      <th></th>\n",
       "      <th></th>\n",
       "    </tr>\n",
       "  </thead>\n",
       "  <tbody>\n",
       "    <tr>\n",
       "      <th>Fair</th>\n",
       "      <td>1610.0</td>\n",
       "      <td>4358.757764</td>\n",
       "      <td>3560.386612</td>\n",
       "      <td>337.0</td>\n",
       "      <td>2050.25</td>\n",
       "      <td>3282.0</td>\n",
       "      <td>5205.50</td>\n",
       "      <td>18574.0</td>\n",
       "    </tr>\n",
       "    <tr>\n",
       "      <th>Good</th>\n",
       "      <td>4906.0</td>\n",
       "      <td>3928.864452</td>\n",
       "      <td>3681.589584</td>\n",
       "      <td>327.0</td>\n",
       "      <td>1145.00</td>\n",
       "      <td>3050.5</td>\n",
       "      <td>5028.00</td>\n",
       "      <td>18788.0</td>\n",
       "    </tr>\n",
       "    <tr>\n",
       "      <th>Ideal</th>\n",
       "      <td>21551.0</td>\n",
       "      <td>3457.541970</td>\n",
       "      <td>3808.401172</td>\n",
       "      <td>326.0</td>\n",
       "      <td>878.00</td>\n",
       "      <td>1810.0</td>\n",
       "      <td>4678.50</td>\n",
       "      <td>18806.0</td>\n",
       "    </tr>\n",
       "    <tr>\n",
       "      <th>Premium</th>\n",
       "      <td>13791.0</td>\n",
       "      <td>4584.257704</td>\n",
       "      <td>4349.204961</td>\n",
       "      <td>326.0</td>\n",
       "      <td>1046.00</td>\n",
       "      <td>3185.0</td>\n",
       "      <td>6296.00</td>\n",
       "      <td>18823.0</td>\n",
       "    </tr>\n",
       "    <tr>\n",
       "      <th>Very Good</th>\n",
       "      <td>12082.0</td>\n",
       "      <td>3981.759891</td>\n",
       "      <td>3935.862161</td>\n",
       "      <td>336.0</td>\n",
       "      <td>912.00</td>\n",
       "      <td>2648.0</td>\n",
       "      <td>5372.75</td>\n",
       "      <td>18818.0</td>\n",
       "    </tr>\n",
       "  </tbody>\n",
       "</table>\n",
       "</div>"
      ],
      "text/plain": [
       "             price                                                             \\\n",
       "             count         mean          std    min      25%     50%      75%   \n",
       "cut                                                                             \n",
       "Fair        1610.0  4358.757764  3560.386612  337.0  2050.25  3282.0  5205.50   \n",
       "Good        4906.0  3928.864452  3681.589584  327.0  1145.00  3050.5  5028.00   \n",
       "Ideal      21551.0  3457.541970  3808.401172  326.0   878.00  1810.0  4678.50   \n",
       "Premium    13791.0  4584.257704  4349.204961  326.0  1046.00  3185.0  6296.00   \n",
       "Very Good  12082.0  3981.759891  3935.862161  336.0   912.00  2648.0  5372.75   \n",
       "\n",
       "                    \n",
       "               max  \n",
       "cut                 \n",
       "Fair       18574.0  \n",
       "Good       18788.0  \n",
       "Ideal      18806.0  \n",
       "Premium    18823.0  \n",
       "Very Good  18818.0  "
      ]
     },
     "execution_count": 35,
     "metadata": {},
     "output_type": "execute_result"
    }
   ],
   "source": [
    "df.groupby(\"cut\")[[\"price\"]].describe()"
   ]
  },
  {
   "cell_type": "code",
   "execution_count": 38,
   "id": "bb0d5dcc-44c6-4a82-8b5e-595583a39b96",
   "metadata": {
    "execution": {
     "iopub.execute_input": "2022-09-20T19:29:38.475273Z",
     "iopub.status.busy": "2022-09-20T19:29:38.474521Z",
     "iopub.status.idle": "2022-09-20T19:29:38.595484Z",
     "shell.execute_reply": "2022-09-20T19:29:38.594642Z",
     "shell.execute_reply.started": "2022-09-20T19:29:38.475249Z"
    },
    "tags": []
   },
   "outputs": [
    {
     "data": {
      "text/html": [
       "<div>\n",
       "<style scoped>\n",
       "    .dataframe tbody tr th:only-of-type {\n",
       "        vertical-align: middle;\n",
       "    }\n",
       "\n",
       "    .dataframe tbody tr th {\n",
       "        vertical-align: top;\n",
       "    }\n",
       "\n",
       "    .dataframe thead tr th {\n",
       "        text-align: left;\n",
       "    }\n",
       "\n",
       "    .dataframe thead tr:last-of-type th {\n",
       "        text-align: right;\n",
       "    }\n",
       "</style>\n",
       "<table border=\"1\" class=\"dataframe\">\n",
       "  <thead>\n",
       "    <tr>\n",
       "      <th></th>\n",
       "      <th colspan=\"8\" halign=\"left\">price</th>\n",
       "    </tr>\n",
       "    <tr>\n",
       "      <th></th>\n",
       "      <th>count</th>\n",
       "      <th>mean</th>\n",
       "      <th>std</th>\n",
       "      <th>min</th>\n",
       "      <th>25%</th>\n",
       "      <th>50%</th>\n",
       "      <th>75%</th>\n",
       "      <th>max</th>\n",
       "    </tr>\n",
       "    <tr>\n",
       "      <th>cut</th>\n",
       "      <th></th>\n",
       "      <th></th>\n",
       "      <th></th>\n",
       "      <th></th>\n",
       "      <th></th>\n",
       "      <th></th>\n",
       "      <th></th>\n",
       "      <th></th>\n",
       "    </tr>\n",
       "  </thead>\n",
       "  <tbody>\n",
       "    <tr>\n",
       "      <th>Fair</th>\n",
       "      <td>1610.0</td>\n",
       "      <td>2.169230e-13</td>\n",
       "      <td>3560.386612</td>\n",
       "      <td>-4021.757764</td>\n",
       "      <td>-2308.507764</td>\n",
       "      <td>-1076.757764</td>\n",
       "      <td>846.742236</td>\n",
       "      <td>14215.242236</td>\n",
       "    </tr>\n",
       "    <tr>\n",
       "      <th>Good</th>\n",
       "      <td>4906.0</td>\n",
       "      <td>-2.847501e-13</td>\n",
       "      <td>3681.589584</td>\n",
       "      <td>-3601.864452</td>\n",
       "      <td>-2783.864452</td>\n",
       "      <td>-878.364452</td>\n",
       "      <td>1099.135548</td>\n",
       "      <td>14859.135548</td>\n",
       "    </tr>\n",
       "    <tr>\n",
       "      <th>Ideal</th>\n",
       "      <td>21551.0</td>\n",
       "      <td>-1.728593e-13</td>\n",
       "      <td>3808.401172</td>\n",
       "      <td>-3131.541970</td>\n",
       "      <td>-2579.541970</td>\n",
       "      <td>-1647.541970</td>\n",
       "      <td>1220.958030</td>\n",
       "      <td>15348.458030</td>\n",
       "    </tr>\n",
       "    <tr>\n",
       "      <th>Premium</th>\n",
       "      <td>13791.0</td>\n",
       "      <td>5.402495e-13</td>\n",
       "      <td>4349.204961</td>\n",
       "      <td>-4258.257704</td>\n",
       "      <td>-3538.257704</td>\n",
       "      <td>-1399.257704</td>\n",
       "      <td>1711.742296</td>\n",
       "      <td>14238.742296</td>\n",
       "    </tr>\n",
       "    <tr>\n",
       "      <th>Very Good</th>\n",
       "      <td>12082.0</td>\n",
       "      <td>0.000000e+00</td>\n",
       "      <td>3935.862161</td>\n",
       "      <td>-3645.759891</td>\n",
       "      <td>-3069.759891</td>\n",
       "      <td>-1333.759891</td>\n",
       "      <td>1390.990109</td>\n",
       "      <td>14836.240109</td>\n",
       "    </tr>\n",
       "  </tbody>\n",
       "</table>\n",
       "</div>"
      ],
      "text/plain": [
       "             price                                                       \\\n",
       "             count          mean          std          min          25%   \n",
       "cut                                                                       \n",
       "Fair        1610.0  2.169230e-13  3560.386612 -4021.757764 -2308.507764   \n",
       "Good        4906.0 -2.847501e-13  3681.589584 -3601.864452 -2783.864452   \n",
       "Ideal      21551.0 -1.728593e-13  3808.401172 -3131.541970 -2579.541970   \n",
       "Premium    13791.0  5.402495e-13  4349.204961 -4258.257704 -3538.257704   \n",
       "Very Good  12082.0  0.000000e+00  3935.862161 -3645.759891 -3069.759891   \n",
       "\n",
       "                                                   \n",
       "                   50%          75%           max  \n",
       "cut                                                \n",
       "Fair      -1076.757764   846.742236  14215.242236  \n",
       "Good       -878.364452  1099.135548  14859.135548  \n",
       "Ideal     -1647.541970  1220.958030  15348.458030  \n",
       "Premium   -1399.257704  1711.742296  14238.742296  \n",
       "Very Good -1333.759891  1390.990109  14836.240109  "
      ]
     },
     "execution_count": 38,
     "metadata": {},
     "output_type": "execute_result"
    }
   ],
   "source": [
    "x = (\n",
    "    ff.Pipeline()\n",
    "    .group_by(\"cut\")\n",
    "    .de_mean([\"price\"])\n",
    "    [[\"cut\", \"price\"]]\n",
    ").fit_and_apply(df)\n",
    "x.groupby(\"cut\")[[\"price\"]].describe()"
   ]
  },
  {
   "cell_type": "code",
   "execution_count": 7,
   "id": "a9f32a33-d44f-4055-b509-ad53f2b6f2cb",
   "metadata": {
    "execution": {
     "iopub.execute_input": "2022-09-20T19:32:14.532577Z",
     "iopub.status.busy": "2022-09-20T19:32:14.531740Z",
     "iopub.status.idle": "2022-09-20T19:32:14.657928Z",
     "shell.execute_reply": "2022-09-20T19:32:14.656983Z",
     "shell.execute_reply.started": "2022-09-20T19:32:14.532546Z"
    },
    "tags": []
   },
   "outputs": [
    {
     "data": {
      "text/html": [
       "<div>\n",
       "<style scoped>\n",
       "    .dataframe tbody tr th:only-of-type {\n",
       "        vertical-align: middle;\n",
       "    }\n",
       "\n",
       "    .dataframe tbody tr th {\n",
       "        vertical-align: top;\n",
       "    }\n",
       "\n",
       "    .dataframe thead tr th {\n",
       "        text-align: left;\n",
       "    }\n",
       "\n",
       "    .dataframe thead tr:last-of-type th {\n",
       "        text-align: right;\n",
       "    }\n",
       "</style>\n",
       "<table border=\"1\" class=\"dataframe\">\n",
       "  <thead>\n",
       "    <tr>\n",
       "      <th></th>\n",
       "      <th colspan=\"8\" halign=\"left\">price</th>\n",
       "    </tr>\n",
       "    <tr>\n",
       "      <th></th>\n",
       "      <th>count</th>\n",
       "      <th>mean</th>\n",
       "      <th>std</th>\n",
       "      <th>min</th>\n",
       "      <th>25%</th>\n",
       "      <th>50%</th>\n",
       "      <th>75%</th>\n",
       "      <th>max</th>\n",
       "    </tr>\n",
       "    <tr>\n",
       "      <th>cut</th>\n",
       "      <th></th>\n",
       "      <th></th>\n",
       "      <th></th>\n",
       "      <th></th>\n",
       "      <th></th>\n",
       "      <th></th>\n",
       "      <th></th>\n",
       "      <th></th>\n",
       "    </tr>\n",
       "  </thead>\n",
       "  <tbody>\n",
       "    <tr>\n",
       "      <th>Fair</th>\n",
       "      <td>1610.0</td>\n",
       "      <td>439.063191</td>\n",
       "      <td>3560.386612</td>\n",
       "      <td>-3582.694573</td>\n",
       "      <td>-1869.444573</td>\n",
       "      <td>-637.694573</td>\n",
       "      <td>1285.805427</td>\n",
       "      <td>14654.305427</td>\n",
       "    </tr>\n",
       "    <tr>\n",
       "      <th>Good</th>\n",
       "      <td>4906.0</td>\n",
       "      <td>-4.329006</td>\n",
       "      <td>3681.589584</td>\n",
       "      <td>-3606.193458</td>\n",
       "      <td>-2788.193458</td>\n",
       "      <td>-882.693458</td>\n",
       "      <td>1094.806542</td>\n",
       "      <td>14854.806542</td>\n",
       "    </tr>\n",
       "    <tr>\n",
       "      <th>Ideal</th>\n",
       "      <td>21551.0</td>\n",
       "      <td>-791.484860</td>\n",
       "      <td>3808.401172</td>\n",
       "      <td>-3923.026830</td>\n",
       "      <td>-3371.026830</td>\n",
       "      <td>-2439.026830</td>\n",
       "      <td>429.473170</td>\n",
       "      <td>14556.973170</td>\n",
       "    </tr>\n",
       "    <tr>\n",
       "      <th>Premium</th>\n",
       "      <td>13791.0</td>\n",
       "      <td>875.230854</td>\n",
       "      <td>4349.204961</td>\n",
       "      <td>-3383.026850</td>\n",
       "      <td>-2663.026850</td>\n",
       "      <td>-524.026850</td>\n",
       "      <td>2586.973150</td>\n",
       "      <td>15113.973150</td>\n",
       "    </tr>\n",
       "    <tr>\n",
       "      <th>Very Good</th>\n",
       "      <td>12082.0</td>\n",
       "      <td>63.092157</td>\n",
       "      <td>3935.862161</td>\n",
       "      <td>-3582.667734</td>\n",
       "      <td>-3006.667734</td>\n",
       "      <td>-1270.667734</td>\n",
       "      <td>1454.082266</td>\n",
       "      <td>14899.332266</td>\n",
       "    </tr>\n",
       "  </tbody>\n",
       "</table>\n",
       "</div>"
      ],
      "text/plain": [
       "             price                                                     \\\n",
       "             count        mean          std          min          25%   \n",
       "cut                                                                     \n",
       "Fair        1610.0  439.063191  3560.386612 -3582.694573 -1869.444573   \n",
       "Good        4906.0   -4.329006  3681.589584 -3606.193458 -2788.193458   \n",
       "Ideal      21551.0 -791.484860  3808.401172 -3923.026830 -3371.026830   \n",
       "Premium    13791.0  875.230854  4349.204961 -3383.026850 -2663.026850   \n",
       "Very Good  12082.0   63.092157  3935.862161 -3582.667734 -3006.667734   \n",
       "\n",
       "                                                   \n",
       "                   50%          75%           max  \n",
       "cut                                                \n",
       "Fair       -637.694573  1285.805427  14654.305427  \n",
       "Good       -882.693458  1094.806542  14854.806542  \n",
       "Ideal     -2439.026830   429.473170  14556.973170  \n",
       "Premium    -524.026850  2586.973150  15113.973150  \n",
       "Very Good -1270.667734  1454.082266  14899.332266  "
      ]
     },
     "execution_count": 7,
     "metadata": {},
     "output_type": "execute_result"
    }
   ],
   "source": [
    "x = (\n",
    "    ff.Pipeline()\n",
    "    .group_by(\"cut\", fitting_schedule=ff.fit_group_on_all_other_groups)\n",
    "        .de_mean([\"price\"])\n",
    "    [[\"cut\", \"price\"]]\n",
    ").fit_and_apply(df)\n",
    "x.groupby(\"cut\")[[\"price\"]].describe()"
   ]
  },
  {
   "cell_type": "code",
   "execution_count": 6,
   "id": "510cff76-0622-46a3-99ae-0af127c9f62f",
   "metadata": {
    "execution": {
     "iopub.execute_input": "2022-09-20T19:32:12.483230Z",
     "iopub.status.busy": "2022-09-20T19:32:12.482564Z",
     "iopub.status.idle": "2022-09-20T19:32:12.490294Z",
     "shell.execute_reply": "2022-09-20T19:32:12.489048Z",
     "shell.execute_reply.started": "2022-09-20T19:32:12.483205Z"
    },
    "tags": []
   },
   "outputs": [
    {
     "data": {
      "text/plain": [
       "\u001b[0;31mSignature:\u001b[0m \u001b[0mff\u001b[0m\u001b[0;34m.\u001b[0m\u001b[0mPipeline\u001b[0m\u001b[0;34m.\u001b[0m\u001b[0mgroup_by\u001b[0m\u001b[0;34m(\u001b[0m\u001b[0mself\u001b[0m\u001b[0;34m,\u001b[0m \u001b[0mcols\u001b[0m\u001b[0;34m,\u001b[0m \u001b[0mfitting_schedule\u001b[0m\u001b[0;34m=\u001b[0m\u001b[0;32mNone\u001b[0m\u001b[0;34m)\u001b[0m \u001b[0;34m->\u001b[0m \u001b[0;34m'PipelineGrouper'\u001b[0m\u001b[0;34m\u001b[0m\u001b[0;34m\u001b[0m\u001b[0m\n",
       "\u001b[0;31mDocstring:\u001b[0m <no docstring>\n",
       "\u001b[0;31mFile:\u001b[0m      ~/projects/frankenfit/src/frankenfit/graph.py\n",
       "\u001b[0;31mType:\u001b[0m      function\n"
      ]
     },
     "metadata": {},
     "output_type": "display_data"
    }
   ],
   "source": [
    "ff.Pipeline.group_by?"
   ]
  },
  {
   "cell_type": "code",
   "execution_count": 10,
   "id": "e2940046-80cd-47de-aaa4-5c34714129a8",
   "metadata": {
    "execution": {
     "iopub.execute_input": "2022-09-20T20:08:10.060224Z",
     "iopub.status.busy": "2022-09-20T20:08:10.059926Z",
     "iopub.status.idle": "2022-09-20T20:08:10.266974Z",
     "shell.execute_reply": "2022-09-20T20:08:10.265786Z",
     "shell.execute_reply.started": "2022-09-20T20:08:10.060204Z"
    },
    "tags": []
   },
   "outputs": [],
   "source": [
    "pip = (\n",
    "    ff.Pipeline()\n",
    "    .group_by(\"cut\")\n",
    "    .de_mean([\"price\"])\n",
    "    [[\"cut\", \"price\"]]\n",
    ")\n",
    "pip_fit = pip.fit(df)"
   ]
  },
  {
   "cell_type": "code",
   "execution_count": 11,
   "id": "58f07d89-898e-4081-b10f-910392dc5fc1",
   "metadata": {
    "execution": {
     "iopub.execute_input": "2022-09-20T20:08:12.630764Z",
     "iopub.status.busy": "2022-09-20T20:08:12.629763Z",
     "iopub.status.idle": "2022-09-20T20:08:12.636968Z",
     "shell.execute_reply": "2022-09-20T20:08:12.635822Z",
     "shell.execute_reply.started": "2022-09-20T20:08:12.630727Z"
    },
    "tags": []
   },
   "outputs": [
    {
     "data": {
      "text/plain": [
       "Pipeline(tag='Pipeline#9', dataset_name='__pass__', transforms=[GroupBy(tag='GroupBy#3', cols=['cut'], transform=DeMean(tag='DeMean#3', cols=['price'], w_col=None), fitting_schedule=<function fit_group_on_self at 0x7f175fb3f430>), Select(tag='Select#3', cols=['cut', 'price'])])"
      ]
     },
     "execution_count": 11,
     "metadata": {},
     "output_type": "execute_result"
    }
   ],
   "source": [
    "pip"
   ]
  },
  {
   "cell_type": "code",
   "execution_count": 12,
   "id": "3e3f5726-b708-49d5-95e9-71a2d68052af",
   "metadata": {
    "execution": {
     "iopub.execute_input": "2022-09-20T20:08:15.525645Z",
     "iopub.status.busy": "2022-09-20T20:08:15.524613Z",
     "iopub.status.idle": "2022-09-20T20:08:15.533083Z",
     "shell.execute_reply": "2022-09-20T20:08:15.531860Z",
     "shell.execute_reply.started": "2022-09-20T20:08:15.525614Z"
    },
    "tags": []
   },
   "outputs": [
    {
     "data": {
      "text/plain": [
       "FitPipeline(tag='Pipeline#9', dataset_name='__pass__', transforms=[GroupBy(tag='GroupBy#3', cols=['cut'], transform=DeMean(tag='DeMean#3', cols=['price'], w_col=None), fitting_schedule=<function fit_group_on_self at 0x7f175fb3f430>), Select(tag='Select#3', cols=['cut', 'price'])], <53940 rows of fitting data>)"
      ]
     },
     "execution_count": 12,
     "metadata": {},
     "output_type": "execute_result"
    }
   ],
   "source": [
    "pip_fit"
   ]
  },
  {
   "cell_type": "code",
   "execution_count": 19,
   "id": "4763307f-dfb6-4410-bdce-c451038437ab",
   "metadata": {
    "execution": {
     "iopub.execute_input": "2022-09-20T20:10:10.452882Z",
     "iopub.status.busy": "2022-09-20T20:10:10.452253Z",
     "iopub.status.idle": "2022-09-20T20:10:10.461687Z",
     "shell.execute_reply": "2022-09-20T20:10:10.460443Z",
     "shell.execute_reply.started": "2022-09-20T20:10:10.452844Z"
    },
    "tags": []
   },
   "outputs": [
    {
     "data": {
      "text/plain": [
       "price    3457.54197\n",
       "dtype: float64"
      ]
     },
     "execution_count": 19,
     "metadata": {},
     "output_type": "execute_result"
    }
   ],
   "source": [
    "pip_fit.find_by_tag(\"GroupBy#3\").state().loc[0,'__state__'].state()"
   ]
  },
  {
   "cell_type": "code",
   "execution_count": 34,
   "id": "f0db2386-781e-4f22-a6a8-57372fe5f7c8",
   "metadata": {
    "execution": {
     "iopub.execute_input": "2022-09-20T20:13:32.286326Z",
     "iopub.status.busy": "2022-09-20T20:13:32.285715Z",
     "iopub.status.idle": "2022-09-20T20:13:32.293382Z",
     "shell.execute_reply": "2022-09-20T20:13:32.291667Z",
     "shell.execute_reply.started": "2022-09-20T20:13:32.286302Z"
    },
    "tags": []
   },
   "outputs": [
    {
     "data": {
      "text/plain": [
       "pandas.core.series.Series"
      ]
     },
     "execution_count": 34,
     "metadata": {},
     "output_type": "execute_result"
    }
   ],
   "source": [
    "s = pip_fit.find_by_tag(\"GroupBy#3\").state().loc[0,'__state__'].state()\n",
    "type(s)"
   ]
  },
  {
   "cell_type": "code",
   "execution_count": 32,
   "id": "959a681a-548c-43e3-ba3c-ff5ad20373c3",
   "metadata": {
    "execution": {
     "iopub.execute_input": "2022-09-20T20:13:06.443499Z",
     "iopub.status.busy": "2022-09-20T20:13:06.442751Z",
     "iopub.status.idle": "2022-09-20T20:13:06.468592Z",
     "shell.execute_reply": "2022-09-20T20:13:06.467402Z",
     "shell.execute_reply.started": "2022-09-20T20:13:06.443474Z"
    },
    "tags": []
   },
   "outputs": [
    {
     "data": {
      "text/html": [
       "<div>\n",
       "<style scoped>\n",
       "    .dataframe tbody tr th:only-of-type {\n",
       "        vertical-align: middle;\n",
       "    }\n",
       "\n",
       "    .dataframe tbody tr th {\n",
       "        vertical-align: top;\n",
       "    }\n",
       "\n",
       "    .dataframe thead th {\n",
       "        text-align: right;\n",
       "    }\n",
       "</style>\n",
       "<table border=\"1\" class=\"dataframe\">\n",
       "  <thead>\n",
       "    <tr style=\"text-align: right;\">\n",
       "      <th></th>\n",
       "      <th>cut</th>\n",
       "      <th>__state__</th>\n",
       "      <th>mean</th>\n",
       "    </tr>\n",
       "  </thead>\n",
       "  <tbody>\n",
       "    <tr>\n",
       "      <th>0</th>\n",
       "      <td>Ideal</td>\n",
       "      <td>FitDeMean(tag='DeMean#3', cols=['price'], w_col=None, &lt;21551 rows of fitting data&gt;)</td>\n",
       "      <td>3457.541970</td>\n",
       "    </tr>\n",
       "    <tr>\n",
       "      <th>1</th>\n",
       "      <td>Premium</td>\n",
       "      <td>FitDeMean(tag='DeMean#3', cols=['price'], w_col=None, &lt;13791 rows of fitting data&gt;)</td>\n",
       "      <td>4584.257704</td>\n",
       "    </tr>\n",
       "    <tr>\n",
       "      <th>2</th>\n",
       "      <td>Good</td>\n",
       "      <td>FitDeMean(tag='DeMean#3', cols=['price'], w_col=None, &lt;4906 rows of fitting data&gt;)</td>\n",
       "      <td>3928.864452</td>\n",
       "    </tr>\n",
       "    <tr>\n",
       "      <th>3</th>\n",
       "      <td>Very Good</td>\n",
       "      <td>FitDeMean(tag='DeMean#3', cols=['price'], w_col=None, &lt;12082 rows of fitting data&gt;)</td>\n",
       "      <td>3981.759891</td>\n",
       "    </tr>\n",
       "    <tr>\n",
       "      <th>4</th>\n",
       "      <td>Fair</td>\n",
       "      <td>FitDeMean(tag='DeMean#3', cols=['price'], w_col=None, &lt;1610 rows of fitting data&gt;)</td>\n",
       "      <td>4358.757764</td>\n",
       "    </tr>\n",
       "  </tbody>\n",
       "</table>\n",
       "</div>"
      ],
      "text/plain": [
       "         cut  \\\n",
       "0      Ideal   \n",
       "1    Premium   \n",
       "2       Good   \n",
       "3  Very Good   \n",
       "4       Fair   \n",
       "\n",
       "                                                                             __state__  \\\n",
       "0  FitDeMean(tag='DeMean#3', cols=['price'], w_col=None, <21551 rows of fitting data>)   \n",
       "1  FitDeMean(tag='DeMean#3', cols=['price'], w_col=None, <13791 rows of fitting data>)   \n",
       "2   FitDeMean(tag='DeMean#3', cols=['price'], w_col=None, <4906 rows of fitting data>)   \n",
       "3  FitDeMean(tag='DeMean#3', cols=['price'], w_col=None, <12082 rows of fitting data>)   \n",
       "4   FitDeMean(tag='DeMean#3', cols=['price'], w_col=None, <1610 rows of fitting data>)   \n",
       "\n",
       "          mean  \n",
       "0  3457.541970  \n",
       "1  4584.257704  \n",
       "2  3928.864452  \n",
       "3  3981.759891  \n",
       "4  4358.757764  "
      ]
     },
     "execution_count": 32,
     "metadata": {},
     "output_type": "execute_result"
    }
   ],
   "source": [
    "pip_fit.find_by_tag(\"GroupBy#3\").state().assign(\n",
    "    mean = lambda df: df['__state__'].map(lambda x: x.state()[0])\n",
    ")"
   ]
  },
  {
   "cell_type": "code",
   "execution_count": 24,
   "id": "754ef4f6-5e2c-478a-90c7-0164b56da96c",
   "metadata": {
    "execution": {
     "iopub.execute_input": "2022-09-21T23:26:27.055060Z",
     "iopub.status.busy": "2022-09-21T23:26:27.054250Z",
     "iopub.status.idle": "2022-09-21T23:26:27.126602Z",
     "shell.execute_reply": "2022-09-21T23:26:27.125236Z",
     "shell.execute_reply.started": "2022-09-21T23:26:27.055033Z"
    },
    "tags": []
   },
   "outputs": [],
   "source": [
    "pip = (\n",
    "    ff.Pipeline()\n",
    "    #.group_by(\"cut\", fitting_schedule=ff.fit_group_on_all_other_groups)\n",
    "    .group_by(\"cut\")\n",
    "        .stateless_lambda(lambda df: df[[\"price\"]].mean())\n",
    ")\n",
    "result = pip.fit_and_apply(df).set_index('cut').sort_index().reset_index()#.sort_values('cut')"
   ]
  },
  {
   "cell_type": "code",
   "execution_count": 20,
   "id": "608ab155-e59c-48f1-b6ad-2799c204342b",
   "metadata": {
    "execution": {
     "iopub.execute_input": "2022-09-21T23:25:58.923644Z",
     "iopub.status.busy": "2022-09-21T23:25:58.923133Z",
     "iopub.status.idle": "2022-09-21T23:25:58.934442Z",
     "shell.execute_reply": "2022-09-21T23:25:58.933523Z",
     "shell.execute_reply.started": "2022-09-21T23:25:58.923623Z"
    },
    "tags": []
   },
   "outputs": [],
   "source": [
    "target = df.groupby(\"cut\")[['price']].mean().sort_index().reset_index()"
   ]
  },
  {
   "cell_type": "code",
   "execution_count": 26,
   "id": "b7a836bc-1b5d-470e-8133-6b31bdd3f0fe",
   "metadata": {
    "execution": {
     "iopub.execute_input": "2022-09-21T23:26:31.982205Z",
     "iopub.status.busy": "2022-09-21T23:26:31.981921Z",
     "iopub.status.idle": "2022-09-21T23:26:31.989370Z",
     "shell.execute_reply": "2022-09-21T23:26:31.988204Z",
     "shell.execute_reply.started": "2022-09-21T23:26:31.982185Z"
    },
    "tags": []
   },
   "outputs": [
    {
     "data": {
      "text/plain": [
       "True"
      ]
     },
     "execution_count": 26,
     "metadata": {},
     "output_type": "execute_result"
    }
   ],
   "source": [
    "result.equals(target)"
   ]
  },
  {
   "cell_type": "code",
   "execution_count": 25,
   "id": "726115f8-c2cf-4750-b484-adabd52c5846",
   "metadata": {
    "execution": {
     "iopub.execute_input": "2022-09-21T23:26:29.516584Z",
     "iopub.status.busy": "2022-09-21T23:26:29.516284Z",
     "iopub.status.idle": "2022-09-21T23:26:29.526221Z",
     "shell.execute_reply": "2022-09-21T23:26:29.524872Z",
     "shell.execute_reply.started": "2022-09-21T23:26:29.516564Z"
    },
    "tags": []
   },
   "outputs": [
    {
     "data": {
      "text/html": [
       "<div>\n",
       "<style scoped>\n",
       "    .dataframe tbody tr th:only-of-type {\n",
       "        vertical-align: middle;\n",
       "    }\n",
       "\n",
       "    .dataframe tbody tr th {\n",
       "        vertical-align: top;\n",
       "    }\n",
       "\n",
       "    .dataframe thead th {\n",
       "        text-align: right;\n",
       "    }\n",
       "</style>\n",
       "<table border=\"1\" class=\"dataframe\">\n",
       "  <thead>\n",
       "    <tr style=\"text-align: right;\">\n",
       "      <th></th>\n",
       "      <th>cut</th>\n",
       "      <th>price</th>\n",
       "    </tr>\n",
       "  </thead>\n",
       "  <tbody>\n",
       "    <tr>\n",
       "      <th>0</th>\n",
       "      <td>Fair</td>\n",
       "      <td>4358.757764</td>\n",
       "    </tr>\n",
       "    <tr>\n",
       "      <th>1</th>\n",
       "      <td>Good</td>\n",
       "      <td>3928.864452</td>\n",
       "    </tr>\n",
       "    <tr>\n",
       "      <th>2</th>\n",
       "      <td>Ideal</td>\n",
       "      <td>3457.541970</td>\n",
       "    </tr>\n",
       "    <tr>\n",
       "      <th>3</th>\n",
       "      <td>Premium</td>\n",
       "      <td>4584.257704</td>\n",
       "    </tr>\n",
       "    <tr>\n",
       "      <th>4</th>\n",
       "      <td>Very Good</td>\n",
       "      <td>3981.759891</td>\n",
       "    </tr>\n",
       "  </tbody>\n",
       "</table>\n",
       "</div>"
      ],
      "text/plain": [
       "         cut        price\n",
       "0       Fair  4358.757764\n",
       "1       Good  3928.864452\n",
       "2      Ideal  3457.541970\n",
       "3    Premium  4584.257704\n",
       "4  Very Good  3981.759891"
      ]
     },
     "execution_count": 25,
     "metadata": {},
     "output_type": "execute_result"
    }
   ],
   "source": [
    "result"
   ]
  },
  {
   "cell_type": "code",
   "execution_count": 21,
   "id": "e5e4dedb-5a5a-45a3-9e75-b97101ae9013",
   "metadata": {
    "execution": {
     "iopub.execute_input": "2022-09-21T23:26:00.752287Z",
     "iopub.status.busy": "2022-09-21T23:26:00.751452Z",
     "iopub.status.idle": "2022-09-21T23:26:00.761895Z",
     "shell.execute_reply": "2022-09-21T23:26:00.760670Z",
     "shell.execute_reply.started": "2022-09-21T23:26:00.752252Z"
    },
    "tags": []
   },
   "outputs": [
    {
     "data": {
      "text/html": [
       "<div>\n",
       "<style scoped>\n",
       "    .dataframe tbody tr th:only-of-type {\n",
       "        vertical-align: middle;\n",
       "    }\n",
       "\n",
       "    .dataframe tbody tr th {\n",
       "        vertical-align: top;\n",
       "    }\n",
       "\n",
       "    .dataframe thead th {\n",
       "        text-align: right;\n",
       "    }\n",
       "</style>\n",
       "<table border=\"1\" class=\"dataframe\">\n",
       "  <thead>\n",
       "    <tr style=\"text-align: right;\">\n",
       "      <th></th>\n",
       "      <th>cut</th>\n",
       "      <th>price</th>\n",
       "    </tr>\n",
       "  </thead>\n",
       "  <tbody>\n",
       "    <tr>\n",
       "      <th>0</th>\n",
       "      <td>Fair</td>\n",
       "      <td>4358.757764</td>\n",
       "    </tr>\n",
       "    <tr>\n",
       "      <th>1</th>\n",
       "      <td>Good</td>\n",
       "      <td>3928.864452</td>\n",
       "    </tr>\n",
       "    <tr>\n",
       "      <th>2</th>\n",
       "      <td>Ideal</td>\n",
       "      <td>3457.541970</td>\n",
       "    </tr>\n",
       "    <tr>\n",
       "      <th>3</th>\n",
       "      <td>Premium</td>\n",
       "      <td>4584.257704</td>\n",
       "    </tr>\n",
       "    <tr>\n",
       "      <th>4</th>\n",
       "      <td>Very Good</td>\n",
       "      <td>3981.759891</td>\n",
       "    </tr>\n",
       "  </tbody>\n",
       "</table>\n",
       "</div>"
      ],
      "text/plain": [
       "         cut        price\n",
       "0       Fair  4358.757764\n",
       "1       Good  3928.864452\n",
       "2      Ideal  3457.541970\n",
       "3    Premium  4584.257704\n",
       "4  Very Good  3981.759891"
      ]
     },
     "execution_count": 21,
     "metadata": {},
     "output_type": "execute_result"
    }
   ],
   "source": [
    "target"
   ]
  },
  {
   "cell_type": "code",
   "execution_count": 40,
   "id": "6d116c05-1de6-4845-ae4b-3ecf098b2034",
   "metadata": {
    "execution": {
     "iopub.execute_input": "2022-09-21T23:32:54.491033Z",
     "iopub.status.busy": "2022-09-21T23:32:54.490737Z",
     "iopub.status.idle": "2022-09-21T23:32:54.602276Z",
     "shell.execute_reply": "2022-09-21T23:32:54.601481Z",
     "shell.execute_reply.started": "2022-09-21T23:32:54.491013Z"
    },
    "tags": []
   },
   "outputs": [
    {
     "data": {
      "text/html": [
       "<div>\n",
       "<style scoped>\n",
       "    .dataframe tbody tr th:only-of-type {\n",
       "        vertical-align: middle;\n",
       "    }\n",
       "\n",
       "    .dataframe tbody tr th {\n",
       "        vertical-align: top;\n",
       "    }\n",
       "\n",
       "    .dataframe thead th {\n",
       "        text-align: right;\n",
       "    }\n",
       "</style>\n",
       "<table border=\"1\" class=\"dataframe\">\n",
       "  <thead>\n",
       "    <tr style=\"text-align: right;\">\n",
       "      <th></th>\n",
       "      <th>cut</th>\n",
       "      <th>price</th>\n",
       "    </tr>\n",
       "  </thead>\n",
       "  <tbody>\n",
       "    <tr>\n",
       "      <th>0</th>\n",
       "      <td>Ideal</td>\n",
       "      <td>-3923.026830</td>\n",
       "    </tr>\n",
       "    <tr>\n",
       "      <th>1</th>\n",
       "      <td>Premium</td>\n",
       "      <td>-3383.026850</td>\n",
       "    </tr>\n",
       "    <tr>\n",
       "      <th>2</th>\n",
       "      <td>Good</td>\n",
       "      <td>-3606.193458</td>\n",
       "    </tr>\n",
       "    <tr>\n",
       "      <th>3</th>\n",
       "      <td>Premium</td>\n",
       "      <td>-3375.026850</td>\n",
       "    </tr>\n",
       "    <tr>\n",
       "      <th>4</th>\n",
       "      <td>Good</td>\n",
       "      <td>-3598.193458</td>\n",
       "    </tr>\n",
       "    <tr>\n",
       "      <th>...</th>\n",
       "      <td>...</td>\n",
       "      <td>...</td>\n",
       "    </tr>\n",
       "    <tr>\n",
       "      <th>53935</th>\n",
       "      <td>Ideal</td>\n",
       "      <td>-1492.026830</td>\n",
       "    </tr>\n",
       "    <tr>\n",
       "      <th>53936</th>\n",
       "      <td>Good</td>\n",
       "      <td>-1176.193458</td>\n",
       "    </tr>\n",
       "    <tr>\n",
       "      <th>53937</th>\n",
       "      <td>Very Good</td>\n",
       "      <td>-1161.667734</td>\n",
       "    </tr>\n",
       "    <tr>\n",
       "      <th>53938</th>\n",
       "      <td>Premium</td>\n",
       "      <td>-952.026850</td>\n",
       "    </tr>\n",
       "    <tr>\n",
       "      <th>53939</th>\n",
       "      <td>Ideal</td>\n",
       "      <td>-1492.026830</td>\n",
       "    </tr>\n",
       "  </tbody>\n",
       "</table>\n",
       "<p>53940 rows × 2 columns</p>\n",
       "</div>"
      ],
      "text/plain": [
       "             cut        price\n",
       "0          Ideal -3923.026830\n",
       "1        Premium -3383.026850\n",
       "2           Good -3606.193458\n",
       "3        Premium -3375.026850\n",
       "4           Good -3598.193458\n",
       "...          ...          ...\n",
       "53935      Ideal -1492.026830\n",
       "53936       Good -1176.193458\n",
       "53937  Very Good -1161.667734\n",
       "53938    Premium  -952.026850\n",
       "53939      Ideal -1492.026830\n",
       "\n",
       "[53940 rows x 2 columns]"
      ]
     },
     "execution_count": 40,
     "metadata": {},
     "output_type": "execute_result"
    }
   ],
   "source": [
    "pip = (\n",
    "    ff.Pipeline()\n",
    "    .group_by(\"cut\", fitting_schedule=ff.fit_group_on_all_other_groups)\n",
    "    #.group_by(\"cut\")\n",
    "        .de_mean('price')\n",
    "    [['cut', 'price']]\n",
    ")\n",
    "result = pip.fit_and_apply(df)\n",
    "result"
   ]
  },
  {
   "cell_type": "code",
   "execution_count": 51,
   "id": "9fc63d63-b6c0-4878-97d4-ac0d6022e414",
   "metadata": {
    "execution": {
     "iopub.execute_input": "2022-09-21T23:35:57.852656Z",
     "iopub.status.busy": "2022-09-21T23:35:57.852317Z",
     "iopub.status.idle": "2022-09-21T23:35:57.890802Z",
     "shell.execute_reply": "2022-09-21T23:35:57.889988Z",
     "shell.execute_reply.started": "2022-09-21T23:35:57.852634Z"
    },
    "tags": []
   },
   "outputs": [
    {
     "data": {
      "text/html": [
       "<div>\n",
       "<style scoped>\n",
       "    .dataframe tbody tr th:only-of-type {\n",
       "        vertical-align: middle;\n",
       "    }\n",
       "\n",
       "    .dataframe tbody tr th {\n",
       "        vertical-align: top;\n",
       "    }\n",
       "\n",
       "    .dataframe thead th {\n",
       "        text-align: right;\n",
       "    }\n",
       "</style>\n",
       "<table border=\"1\" class=\"dataframe\">\n",
       "  <thead>\n",
       "    <tr style=\"text-align: right;\">\n",
       "      <th></th>\n",
       "      <th>cut</th>\n",
       "      <th>price</th>\n",
       "    </tr>\n",
       "  </thead>\n",
       "  <tbody>\n",
       "    <tr>\n",
       "      <th>4</th>\n",
       "      <td>Fair</td>\n",
       "      <td>3919.694573</td>\n",
       "    </tr>\n",
       "    <tr>\n",
       "      <th>2</th>\n",
       "      <td>Good</td>\n",
       "      <td>3933.193458</td>\n",
       "    </tr>\n",
       "    <tr>\n",
       "      <th>0</th>\n",
       "      <td>Ideal</td>\n",
       "      <td>4249.026830</td>\n",
       "    </tr>\n",
       "    <tr>\n",
       "      <th>1</th>\n",
       "      <td>Premium</td>\n",
       "      <td>3709.026850</td>\n",
       "    </tr>\n",
       "    <tr>\n",
       "      <th>3</th>\n",
       "      <td>Very Good</td>\n",
       "      <td>3918.667734</td>\n",
       "    </tr>\n",
       "  </tbody>\n",
       "</table>\n",
       "</div>"
      ],
      "text/plain": [
       "         cut        price\n",
       "4       Fair  3919.694573\n",
       "2       Good  3933.193458\n",
       "0      Ideal  4249.026830\n",
       "1    Premium  3709.026850\n",
       "3  Very Good  3918.667734"
      ]
     },
     "execution_count": 51,
     "metadata": {},
     "output_type": "execute_result"
    }
   ],
   "source": [
    "cuts = pd.Series(df['cut'].unique(), name='cut').sort_values()\n",
    "cut_means = pd.DataFrame(dict(\n",
    "    cut=cuts,\n",
    "    price=cuts.map(lambda v: df.loc[df['cut'] != v]['price'].mean())\n",
    "))\n",
    "cut_means"
   ]
  },
  {
   "cell_type": "code",
   "execution_count": 53,
   "id": "ec0dea96-fc4d-4db2-9e30-672cc6240eb8",
   "metadata": {
    "execution": {
     "iopub.execute_input": "2022-09-21T23:36:55.107131Z",
     "iopub.status.busy": "2022-09-21T23:36:55.106812Z",
     "iopub.status.idle": "2022-09-21T23:36:55.143653Z",
     "shell.execute_reply": "2022-09-21T23:36:55.141780Z",
     "shell.execute_reply.started": "2022-09-21T23:36:55.107110Z"
    },
    "tags": []
   },
   "outputs": [
    {
     "data": {
      "text/html": [
       "<div>\n",
       "<style scoped>\n",
       "    .dataframe tbody tr th:only-of-type {\n",
       "        vertical-align: middle;\n",
       "    }\n",
       "\n",
       "    .dataframe tbody tr th {\n",
       "        vertical-align: top;\n",
       "    }\n",
       "\n",
       "    .dataframe thead th {\n",
       "        text-align: right;\n",
       "    }\n",
       "</style>\n",
       "<table border=\"1\" class=\"dataframe\">\n",
       "  <thead>\n",
       "    <tr style=\"text-align: right;\">\n",
       "      <th></th>\n",
       "      <th>cut</th>\n",
       "      <th>price</th>\n",
       "    </tr>\n",
       "  </thead>\n",
       "  <tbody>\n",
       "    <tr>\n",
       "      <th>0</th>\n",
       "      <td>Ideal</td>\n",
       "      <td>-3923.026830</td>\n",
       "    </tr>\n",
       "    <tr>\n",
       "      <th>1</th>\n",
       "      <td>Premium</td>\n",
       "      <td>-3383.026850</td>\n",
       "    </tr>\n",
       "    <tr>\n",
       "      <th>2</th>\n",
       "      <td>Good</td>\n",
       "      <td>-3606.193458</td>\n",
       "    </tr>\n",
       "    <tr>\n",
       "      <th>3</th>\n",
       "      <td>Premium</td>\n",
       "      <td>-3375.026850</td>\n",
       "    </tr>\n",
       "    <tr>\n",
       "      <th>4</th>\n",
       "      <td>Good</td>\n",
       "      <td>-3598.193458</td>\n",
       "    </tr>\n",
       "    <tr>\n",
       "      <th>...</th>\n",
       "      <td>...</td>\n",
       "      <td>...</td>\n",
       "    </tr>\n",
       "    <tr>\n",
       "      <th>53935</th>\n",
       "      <td>Ideal</td>\n",
       "      <td>-1492.026830</td>\n",
       "    </tr>\n",
       "    <tr>\n",
       "      <th>53936</th>\n",
       "      <td>Good</td>\n",
       "      <td>-1176.193458</td>\n",
       "    </tr>\n",
       "    <tr>\n",
       "      <th>53937</th>\n",
       "      <td>Very Good</td>\n",
       "      <td>-1161.667734</td>\n",
       "    </tr>\n",
       "    <tr>\n",
       "      <th>53938</th>\n",
       "      <td>Premium</td>\n",
       "      <td>-952.026850</td>\n",
       "    </tr>\n",
       "    <tr>\n",
       "      <th>53939</th>\n",
       "      <td>Ideal</td>\n",
       "      <td>-1492.026830</td>\n",
       "    </tr>\n",
       "  </tbody>\n",
       "</table>\n",
       "<p>53940 rows × 2 columns</p>\n",
       "</div>"
      ],
      "text/plain": [
       "             cut        price\n",
       "0          Ideal -3923.026830\n",
       "1        Premium -3383.026850\n",
       "2           Good -3606.193458\n",
       "3        Premium -3375.026850\n",
       "4           Good -3598.193458\n",
       "...          ...          ...\n",
       "53935      Ideal -1492.026830\n",
       "53936       Good -1176.193458\n",
       "53937  Very Good -1161.667734\n",
       "53938    Premium  -952.026850\n",
       "53939      Ideal -1492.026830\n",
       "\n",
       "[53940 rows x 2 columns]"
      ]
     },
     "execution_count": 53,
     "metadata": {},
     "output_type": "execute_result"
    }
   ],
   "source": [
    "target = (\n",
    "    df\n",
    "    .merge(cut_means, how='left', on='cut', suffixes=('', '_mean'))\n",
    "    .assign(price=lambda df: df['price'] - df['price_mean'])\n",
    "    [['cut', 'price']]\n",
    ")\n",
    "target"
   ]
  },
  {
   "cell_type": "code",
   "execution_count": 54,
   "id": "a96d6e75-d95e-4bd6-831c-fba677735f76",
   "metadata": {
    "execution": {
     "iopub.execute_input": "2022-09-21T23:37:11.411510Z",
     "iopub.status.busy": "2022-09-21T23:37:11.410374Z",
     "iopub.status.idle": "2022-09-21T23:37:11.429033Z",
     "shell.execute_reply": "2022-09-21T23:37:11.426880Z",
     "shell.execute_reply.started": "2022-09-21T23:37:11.411462Z"
    },
    "tags": []
   },
   "outputs": [
    {
     "data": {
      "text/plain": [
       "True"
      ]
     },
     "execution_count": 54,
     "metadata": {},
     "output_type": "execute_result"
    }
   ],
   "source": [
    "result.equals(target)"
   ]
  }
 ],
 "metadata": {
  "kernelspec": {
   "display_name": "frankenfit-venv-dev",
   "language": "python",
   "name": "frankenfit-venv-dev"
  },
  "language_info": {
   "codemirror_mode": {
    "name": "ipython",
    "version": 3
   },
   "file_extension": ".py",
   "mimetype": "text/x-python",
   "name": "python",
   "nbconvert_exporter": "python",
   "pygments_lexer": "ipython3",
   "version": "3.9.5"
  }
 },
 "nbformat": 4,
 "nbformat_minor": 5
}
