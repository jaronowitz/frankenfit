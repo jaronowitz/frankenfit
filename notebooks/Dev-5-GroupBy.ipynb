{
 "cells": [
  {
   "cell_type": "code",
   "execution_count": 22,
   "id": "3c9def6b-b76d-4be9-8c3c-484caea34dde",
   "metadata": {
    "tags": []
   },
   "outputs": [],
   "source": [
    "from importlib import reload\n",
    "import pandas as pd\n",
    "import numpy as np\n",
    "import matplotlib.pyplot as plt\n",
    "plt.style.use('./dracula.mplstyle')\n",
    "import logging\n",
    "LOG = logging.getLogger(__name__)\n",
    "LOG.setLevel(logging.INFO)\n",
    "LOG.info('Hello from notebook')\n",
    "\n",
    "from pydataset import data\n",
    "\n",
    "import frankenfit as ff\n",
    "reload(ff.core)\n",
    "reload(ff.universal)\n",
    "reload(ff.dataframe)\n",
    "reload(ff)\n",
    "\n",
    "ffu = ff.universal\n",
    "ffdf = ff.dataframe\n",
    "\n",
    "logging.getLogger('frankenfit').setLevel(logging.INFO)"
   ]
  },
  {
   "cell_type": "code",
   "execution_count": 23,
   "id": "8494ffcd-050d-4a2e-9b04-188c5f7c8830",
   "metadata": {
    "tags": []
   },
   "outputs": [
    {
     "data": {
      "text/html": [
       "<div>\n",
       "<style scoped>\n",
       "    .dataframe tbody tr th:only-of-type {\n",
       "        vertical-align: middle;\n",
       "    }\n",
       "\n",
       "    .dataframe tbody tr th {\n",
       "        vertical-align: top;\n",
       "    }\n",
       "\n",
       "    .dataframe thead th {\n",
       "        text-align: right;\n",
       "    }\n",
       "</style>\n",
       "<table border=\"1\" class=\"dataframe\">\n",
       "  <thead>\n",
       "    <tr style=\"text-align: right;\">\n",
       "      <th></th>\n",
       "      <th>carat</th>\n",
       "      <th>cut</th>\n",
       "      <th>color</th>\n",
       "      <th>clarity</th>\n",
       "      <th>depth</th>\n",
       "      <th>table</th>\n",
       "      <th>price</th>\n",
       "      <th>x</th>\n",
       "      <th>y</th>\n",
       "      <th>z</th>\n",
       "    </tr>\n",
       "  </thead>\n",
       "  <tbody>\n",
       "    <tr>\n",
       "      <th>0</th>\n",
       "      <td>0.23</td>\n",
       "      <td>Ideal</td>\n",
       "      <td>E</td>\n",
       "      <td>SI2</td>\n",
       "      <td>61.5</td>\n",
       "      <td>55.0</td>\n",
       "      <td>326</td>\n",
       "      <td>3.95</td>\n",
       "      <td>3.98</td>\n",
       "      <td>2.43</td>\n",
       "    </tr>\n",
       "    <tr>\n",
       "      <th>1</th>\n",
       "      <td>0.21</td>\n",
       "      <td>Premium</td>\n",
       "      <td>E</td>\n",
       "      <td>SI1</td>\n",
       "      <td>59.8</td>\n",
       "      <td>61.0</td>\n",
       "      <td>326</td>\n",
       "      <td>3.89</td>\n",
       "      <td>3.84</td>\n",
       "      <td>2.31</td>\n",
       "    </tr>\n",
       "    <tr>\n",
       "      <th>2</th>\n",
       "      <td>0.23</td>\n",
       "      <td>Good</td>\n",
       "      <td>E</td>\n",
       "      <td>VS1</td>\n",
       "      <td>56.9</td>\n",
       "      <td>65.0</td>\n",
       "      <td>327</td>\n",
       "      <td>4.05</td>\n",
       "      <td>4.07</td>\n",
       "      <td>2.31</td>\n",
       "    </tr>\n",
       "    <tr>\n",
       "      <th>3</th>\n",
       "      <td>0.29</td>\n",
       "      <td>Premium</td>\n",
       "      <td>I</td>\n",
       "      <td>VS2</td>\n",
       "      <td>62.4</td>\n",
       "      <td>58.0</td>\n",
       "      <td>334</td>\n",
       "      <td>4.20</td>\n",
       "      <td>4.23</td>\n",
       "      <td>2.63</td>\n",
       "    </tr>\n",
       "    <tr>\n",
       "      <th>4</th>\n",
       "      <td>0.31</td>\n",
       "      <td>Good</td>\n",
       "      <td>J</td>\n",
       "      <td>SI2</td>\n",
       "      <td>63.3</td>\n",
       "      <td>58.0</td>\n",
       "      <td>335</td>\n",
       "      <td>4.34</td>\n",
       "      <td>4.35</td>\n",
       "      <td>2.75</td>\n",
       "    </tr>\n",
       "  </tbody>\n",
       "</table>\n",
       "</div>"
      ],
      "text/plain": [
       "   carat      cut color clarity  depth  table  price     x     y     z\n",
       "0   0.23    Ideal     E     SI2   61.5   55.0    326  3.95  3.98  2.43\n",
       "1   0.21  Premium     E     SI1   59.8   61.0    326  3.89  3.84  2.31\n",
       "2   0.23     Good     E     VS1   56.9   65.0    327  4.05  4.07  2.31\n",
       "3   0.29  Premium     I     VS2   62.4   58.0    334  4.20  4.23  2.63\n",
       "4   0.31     Good     J     SI2   63.3   58.0    335  4.34  4.35  2.75"
      ]
     },
     "execution_count": 23,
     "metadata": {},
     "output_type": "execute_result"
    }
   ],
   "source": [
    "df = data('diamonds').reset_index().drop(['index'], axis=1)\n",
    "df.head()"
   ]
  },
  {
   "cell_type": "code",
   "execution_count": 24,
   "id": "97f35d4a-4766-40b5-aafa-66bf3a2ade97",
   "metadata": {
    "tags": []
   },
   "outputs": [
    {
     "data": {
      "text/html": [
       "<div>\n",
       "<style scoped>\n",
       "    .dataframe tbody tr th:only-of-type {\n",
       "        vertical-align: middle;\n",
       "    }\n",
       "\n",
       "    .dataframe tbody tr th {\n",
       "        vertical-align: top;\n",
       "    }\n",
       "\n",
       "    .dataframe thead th {\n",
       "        text-align: right;\n",
       "    }\n",
       "</style>\n",
       "<table border=\"1\" class=\"dataframe\">\n",
       "  <thead>\n",
       "    <tr style=\"text-align: right;\">\n",
       "      <th></th>\n",
       "      <th>table</th>\n",
       "      <th>depth</th>\n",
       "    </tr>\n",
       "    <tr>\n",
       "      <th>cut</th>\n",
       "      <th></th>\n",
       "      <th></th>\n",
       "    </tr>\n",
       "  </thead>\n",
       "  <tbody>\n",
       "    <tr>\n",
       "      <th>Fair</th>\n",
       "      <td>59.053789</td>\n",
       "      <td>64.041677</td>\n",
       "    </tr>\n",
       "    <tr>\n",
       "      <th>Good</th>\n",
       "      <td>58.694639</td>\n",
       "      <td>62.365879</td>\n",
       "    </tr>\n",
       "    <tr>\n",
       "      <th>Ideal</th>\n",
       "      <td>55.951668</td>\n",
       "      <td>61.709401</td>\n",
       "    </tr>\n",
       "    <tr>\n",
       "      <th>Premium</th>\n",
       "      <td>58.746095</td>\n",
       "      <td>61.264673</td>\n",
       "    </tr>\n",
       "    <tr>\n",
       "      <th>Very Good</th>\n",
       "      <td>57.956150</td>\n",
       "      <td>61.818275</td>\n",
       "    </tr>\n",
       "  </tbody>\n",
       "</table>\n",
       "</div>"
      ],
      "text/plain": [
       "               table      depth\n",
       "cut                            \n",
       "Fair       59.053789  64.041677\n",
       "Good       58.694639  62.365879\n",
       "Ideal      55.951668  61.709401\n",
       "Premium    58.746095  61.264673\n",
       "Very Good  57.956150  61.818275"
      ]
     },
     "execution_count": 24,
     "metadata": {},
     "output_type": "execute_result"
    }
   ],
   "source": [
    "df.groupby(\"cut\")[[\"table\", \"depth\"]].mean()"
   ]
  },
  {
   "cell_type": "code",
   "execution_count": 25,
   "id": "0e10fe70-1895-4353-8420-857f1751e4c7",
   "metadata": {
    "tags": []
   },
   "outputs": [
    {
     "data": {
      "text/plain": [
       "cut\n",
       "Fair          1610\n",
       "Good          4906\n",
       "Ideal        21551\n",
       "Premium      13791\n",
       "Very Good    12082\n",
       "dtype: int64"
      ]
     },
     "execution_count": 25,
     "metadata": {},
     "output_type": "execute_result"
    }
   ],
   "source": [
    "df.groupby(\"cut\").apply(len)"
   ]
  },
  {
   "cell_type": "code",
   "execution_count": 26,
   "id": "8c50a188-3063-4ae5-8aa9-38a5b9f4ebca",
   "metadata": {
    "tags": []
   },
   "outputs": [],
   "source": [
    "transform = ffdf.DeMean([\"table\", \"depth\"])"
   ]
  },
  {
   "cell_type": "code",
   "execution_count": 27,
   "id": "1066d8bb-a7a7-4a66-92d3-3da75c179265",
   "metadata": {
    "tags": []
   },
   "outputs": [
    {
     "data": {
      "text/plain": [
       "GroupBy(tag='GroupBy#1', cols=['cut'], transform=DeMean(tag='DeMean#1', cols=['table', 'depth'], w_col=None), fitting_schedule=<function fit_group_on_self at 0x7f827e0fbd00>)"
      ]
     },
     "execution_count": 27,
     "metadata": {},
     "output_type": "execute_result"
    }
   ],
   "source": [
    "ffdf.GroupBy(\"cut\", transform)"
   ]
  },
  {
   "cell_type": "code",
   "execution_count": 28,
   "id": "fd9e1317-dbae-4587-8593-5f511902ea94",
   "metadata": {
    "tags": []
   },
   "outputs": [
    {
     "data": {
      "text/plain": [
       "\u001b[0;31mInit signature:\u001b[0m\n",
       "\u001b[0mffdf\u001b[0m\u001b[0;34m.\u001b[0m\u001b[0mGroupBy\u001b[0m\u001b[0;34m(\u001b[0m\u001b[0;34m\u001b[0m\n",
       "\u001b[0;34m\u001b[0m    \u001b[0mcols\u001b[0m\u001b[0;34m:\u001b[0m \u001b[0;34m'X'\u001b[0m\u001b[0;34m,\u001b[0m\u001b[0;34m\u001b[0m\n",
       "\u001b[0;34m\u001b[0m    \u001b[0mtransform\u001b[0m\u001b[0;34m:\u001b[0m \u001b[0;34m'HP | DataFrameTransform'\u001b[0m\u001b[0;34m,\u001b[0m\u001b[0;34m\u001b[0m\n",
       "\u001b[0;34m\u001b[0m    \u001b[0mfitting_schedule\u001b[0m\u001b[0;34m:\u001b[0m \u001b[0;34m'Callable[[dict[str, object]], np.array[bool]]'\u001b[0m \u001b[0;34m=\u001b[0m \u001b[0;34m<\u001b[0m\u001b[0mfunction\u001b[0m \u001b[0mfit_group_on_self\u001b[0m \u001b[0mat\u001b[0m \u001b[0;36m0x7f827e0fbd00\u001b[0m\u001b[0;34m>\u001b[0m\u001b[0;34m,\u001b[0m\u001b[0;34m\u001b[0m\n",
       "\u001b[0;34m\u001b[0m    \u001b[0;34m*\u001b[0m\u001b[0;34m,\u001b[0m\u001b[0;34m\u001b[0m\n",
       "\u001b[0;34m\u001b[0m    \u001b[0mtag\u001b[0m\u001b[0;34m:\u001b[0m \u001b[0;34m'str'\u001b[0m \u001b[0;34m=\u001b[0m \u001b[0mNOTHING\u001b[0m\u001b[0;34m,\u001b[0m\u001b[0;34m\u001b[0m\n",
       "\u001b[0;34m\u001b[0m\u001b[0;34m)\u001b[0m \u001b[0;34m->\u001b[0m \u001b[0;32mNone\u001b[0m\u001b[0;34m\u001b[0m\u001b[0;34m\u001b[0m\u001b[0m\n",
       "\u001b[0;31mDocstring:\u001b[0m     \n",
       "Group the fitting and application of a :class:`DataFrameTransform` by the\n",
       "distinct values of some column or combination of columns.\n",
       "\n",
       ":param cols: The column(s) by which to group. ``transform`` will be fit and applied\n",
       "    separately on each subset of data with a distinct combination of values in\n",
       "    ``cols``.\n",
       ":type cols: str | HP | list[str | HP]\n",
       "\n",
       ":param transform: The :class:`DataFrameTransform` to group.\n",
       ":type transform: HP | DataFrameTransform\n",
       "\n",
       ":param fitting_schedule: How to determine the fitting data of each group. The\n",
       "    default schedule is :meth:`fit_group_on_self`. Use this to implement workflows\n",
       "    like cross-validation and sequential fitting.\n",
       ":type fitting_schedule: Callable[[dict[str, object]], np.array[bool]]\n",
       "\n",
       ".. SEEALSO::\n",
       "    :meth:`DataFramePipeline.group_by_cols()`\n",
       "\u001b[0;31mInit docstring:\u001b[0m Method generated by attrs for class GroupBy.\n",
       "\u001b[0;31mFile:\u001b[0m           ~/frankenfit/src/frankenfit/dataframe.py\n",
       "\u001b[0;31mType:\u001b[0m           ABCMeta\n",
       "\u001b[0;31mSubclasses:\u001b[0m     \n"
      ]
     },
     "metadata": {},
     "output_type": "display_data"
    }
   ],
   "source": [
    "ffdf.GroupBy?"
   ]
  },
  {
   "cell_type": "code",
   "execution_count": 29,
   "id": "deaabdb2-69aa-48d2-a544-085f550e682d",
   "metadata": {
    "tags": []
   },
   "outputs": [],
   "source": [
    "fit_gb = ffdf.GroupBy(\"cut\", transform).fit(df)"
   ]
  },
  {
   "cell_type": "code",
   "execution_count": 30,
   "id": "7ff2dbde-2f70-4431-8472-b19cfa482c8e",
   "metadata": {
    "tags": []
   },
   "outputs": [
    {
     "data": {
      "text/html": [
       "<div>\n",
       "<style scoped>\n",
       "    .dataframe tbody tr th:only-of-type {\n",
       "        vertical-align: middle;\n",
       "    }\n",
       "\n",
       "    .dataframe tbody tr th {\n",
       "        vertical-align: top;\n",
       "    }\n",
       "\n",
       "    .dataframe thead th {\n",
       "        text-align: right;\n",
       "    }\n",
       "</style>\n",
       "<table border=\"1\" class=\"dataframe\">\n",
       "  <thead>\n",
       "    <tr style=\"text-align: right;\">\n",
       "      <th></th>\n",
       "      <th>cut</th>\n",
       "      <th>__state__</th>\n",
       "    </tr>\n",
       "  </thead>\n",
       "  <tbody>\n",
       "    <tr>\n",
       "      <th>0</th>\n",
       "      <td>Ideal</td>\n",
       "      <td>FitDeMean(tag='DeMean#1', cols=['table', 'depth'], w_col=None)</td>\n",
       "    </tr>\n",
       "    <tr>\n",
       "      <th>1</th>\n",
       "      <td>Premium</td>\n",
       "      <td>FitDeMean(tag='DeMean#1', cols=['table', 'depth'], w_col=None)</td>\n",
       "    </tr>\n",
       "    <tr>\n",
       "      <th>2</th>\n",
       "      <td>Good</td>\n",
       "      <td>FitDeMean(tag='DeMean#1', cols=['table', 'depth'], w_col=None)</td>\n",
       "    </tr>\n",
       "    <tr>\n",
       "      <th>3</th>\n",
       "      <td>Very Good</td>\n",
       "      <td>FitDeMean(tag='DeMean#1', cols=['table', 'depth'], w_col=None)</td>\n",
       "    </tr>\n",
       "    <tr>\n",
       "      <th>4</th>\n",
       "      <td>Fair</td>\n",
       "      <td>FitDeMean(tag='DeMean#1', cols=['table', 'depth'], w_col=None)</td>\n",
       "    </tr>\n",
       "  </tbody>\n",
       "</table>\n",
       "</div>"
      ],
      "text/plain": [
       "         cut                                                       __state__\n",
       "0      Ideal  FitDeMean(tag='DeMean#1', cols=['table', 'depth'], w_col=None)\n",
       "1    Premium  FitDeMean(tag='DeMean#1', cols=['table', 'depth'], w_col=None)\n",
       "2       Good  FitDeMean(tag='DeMean#1', cols=['table', 'depth'], w_col=None)\n",
       "3  Very Good  FitDeMean(tag='DeMean#1', cols=['table', 'depth'], w_col=None)\n",
       "4       Fair  FitDeMean(tag='DeMean#1', cols=['table', 'depth'], w_col=None)"
      ]
     },
     "execution_count": 30,
     "metadata": {},
     "output_type": "execute_result"
    }
   ],
   "source": [
    "s = fit_gb.state()\n",
    "s"
   ]
  },
  {
   "cell_type": "code",
   "execution_count": 31,
   "id": "9577023f-f623-4779-a62d-58aa584dc1e6",
   "metadata": {
    "tags": []
   },
   "outputs": [
    {
     "data": {
      "text/plain": [
       "53940"
      ]
     },
     "execution_count": 31,
     "metadata": {},
     "output_type": "execute_result"
    }
   ],
   "source": [
    "len(df)"
   ]
  },
  {
   "cell_type": "code",
   "execution_count": 32,
   "id": "8c063972-5e7d-42e4-b42d-812f29635d8c",
   "metadata": {
    "tags": []
   },
   "outputs": [
    {
     "data": {
      "text/html": [
       "<div>\n",
       "<style scoped>\n",
       "    .dataframe tbody tr th:only-of-type {\n",
       "        vertical-align: middle;\n",
       "    }\n",
       "\n",
       "    .dataframe tbody tr th {\n",
       "        vertical-align: top;\n",
       "    }\n",
       "\n",
       "    .dataframe thead th {\n",
       "        text-align: right;\n",
       "    }\n",
       "</style>\n",
       "<table border=\"1\" class=\"dataframe\">\n",
       "  <thead>\n",
       "    <tr style=\"text-align: right;\">\n",
       "      <th></th>\n",
       "      <th>carat</th>\n",
       "      <th>cut</th>\n",
       "      <th>color</th>\n",
       "      <th>clarity</th>\n",
       "      <th>depth</th>\n",
       "      <th>table</th>\n",
       "      <th>price</th>\n",
       "      <th>x</th>\n",
       "      <th>y</th>\n",
       "      <th>z</th>\n",
       "    </tr>\n",
       "  </thead>\n",
       "  <tbody>\n",
       "    <tr>\n",
       "      <th>0</th>\n",
       "      <td>0.23</td>\n",
       "      <td>Ideal</td>\n",
       "      <td>E</td>\n",
       "      <td>SI2</td>\n",
       "      <td>-0.209401</td>\n",
       "      <td>-0.951668</td>\n",
       "      <td>326</td>\n",
       "      <td>3.95</td>\n",
       "      <td>3.98</td>\n",
       "      <td>2.43</td>\n",
       "    </tr>\n",
       "    <tr>\n",
       "      <th>1</th>\n",
       "      <td>0.21</td>\n",
       "      <td>Premium</td>\n",
       "      <td>E</td>\n",
       "      <td>SI1</td>\n",
       "      <td>-1.464673</td>\n",
       "      <td>2.253905</td>\n",
       "      <td>326</td>\n",
       "      <td>3.89</td>\n",
       "      <td>3.84</td>\n",
       "      <td>2.31</td>\n",
       "    </tr>\n",
       "    <tr>\n",
       "      <th>2</th>\n",
       "      <td>0.23</td>\n",
       "      <td>Good</td>\n",
       "      <td>E</td>\n",
       "      <td>VS1</td>\n",
       "      <td>-5.465879</td>\n",
       "      <td>6.305361</td>\n",
       "      <td>327</td>\n",
       "      <td>4.05</td>\n",
       "      <td>4.07</td>\n",
       "      <td>2.31</td>\n",
       "    </tr>\n",
       "    <tr>\n",
       "      <th>3</th>\n",
       "      <td>0.29</td>\n",
       "      <td>Premium</td>\n",
       "      <td>I</td>\n",
       "      <td>VS2</td>\n",
       "      <td>1.135327</td>\n",
       "      <td>-0.746095</td>\n",
       "      <td>334</td>\n",
       "      <td>4.20</td>\n",
       "      <td>4.23</td>\n",
       "      <td>2.63</td>\n",
       "    </tr>\n",
       "    <tr>\n",
       "      <th>4</th>\n",
       "      <td>0.31</td>\n",
       "      <td>Good</td>\n",
       "      <td>J</td>\n",
       "      <td>SI2</td>\n",
       "      <td>0.934121</td>\n",
       "      <td>-0.694639</td>\n",
       "      <td>335</td>\n",
       "      <td>4.34</td>\n",
       "      <td>4.35</td>\n",
       "      <td>2.75</td>\n",
       "    </tr>\n",
       "  </tbody>\n",
       "</table>\n",
       "</div>"
      ],
      "text/plain": [
       "   carat      cut color clarity     depth     table  price     x     y     z\n",
       "0   0.23    Ideal     E     SI2 -0.209401 -0.951668    326  3.95  3.98  2.43\n",
       "1   0.21  Premium     E     SI1 -1.464673  2.253905    326  3.89  3.84  2.31\n",
       "2   0.23     Good     E     VS1 -5.465879  6.305361    327  4.05  4.07  2.31\n",
       "3   0.29  Premium     I     VS2  1.135327 -0.746095    334  4.20  4.23  2.63\n",
       "4   0.31     Good     J     SI2  0.934121 -0.694639    335  4.34  4.35  2.75"
      ]
     },
     "execution_count": 32,
     "metadata": {},
     "output_type": "execute_result"
    }
   ],
   "source": [
    "result_df = fit_gb.apply(df)\n",
    "result_df.head()"
   ]
  },
  {
   "cell_type": "code",
   "execution_count": 33,
   "id": "740d0a62-b522-48d2-80e8-f5ec397f85ba",
   "metadata": {
    "tags": []
   },
   "outputs": [
    {
     "data": {
      "text/plain": [
       "table    2.375326e-15\n",
       "depth   -4.944555e-15\n",
       "dtype: float64"
      ]
     },
     "execution_count": 33,
     "metadata": {},
     "output_type": "execute_result"
    }
   ],
   "source": [
    "result_df[[\"table\", \"depth\"]].mean()"
   ]
  },
  {
   "cell_type": "code",
   "execution_count": 34,
   "id": "d785ef38-9623-4aa1-830a-bbbf8be8a2c1",
   "metadata": {
    "tags": []
   },
   "outputs": [
    {
     "data": {
      "text/html": [
       "<div>\n",
       "<style scoped>\n",
       "    .dataframe tbody tr th:only-of-type {\n",
       "        vertical-align: middle;\n",
       "    }\n",
       "\n",
       "    .dataframe tbody tr th {\n",
       "        vertical-align: top;\n",
       "    }\n",
       "\n",
       "    .dataframe thead th {\n",
       "        text-align: right;\n",
       "    }\n",
       "</style>\n",
       "<table border=\"1\" class=\"dataframe\">\n",
       "  <thead>\n",
       "    <tr style=\"text-align: right;\">\n",
       "      <th></th>\n",
       "      <th>table</th>\n",
       "      <th>depth</th>\n",
       "    </tr>\n",
       "    <tr>\n",
       "      <th>cut</th>\n",
       "      <th></th>\n",
       "      <th></th>\n",
       "    </tr>\n",
       "  </thead>\n",
       "  <tbody>\n",
       "    <tr>\n",
       "      <th>Fair</th>\n",
       "      <td>-5.825568e-16</td>\n",
       "      <td>-9.488614e-15</td>\n",
       "    </tr>\n",
       "    <tr>\n",
       "      <th>Good</th>\n",
       "      <td>-1.283206e-15</td>\n",
       "      <td>-1.257136e-15</td>\n",
       "    </tr>\n",
       "    <tr>\n",
       "      <th>Ideal</th>\n",
       "      <td>7.751315e-15</td>\n",
       "      <td>-2.420019e-15</td>\n",
       "    </tr>\n",
       "    <tr>\n",
       "      <th>Premium</th>\n",
       "      <td>-2.649787e-15</td>\n",
       "      <td>-1.010763e-14</td>\n",
       "    </tr>\n",
       "    <tr>\n",
       "      <th>Very Good</th>\n",
       "      <td>3.934391e-16</td>\n",
       "      <td>-4.456036e-15</td>\n",
       "    </tr>\n",
       "  </tbody>\n",
       "</table>\n",
       "</div>"
      ],
      "text/plain": [
       "                  table         depth\n",
       "cut                                  \n",
       "Fair      -5.825568e-16 -9.488614e-15\n",
       "Good      -1.283206e-15 -1.257136e-15\n",
       "Ideal      7.751315e-15 -2.420019e-15\n",
       "Premium   -2.649787e-15 -1.010763e-14\n",
       "Very Good  3.934391e-16 -4.456036e-15"
      ]
     },
     "execution_count": 34,
     "metadata": {},
     "output_type": "execute_result"
    }
   ],
   "source": [
    "result_df.groupby(\"cut\")[[\"table\", \"depth\"]].mean()"
   ]
  },
  {
   "cell_type": "code",
   "execution_count": 35,
   "id": "8f6bcc9f-edb2-47f5-a80f-19f2705809dc",
   "metadata": {
    "tags": []
   },
   "outputs": [
    {
     "data": {
      "text/plain": [
       "DataFramePipeline(tag='DataFramePipeline#1', transforms=[StatelessLambda(tag='StatelessLambda#1', apply_fun=<built-in function len>)])"
      ]
     },
     "execution_count": 35,
     "metadata": {},
     "output_type": "execute_result"
    }
   ],
   "source": [
    "pip = (\n",
    "    ff.DataFramePipeline()\n",
    "    .stateless_lambda(len)\n",
    ")\n",
    "pip"
   ]
  },
  {
   "cell_type": "code",
   "execution_count": 36,
   "id": "8d96efef-1943-46c4-9f41-9435043a6608",
   "metadata": {
    "tags": []
   },
   "outputs": [
    {
     "data": {
      "text/plain": [
       "53940"
      ]
     },
     "execution_count": 36,
     "metadata": {},
     "output_type": "execute_result"
    }
   ],
   "source": [
    "pip.fit(df).apply(df)"
   ]
  },
  {
   "cell_type": "code",
   "execution_count": 37,
   "id": "ad55dd93-93ab-4ac9-92ed-d4574cc3e1d2",
   "metadata": {
    "tags": []
   },
   "outputs": [
    {
     "data": {
      "text/html": [
       "<div>\n",
       "<style scoped>\n",
       "    .dataframe tbody tr th:only-of-type {\n",
       "        vertical-align: middle;\n",
       "    }\n",
       "\n",
       "    .dataframe tbody tr th {\n",
       "        vertical-align: top;\n",
       "    }\n",
       "\n",
       "    .dataframe thead th {\n",
       "        text-align: right;\n",
       "    }\n",
       "</style>\n",
       "<table border=\"1\" class=\"dataframe\">\n",
       "  <thead>\n",
       "    <tr style=\"text-align: right;\">\n",
       "      <th></th>\n",
       "      <th>cut</th>\n",
       "      <th>None</th>\n",
       "    </tr>\n",
       "  </thead>\n",
       "  <tbody>\n",
       "    <tr>\n",
       "      <th>0</th>\n",
       "      <td>Ideal</td>\n",
       "      <td>21551</td>\n",
       "    </tr>\n",
       "    <tr>\n",
       "      <th>1</th>\n",
       "      <td>Premium</td>\n",
       "      <td>13791</td>\n",
       "    </tr>\n",
       "    <tr>\n",
       "      <th>2</th>\n",
       "      <td>Good</td>\n",
       "      <td>4906</td>\n",
       "    </tr>\n",
       "    <tr>\n",
       "      <th>3</th>\n",
       "      <td>Very Good</td>\n",
       "      <td>12082</td>\n",
       "    </tr>\n",
       "    <tr>\n",
       "      <th>4</th>\n",
       "      <td>Fair</td>\n",
       "      <td>1610</td>\n",
       "    </tr>\n",
       "  </tbody>\n",
       "</table>\n",
       "</div>"
      ],
      "text/plain": [
       "         cut   None\n",
       "0      Ideal  21551\n",
       "1    Premium  13791\n",
       "2       Good   4906\n",
       "3  Very Good  12082\n",
       "4       Fair   1610"
      ]
     },
     "execution_count": 37,
     "metadata": {},
     "output_type": "execute_result"
    }
   ],
   "source": [
    "ffdf.GroupBy(\"cut\", pip).fit(df).apply(df)"
   ]
  },
  {
   "cell_type": "code",
   "execution_count": 38,
   "id": "dcbaf240-0062-48dc-a1e6-1197ba45031a",
   "metadata": {
    "tags": []
   },
   "outputs": [
    {
     "data": {
      "text/html": [
       "<div>\n",
       "<style scoped>\n",
       "    .dataframe tbody tr th:only-of-type {\n",
       "        vertical-align: middle;\n",
       "    }\n",
       "\n",
       "    .dataframe tbody tr th {\n",
       "        vertical-align: top;\n",
       "    }\n",
       "\n",
       "    .dataframe thead th {\n",
       "        text-align: right;\n",
       "    }\n",
       "</style>\n",
       "<table border=\"1\" class=\"dataframe\">\n",
       "  <thead>\n",
       "    <tr style=\"text-align: right;\">\n",
       "      <th></th>\n",
       "      <th>cut</th>\n",
       "      <th>None</th>\n",
       "    </tr>\n",
       "  </thead>\n",
       "  <tbody>\n",
       "    <tr>\n",
       "      <th>0</th>\n",
       "      <td>Ideal</td>\n",
       "      <td>21551</td>\n",
       "    </tr>\n",
       "    <tr>\n",
       "      <th>1</th>\n",
       "      <td>Premium</td>\n",
       "      <td>13791</td>\n",
       "    </tr>\n",
       "    <tr>\n",
       "      <th>2</th>\n",
       "      <td>Good</td>\n",
       "      <td>4906</td>\n",
       "    </tr>\n",
       "    <tr>\n",
       "      <th>3</th>\n",
       "      <td>Very Good</td>\n",
       "      <td>12082</td>\n",
       "    </tr>\n",
       "    <tr>\n",
       "      <th>4</th>\n",
       "      <td>Fair</td>\n",
       "      <td>1610</td>\n",
       "    </tr>\n",
       "  </tbody>\n",
       "</table>\n",
       "</div>"
      ],
      "text/plain": [
       "         cut   None\n",
       "0      Ideal  21551\n",
       "1    Premium  13791\n",
       "2       Good   4906\n",
       "3  Very Good  12082\n",
       "4       Fair   1610"
      ]
     },
     "execution_count": 38,
     "metadata": {},
     "output_type": "execute_result"
    }
   ],
   "source": [
    "df.groupby(\"cut\", as_index=False, sort=False).apply(len)"
   ]
  },
  {
   "cell_type": "code",
   "execution_count": 39,
   "id": "791ac285-3bbb-4c97-ac6f-b1a337beda29",
   "metadata": {
    "tags": []
   },
   "outputs": [
    {
     "data": {
      "text/plain": [
       "DataFramePipeline(tag='DataFramePipeline#2', transforms=[GroupBy(tag='GroupBy#4', cols=['cut'], transform=StatelessLambda(tag='StatelessLambda#2', apply_fun=<built-in function len>), fitting_schedule=<function fit_group_on_self at 0x7f827e0fbd00>)])"
      ]
     },
     "execution_count": 39,
     "metadata": {},
     "output_type": "execute_result"
    }
   ],
   "source": [
    "pip = (\n",
    "    ff.DataFramePipeline()\n",
    "    .group_by(\"cut\")\n",
    "        .stateless_lambda(len)\n",
    ")\n",
    "pip"
   ]
  },
  {
   "cell_type": "code",
   "execution_count": 40,
   "id": "a828dbba-1c69-4344-8279-c0b68d57e7ae",
   "metadata": {
    "tags": []
   },
   "outputs": [
    {
     "data": {
      "text/html": [
       "<div>\n",
       "<style scoped>\n",
       "    .dataframe tbody tr th:only-of-type {\n",
       "        vertical-align: middle;\n",
       "    }\n",
       "\n",
       "    .dataframe tbody tr th {\n",
       "        vertical-align: top;\n",
       "    }\n",
       "\n",
       "    .dataframe thead th {\n",
       "        text-align: right;\n",
       "    }\n",
       "</style>\n",
       "<table border=\"1\" class=\"dataframe\">\n",
       "  <thead>\n",
       "    <tr style=\"text-align: right;\">\n",
       "      <th></th>\n",
       "      <th>cut</th>\n",
       "      <th>None</th>\n",
       "    </tr>\n",
       "  </thead>\n",
       "  <tbody>\n",
       "    <tr>\n",
       "      <th>0</th>\n",
       "      <td>Ideal</td>\n",
       "      <td>21551</td>\n",
       "    </tr>\n",
       "    <tr>\n",
       "      <th>1</th>\n",
       "      <td>Premium</td>\n",
       "      <td>13791</td>\n",
       "    </tr>\n",
       "    <tr>\n",
       "      <th>2</th>\n",
       "      <td>Good</td>\n",
       "      <td>4906</td>\n",
       "    </tr>\n",
       "    <tr>\n",
       "      <th>3</th>\n",
       "      <td>Very Good</td>\n",
       "      <td>12082</td>\n",
       "    </tr>\n",
       "    <tr>\n",
       "      <th>4</th>\n",
       "      <td>Fair</td>\n",
       "      <td>1610</td>\n",
       "    </tr>\n",
       "  </tbody>\n",
       "</table>\n",
       "</div>"
      ],
      "text/plain": [
       "         cut   None\n",
       "0      Ideal  21551\n",
       "1    Premium  13791\n",
       "2       Good   4906\n",
       "3  Very Good  12082\n",
       "4       Fair   1610"
      ]
     },
     "execution_count": 40,
     "metadata": {},
     "output_type": "execute_result"
    }
   ],
   "source": [
    "pip.fit(df).apply(df)"
   ]
  },
  {
   "cell_type": "code",
   "execution_count": 41,
   "id": "9281d4cc-05c2-4553-9b1a-a6b090af1f6b",
   "metadata": {
    "tags": []
   },
   "outputs": [
    {
     "data": {
      "text/plain": [
       "<pandas.core.groupby.generic.DataFrameGroupBy object at 0x7f827df75570>"
      ]
     },
     "execution_count": 41,
     "metadata": {},
     "output_type": "execute_result"
    }
   ],
   "source": [
    "df.groupby(\"cut\")"
   ]
  },
  {
   "cell_type": "code",
   "execution_count": 42,
   "id": "bdb604a7-8b4b-48ce-acb3-6d6948dd87aa",
   "metadata": {
    "tags": []
   },
   "outputs": [],
   "source": [
    "gb = ff.DataFramePipeline().group_by(\"cut\")"
   ]
  },
  {
   "cell_type": "code",
   "execution_count": 43,
   "id": "4c6f64db-0c1a-4248-bfa7-81ba865ff8ce",
   "metadata": {
    "tags": []
   },
   "outputs": [
    {
     "data": {
      "text/plain": [
       "<frankenfit.core.DataFramePipeline.Grouper at 0x7f827df74970>"
      ]
     },
     "execution_count": 43,
     "metadata": {},
     "output_type": "execute_result"
    }
   ],
   "source": [
    "gb"
   ]
  },
  {
   "cell_type": "code",
   "execution_count": 45,
   "id": "01dd7756-17c4-4cb7-9cbd-2feb895bb1c9",
   "metadata": {
    "tags": []
   },
   "outputs": [
    {
     "data": {
      "text/plain": [
       "carat       0.797940\n",
       "depth      61.749405\n",
       "table      57.457184\n",
       "price    3932.799722\n",
       "x           5.731157\n",
       "y           5.734526\n",
       "z           3.538734\n",
       "dtype: float64"
      ]
     },
     "execution_count": 45,
     "metadata": {},
     "output_type": "execute_result"
    }
   ],
   "source": [
    "np.mean(df, axis=0)"
   ]
  },
  {
   "cell_type": "code",
   "execution_count": 46,
   "id": "300dc352-29b1-4c78-89a8-24904757e19f",
   "metadata": {
    "tags": []
   },
   "outputs": [
    {
     "data": {
      "text/html": [
       "<div>\n",
       "<style scoped>\n",
       "    .dataframe tbody tr th:only-of-type {\n",
       "        vertical-align: middle;\n",
       "    }\n",
       "\n",
       "    .dataframe tbody tr th {\n",
       "        vertical-align: top;\n",
       "    }\n",
       "\n",
       "    .dataframe thead tr th {\n",
       "        text-align: left;\n",
       "    }\n",
       "\n",
       "    .dataframe thead tr:last-of-type th {\n",
       "        text-align: right;\n",
       "    }\n",
       "</style>\n",
       "<table border=\"1\" class=\"dataframe\">\n",
       "  <thead>\n",
       "    <tr>\n",
       "      <th></th>\n",
       "      <th colspan=\"8\" halign=\"left\">price</th>\n",
       "    </tr>\n",
       "    <tr>\n",
       "      <th></th>\n",
       "      <th>count</th>\n",
       "      <th>mean</th>\n",
       "      <th>std</th>\n",
       "      <th>min</th>\n",
       "      <th>25%</th>\n",
       "      <th>50%</th>\n",
       "      <th>75%</th>\n",
       "      <th>max</th>\n",
       "    </tr>\n",
       "    <tr>\n",
       "      <th>cut</th>\n",
       "      <th></th>\n",
       "      <th></th>\n",
       "      <th></th>\n",
       "      <th></th>\n",
       "      <th></th>\n",
       "      <th></th>\n",
       "      <th></th>\n",
       "      <th></th>\n",
       "    </tr>\n",
       "  </thead>\n",
       "  <tbody>\n",
       "    <tr>\n",
       "      <th>Fair</th>\n",
       "      <td>1610.0</td>\n",
       "      <td>4358.757764</td>\n",
       "      <td>3560.386612</td>\n",
       "      <td>337.0</td>\n",
       "      <td>2050.25</td>\n",
       "      <td>3282.0</td>\n",
       "      <td>5205.50</td>\n",
       "      <td>18574.0</td>\n",
       "    </tr>\n",
       "    <tr>\n",
       "      <th>Good</th>\n",
       "      <td>4906.0</td>\n",
       "      <td>3928.864452</td>\n",
       "      <td>3681.589584</td>\n",
       "      <td>327.0</td>\n",
       "      <td>1145.00</td>\n",
       "      <td>3050.5</td>\n",
       "      <td>5028.00</td>\n",
       "      <td>18788.0</td>\n",
       "    </tr>\n",
       "    <tr>\n",
       "      <th>Ideal</th>\n",
       "      <td>21551.0</td>\n",
       "      <td>3457.541970</td>\n",
       "      <td>3808.401172</td>\n",
       "      <td>326.0</td>\n",
       "      <td>878.00</td>\n",
       "      <td>1810.0</td>\n",
       "      <td>4678.50</td>\n",
       "      <td>18806.0</td>\n",
       "    </tr>\n",
       "    <tr>\n",
       "      <th>Premium</th>\n",
       "      <td>13791.0</td>\n",
       "      <td>4584.257704</td>\n",
       "      <td>4349.204961</td>\n",
       "      <td>326.0</td>\n",
       "      <td>1046.00</td>\n",
       "      <td>3185.0</td>\n",
       "      <td>6296.00</td>\n",
       "      <td>18823.0</td>\n",
       "    </tr>\n",
       "    <tr>\n",
       "      <th>Very Good</th>\n",
       "      <td>12082.0</td>\n",
       "      <td>3981.759891</td>\n",
       "      <td>3935.862161</td>\n",
       "      <td>336.0</td>\n",
       "      <td>912.00</td>\n",
       "      <td>2648.0</td>\n",
       "      <td>5372.75</td>\n",
       "      <td>18818.0</td>\n",
       "    </tr>\n",
       "  </tbody>\n",
       "</table>\n",
       "</div>"
      ],
      "text/plain": [
       "             price                                                             \\\n",
       "             count         mean          std    min      25%     50%      75%   \n",
       "cut                                                                             \n",
       "Fair        1610.0  4358.757764  3560.386612  337.0  2050.25  3282.0  5205.50   \n",
       "Good        4906.0  3928.864452  3681.589584  327.0  1145.00  3050.5  5028.00   \n",
       "Ideal      21551.0  3457.541970  3808.401172  326.0   878.00  1810.0  4678.50   \n",
       "Premium    13791.0  4584.257704  4349.204961  326.0  1046.00  3185.0  6296.00   \n",
       "Very Good  12082.0  3981.759891  3935.862161  336.0   912.00  2648.0  5372.75   \n",
       "\n",
       "                    \n",
       "               max  \n",
       "cut                 \n",
       "Fair       18574.0  \n",
       "Good       18788.0  \n",
       "Ideal      18806.0  \n",
       "Premium    18823.0  \n",
       "Very Good  18818.0  "
      ]
     },
     "execution_count": 46,
     "metadata": {},
     "output_type": "execute_result"
    }
   ],
   "source": [
    "df.groupby(\"cut\")[[\"price\"]].describe()"
   ]
  },
  {
   "cell_type": "code",
   "execution_count": 47,
   "id": "bb0d5dcc-44c6-4a82-8b5e-595583a39b96",
   "metadata": {
    "tags": []
   },
   "outputs": [
    {
     "data": {
      "text/html": [
       "<div>\n",
       "<style scoped>\n",
       "    .dataframe tbody tr th:only-of-type {\n",
       "        vertical-align: middle;\n",
       "    }\n",
       "\n",
       "    .dataframe tbody tr th {\n",
       "        vertical-align: top;\n",
       "    }\n",
       "\n",
       "    .dataframe thead tr th {\n",
       "        text-align: left;\n",
       "    }\n",
       "\n",
       "    .dataframe thead tr:last-of-type th {\n",
       "        text-align: right;\n",
       "    }\n",
       "</style>\n",
       "<table border=\"1\" class=\"dataframe\">\n",
       "  <thead>\n",
       "    <tr>\n",
       "      <th></th>\n",
       "      <th colspan=\"8\" halign=\"left\">price</th>\n",
       "    </tr>\n",
       "    <tr>\n",
       "      <th></th>\n",
       "      <th>count</th>\n",
       "      <th>mean</th>\n",
       "      <th>std</th>\n",
       "      <th>min</th>\n",
       "      <th>25%</th>\n",
       "      <th>50%</th>\n",
       "      <th>75%</th>\n",
       "      <th>max</th>\n",
       "    </tr>\n",
       "    <tr>\n",
       "      <th>cut</th>\n",
       "      <th></th>\n",
       "      <th></th>\n",
       "      <th></th>\n",
       "      <th></th>\n",
       "      <th></th>\n",
       "      <th></th>\n",
       "      <th></th>\n",
       "      <th></th>\n",
       "    </tr>\n",
       "  </thead>\n",
       "  <tbody>\n",
       "    <tr>\n",
       "      <th>Fair</th>\n",
       "      <td>1610.0</td>\n",
       "      <td>2.169230e-13</td>\n",
       "      <td>3560.386612</td>\n",
       "      <td>-4021.757764</td>\n",
       "      <td>-2308.507764</td>\n",
       "      <td>-1076.757764</td>\n",
       "      <td>846.742236</td>\n",
       "      <td>14215.242236</td>\n",
       "    </tr>\n",
       "    <tr>\n",
       "      <th>Good</th>\n",
       "      <td>4906.0</td>\n",
       "      <td>-2.847501e-13</td>\n",
       "      <td>3681.589584</td>\n",
       "      <td>-3601.864452</td>\n",
       "      <td>-2783.864452</td>\n",
       "      <td>-878.364452</td>\n",
       "      <td>1099.135548</td>\n",
       "      <td>14859.135548</td>\n",
       "    </tr>\n",
       "    <tr>\n",
       "      <th>Ideal</th>\n",
       "      <td>21551.0</td>\n",
       "      <td>-1.728593e-13</td>\n",
       "      <td>3808.401172</td>\n",
       "      <td>-3131.541970</td>\n",
       "      <td>-2579.541970</td>\n",
       "      <td>-1647.541970</td>\n",
       "      <td>1220.958030</td>\n",
       "      <td>15348.458030</td>\n",
       "    </tr>\n",
       "    <tr>\n",
       "      <th>Premium</th>\n",
       "      <td>13791.0</td>\n",
       "      <td>5.402495e-13</td>\n",
       "      <td>4349.204961</td>\n",
       "      <td>-4258.257704</td>\n",
       "      <td>-3538.257704</td>\n",
       "      <td>-1399.257704</td>\n",
       "      <td>1711.742296</td>\n",
       "      <td>14238.742296</td>\n",
       "    </tr>\n",
       "    <tr>\n",
       "      <th>Very Good</th>\n",
       "      <td>12082.0</td>\n",
       "      <td>0.000000e+00</td>\n",
       "      <td>3935.862161</td>\n",
       "      <td>-3645.759891</td>\n",
       "      <td>-3069.759891</td>\n",
       "      <td>-1333.759891</td>\n",
       "      <td>1390.990109</td>\n",
       "      <td>14836.240109</td>\n",
       "    </tr>\n",
       "  </tbody>\n",
       "</table>\n",
       "</div>"
      ],
      "text/plain": [
       "             price                                                       \\\n",
       "             count          mean          std          min          25%   \n",
       "cut                                                                       \n",
       "Fair        1610.0  2.169230e-13  3560.386612 -4021.757764 -2308.507764   \n",
       "Good        4906.0 -2.847501e-13  3681.589584 -3601.864452 -2783.864452   \n",
       "Ideal      21551.0 -1.728593e-13  3808.401172 -3131.541970 -2579.541970   \n",
       "Premium    13791.0  5.402495e-13  4349.204961 -4258.257704 -3538.257704   \n",
       "Very Good  12082.0  0.000000e+00  3935.862161 -3645.759891 -3069.759891   \n",
       "\n",
       "                                                   \n",
       "                   50%          75%           max  \n",
       "cut                                                \n",
       "Fair      -1076.757764   846.742236  14215.242236  \n",
       "Good       -878.364452  1099.135548  14859.135548  \n",
       "Ideal     -1647.541970  1220.958030  15348.458030  \n",
       "Premium   -1399.257704  1711.742296  14238.742296  \n",
       "Very Good -1333.759891  1390.990109  14836.240109  "
      ]
     },
     "execution_count": 47,
     "metadata": {},
     "output_type": "execute_result"
    }
   ],
   "source": [
    "x = (\n",
    "    ff.DataFramePipeline()\n",
    "    .group_by(\"cut\")\n",
    "    .de_mean([\"price\"])\n",
    "    [[\"cut\", \"price\"]]\n",
    ").apply(df)\n",
    "x.groupby(\"cut\")[[\"price\"]].describe()"
   ]
  },
  {
   "cell_type": "code",
   "execution_count": 48,
   "id": "a9f32a33-d44f-4055-b509-ad53f2b6f2cb",
   "metadata": {
    "tags": []
   },
   "outputs": [
    {
     "data": {
      "text/html": [
       "<div>\n",
       "<style scoped>\n",
       "    .dataframe tbody tr th:only-of-type {\n",
       "        vertical-align: middle;\n",
       "    }\n",
       "\n",
       "    .dataframe tbody tr th {\n",
       "        vertical-align: top;\n",
       "    }\n",
       "\n",
       "    .dataframe thead tr th {\n",
       "        text-align: left;\n",
       "    }\n",
       "\n",
       "    .dataframe thead tr:last-of-type th {\n",
       "        text-align: right;\n",
       "    }\n",
       "</style>\n",
       "<table border=\"1\" class=\"dataframe\">\n",
       "  <thead>\n",
       "    <tr>\n",
       "      <th></th>\n",
       "      <th colspan=\"8\" halign=\"left\">price</th>\n",
       "    </tr>\n",
       "    <tr>\n",
       "      <th></th>\n",
       "      <th>count</th>\n",
       "      <th>mean</th>\n",
       "      <th>std</th>\n",
       "      <th>min</th>\n",
       "      <th>25%</th>\n",
       "      <th>50%</th>\n",
       "      <th>75%</th>\n",
       "      <th>max</th>\n",
       "    </tr>\n",
       "    <tr>\n",
       "      <th>cut</th>\n",
       "      <th></th>\n",
       "      <th></th>\n",
       "      <th></th>\n",
       "      <th></th>\n",
       "      <th></th>\n",
       "      <th></th>\n",
       "      <th></th>\n",
       "      <th></th>\n",
       "    </tr>\n",
       "  </thead>\n",
       "  <tbody>\n",
       "    <tr>\n",
       "      <th>Fair</th>\n",
       "      <td>1610.0</td>\n",
       "      <td>439.063191</td>\n",
       "      <td>3560.386612</td>\n",
       "      <td>-3582.694573</td>\n",
       "      <td>-1869.444573</td>\n",
       "      <td>-637.694573</td>\n",
       "      <td>1285.805427</td>\n",
       "      <td>14654.305427</td>\n",
       "    </tr>\n",
       "    <tr>\n",
       "      <th>Good</th>\n",
       "      <td>4906.0</td>\n",
       "      <td>-4.329006</td>\n",
       "      <td>3681.589584</td>\n",
       "      <td>-3606.193458</td>\n",
       "      <td>-2788.193458</td>\n",
       "      <td>-882.693458</td>\n",
       "      <td>1094.806542</td>\n",
       "      <td>14854.806542</td>\n",
       "    </tr>\n",
       "    <tr>\n",
       "      <th>Ideal</th>\n",
       "      <td>21551.0</td>\n",
       "      <td>-791.484860</td>\n",
       "      <td>3808.401172</td>\n",
       "      <td>-3923.026830</td>\n",
       "      <td>-3371.026830</td>\n",
       "      <td>-2439.026830</td>\n",
       "      <td>429.473170</td>\n",
       "      <td>14556.973170</td>\n",
       "    </tr>\n",
       "    <tr>\n",
       "      <th>Premium</th>\n",
       "      <td>13791.0</td>\n",
       "      <td>875.230854</td>\n",
       "      <td>4349.204961</td>\n",
       "      <td>-3383.026850</td>\n",
       "      <td>-2663.026850</td>\n",
       "      <td>-524.026850</td>\n",
       "      <td>2586.973150</td>\n",
       "      <td>15113.973150</td>\n",
       "    </tr>\n",
       "    <tr>\n",
       "      <th>Very Good</th>\n",
       "      <td>12082.0</td>\n",
       "      <td>63.092157</td>\n",
       "      <td>3935.862161</td>\n",
       "      <td>-3582.667734</td>\n",
       "      <td>-3006.667734</td>\n",
       "      <td>-1270.667734</td>\n",
       "      <td>1454.082266</td>\n",
       "      <td>14899.332266</td>\n",
       "    </tr>\n",
       "  </tbody>\n",
       "</table>\n",
       "</div>"
      ],
      "text/plain": [
       "             price                                                     \\\n",
       "             count        mean          std          min          25%   \n",
       "cut                                                                     \n",
       "Fair        1610.0  439.063191  3560.386612 -3582.694573 -1869.444573   \n",
       "Good        4906.0   -4.329006  3681.589584 -3606.193458 -2788.193458   \n",
       "Ideal      21551.0 -791.484860  3808.401172 -3923.026830 -3371.026830   \n",
       "Premium    13791.0  875.230854  4349.204961 -3383.026850 -2663.026850   \n",
       "Very Good  12082.0   63.092157  3935.862161 -3582.667734 -3006.667734   \n",
       "\n",
       "                                                   \n",
       "                   50%          75%           max  \n",
       "cut                                                \n",
       "Fair       -637.694573  1285.805427  14654.305427  \n",
       "Good       -882.693458  1094.806542  14854.806542  \n",
       "Ideal     -2439.026830   429.473170  14556.973170  \n",
       "Premium    -524.026850  2586.973150  15113.973150  \n",
       "Very Good -1270.667734  1454.082266  14899.332266  "
      ]
     },
     "execution_count": 48,
     "metadata": {},
     "output_type": "execute_result"
    }
   ],
   "source": [
    "x = (\n",
    "    ff.DataFramePipeline()\n",
    "    .group_by(\"cut\", fitting_schedule=ff.fit_group_on_all_other_groups)\n",
    "        .de_mean([\"price\"])\n",
    "    [[\"cut\", \"price\"]]\n",
    ").apply(df)\n",
    "x.groupby(\"cut\")[[\"price\"]].describe()"
   ]
  },
  {
   "cell_type": "code",
   "execution_count": 49,
   "id": "510cff76-0622-46a3-99ae-0af127c9f62f",
   "metadata": {
    "tags": []
   },
   "outputs": [
    {
     "data": {
      "text/plain": [
       "\u001b[0;31mSignature:\u001b[0m \u001b[0mff\u001b[0m\u001b[0;34m.\u001b[0m\u001b[0mDataFramePipeline\u001b[0m\u001b[0;34m.\u001b[0m\u001b[0mgroup_by\u001b[0m\u001b[0;34m(\u001b[0m\u001b[0mself\u001b[0m\u001b[0;34m:\u001b[0m \u001b[0;34m'DP'\u001b[0m\u001b[0;34m,\u001b[0m \u001b[0mcols\u001b[0m\u001b[0;34m,\u001b[0m \u001b[0mfitting_schedule\u001b[0m\u001b[0;34m=\u001b[0m\u001b[0;32mNone\u001b[0m\u001b[0;34m)\u001b[0m \u001b[0;34m->\u001b[0m \u001b[0;34m'DP.Grouper'\u001b[0m\u001b[0;34m\u001b[0m\u001b[0;34m\u001b[0m\u001b[0m\n",
       "\u001b[0;31mDocstring:\u001b[0m\n",
       "Return a :class:`Grouper` object, which will consume the next Transform\n",
       "in the call-chain by wrapping it in a :class:`GroupBy` transform and returning\n",
       "the result of appending that ``GroupBy`` to this pipeline. It enables\n",
       "Pandas-style call-chaining with ``GroupBy``.\n",
       "\n",
       "For example, grouping a single Transform::\n",
       "\n",
       "    (\n",
       "        ff.DataFramePipeline()\n",
       "        # ...\n",
       "        .group_by(\"cut\")  # -> PipelineGrouper\n",
       "            .z_score(cols)  # -> Pipeline\n",
       "    )\n",
       "\n",
       "Grouping a sequence of Transforms::\n",
       "\n",
       "    (\n",
       "        ff.DataFramePipeline()\n",
       "        # ...\n",
       "        .group_by(\"cut\")\n",
       "            .then(\n",
       "                ff.DataFramePipeline()\n",
       "                .winsorize(cols, limit=0.01)\n",
       "                .z_score(cols)\n",
       "                .clip(cols, upper=2, lower=-2)\n",
       "            )\n",
       "    )\n",
       "\n",
       ".. NOTE::\n",
       "    When using ``group_by()``, by convention we add a level of indentation to\n",
       "    the next call in the call-chain, to indicate visually that it is being\n",
       "    consumed by the preceding ``group_by()`` call.\n",
       "\n",
       ":param cols: The column(s) by which to group. The next Transform in the\n",
       "    call-chain will be fit and applied separately on each subset of\n",
       "    data with a distinct combination of values in ``cols``.\n",
       ":type cols: str | HP | list[str | HP]\n",
       "\n",
       ":param fitting_schedule: How to determine the fitting data of each group. The\n",
       "    default schedule is :meth:`fit_group_on_self`. Use this to implement\n",
       "    workflows like cross-validation and sequential fitting.\n",
       ":type fitting_schedule: Callable[dict[str, object], np.array[bool]]\n",
       "\n",
       ":rtype: :class:`DataFramePipeline.Grouper`\n",
       "\u001b[0;31mFile:\u001b[0m      ~/frankenfit/src/frankenfit/dataframe.py\n",
       "\u001b[0;31mType:\u001b[0m      function\n"
      ]
     },
     "metadata": {},
     "output_type": "display_data"
    }
   ],
   "source": [
    "ff.DataFramePipeline.group_by?"
   ]
  },
  {
   "cell_type": "code",
   "execution_count": 50,
   "id": "e2940046-80cd-47de-aaa4-5c34714129a8",
   "metadata": {
    "tags": []
   },
   "outputs": [],
   "source": [
    "pip = (\n",
    "    ff.DataFramePipeline()\n",
    "    .group_by(\"cut\")\n",
    "    .de_mean([\"price\"])\n",
    "    [[\"cut\", \"price\"]]\n",
    ")\n",
    "pip_fit = pip.fit(df)"
   ]
  },
  {
   "cell_type": "code",
   "execution_count": 51,
   "id": "58f07d89-898e-4081-b10f-910392dc5fc1",
   "metadata": {
    "tags": []
   },
   "outputs": [
    {
     "data": {
      "text/plain": [
       "DataFramePipeline(tag='DataFramePipeline#6', transforms=[GroupBy(tag='GroupBy#7', cols=['cut'], transform=DeMean(tag='DeMean#4', cols=['price'], w_col=None), fitting_schedule=<function fit_group_on_self at 0x7f827e0fbd00>), Select(tag='Select#3', cols=['cut', 'price'])])"
      ]
     },
     "execution_count": 51,
     "metadata": {},
     "output_type": "execute_result"
    }
   ],
   "source": [
    "pip"
   ]
  },
  {
   "cell_type": "code",
   "execution_count": 52,
   "id": "3e3f5726-b708-49d5-95e9-71a2d68052af",
   "metadata": {
    "tags": []
   },
   "outputs": [
    {
     "data": {
      "text/plain": [
       "FitDataFramePipeline(tag='DataFramePipeline#6', transforms=[GroupBy(tag='GroupBy#7', cols=['cut'], transform=DeMean(tag='DeMean#4', cols=['price'], w_col=None), fitting_schedule=<function fit_group_on_self at 0x7f827e0fbd00>), Select(tag='Select#3', cols=['cut', 'price'])])"
      ]
     },
     "execution_count": 52,
     "metadata": {},
     "output_type": "execute_result"
    }
   ],
   "source": [
    "pip_fit"
   ]
  },
  {
   "cell_type": "code",
   "execution_count": 53,
   "id": "4763307f-dfb6-4410-bdce-c451038437ab",
   "metadata": {
    "tags": []
   },
   "outputs": [
    {
     "data": {
      "text/plain": [
       "price    3457.54197\n",
       "dtype: float64"
      ]
     },
     "execution_count": 53,
     "metadata": {},
     "output_type": "execute_result"
    }
   ],
   "source": [
    "pip_fit.find_by_tag(\"GroupBy#7\").state().loc[0,'__state__'].state()"
   ]
  },
  {
   "cell_type": "code",
   "execution_count": 54,
   "id": "f0db2386-781e-4f22-a6a8-57372fe5f7c8",
   "metadata": {
    "tags": []
   },
   "outputs": [
    {
     "data": {
      "text/plain": [
       "pandas.core.series.Series"
      ]
     },
     "execution_count": 54,
     "metadata": {},
     "output_type": "execute_result"
    }
   ],
   "source": [
    "s = pip_fit.find_by_tag(\"GroupBy#7\").state().loc[0,'__state__'].state()\n",
    "type(s)"
   ]
  },
  {
   "cell_type": "code",
   "execution_count": 55,
   "id": "959a681a-548c-43e3-ba3c-ff5ad20373c3",
   "metadata": {
    "tags": []
   },
   "outputs": [
    {
     "data": {
      "text/html": [
       "<div>\n",
       "<style scoped>\n",
       "    .dataframe tbody tr th:only-of-type {\n",
       "        vertical-align: middle;\n",
       "    }\n",
       "\n",
       "    .dataframe tbody tr th {\n",
       "        vertical-align: top;\n",
       "    }\n",
       "\n",
       "    .dataframe thead th {\n",
       "        text-align: right;\n",
       "    }\n",
       "</style>\n",
       "<table border=\"1\" class=\"dataframe\">\n",
       "  <thead>\n",
       "    <tr style=\"text-align: right;\">\n",
       "      <th></th>\n",
       "      <th>cut</th>\n",
       "      <th>__state__</th>\n",
       "      <th>mean</th>\n",
       "    </tr>\n",
       "  </thead>\n",
       "  <tbody>\n",
       "    <tr>\n",
       "      <th>0</th>\n",
       "      <td>Ideal</td>\n",
       "      <td>FitDeMean(tag='DeMean#4', cols=['price'], w_col=None)</td>\n",
       "      <td>3457.541970</td>\n",
       "    </tr>\n",
       "    <tr>\n",
       "      <th>1</th>\n",
       "      <td>Premium</td>\n",
       "      <td>FitDeMean(tag='DeMean#4', cols=['price'], w_col=None)</td>\n",
       "      <td>4584.257704</td>\n",
       "    </tr>\n",
       "    <tr>\n",
       "      <th>2</th>\n",
       "      <td>Good</td>\n",
       "      <td>FitDeMean(tag='DeMean#4', cols=['price'], w_col=None)</td>\n",
       "      <td>3928.864452</td>\n",
       "    </tr>\n",
       "    <tr>\n",
       "      <th>3</th>\n",
       "      <td>Very Good</td>\n",
       "      <td>FitDeMean(tag='DeMean#4', cols=['price'], w_col=None)</td>\n",
       "      <td>3981.759891</td>\n",
       "    </tr>\n",
       "    <tr>\n",
       "      <th>4</th>\n",
       "      <td>Fair</td>\n",
       "      <td>FitDeMean(tag='DeMean#4', cols=['price'], w_col=None)</td>\n",
       "      <td>4358.757764</td>\n",
       "    </tr>\n",
       "  </tbody>\n",
       "</table>\n",
       "</div>"
      ],
      "text/plain": [
       "         cut                                              __state__  \\\n",
       "0      Ideal  FitDeMean(tag='DeMean#4', cols=['price'], w_col=None)   \n",
       "1    Premium  FitDeMean(tag='DeMean#4', cols=['price'], w_col=None)   \n",
       "2       Good  FitDeMean(tag='DeMean#4', cols=['price'], w_col=None)   \n",
       "3  Very Good  FitDeMean(tag='DeMean#4', cols=['price'], w_col=None)   \n",
       "4       Fair  FitDeMean(tag='DeMean#4', cols=['price'], w_col=None)   \n",
       "\n",
       "          mean  \n",
       "0  3457.541970  \n",
       "1  4584.257704  \n",
       "2  3928.864452  \n",
       "3  3981.759891  \n",
       "4  4358.757764  "
      ]
     },
     "execution_count": 55,
     "metadata": {},
     "output_type": "execute_result"
    }
   ],
   "source": [
    "pip_fit.find_by_tag(\"GroupBy#7\").state().assign(\n",
    "    mean = lambda df: df['__state__'].map(lambda x: x.state()[0])\n",
    ")"
   ]
  },
  {
   "cell_type": "code",
   "execution_count": 56,
   "id": "754ef4f6-5e2c-478a-90c7-0164b56da96c",
   "metadata": {
    "tags": []
   },
   "outputs": [],
   "source": [
    "pip = (\n",
    "    ff.DataFramePipeline()\n",
    "    #.group_by(\"cut\", fitting_schedule=ff.fit_group_on_all_other_groups)\n",
    "    .group_by(\"cut\")\n",
    "        .stateless_lambda(lambda df: df[[\"price\"]].mean())\n",
    ")\n",
    "result = pip.apply(df).set_index('cut').sort_index().reset_index()#.sort_values('cut')"
   ]
  },
  {
   "cell_type": "code",
   "execution_count": 57,
   "id": "608ab155-e59c-48f1-b6ad-2799c204342b",
   "metadata": {
    "tags": []
   },
   "outputs": [],
   "source": [
    "target = df.groupby(\"cut\")[['price']].mean().sort_index().reset_index()"
   ]
  },
  {
   "cell_type": "code",
   "execution_count": 58,
   "id": "b7a836bc-1b5d-470e-8133-6b31bdd3f0fe",
   "metadata": {
    "tags": []
   },
   "outputs": [
    {
     "data": {
      "text/plain": [
       "True"
      ]
     },
     "execution_count": 58,
     "metadata": {},
     "output_type": "execute_result"
    }
   ],
   "source": [
    "result.equals(target)"
   ]
  },
  {
   "cell_type": "code",
   "execution_count": 59,
   "id": "726115f8-c2cf-4750-b484-adabd52c5846",
   "metadata": {
    "tags": []
   },
   "outputs": [
    {
     "data": {
      "text/html": [
       "<div>\n",
       "<style scoped>\n",
       "    .dataframe tbody tr th:only-of-type {\n",
       "        vertical-align: middle;\n",
       "    }\n",
       "\n",
       "    .dataframe tbody tr th {\n",
       "        vertical-align: top;\n",
       "    }\n",
       "\n",
       "    .dataframe thead th {\n",
       "        text-align: right;\n",
       "    }\n",
       "</style>\n",
       "<table border=\"1\" class=\"dataframe\">\n",
       "  <thead>\n",
       "    <tr style=\"text-align: right;\">\n",
       "      <th></th>\n",
       "      <th>cut</th>\n",
       "      <th>price</th>\n",
       "    </tr>\n",
       "  </thead>\n",
       "  <tbody>\n",
       "    <tr>\n",
       "      <th>0</th>\n",
       "      <td>Fair</td>\n",
       "      <td>4358.757764</td>\n",
       "    </tr>\n",
       "    <tr>\n",
       "      <th>1</th>\n",
       "      <td>Good</td>\n",
       "      <td>3928.864452</td>\n",
       "    </tr>\n",
       "    <tr>\n",
       "      <th>2</th>\n",
       "      <td>Ideal</td>\n",
       "      <td>3457.541970</td>\n",
       "    </tr>\n",
       "    <tr>\n",
       "      <th>3</th>\n",
       "      <td>Premium</td>\n",
       "      <td>4584.257704</td>\n",
       "    </tr>\n",
       "    <tr>\n",
       "      <th>4</th>\n",
       "      <td>Very Good</td>\n",
       "      <td>3981.759891</td>\n",
       "    </tr>\n",
       "  </tbody>\n",
       "</table>\n",
       "</div>"
      ],
      "text/plain": [
       "         cut        price\n",
       "0       Fair  4358.757764\n",
       "1       Good  3928.864452\n",
       "2      Ideal  3457.541970\n",
       "3    Premium  4584.257704\n",
       "4  Very Good  3981.759891"
      ]
     },
     "execution_count": 59,
     "metadata": {},
     "output_type": "execute_result"
    }
   ],
   "source": [
    "result"
   ]
  },
  {
   "cell_type": "code",
   "execution_count": 60,
   "id": "e5e4dedb-5a5a-45a3-9e75-b97101ae9013",
   "metadata": {
    "tags": []
   },
   "outputs": [
    {
     "data": {
      "text/html": [
       "<div>\n",
       "<style scoped>\n",
       "    .dataframe tbody tr th:only-of-type {\n",
       "        vertical-align: middle;\n",
       "    }\n",
       "\n",
       "    .dataframe tbody tr th {\n",
       "        vertical-align: top;\n",
       "    }\n",
       "\n",
       "    .dataframe thead th {\n",
       "        text-align: right;\n",
       "    }\n",
       "</style>\n",
       "<table border=\"1\" class=\"dataframe\">\n",
       "  <thead>\n",
       "    <tr style=\"text-align: right;\">\n",
       "      <th></th>\n",
       "      <th>cut</th>\n",
       "      <th>price</th>\n",
       "    </tr>\n",
       "  </thead>\n",
       "  <tbody>\n",
       "    <tr>\n",
       "      <th>0</th>\n",
       "      <td>Fair</td>\n",
       "      <td>4358.757764</td>\n",
       "    </tr>\n",
       "    <tr>\n",
       "      <th>1</th>\n",
       "      <td>Good</td>\n",
       "      <td>3928.864452</td>\n",
       "    </tr>\n",
       "    <tr>\n",
       "      <th>2</th>\n",
       "      <td>Ideal</td>\n",
       "      <td>3457.541970</td>\n",
       "    </tr>\n",
       "    <tr>\n",
       "      <th>3</th>\n",
       "      <td>Premium</td>\n",
       "      <td>4584.257704</td>\n",
       "    </tr>\n",
       "    <tr>\n",
       "      <th>4</th>\n",
       "      <td>Very Good</td>\n",
       "      <td>3981.759891</td>\n",
       "    </tr>\n",
       "  </tbody>\n",
       "</table>\n",
       "</div>"
      ],
      "text/plain": [
       "         cut        price\n",
       "0       Fair  4358.757764\n",
       "1       Good  3928.864452\n",
       "2      Ideal  3457.541970\n",
       "3    Premium  4584.257704\n",
       "4  Very Good  3981.759891"
      ]
     },
     "execution_count": 60,
     "metadata": {},
     "output_type": "execute_result"
    }
   ],
   "source": [
    "target"
   ]
  },
  {
   "cell_type": "code",
   "execution_count": 61,
   "id": "6d116c05-1de6-4845-ae4b-3ecf098b2034",
   "metadata": {
    "tags": []
   },
   "outputs": [
    {
     "data": {
      "text/html": [
       "<div>\n",
       "<style scoped>\n",
       "    .dataframe tbody tr th:only-of-type {\n",
       "        vertical-align: middle;\n",
       "    }\n",
       "\n",
       "    .dataframe tbody tr th {\n",
       "        vertical-align: top;\n",
       "    }\n",
       "\n",
       "    .dataframe thead th {\n",
       "        text-align: right;\n",
       "    }\n",
       "</style>\n",
       "<table border=\"1\" class=\"dataframe\">\n",
       "  <thead>\n",
       "    <tr style=\"text-align: right;\">\n",
       "      <th></th>\n",
       "      <th>cut</th>\n",
       "      <th>price</th>\n",
       "    </tr>\n",
       "  </thead>\n",
       "  <tbody>\n",
       "    <tr>\n",
       "      <th>0</th>\n",
       "      <td>Ideal</td>\n",
       "      <td>-3923.026830</td>\n",
       "    </tr>\n",
       "    <tr>\n",
       "      <th>1</th>\n",
       "      <td>Premium</td>\n",
       "      <td>-3383.026850</td>\n",
       "    </tr>\n",
       "    <tr>\n",
       "      <th>2</th>\n",
       "      <td>Good</td>\n",
       "      <td>-3606.193458</td>\n",
       "    </tr>\n",
       "    <tr>\n",
       "      <th>3</th>\n",
       "      <td>Premium</td>\n",
       "      <td>-3375.026850</td>\n",
       "    </tr>\n",
       "    <tr>\n",
       "      <th>4</th>\n",
       "      <td>Good</td>\n",
       "      <td>-3598.193458</td>\n",
       "    </tr>\n",
       "    <tr>\n",
       "      <th>...</th>\n",
       "      <td>...</td>\n",
       "      <td>...</td>\n",
       "    </tr>\n",
       "    <tr>\n",
       "      <th>53935</th>\n",
       "      <td>Ideal</td>\n",
       "      <td>-1492.026830</td>\n",
       "    </tr>\n",
       "    <tr>\n",
       "      <th>53936</th>\n",
       "      <td>Good</td>\n",
       "      <td>-1176.193458</td>\n",
       "    </tr>\n",
       "    <tr>\n",
       "      <th>53937</th>\n",
       "      <td>Very Good</td>\n",
       "      <td>-1161.667734</td>\n",
       "    </tr>\n",
       "    <tr>\n",
       "      <th>53938</th>\n",
       "      <td>Premium</td>\n",
       "      <td>-952.026850</td>\n",
       "    </tr>\n",
       "    <tr>\n",
       "      <th>53939</th>\n",
       "      <td>Ideal</td>\n",
       "      <td>-1492.026830</td>\n",
       "    </tr>\n",
       "  </tbody>\n",
       "</table>\n",
       "<p>53940 rows × 2 columns</p>\n",
       "</div>"
      ],
      "text/plain": [
       "             cut        price\n",
       "0          Ideal -3923.026830\n",
       "1        Premium -3383.026850\n",
       "2           Good -3606.193458\n",
       "3        Premium -3375.026850\n",
       "4           Good -3598.193458\n",
       "...          ...          ...\n",
       "53935      Ideal -1492.026830\n",
       "53936       Good -1176.193458\n",
       "53937  Very Good -1161.667734\n",
       "53938    Premium  -952.026850\n",
       "53939      Ideal -1492.026830\n",
       "\n",
       "[53940 rows x 2 columns]"
      ]
     },
     "execution_count": 61,
     "metadata": {},
     "output_type": "execute_result"
    }
   ],
   "source": [
    "pip = (\n",
    "    ff.DataFramePipeline()\n",
    "    .group_by(\"cut\", fitting_schedule=ff.fit_group_on_all_other_groups)\n",
    "    #.group_by(\"cut\")\n",
    "        .de_mean('price')\n",
    "    [['cut', 'price']]\n",
    ")\n",
    "result = pip.apply(df)\n",
    "result"
   ]
  },
  {
   "cell_type": "code",
   "execution_count": 62,
   "id": "9fc63d63-b6c0-4878-97d4-ac0d6022e414",
   "metadata": {
    "tags": []
   },
   "outputs": [
    {
     "data": {
      "text/html": [
       "<div>\n",
       "<style scoped>\n",
       "    .dataframe tbody tr th:only-of-type {\n",
       "        vertical-align: middle;\n",
       "    }\n",
       "\n",
       "    .dataframe tbody tr th {\n",
       "        vertical-align: top;\n",
       "    }\n",
       "\n",
       "    .dataframe thead th {\n",
       "        text-align: right;\n",
       "    }\n",
       "</style>\n",
       "<table border=\"1\" class=\"dataframe\">\n",
       "  <thead>\n",
       "    <tr style=\"text-align: right;\">\n",
       "      <th></th>\n",
       "      <th>cut</th>\n",
       "      <th>price</th>\n",
       "    </tr>\n",
       "  </thead>\n",
       "  <tbody>\n",
       "    <tr>\n",
       "      <th>4</th>\n",
       "      <td>Fair</td>\n",
       "      <td>3919.694573</td>\n",
       "    </tr>\n",
       "    <tr>\n",
       "      <th>2</th>\n",
       "      <td>Good</td>\n",
       "      <td>3933.193458</td>\n",
       "    </tr>\n",
       "    <tr>\n",
       "      <th>0</th>\n",
       "      <td>Ideal</td>\n",
       "      <td>4249.026830</td>\n",
       "    </tr>\n",
       "    <tr>\n",
       "      <th>1</th>\n",
       "      <td>Premium</td>\n",
       "      <td>3709.026850</td>\n",
       "    </tr>\n",
       "    <tr>\n",
       "      <th>3</th>\n",
       "      <td>Very Good</td>\n",
       "      <td>3918.667734</td>\n",
       "    </tr>\n",
       "  </tbody>\n",
       "</table>\n",
       "</div>"
      ],
      "text/plain": [
       "         cut        price\n",
       "4       Fair  3919.694573\n",
       "2       Good  3933.193458\n",
       "0      Ideal  4249.026830\n",
       "1    Premium  3709.026850\n",
       "3  Very Good  3918.667734"
      ]
     },
     "execution_count": 62,
     "metadata": {},
     "output_type": "execute_result"
    }
   ],
   "source": [
    "cuts = pd.Series(df['cut'].unique(), name='cut').sort_values()\n",
    "cut_means = pd.DataFrame(dict(\n",
    "    cut=cuts,\n",
    "    price=cuts.map(lambda v: df.loc[df['cut'] != v]['price'].mean())\n",
    "))\n",
    "cut_means"
   ]
  },
  {
   "cell_type": "code",
   "execution_count": 63,
   "id": "ec0dea96-fc4d-4db2-9e30-672cc6240eb8",
   "metadata": {
    "tags": []
   },
   "outputs": [
    {
     "data": {
      "text/html": [
       "<div>\n",
       "<style scoped>\n",
       "    .dataframe tbody tr th:only-of-type {\n",
       "        vertical-align: middle;\n",
       "    }\n",
       "\n",
       "    .dataframe tbody tr th {\n",
       "        vertical-align: top;\n",
       "    }\n",
       "\n",
       "    .dataframe thead th {\n",
       "        text-align: right;\n",
       "    }\n",
       "</style>\n",
       "<table border=\"1\" class=\"dataframe\">\n",
       "  <thead>\n",
       "    <tr style=\"text-align: right;\">\n",
       "      <th></th>\n",
       "      <th>cut</th>\n",
       "      <th>price</th>\n",
       "    </tr>\n",
       "  </thead>\n",
       "  <tbody>\n",
       "    <tr>\n",
       "      <th>0</th>\n",
       "      <td>Ideal</td>\n",
       "      <td>-3923.026830</td>\n",
       "    </tr>\n",
       "    <tr>\n",
       "      <th>1</th>\n",
       "      <td>Premium</td>\n",
       "      <td>-3383.026850</td>\n",
       "    </tr>\n",
       "    <tr>\n",
       "      <th>2</th>\n",
       "      <td>Good</td>\n",
       "      <td>-3606.193458</td>\n",
       "    </tr>\n",
       "    <tr>\n",
       "      <th>3</th>\n",
       "      <td>Premium</td>\n",
       "      <td>-3375.026850</td>\n",
       "    </tr>\n",
       "    <tr>\n",
       "      <th>4</th>\n",
       "      <td>Good</td>\n",
       "      <td>-3598.193458</td>\n",
       "    </tr>\n",
       "    <tr>\n",
       "      <th>...</th>\n",
       "      <td>...</td>\n",
       "      <td>...</td>\n",
       "    </tr>\n",
       "    <tr>\n",
       "      <th>53935</th>\n",
       "      <td>Ideal</td>\n",
       "      <td>-1492.026830</td>\n",
       "    </tr>\n",
       "    <tr>\n",
       "      <th>53936</th>\n",
       "      <td>Good</td>\n",
       "      <td>-1176.193458</td>\n",
       "    </tr>\n",
       "    <tr>\n",
       "      <th>53937</th>\n",
       "      <td>Very Good</td>\n",
       "      <td>-1161.667734</td>\n",
       "    </tr>\n",
       "    <tr>\n",
       "      <th>53938</th>\n",
       "      <td>Premium</td>\n",
       "      <td>-952.026850</td>\n",
       "    </tr>\n",
       "    <tr>\n",
       "      <th>53939</th>\n",
       "      <td>Ideal</td>\n",
       "      <td>-1492.026830</td>\n",
       "    </tr>\n",
       "  </tbody>\n",
       "</table>\n",
       "<p>53940 rows × 2 columns</p>\n",
       "</div>"
      ],
      "text/plain": [
       "             cut        price\n",
       "0          Ideal -3923.026830\n",
       "1        Premium -3383.026850\n",
       "2           Good -3606.193458\n",
       "3        Premium -3375.026850\n",
       "4           Good -3598.193458\n",
       "...          ...          ...\n",
       "53935      Ideal -1492.026830\n",
       "53936       Good -1176.193458\n",
       "53937  Very Good -1161.667734\n",
       "53938    Premium  -952.026850\n",
       "53939      Ideal -1492.026830\n",
       "\n",
       "[53940 rows x 2 columns]"
      ]
     },
     "execution_count": 63,
     "metadata": {},
     "output_type": "execute_result"
    }
   ],
   "source": [
    "target = (\n",
    "    df\n",
    "    .merge(cut_means, how='left', on='cut', suffixes=('', '_mean'))\n",
    "    .assign(price=lambda df: df['price'] - df['price_mean'])\n",
    "    [['cut', 'price']]\n",
    ")\n",
    "target"
   ]
  },
  {
   "cell_type": "code",
   "execution_count": 64,
   "id": "a96d6e75-d95e-4bd6-831c-fba677735f76",
   "metadata": {
    "tags": []
   },
   "outputs": [
    {
     "data": {
      "text/plain": [
       "True"
      ]
     },
     "execution_count": 64,
     "metadata": {},
     "output_type": "execute_result"
    }
   ],
   "source": [
    "result.equals(target)"
   ]
  },
  {
   "cell_type": "code",
   "execution_count": 65,
   "id": "c88b0ae4-bb01-468a-ac27-92a20fd8c336",
   "metadata": {},
   "outputs": [
    {
     "ename": "UnfitGroupError",
     "evalue": "GroupBy: tried to apply to a group not seen at fit-time:\ncut    Fair\nName: 8, dtype: object",
     "output_type": "error",
     "traceback": [
      "\u001b[0;31m---------------------------------------------------------------------------\u001b[0m",
      "\u001b[0;31mUnfitGroupError\u001b[0m                           Traceback (most recent call last)",
      "Cell \u001b[0;32mIn [65], line 6\u001b[0m\n\u001b[1;32m      1\u001b[0m pip \u001b[38;5;241m=\u001b[39m (\n\u001b[1;32m      2\u001b[0m     ff\u001b[38;5;241m.\u001b[39mDataFramePipeline()\n\u001b[1;32m      3\u001b[0m     \u001b[38;5;241m.\u001b[39mgroup_by(\u001b[38;5;124m\"\u001b[39m\u001b[38;5;124mcut\u001b[39m\u001b[38;5;124m\"\u001b[39m)\n\u001b[1;32m      4\u001b[0m         \u001b[38;5;241m.\u001b[39mde_mean([\u001b[38;5;124m\"\u001b[39m\u001b[38;5;124mprice\u001b[39m\u001b[38;5;124m\"\u001b[39m])\n\u001b[1;32m      5\u001b[0m )\n\u001b[0;32m----> 6\u001b[0m d \u001b[38;5;241m=\u001b[39m \u001b[43mpip\u001b[49m\u001b[38;5;241;43m.\u001b[39;49m\u001b[43mfit\u001b[49m\u001b[43m(\u001b[49m\u001b[43mdf\u001b[49m\u001b[38;5;241;43m.\u001b[39;49m\u001b[43mloc\u001b[49m\u001b[43m[\u001b[49m\u001b[43mdf\u001b[49m\u001b[43m[\u001b[49m\u001b[38;5;124;43m'\u001b[39;49m\u001b[38;5;124;43mcut\u001b[39;49m\u001b[38;5;124;43m'\u001b[39;49m\u001b[43m]\u001b[49m\u001b[43m \u001b[49m\u001b[38;5;241;43m!=\u001b[39;49m\u001b[43m \u001b[49m\u001b[38;5;124;43m'\u001b[39;49m\u001b[38;5;124;43mFair\u001b[39;49m\u001b[38;5;124;43m'\u001b[39;49m\u001b[43m]\u001b[49m\u001b[43m)\u001b[49m\u001b[38;5;241;43m.\u001b[39;49m\u001b[43mapply\u001b[49m\u001b[43m(\u001b[49m\u001b[43mdf\u001b[49m\u001b[43m)\u001b[49m\n\u001b[1;32m      7\u001b[0m d\n",
      "File \u001b[0;32m~/frankenfit/src/frankenfit/core.py:696\u001b[0m, in \u001b[0;36mFitTransform.__init_subclass__.<locals>.apply\u001b[0;34m(self, data_apply)\u001b[0m\n\u001b[1;32m    695\u001b[0m \u001b[38;5;28;01mdef\u001b[39;00m \u001b[38;5;21mapply\u001b[39m(\u001b[38;5;28mself\u001b[39m, data_apply: Optional[\u001b[38;5;28mobject\u001b[39m] \u001b[38;5;241m=\u001b[39m \u001b[38;5;28;01mNone\u001b[39;00m) \u001b[38;5;241m-\u001b[39m\u001b[38;5;241m>\u001b[39m \u001b[38;5;28mobject\u001b[39m:\n\u001b[0;32m--> 696\u001b[0m     \u001b[38;5;28;01mreturn\u001b[39;00m \u001b[43morig_apply\u001b[49m\u001b[43m(\u001b[49m\u001b[38;5;28;43mself\u001b[39;49m\u001b[43m,\u001b[49m\u001b[43m \u001b[49m\u001b[43mdata_apply\u001b[49m\u001b[43m)\u001b[49m\n",
      "File \u001b[0;32m~/frankenfit/src/frankenfit/core.py:631\u001b[0m, in \u001b[0;36mFitTransform.apply\u001b[0;34m(self, data_apply)\u001b[0m\n\u001b[1;32m    625\u001b[0m     data_len \u001b[38;5;241m=\u001b[39m \u001b[38;5;28;01mNone\u001b[39;00m\n\u001b[1;32m    627\u001b[0m _LOG\u001b[38;5;241m.\u001b[39mdebug(\n\u001b[1;32m    628\u001b[0m     \u001b[38;5;124mf\u001b[39m\u001b[38;5;124m\"\u001b[39m\u001b[38;5;124mApplying \u001b[39m\u001b[38;5;132;01m{\u001b[39;00m\u001b[38;5;28mself\u001b[39m\u001b[38;5;241m.\u001b[39mtag\u001b[38;5;132;01m}\u001b[39;00m\u001b[38;5;124m on \u001b[39m\u001b[38;5;132;01m{\u001b[39;00m\u001b[38;5;28mtype\u001b[39m(data_apply)\u001b[38;5;132;01m}\u001b[39;00m\u001b[38;5;124m\"\u001b[39m\n\u001b[1;32m    629\u001b[0m     \u001b[38;5;124mf\u001b[39m\u001b[38;5;124m\"\u001b[39m\u001b[38;5;132;01m{\u001b[39;00m\u001b[38;5;124mf\u001b[39m\u001b[38;5;124m'\u001b[39m\u001b[38;5;124m (len=\u001b[39m\u001b[38;5;132;01m{\u001b[39;00mdata_len\u001b[38;5;132;01m}\u001b[39;00m\u001b[38;5;124m)\u001b[39m\u001b[38;5;124m'\u001b[39m \u001b[38;5;28;01mif\u001b[39;00m data_len \u001b[38;5;129;01mis\u001b[39;00m \u001b[38;5;129;01mnot\u001b[39;00m \u001b[38;5;28;01mNone\u001b[39;00m \u001b[38;5;28;01melse\u001b[39;00m \u001b[38;5;124m'\u001b[39m\u001b[38;5;124m'\u001b[39m\u001b[38;5;132;01m}\u001b[39;00m\u001b[38;5;124m \u001b[39m\u001b[38;5;124m\"\u001b[39m\n\u001b[1;32m    630\u001b[0m )\n\u001b[0;32m--> 631\u001b[0m result \u001b[38;5;241m=\u001b[39m \u001b[38;5;28;43mself\u001b[39;49m\u001b[38;5;241;43m.\u001b[39;49m\u001b[43m_apply\u001b[49m\u001b[43m(\u001b[49m\u001b[43mdata_apply\u001b[49m\u001b[43m,\u001b[49m\u001b[43m \u001b[49m\u001b[43mstate\u001b[49m\u001b[38;5;241;43m=\u001b[39;49m\u001b[38;5;28;43mself\u001b[39;49m\u001b[38;5;241;43m.\u001b[39;49m\u001b[43m__state\u001b[49m\u001b[43m)\u001b[49m\n\u001b[1;32m    632\u001b[0m \u001b[38;5;28;01mreturn\u001b[39;00m result\n",
      "File \u001b[0;32m~/frankenfit/src/frankenfit/core.py:1181\u001b[0m, in \u001b[0;36mObjectPipeline._apply\u001b[0;34m(self, data_apply, state)\u001b[0m\n\u001b[1;32m   1179\u001b[0m df \u001b[38;5;241m=\u001b[39m data_apply\n\u001b[1;32m   1180\u001b[0m \u001b[38;5;28;01mfor\u001b[39;00m fit_transform \u001b[38;5;129;01min\u001b[39;00m state:\n\u001b[0;32m-> 1181\u001b[0m     df \u001b[38;5;241m=\u001b[39m \u001b[43mfit_transform\u001b[49m\u001b[38;5;241;43m.\u001b[39;49m\u001b[43mapply\u001b[49m\u001b[43m(\u001b[49m\u001b[43mdf\u001b[49m\u001b[43m)\u001b[49m\n\u001b[1;32m   1182\u001b[0m \u001b[38;5;28;01mreturn\u001b[39;00m df\n",
      "File \u001b[0;32m~/frankenfit/src/frankenfit/core.py:696\u001b[0m, in \u001b[0;36mFitTransform.__init_subclass__.<locals>.apply\u001b[0;34m(self, data_apply)\u001b[0m\n\u001b[1;32m    695\u001b[0m \u001b[38;5;28;01mdef\u001b[39;00m \u001b[38;5;21mapply\u001b[39m(\u001b[38;5;28mself\u001b[39m, data_apply: Optional[\u001b[38;5;28mobject\u001b[39m] \u001b[38;5;241m=\u001b[39m \u001b[38;5;28;01mNone\u001b[39;00m) \u001b[38;5;241m-\u001b[39m\u001b[38;5;241m>\u001b[39m \u001b[38;5;28mobject\u001b[39m:\n\u001b[0;32m--> 696\u001b[0m     \u001b[38;5;28;01mreturn\u001b[39;00m \u001b[43morig_apply\u001b[49m\u001b[43m(\u001b[49m\u001b[38;5;28;43mself\u001b[39;49m\u001b[43m,\u001b[49m\u001b[43m \u001b[49m\u001b[43mdata_apply\u001b[49m\u001b[43m)\u001b[49m\n",
      "File \u001b[0;32m~/frankenfit/src/frankenfit/core.py:631\u001b[0m, in \u001b[0;36mFitTransform.apply\u001b[0;34m(self, data_apply)\u001b[0m\n\u001b[1;32m    625\u001b[0m     data_len \u001b[38;5;241m=\u001b[39m \u001b[38;5;28;01mNone\u001b[39;00m\n\u001b[1;32m    627\u001b[0m _LOG\u001b[38;5;241m.\u001b[39mdebug(\n\u001b[1;32m    628\u001b[0m     \u001b[38;5;124mf\u001b[39m\u001b[38;5;124m\"\u001b[39m\u001b[38;5;124mApplying \u001b[39m\u001b[38;5;132;01m{\u001b[39;00m\u001b[38;5;28mself\u001b[39m\u001b[38;5;241m.\u001b[39mtag\u001b[38;5;132;01m}\u001b[39;00m\u001b[38;5;124m on \u001b[39m\u001b[38;5;132;01m{\u001b[39;00m\u001b[38;5;28mtype\u001b[39m(data_apply)\u001b[38;5;132;01m}\u001b[39;00m\u001b[38;5;124m\"\u001b[39m\n\u001b[1;32m    629\u001b[0m     \u001b[38;5;124mf\u001b[39m\u001b[38;5;124m\"\u001b[39m\u001b[38;5;132;01m{\u001b[39;00m\u001b[38;5;124mf\u001b[39m\u001b[38;5;124m'\u001b[39m\u001b[38;5;124m (len=\u001b[39m\u001b[38;5;132;01m{\u001b[39;00mdata_len\u001b[38;5;132;01m}\u001b[39;00m\u001b[38;5;124m)\u001b[39m\u001b[38;5;124m'\u001b[39m \u001b[38;5;28;01mif\u001b[39;00m data_len \u001b[38;5;129;01mis\u001b[39;00m \u001b[38;5;129;01mnot\u001b[39;00m \u001b[38;5;28;01mNone\u001b[39;00m \u001b[38;5;28;01melse\u001b[39;00m \u001b[38;5;124m'\u001b[39m\u001b[38;5;124m'\u001b[39m\u001b[38;5;132;01m}\u001b[39;00m\u001b[38;5;124m \u001b[39m\u001b[38;5;124m\"\u001b[39m\n\u001b[1;32m    630\u001b[0m )\n\u001b[0;32m--> 631\u001b[0m result \u001b[38;5;241m=\u001b[39m \u001b[38;5;28;43mself\u001b[39;49m\u001b[38;5;241;43m.\u001b[39;49m\u001b[43m_apply\u001b[49m\u001b[43m(\u001b[49m\u001b[43mdata_apply\u001b[49m\u001b[43m,\u001b[49m\u001b[43m \u001b[49m\u001b[43mstate\u001b[49m\u001b[38;5;241;43m=\u001b[39;49m\u001b[38;5;28;43mself\u001b[39;49m\u001b[38;5;241;43m.\u001b[39;49m\u001b[43m__state\u001b[49m\u001b[43m)\u001b[49m\n\u001b[1;32m    632\u001b[0m \u001b[38;5;28;01mreturn\u001b[39;00m result\n",
      "File \u001b[0;32m~/frankenfit/src/frankenfit/dataframe.py:362\u001b[0m, in \u001b[0;36mGroupBy._apply\u001b[0;34m(self, df_apply, state)\u001b[0m\n\u001b[1;32m    354\u001b[0m         \u001b[38;5;66;03m# returning untransformed group data is undesirable because\u001b[39;00m\n\u001b[1;32m    355\u001b[0m         \u001b[38;5;66;03m# corruption will silently propagate through a pipeline\u001b[39;00m\n\u001b[1;32m    356\u001b[0m         \u001b[38;5;66;03m# return df_group_apply\u001b[39;00m\n\u001b[1;32m    357\u001b[0m     \u001b[38;5;28;01mreturn\u001b[39;00m group_state\u001b[38;5;241m.\u001b[39mapply(df_group_apply)\n\u001b[1;32m    359\u001b[0m \u001b[38;5;28;01mreturn\u001b[39;00m (\n\u001b[1;32m    360\u001b[0m     \u001b[43mdf_apply\u001b[49m\u001b[38;5;241;43m.\u001b[39;49m\u001b[43mmerge\u001b[49m\u001b[43m(\u001b[49m\u001b[43mstate\u001b[49m\u001b[43m,\u001b[49m\u001b[43m \u001b[49m\u001b[43mhow\u001b[49m\u001b[38;5;241;43m=\u001b[39;49m\u001b[38;5;124;43m\"\u001b[39;49m\u001b[38;5;124;43mleft\u001b[39;49m\u001b[38;5;124;43m\"\u001b[39;49m\u001b[43m,\u001b[49m\u001b[43m \u001b[49m\u001b[43mon\u001b[49m\u001b[38;5;241;43m=\u001b[39;49m\u001b[38;5;28;43mself\u001b[39;49m\u001b[38;5;241;43m.\u001b[39;49m\u001b[43mcols\u001b[49m\u001b[43m)\u001b[49m\n\u001b[1;32m    361\u001b[0m \u001b[43m    \u001b[49m\u001b[38;5;241;43m.\u001b[39;49m\u001b[43mgroupby\u001b[49m\u001b[43m(\u001b[49m\u001b[38;5;28;43mself\u001b[39;49m\u001b[38;5;241;43m.\u001b[39;49m\u001b[43mcols\u001b[49m\u001b[43m,\u001b[49m\u001b[43m \u001b[49m\u001b[43mas_index\u001b[49m\u001b[38;5;241;43m=\u001b[39;49m\u001b[38;5;28;43;01mFalse\u001b[39;49;00m\u001b[43m,\u001b[49m\u001b[43m \u001b[49m\u001b[43msort\u001b[49m\u001b[38;5;241;43m=\u001b[39;49m\u001b[38;5;28;43;01mFalse\u001b[39;49;00m\u001b[43m,\u001b[49m\u001b[43m \u001b[49m\u001b[43mgroup_keys\u001b[49m\u001b[38;5;241;43m=\u001b[39;49m\u001b[38;5;28;43;01mFalse\u001b[39;49;00m\u001b[43m)\u001b[49m\n\u001b[0;32m--> 362\u001b[0m \u001b[43m    \u001b[49m\u001b[38;5;241;43m.\u001b[39;49m\u001b[43mapply\u001b[49m\u001b[43m(\u001b[49m\u001b[43mapply_on_group\u001b[49m\u001b[43m)\u001b[49m\n\u001b[1;32m    363\u001b[0m )\n",
      "File \u001b[0;32m~/frankenfit/.venv-dev/lib/python3.10/site-packages/pandas/core/groupby/groupby.py:1558\u001b[0m, in \u001b[0;36mGroupBy.apply\u001b[0;34m(self, func, *args, **kwargs)\u001b[0m\n\u001b[1;32m   1556\u001b[0m \u001b[38;5;28;01mwith\u001b[39;00m option_context(\u001b[38;5;124m\"\u001b[39m\u001b[38;5;124mmode.chained_assignment\u001b[39m\u001b[38;5;124m\"\u001b[39m, \u001b[38;5;28;01mNone\u001b[39;00m):\n\u001b[1;32m   1557\u001b[0m     \u001b[38;5;28;01mtry\u001b[39;00m:\n\u001b[0;32m-> 1558\u001b[0m         result \u001b[38;5;241m=\u001b[39m \u001b[38;5;28;43mself\u001b[39;49m\u001b[38;5;241;43m.\u001b[39;49m\u001b[43m_python_apply_general\u001b[49m\u001b[43m(\u001b[49m\u001b[43mf\u001b[49m\u001b[43m,\u001b[49m\u001b[43m \u001b[49m\u001b[38;5;28;43mself\u001b[39;49m\u001b[38;5;241;43m.\u001b[39;49m\u001b[43m_selected_obj\u001b[49m\u001b[43m)\u001b[49m\n\u001b[1;32m   1559\u001b[0m     \u001b[38;5;28;01mexcept\u001b[39;00m \u001b[38;5;167;01mTypeError\u001b[39;00m:\n\u001b[1;32m   1560\u001b[0m         \u001b[38;5;66;03m# gh-20949\u001b[39;00m\n\u001b[1;32m   1561\u001b[0m         \u001b[38;5;66;03m# try again, with .apply acting as a filtering\u001b[39;00m\n\u001b[0;32m   (...)\u001b[0m\n\u001b[1;32m   1565\u001b[0m         \u001b[38;5;66;03m# fails on *some* columns, e.g. a numeric operation\u001b[39;00m\n\u001b[1;32m   1566\u001b[0m         \u001b[38;5;66;03m# on a string grouper column\u001b[39;00m\n\u001b[1;32m   1568\u001b[0m         \u001b[38;5;28;01mwith\u001b[39;00m \u001b[38;5;28mself\u001b[39m\u001b[38;5;241m.\u001b[39m_group_selection_context():\n",
      "File \u001b[0;32m~/frankenfit/.venv-dev/lib/python3.10/site-packages/pandas/core/groupby/groupby.py:1610\u001b[0m, in \u001b[0;36mGroupBy._python_apply_general\u001b[0;34m(self, f, data, not_indexed_same, is_transform, is_agg)\u001b[0m\n\u001b[1;32m   1573\u001b[0m \u001b[38;5;129m@final\u001b[39m\n\u001b[1;32m   1574\u001b[0m \u001b[38;5;28;01mdef\u001b[39;00m \u001b[38;5;21m_python_apply_general\u001b[39m(\n\u001b[1;32m   1575\u001b[0m     \u001b[38;5;28mself\u001b[39m,\n\u001b[0;32m   (...)\u001b[0m\n\u001b[1;32m   1580\u001b[0m     is_agg: \u001b[38;5;28mbool\u001b[39m \u001b[38;5;241m=\u001b[39m \u001b[38;5;28;01mFalse\u001b[39;00m,\n\u001b[1;32m   1581\u001b[0m ) \u001b[38;5;241m-\u001b[39m\u001b[38;5;241m>\u001b[39m NDFrameT:\n\u001b[1;32m   1582\u001b[0m     \u001b[38;5;124;03m\"\"\"\u001b[39;00m\n\u001b[1;32m   1583\u001b[0m \u001b[38;5;124;03m    Apply function f in python space\u001b[39;00m\n\u001b[1;32m   1584\u001b[0m \n\u001b[0;32m   (...)\u001b[0m\n\u001b[1;32m   1608\u001b[0m \u001b[38;5;124;03m        data after applying f\u001b[39;00m\n\u001b[1;32m   1609\u001b[0m \u001b[38;5;124;03m    \"\"\"\u001b[39;00m\n\u001b[0;32m-> 1610\u001b[0m     values, mutated \u001b[38;5;241m=\u001b[39m \u001b[38;5;28;43mself\u001b[39;49m\u001b[38;5;241;43m.\u001b[39;49m\u001b[43mgrouper\u001b[49m\u001b[38;5;241;43m.\u001b[39;49m\u001b[43mapply\u001b[49m\u001b[43m(\u001b[49m\u001b[43mf\u001b[49m\u001b[43m,\u001b[49m\u001b[43m \u001b[49m\u001b[43mdata\u001b[49m\u001b[43m,\u001b[49m\u001b[43m \u001b[49m\u001b[38;5;28;43mself\u001b[39;49m\u001b[38;5;241;43m.\u001b[39;49m\u001b[43maxis\u001b[49m\u001b[43m)\u001b[49m\n\u001b[1;32m   1611\u001b[0m     \u001b[38;5;28;01mif\u001b[39;00m not_indexed_same \u001b[38;5;129;01mis\u001b[39;00m \u001b[38;5;28;01mNone\u001b[39;00m:\n\u001b[1;32m   1612\u001b[0m         not_indexed_same \u001b[38;5;241m=\u001b[39m mutated \u001b[38;5;129;01mor\u001b[39;00m \u001b[38;5;28mself\u001b[39m\u001b[38;5;241m.\u001b[39mmutated\n",
      "File \u001b[0;32m~/frankenfit/.venv-dev/lib/python3.10/site-packages/pandas/core/groupby/ops.py:839\u001b[0m, in \u001b[0;36mBaseGrouper.apply\u001b[0;34m(self, f, data, axis)\u001b[0m\n\u001b[1;32m    837\u001b[0m \u001b[38;5;66;03m# group might be modified\u001b[39;00m\n\u001b[1;32m    838\u001b[0m group_axes \u001b[38;5;241m=\u001b[39m group\u001b[38;5;241m.\u001b[39maxes\n\u001b[0;32m--> 839\u001b[0m res \u001b[38;5;241m=\u001b[39m \u001b[43mf\u001b[49m\u001b[43m(\u001b[49m\u001b[43mgroup\u001b[49m\u001b[43m)\u001b[49m\n\u001b[1;32m    840\u001b[0m \u001b[38;5;28;01mif\u001b[39;00m \u001b[38;5;129;01mnot\u001b[39;00m mutated \u001b[38;5;129;01mand\u001b[39;00m \u001b[38;5;129;01mnot\u001b[39;00m _is_indexed_like(res, group_axes, axis):\n\u001b[1;32m    841\u001b[0m     mutated \u001b[38;5;241m=\u001b[39m \u001b[38;5;28;01mTrue\u001b[39;00m\n",
      "File \u001b[0;32m~/frankenfit/src/frankenfit/dataframe.py:350\u001b[0m, in \u001b[0;36mGroupBy._apply.<locals>.apply_on_group\u001b[0;34m(df_group)\u001b[0m\n\u001b[1;32m    347\u001b[0m group_state: FitTransform \u001b[38;5;241m=\u001b[39m df_group[\u001b[38;5;124m\"\u001b[39m\u001b[38;5;124m__state__\u001b[39m\u001b[38;5;124m\"\u001b[39m]\u001b[38;5;241m.\u001b[39miloc[\u001b[38;5;241m0\u001b[39m]\n\u001b[1;32m    348\u001b[0m \u001b[38;5;28;01mif\u001b[39;00m \u001b[38;5;129;01mnot\u001b[39;00m \u001b[38;5;28misinstance\u001b[39m(group_state, FitTransform):\n\u001b[1;32m    349\u001b[0m     \u001b[38;5;66;03m# if this group was not seen at fit-time\u001b[39;00m\n\u001b[0;32m--> 350\u001b[0m     \u001b[38;5;28;01mraise\u001b[39;00m UnfitGroupError(\n\u001b[1;32m    351\u001b[0m         \u001b[38;5;124mf\u001b[39m\u001b[38;5;124m\"\u001b[39m\u001b[38;5;124mGroupBy: tried to apply to a group not seen at fit-time:\u001b[39m\u001b[38;5;130;01m\\n\u001b[39;00m\u001b[38;5;124m\"\u001b[39m\n\u001b[1;32m    352\u001b[0m         \u001b[38;5;124mf\u001b[39m\u001b[38;5;124m\"\u001b[39m\u001b[38;5;132;01m{\u001b[39;00mdf_group_apply[\u001b[38;5;28mself\u001b[39m\u001b[38;5;241m.\u001b[39mcols]\u001b[38;5;241m.\u001b[39miloc[\u001b[38;5;241m0\u001b[39m]\u001b[38;5;132;01m}\u001b[39;00m\u001b[38;5;124m\"\u001b[39m\n\u001b[1;32m    353\u001b[0m     )\n\u001b[1;32m    354\u001b[0m     \u001b[38;5;66;03m# returning untransformed group data is undesirable because\u001b[39;00m\n\u001b[1;32m    355\u001b[0m     \u001b[38;5;66;03m# corruption will silently propagate through a pipeline\u001b[39;00m\n\u001b[1;32m    356\u001b[0m     \u001b[38;5;66;03m# return df_group_apply\u001b[39;00m\n\u001b[1;32m    357\u001b[0m \u001b[38;5;28;01mreturn\u001b[39;00m group_state\u001b[38;5;241m.\u001b[39mapply(df_group_apply)\n",
      "\u001b[0;31mUnfitGroupError\u001b[0m: GroupBy: tried to apply to a group not seen at fit-time:\ncut    Fair\nName: 8, dtype: object"
     ]
    }
   ],
   "source": [
    "pip = (\n",
    "    ff.DataFramePipeline()\n",
    "    .group_by(\"cut\")\n",
    "        .de_mean([\"price\"])\n",
    ")\n",
    "d = pip.fit(df.loc[df['cut'] != 'Fair']).apply(df)\n",
    "d\n",
    "#pip.fit(df).apply(df)\n",
    "#result = pip.apply(df).set_index('cut').sort_index().reset_index()#.sort_values('cut')\n",
    "#result"
   ]
  },
  {
   "cell_type": "code",
   "execution_count": null,
   "id": "363b22cb-019a-4978-b62f-8cd02db5c496",
   "metadata": {},
   "outputs": [],
   "source": []
  },
  {
   "cell_type": "code",
   "execution_count": 66,
   "id": "53e436db-5c7d-40a5-9b43-cbe411d3a85f",
   "metadata": {},
   "outputs": [
    {
     "name": "stdout",
     "output_type": "stream",
     "text": [
      "<class 'pandas.core.frame.DataFrame'>\n",
      "RangeIndex: 53940 entries, 0 to 53939\n",
      "Data columns (total 10 columns):\n",
      " #   Column   Non-Null Count  Dtype  \n",
      "---  ------   --------------  -----  \n",
      " 0   carat    53940 non-null  float64\n",
      " 1   cut      53940 non-null  object \n",
      " 2   color    53940 non-null  object \n",
      " 3   clarity  53940 non-null  object \n",
      " 4   depth    53940 non-null  float64\n",
      " 5   table    53940 non-null  float64\n",
      " 6   price    53940 non-null  int64  \n",
      " 7   x        53940 non-null  float64\n",
      " 8   y        53940 non-null  float64\n",
      " 9   z        53940 non-null  float64\n",
      "dtypes: float64(6), int64(1), object(3)\n",
      "memory usage: 4.1+ MB\n",
      "<class 'pandas.core.frame.DataFrame'>\n",
      "Int64Index: 52330 entries, 0 to 53939\n",
      "Data columns (total 10 columns):\n",
      " #   Column   Non-Null Count  Dtype  \n",
      "---  ------   --------------  -----  \n",
      " 0   carat    52330 non-null  float64\n",
      " 1   cut      52330 non-null  object \n",
      " 2   color    52330 non-null  object \n",
      " 3   clarity  52330 non-null  object \n",
      " 4   depth    52330 non-null  float64\n",
      " 5   table    52330 non-null  float64\n",
      " 6   price    52330 non-null  int64  \n",
      " 7   x        52330 non-null  float64\n",
      " 8   y        52330 non-null  float64\n",
      " 9   z        52330 non-null  float64\n",
      "dtypes: float64(6), int64(1), object(3)\n",
      "memory usage: 4.4+ MB\n"
     ]
    }
   ],
   "source": [
    "df.info()\n",
    "(df.loc[df['cut'] != 'Fair']).info()"
   ]
  }
 ],
 "metadata": {
  "kernelspec": {
   "display_name": "frankenfit-venv-dev",
   "language": "python",
   "name": "frankenfit-venv-dev"
  },
  "language_info": {
   "codemirror_mode": {
    "name": "ipython",
    "version": 3
   },
   "file_extension": ".py",
   "mimetype": "text/x-python",
   "name": "python",
   "nbconvert_exporter": "python",
   "pygments_lexer": "ipython3",
   "version": "3.10.4"
  }
 },
 "nbformat": 4,
 "nbformat_minor": 5
}
