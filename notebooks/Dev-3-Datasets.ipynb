{
 "cells": [
  {
   "cell_type": "code",
   "execution_count": 1,
   "id": "aaa0a35f-2ca4-4c7a-a7b7-00d86e8a5fe5",
   "metadata": {
    "execution": {
     "iopub.execute_input": "2022-06-29T19:41:20.519520Z",
     "iopub.status.busy": "2022-06-29T19:41:20.518593Z",
     "iopub.status.idle": "2022-06-29T19:41:21.506299Z",
     "shell.execute_reply": "2022-06-29T19:41:21.505235Z",
     "shell.execute_reply.started": "2022-06-29T19:41:20.519467Z"
    },
    "tags": []
   },
   "outputs": [
    {
     "name": "stderr",
     "output_type": "stream",
     "text": [
      "\u001b[49m\u001b[37m\u001b[1m2022-06-29 15:41:21,449:    INFO\u001b[0m\u001b[39m\u001b[49m:      ard_logging: \u001b[44m\u001b[37m\u001b[1mMainProcess\u001b[0m\u001b[39m\u001b[49m 13289: Logging initialized.\n",
      "\u001b[49m\u001b[37m\u001b[1m2022-06-29 15:41:21,449:    INFO\u001b[0m\u001b[39m\u001b[49m:         __main__: \u001b[44m\u001b[37m\u001b[1mMainProcess\u001b[0m\u001b[39m\u001b[49m 13289: Hello from notebook\n"
     ]
    }
   ],
   "source": [
    "from importlib import reload\n",
    "import pandas as pd\n",
    "import numpy as np\n",
    "import seaborn as sns\n",
    "import matplotlib.pyplot as plt\n",
    "sns.set_theme(style='whitegrid')\n",
    "import ard_logging\n",
    "import logging\n",
    "ard_logging.init()\n",
    "LOG = logging.getLogger(__name__)\n",
    "LOG.info('Hello from notebook')\n",
    "\n",
    "from pydataset import data\n",
    "\n",
    "import ard_fit_pipelines as fp\n",
    "reload(fp.core)\n",
    "reload(fp.transforms)\n",
    "reload(fp.graph)\n",
    "reload(fp)\n",
    "\n",
    "logging.getLogger('ard_fit_pipelines').setLevel(logging.INFO)"
   ]
  },
  {
   "cell_type": "code",
   "execution_count": 2,
   "id": "c91d0b3f-833a-4cf2-a0ad-d997c8d03aab",
   "metadata": {
    "execution": {
     "iopub.execute_input": "2022-06-29T19:41:22.111307Z",
     "iopub.status.busy": "2022-06-29T19:41:22.110644Z",
     "iopub.status.idle": "2022-06-29T19:41:22.160247Z",
     "shell.execute_reply": "2022-06-29T19:41:22.159463Z",
     "shell.execute_reply.started": "2022-06-29T19:41:22.111285Z"
    },
    "tags": []
   },
   "outputs": [],
   "source": [
    "df = data('diamonds')\n",
    "ds = fp.PandasDataset(df)"
   ]
  },
  {
   "cell_type": "code",
   "execution_count": 3,
   "id": "ea1cab77-2489-48a0-8d2c-0824cd0e5a32",
   "metadata": {
    "execution": {
     "iopub.execute_input": "2022-06-29T19:41:22.857244Z",
     "iopub.status.busy": "2022-06-29T19:41:22.856705Z",
     "iopub.status.idle": "2022-06-29T19:41:22.885116Z",
     "shell.execute_reply": "2022-06-29T19:41:22.883617Z",
     "shell.execute_reply.started": "2022-06-29T19:41:22.857221Z"
    },
    "tags": []
   },
   "outputs": [
    {
     "data": {
      "text/html": [
       "<div>\n",
       "<style scoped>\n",
       "    .dataframe tbody tr th:only-of-type {\n",
       "        vertical-align: middle;\n",
       "    }\n",
       "\n",
       "    .dataframe tbody tr th {\n",
       "        vertical-align: top;\n",
       "    }\n",
       "\n",
       "    .dataframe thead th {\n",
       "        text-align: right;\n",
       "    }\n",
       "</style>\n",
       "<table border=\"1\" class=\"dataframe\">\n",
       "  <thead>\n",
       "    <tr style=\"text-align: right;\">\n",
       "      <th></th>\n",
       "      <th>carat</th>\n",
       "      <th>cut</th>\n",
       "      <th>color</th>\n",
       "      <th>clarity</th>\n",
       "      <th>depth</th>\n",
       "      <th>table</th>\n",
       "      <th>price</th>\n",
       "      <th>x</th>\n",
       "      <th>y</th>\n",
       "      <th>z</th>\n",
       "    </tr>\n",
       "  </thead>\n",
       "  <tbody>\n",
       "    <tr>\n",
       "      <th>1</th>\n",
       "      <td>0.23</td>\n",
       "      <td>Ideal</td>\n",
       "      <td>E</td>\n",
       "      <td>SI2</td>\n",
       "      <td>61.5</td>\n",
       "      <td>55.0</td>\n",
       "      <td>326</td>\n",
       "      <td>3.95</td>\n",
       "      <td>3.98</td>\n",
       "      <td>2.43</td>\n",
       "    </tr>\n",
       "    <tr>\n",
       "      <th>2</th>\n",
       "      <td>0.21</td>\n",
       "      <td>Premium</td>\n",
       "      <td>E</td>\n",
       "      <td>SI1</td>\n",
       "      <td>59.8</td>\n",
       "      <td>61.0</td>\n",
       "      <td>326</td>\n",
       "      <td>3.89</td>\n",
       "      <td>3.84</td>\n",
       "      <td>2.31</td>\n",
       "    </tr>\n",
       "    <tr>\n",
       "      <th>3</th>\n",
       "      <td>0.23</td>\n",
       "      <td>Good</td>\n",
       "      <td>E</td>\n",
       "      <td>VS1</td>\n",
       "      <td>56.9</td>\n",
       "      <td>65.0</td>\n",
       "      <td>327</td>\n",
       "      <td>4.05</td>\n",
       "      <td>4.07</td>\n",
       "      <td>2.31</td>\n",
       "    </tr>\n",
       "    <tr>\n",
       "      <th>4</th>\n",
       "      <td>0.29</td>\n",
       "      <td>Premium</td>\n",
       "      <td>I</td>\n",
       "      <td>VS2</td>\n",
       "      <td>62.4</td>\n",
       "      <td>58.0</td>\n",
       "      <td>334</td>\n",
       "      <td>4.20</td>\n",
       "      <td>4.23</td>\n",
       "      <td>2.63</td>\n",
       "    </tr>\n",
       "    <tr>\n",
       "      <th>5</th>\n",
       "      <td>0.31</td>\n",
       "      <td>Good</td>\n",
       "      <td>J</td>\n",
       "      <td>SI2</td>\n",
       "      <td>63.3</td>\n",
       "      <td>58.0</td>\n",
       "      <td>335</td>\n",
       "      <td>4.34</td>\n",
       "      <td>4.35</td>\n",
       "      <td>2.75</td>\n",
       "    </tr>\n",
       "    <tr>\n",
       "      <th>...</th>\n",
       "      <td>...</td>\n",
       "      <td>...</td>\n",
       "      <td>...</td>\n",
       "      <td>...</td>\n",
       "      <td>...</td>\n",
       "      <td>...</td>\n",
       "      <td>...</td>\n",
       "      <td>...</td>\n",
       "      <td>...</td>\n",
       "      <td>...</td>\n",
       "    </tr>\n",
       "    <tr>\n",
       "      <th>53936</th>\n",
       "      <td>0.72</td>\n",
       "      <td>Ideal</td>\n",
       "      <td>D</td>\n",
       "      <td>SI1</td>\n",
       "      <td>60.8</td>\n",
       "      <td>57.0</td>\n",
       "      <td>2757</td>\n",
       "      <td>5.75</td>\n",
       "      <td>5.76</td>\n",
       "      <td>3.50</td>\n",
       "    </tr>\n",
       "    <tr>\n",
       "      <th>53937</th>\n",
       "      <td>0.72</td>\n",
       "      <td>Good</td>\n",
       "      <td>D</td>\n",
       "      <td>SI1</td>\n",
       "      <td>63.1</td>\n",
       "      <td>55.0</td>\n",
       "      <td>2757</td>\n",
       "      <td>5.69</td>\n",
       "      <td>5.75</td>\n",
       "      <td>3.61</td>\n",
       "    </tr>\n",
       "    <tr>\n",
       "      <th>53938</th>\n",
       "      <td>0.70</td>\n",
       "      <td>Very Good</td>\n",
       "      <td>D</td>\n",
       "      <td>SI1</td>\n",
       "      <td>62.8</td>\n",
       "      <td>60.0</td>\n",
       "      <td>2757</td>\n",
       "      <td>5.66</td>\n",
       "      <td>5.68</td>\n",
       "      <td>3.56</td>\n",
       "    </tr>\n",
       "    <tr>\n",
       "      <th>53939</th>\n",
       "      <td>0.86</td>\n",
       "      <td>Premium</td>\n",
       "      <td>H</td>\n",
       "      <td>SI2</td>\n",
       "      <td>61.0</td>\n",
       "      <td>58.0</td>\n",
       "      <td>2757</td>\n",
       "      <td>6.15</td>\n",
       "      <td>6.12</td>\n",
       "      <td>3.74</td>\n",
       "    </tr>\n",
       "    <tr>\n",
       "      <th>53940</th>\n",
       "      <td>0.75</td>\n",
       "      <td>Ideal</td>\n",
       "      <td>D</td>\n",
       "      <td>SI2</td>\n",
       "      <td>62.2</td>\n",
       "      <td>55.0</td>\n",
       "      <td>2757</td>\n",
       "      <td>5.83</td>\n",
       "      <td>5.87</td>\n",
       "      <td>3.64</td>\n",
       "    </tr>\n",
       "  </tbody>\n",
       "</table>\n",
       "<p>53940 rows × 10 columns</p>\n",
       "</div>"
      ],
      "text/plain": [
       "       carat        cut color clarity  depth  table  price     x     y     z\n",
       "1       0.23      Ideal     E     SI2   61.5   55.0    326  3.95  3.98  2.43\n",
       "2       0.21    Premium     E     SI1   59.8   61.0    326  3.89  3.84  2.31\n",
       "3       0.23       Good     E     VS1   56.9   65.0    327  4.05  4.07  2.31\n",
       "4       0.29    Premium     I     VS2   62.4   58.0    334  4.20  4.23  2.63\n",
       "5       0.31       Good     J     SI2   63.3   58.0    335  4.34  4.35  2.75\n",
       "...      ...        ...   ...     ...    ...    ...    ...   ...   ...   ...\n",
       "53936   0.72      Ideal     D     SI1   60.8   57.0   2757  5.75  5.76  3.50\n",
       "53937   0.72       Good     D     SI1   63.1   55.0   2757  5.69  5.75  3.61\n",
       "53938   0.70  Very Good     D     SI1   62.8   60.0   2757  5.66  5.68  3.56\n",
       "53939   0.86    Premium     H     SI2   61.0   58.0   2757  6.15  6.12  3.74\n",
       "53940   0.75      Ideal     D     SI2   62.2   55.0   2757  5.83  5.87  3.64\n",
       "\n",
       "[53940 rows x 10 columns]"
      ]
     },
     "execution_count": 3,
     "metadata": {},
     "output_type": "execute_result"
    }
   ],
   "source": [
    "ds.to_dataframe()"
   ]
  },
  {
   "cell_type": "code",
   "execution_count": 4,
   "id": "a7ddbe55-67ca-4c2a-b087-5d5786af4811",
   "metadata": {
    "execution": {
     "iopub.execute_input": "2022-06-29T19:41:23.998705Z",
     "iopub.status.busy": "2022-06-29T19:41:23.998431Z",
     "iopub.status.idle": "2022-06-29T19:41:24.002906Z",
     "shell.execute_reply": "2022-06-29T19:41:24.001896Z",
     "shell.execute_reply.started": "2022-06-29T19:41:23.998687Z"
    },
    "tags": []
   },
   "outputs": [],
   "source": [
    "dsc = fp.DatasetCollection({'__data__': ds})"
   ]
  },
  {
   "cell_type": "code",
   "execution_count": 5,
   "id": "097a1606-c91b-48f3-bae7-380d92f9a043",
   "metadata": {
    "execution": {
     "iopub.execute_input": "2022-06-29T19:41:24.470114Z",
     "iopub.status.busy": "2022-06-29T19:41:24.469430Z",
     "iopub.status.idle": "2022-06-29T19:41:24.487130Z",
     "shell.execute_reply": "2022-06-29T19:41:24.486118Z",
     "shell.execute_reply.started": "2022-06-29T19:41:24.470090Z"
    },
    "tags": []
   },
   "outputs": [
    {
     "data": {
      "text/html": [
       "<div>\n",
       "<style scoped>\n",
       "    .dataframe tbody tr th:only-of-type {\n",
       "        vertical-align: middle;\n",
       "    }\n",
       "\n",
       "    .dataframe tbody tr th {\n",
       "        vertical-align: top;\n",
       "    }\n",
       "\n",
       "    .dataframe thead th {\n",
       "        text-align: right;\n",
       "    }\n",
       "</style>\n",
       "<table border=\"1\" class=\"dataframe\">\n",
       "  <thead>\n",
       "    <tr style=\"text-align: right;\">\n",
       "      <th></th>\n",
       "      <th>carat</th>\n",
       "      <th>cut</th>\n",
       "      <th>color</th>\n",
       "      <th>clarity</th>\n",
       "      <th>depth</th>\n",
       "      <th>table</th>\n",
       "      <th>price</th>\n",
       "      <th>x</th>\n",
       "      <th>y</th>\n",
       "      <th>z</th>\n",
       "    </tr>\n",
       "  </thead>\n",
       "  <tbody>\n",
       "    <tr>\n",
       "      <th>1</th>\n",
       "      <td>0.23</td>\n",
       "      <td>Ideal</td>\n",
       "      <td>E</td>\n",
       "      <td>SI2</td>\n",
       "      <td>61.5</td>\n",
       "      <td>55.0</td>\n",
       "      <td>326</td>\n",
       "      <td>3.95</td>\n",
       "      <td>3.98</td>\n",
       "      <td>2.43</td>\n",
       "    </tr>\n",
       "    <tr>\n",
       "      <th>2</th>\n",
       "      <td>0.21</td>\n",
       "      <td>Premium</td>\n",
       "      <td>E</td>\n",
       "      <td>SI1</td>\n",
       "      <td>59.8</td>\n",
       "      <td>61.0</td>\n",
       "      <td>326</td>\n",
       "      <td>3.89</td>\n",
       "      <td>3.84</td>\n",
       "      <td>2.31</td>\n",
       "    </tr>\n",
       "    <tr>\n",
       "      <th>3</th>\n",
       "      <td>0.23</td>\n",
       "      <td>Good</td>\n",
       "      <td>E</td>\n",
       "      <td>VS1</td>\n",
       "      <td>56.9</td>\n",
       "      <td>65.0</td>\n",
       "      <td>327</td>\n",
       "      <td>4.05</td>\n",
       "      <td>4.07</td>\n",
       "      <td>2.31</td>\n",
       "    </tr>\n",
       "    <tr>\n",
       "      <th>4</th>\n",
       "      <td>0.29</td>\n",
       "      <td>Premium</td>\n",
       "      <td>I</td>\n",
       "      <td>VS2</td>\n",
       "      <td>62.4</td>\n",
       "      <td>58.0</td>\n",
       "      <td>334</td>\n",
       "      <td>4.20</td>\n",
       "      <td>4.23</td>\n",
       "      <td>2.63</td>\n",
       "    </tr>\n",
       "    <tr>\n",
       "      <th>5</th>\n",
       "      <td>0.31</td>\n",
       "      <td>Good</td>\n",
       "      <td>J</td>\n",
       "      <td>SI2</td>\n",
       "      <td>63.3</td>\n",
       "      <td>58.0</td>\n",
       "      <td>335</td>\n",
       "      <td>4.34</td>\n",
       "      <td>4.35</td>\n",
       "      <td>2.75</td>\n",
       "    </tr>\n",
       "    <tr>\n",
       "      <th>...</th>\n",
       "      <td>...</td>\n",
       "      <td>...</td>\n",
       "      <td>...</td>\n",
       "      <td>...</td>\n",
       "      <td>...</td>\n",
       "      <td>...</td>\n",
       "      <td>...</td>\n",
       "      <td>...</td>\n",
       "      <td>...</td>\n",
       "      <td>...</td>\n",
       "    </tr>\n",
       "    <tr>\n",
       "      <th>53936</th>\n",
       "      <td>0.72</td>\n",
       "      <td>Ideal</td>\n",
       "      <td>D</td>\n",
       "      <td>SI1</td>\n",
       "      <td>60.8</td>\n",
       "      <td>57.0</td>\n",
       "      <td>2757</td>\n",
       "      <td>5.75</td>\n",
       "      <td>5.76</td>\n",
       "      <td>3.50</td>\n",
       "    </tr>\n",
       "    <tr>\n",
       "      <th>53937</th>\n",
       "      <td>0.72</td>\n",
       "      <td>Good</td>\n",
       "      <td>D</td>\n",
       "      <td>SI1</td>\n",
       "      <td>63.1</td>\n",
       "      <td>55.0</td>\n",
       "      <td>2757</td>\n",
       "      <td>5.69</td>\n",
       "      <td>5.75</td>\n",
       "      <td>3.61</td>\n",
       "    </tr>\n",
       "    <tr>\n",
       "      <th>53938</th>\n",
       "      <td>0.70</td>\n",
       "      <td>Very Good</td>\n",
       "      <td>D</td>\n",
       "      <td>SI1</td>\n",
       "      <td>62.8</td>\n",
       "      <td>60.0</td>\n",
       "      <td>2757</td>\n",
       "      <td>5.66</td>\n",
       "      <td>5.68</td>\n",
       "      <td>3.56</td>\n",
       "    </tr>\n",
       "    <tr>\n",
       "      <th>53939</th>\n",
       "      <td>0.86</td>\n",
       "      <td>Premium</td>\n",
       "      <td>H</td>\n",
       "      <td>SI2</td>\n",
       "      <td>61.0</td>\n",
       "      <td>58.0</td>\n",
       "      <td>2757</td>\n",
       "      <td>6.15</td>\n",
       "      <td>6.12</td>\n",
       "      <td>3.74</td>\n",
       "    </tr>\n",
       "    <tr>\n",
       "      <th>53940</th>\n",
       "      <td>0.75</td>\n",
       "      <td>Ideal</td>\n",
       "      <td>D</td>\n",
       "      <td>SI2</td>\n",
       "      <td>62.2</td>\n",
       "      <td>55.0</td>\n",
       "      <td>2757</td>\n",
       "      <td>5.83</td>\n",
       "      <td>5.87</td>\n",
       "      <td>3.64</td>\n",
       "    </tr>\n",
       "  </tbody>\n",
       "</table>\n",
       "<p>53940 rows × 10 columns</p>\n",
       "</div>"
      ],
      "text/plain": [
       "       carat        cut color clarity  depth  table  price     x     y     z\n",
       "1       0.23      Ideal     E     SI2   61.5   55.0    326  3.95  3.98  2.43\n",
       "2       0.21    Premium     E     SI1   59.8   61.0    326  3.89  3.84  2.31\n",
       "3       0.23       Good     E     VS1   56.9   65.0    327  4.05  4.07  2.31\n",
       "4       0.29    Premium     I     VS2   62.4   58.0    334  4.20  4.23  2.63\n",
       "5       0.31       Good     J     SI2   63.3   58.0    335  4.34  4.35  2.75\n",
       "...      ...        ...   ...     ...    ...    ...    ...   ...   ...   ...\n",
       "53936   0.72      Ideal     D     SI1   60.8   57.0   2757  5.75  5.76  3.50\n",
       "53937   0.72       Good     D     SI1   63.1   55.0   2757  5.69  5.75  3.61\n",
       "53938   0.70  Very Good     D     SI1   62.8   60.0   2757  5.66  5.68  3.56\n",
       "53939   0.86    Premium     H     SI2   61.0   58.0   2757  6.15  6.12  3.74\n",
       "53940   0.75      Ideal     D     SI2   62.2   55.0   2757  5.83  5.87  3.64\n",
       "\n",
       "[53940 rows x 10 columns]"
      ]
     },
     "execution_count": 5,
     "metadata": {},
     "output_type": "execute_result"
    }
   ],
   "source": [
    "dsc.to_dataframe()"
   ]
  },
  {
   "cell_type": "code",
   "execution_count": 7,
   "id": "e0b0f0f5-a53c-4cb9-b9d9-c6d35fd39658",
   "metadata": {
    "execution": {
     "iopub.execute_input": "2022-06-29T19:41:30.845086Z",
     "iopub.status.busy": "2022-06-29T19:41:30.844190Z",
     "iopub.status.idle": "2022-06-29T19:41:30.850825Z",
     "shell.execute_reply": "2022-06-29T19:41:30.849554Z",
     "shell.execute_reply.started": "2022-06-29T19:41:30.845046Z"
    },
    "tags": []
   },
   "outputs": [],
   "source": [
    "iddy = fp.Identity()\n",
    "diddy = fp.Pipeline('foo')"
   ]
  },
  {
   "cell_type": "code",
   "execution_count": 8,
   "id": "b972c805-8b0d-41aa-8df3-9562717acb35",
   "metadata": {
    "execution": {
     "iopub.execute_input": "2022-06-29T19:41:32.296684Z",
     "iopub.status.busy": "2022-06-29T19:41:32.296086Z",
     "iopub.status.idle": "2022-06-29T19:41:32.302213Z",
     "shell.execute_reply": "2022-06-29T19:41:32.301330Z",
     "shell.execute_reply.started": "2022-06-29T19:41:32.296663Z"
    },
    "tags": []
   },
   "outputs": [
    {
     "data": {
      "text/plain": [
       "Pipeline(dataset_name='foo', transforms=[])"
      ]
     },
     "execution_count": 8,
     "metadata": {},
     "output_type": "execute_result"
    }
   ],
   "source": [
    "diddy"
   ]
  },
  {
   "cell_type": "code",
   "execution_count": 12,
   "id": "99d03ffa-ce26-41a2-b9b8-6d42863fd80b",
   "metadata": {
    "execution": {
     "iopub.execute_input": "2022-06-29T19:41:50.667817Z",
     "iopub.status.busy": "2022-06-29T19:41:50.667247Z",
     "iopub.status.idle": "2022-06-29T19:41:50.674395Z",
     "shell.execute_reply": "2022-06-29T19:41:50.673362Z",
     "shell.execute_reply.started": "2022-06-29T19:41:50.667780Z"
    },
    "tags": []
   },
   "outputs": [
    {
     "data": {
      "text/plain": [
       "FitIdentity(<53940 rows of fitting data>)"
      ]
     },
     "execution_count": 12,
     "metadata": {},
     "output_type": "execute_result"
    }
   ],
   "source": [
    "iddy.fit(df)\n",
    "iddy.fit(ds)\n",
    "iddy.fit(dsc)"
   ]
  },
  {
   "cell_type": "code",
   "execution_count": 11,
   "id": "82a34b5e-8419-436c-9340-b7ff1eb7fa98",
   "metadata": {
    "execution": {
     "iopub.execute_input": "2022-06-29T19:41:42.883750Z",
     "iopub.status.busy": "2022-06-29T19:41:42.882635Z",
     "iopub.status.idle": "2022-06-29T19:41:43.038732Z",
     "shell.execute_reply": "2022-06-29T19:41:43.037407Z",
     "shell.execute_reply.started": "2022-06-29T19:41:42.883689Z"
    },
    "tags": []
   },
   "outputs": [
    {
     "ename": "UnknownDatasetError",
     "evalue": "\"Asked for a Dataset named 'foo' but this DatasetCollection only has: ['__data__']\"",
     "output_type": "error",
     "traceback": [
      "\u001b[0;31m---------------------------------------------------------------------------\u001b[0m",
      "\u001b[0;31mUnknownDatasetError\u001b[0m                       Traceback (most recent call last)",
      "Input \u001b[0;32mIn [11]\u001b[0m, in \u001b[0;36m<cell line: 1>\u001b[0;34m()\u001b[0m\n\u001b[0;32m----> 1\u001b[0m \u001b[43mdiddy\u001b[49m\u001b[38;5;241;43m.\u001b[39;49m\u001b[43mfit\u001b[49m\u001b[43m(\u001b[49m\u001b[43mdf\u001b[49m\u001b[43m)\u001b[49m\n\u001b[1;32m      2\u001b[0m diddy\u001b[38;5;241m.\u001b[39mfit(ds)\n\u001b[1;32m      3\u001b[0m diddy\u001b[38;5;241m.\u001b[39mfit(dsc)\n",
      "File \u001b[0;32m~/projects/ardua/codebases/local/ard-fit-pipelines/src/ard_fit_pipelines/core.py:188\u001b[0m, in \u001b[0;36mTransform.fit\u001b[0;34m(self, data_fit, bindings)\u001b[0m\n\u001b[1;32m    185\u001b[0m \u001b[38;5;28;01mdef\u001b[39;00m \u001b[38;5;21mfit\u001b[39m(\n\u001b[1;32m    186\u001b[0m     \u001b[38;5;28mself\u001b[39m, data_fit: Data, bindings: Optional[\u001b[38;5;28mdict\u001b[39m[\u001b[38;5;28mstr\u001b[39m, \u001b[38;5;28mobject\u001b[39m]] \u001b[38;5;241m=\u001b[39m \u001b[38;5;28;01mNone\u001b[39;00m\n\u001b[1;32m    187\u001b[0m ) \u001b[38;5;241m-\u001b[39m\u001b[38;5;241m>\u001b[39m FitTransform:\n\u001b[0;32m--> 188\u001b[0m     df_fit \u001b[38;5;241m=\u001b[39m \u001b[43mdata_to_dataframe\u001b[49m\u001b[43m(\u001b[49m\u001b[43mdata_fit\u001b[49m\u001b[43m,\u001b[49m\u001b[43m \u001b[49m\u001b[43mdataset_name\u001b[49m\u001b[38;5;241;43m=\u001b[39;49m\u001b[38;5;28;43mself\u001b[39;49m\u001b[38;5;241;43m.\u001b[39;49m\u001b[43mdataset_name\u001b[49m\u001b[43m)\u001b[49m\n\u001b[1;32m    189\u001b[0m     _LOG\u001b[38;5;241m.\u001b[39mdebug(\n\u001b[1;32m    190\u001b[0m         \u001b[38;5;124m\"\u001b[39m\u001b[38;5;124mFitting \u001b[39m\u001b[38;5;132;01m%s\u001b[39;00m\u001b[38;5;124m on \u001b[39m\u001b[38;5;132;01m%d\u001b[39;00m\u001b[38;5;124m rows: \u001b[39m\u001b[38;5;132;01m%r\u001b[39;00m\u001b[38;5;124m\"\u001b[39m, \u001b[38;5;28mself\u001b[39m\u001b[38;5;241m.\u001b[39m\u001b[38;5;18m__class__\u001b[39m\u001b[38;5;241m.\u001b[39m\u001b[38;5;18m__name__\u001b[39m, \u001b[38;5;28mlen\u001b[39m(df_fit), \u001b[38;5;28mself\u001b[39m\n\u001b[1;32m    191\u001b[0m     )\n\u001b[1;32m    192\u001b[0m     fit_class: FitTransform \u001b[38;5;241m=\u001b[39m \u001b[38;5;28mgetattr\u001b[39m(\u001b[38;5;28mself\u001b[39m, \u001b[38;5;28mself\u001b[39m\u001b[38;5;241m.\u001b[39m_fit_class_name)\n",
      "File \u001b[0;32m~/projects/ardua/codebases/local/ard-fit-pipelines/src/ard_fit_pipelines/core.py:97\u001b[0m, in \u001b[0;36mdata_to_dataframe\u001b[0;34m(data, dataset_name)\u001b[0m\n\u001b[1;32m     94\u001b[0m \u001b[38;5;28;01melse\u001b[39;00m:\n\u001b[1;32m     95\u001b[0m     \u001b[38;5;28;01mraise\u001b[39;00m \u001b[38;5;167;01mTypeError\u001b[39;00m(\u001b[38;5;124mf\u001b[39m\u001b[38;5;124m\"\u001b[39m\u001b[38;5;124mExpected \u001b[39m\u001b[38;5;132;01m{\u001b[39;00mData\u001b[38;5;132;01m}\u001b[39;00m\u001b[38;5;124m but got \u001b[39m\u001b[38;5;132;01m{\u001b[39;00mdata\u001b[38;5;132;01m}\u001b[39;00m\u001b[38;5;124m which has type \u001b[39m\u001b[38;5;132;01m{\u001b[39;00m\u001b[38;5;28mtype\u001b[39m(data)\u001b[38;5;132;01m}\u001b[39;00m\u001b[38;5;124m\"\u001b[39m)\n\u001b[0;32m---> 97\u001b[0m \u001b[38;5;28;01mreturn\u001b[39;00m \u001b[43mdsc\u001b[49m\u001b[38;5;241;43m.\u001b[39;49m\u001b[43mto_dataframe\u001b[49m\u001b[43m(\u001b[49m\u001b[43mdataset_name\u001b[49m\u001b[43m)\u001b[49m\n",
      "File \u001b[0;32m~/projects/ardua/codebases/local/ard-fit-pipelines/src/ard_fit_pipelines/core.py:76\u001b[0m, in \u001b[0;36mDatasetCollection.to_dataframe\u001b[0;34m(self, name)\u001b[0m\n\u001b[1;32m     75\u001b[0m \u001b[38;5;28;01mdef\u001b[39;00m \u001b[38;5;21mto_dataframe\u001b[39m(\u001b[38;5;28mself\u001b[39m, name\u001b[38;5;241m=\u001b[39m\u001b[38;5;124m'\u001b[39m\u001b[38;5;124m__data__\u001b[39m\u001b[38;5;124m'\u001b[39m):\n\u001b[0;32m---> 76\u001b[0m     \u001b[38;5;28;01mreturn\u001b[39;00m \u001b[38;5;28;43mself\u001b[39;49m\u001b[38;5;241;43m.\u001b[39;49m\u001b[43mget_dataset\u001b[49m\u001b[43m(\u001b[49m\u001b[43mname\u001b[49m\u001b[43m)\u001b[49m\u001b[38;5;241m.\u001b[39mto_dataframe()\n",
      "File \u001b[0;32m~/projects/ardua/codebases/local/ard-fit-pipelines/src/ard_fit_pipelines/core.py:69\u001b[0m, in \u001b[0;36mDatasetCollection.get_dataset\u001b[0;34m(self, name)\u001b[0m\n\u001b[1;32m     67\u001b[0m \u001b[38;5;28;01mdef\u001b[39;00m \u001b[38;5;21mget_dataset\u001b[39m(\u001b[38;5;28mself\u001b[39m, name):\n\u001b[1;32m     68\u001b[0m     \u001b[38;5;28;01mif\u001b[39;00m name \u001b[38;5;129;01mnot\u001b[39;00m \u001b[38;5;129;01min\u001b[39;00m \u001b[38;5;28mself\u001b[39m\u001b[38;5;241m.\u001b[39mmap:\n\u001b[0;32m---> 69\u001b[0m         \u001b[38;5;28;01mraise\u001b[39;00m UnknownDatasetError(\n\u001b[1;32m     70\u001b[0m             \u001b[38;5;124mf\u001b[39m\u001b[38;5;124m\"\u001b[39m\u001b[38;5;124mAsked for a Dataset named \u001b[39m\u001b[38;5;132;01m{\u001b[39;00mname\u001b[38;5;132;01m!r}\u001b[39;00m\u001b[38;5;124m but this DatasetCollection only \u001b[39m\u001b[38;5;124m\"\u001b[39m\n\u001b[1;32m     71\u001b[0m             \u001b[38;5;124mf\u001b[39m\u001b[38;5;124m\"\u001b[39m\u001b[38;5;124mhas: \u001b[39m\u001b[38;5;132;01m{\u001b[39;00m\u001b[38;5;28mlist\u001b[39m(\u001b[38;5;28mself\u001b[39m\u001b[38;5;241m.\u001b[39mmap\u001b[38;5;241m.\u001b[39mkeys())\u001b[38;5;132;01m}\u001b[39;00m\u001b[38;5;124m\"\u001b[39m\n\u001b[1;32m     72\u001b[0m         )\n\u001b[1;32m     73\u001b[0m     \u001b[38;5;28;01mreturn\u001b[39;00m \u001b[38;5;28mself\u001b[39m\u001b[38;5;241m.\u001b[39mmap[name]\n",
      "\u001b[0;31mUnknownDatasetError\u001b[0m: \"Asked for a Dataset named 'foo' but this DatasetCollection only has: ['__data__']\""
     ]
    }
   ],
   "source": [
    "diddy.fit(df)\n",
    "diddy.fit(ds)\n",
    "diddy.fit(dsc)"
   ]
  },
  {
   "cell_type": "code",
   "execution_count": 13,
   "id": "366b7073-d126-4b15-a61a-13e06af833ee",
   "metadata": {
    "execution": {
     "iopub.execute_input": "2022-06-29T19:42:12.583606Z",
     "iopub.status.busy": "2022-06-29T19:42:12.582152Z",
     "iopub.status.idle": "2022-06-29T19:42:12.590377Z",
     "shell.execute_reply": "2022-06-29T19:42:12.589216Z",
     "shell.execute_reply.started": "2022-06-29T19:42:12.583538Z"
    },
    "tags": []
   },
   "outputs": [
    {
     "data": {
      "text/plain": [
       "FitPipeline(dataset_name='foo', transforms=[], <53940 rows of fitting data>)"
      ]
     },
     "execution_count": 13,
     "metadata": {},
     "output_type": "execute_result"
    }
   ],
   "source": [
    "diddy.fit(fp.DatasetCollection({'foo': ds}))"
   ]
  },
  {
   "cell_type": "code",
   "execution_count": 14,
   "id": "de687fa9-2864-4c6f-ae22-0f6436c6ede9",
   "metadata": {
    "execution": {
     "iopub.execute_input": "2022-06-29T19:42:16.681323Z",
     "iopub.status.busy": "2022-06-29T19:42:16.680436Z",
     "iopub.status.idle": "2022-06-29T19:42:16.686955Z",
     "shell.execute_reply": "2022-06-29T19:42:16.685989Z",
     "shell.execute_reply.started": "2022-06-29T19:42:16.681289Z"
    },
    "tags": []
   },
   "outputs": [],
   "source": [
    "cols = [\"carat\", \"x\", \"y\", \"z\", \"depth\", \"table\"]\n",
    "pipeline_chain = (\n",
    "    fp.Pipeline()\n",
    "    .pipe([\"carat\"], np.log1p)\n",
    "    .winsorize(cols, limit=0.05)\n",
    "    .z_score(cols)\n",
    "    .impute_constant(cols, 0.0)\n",
    "    .clip(cols, upper=2, lower=-2)\n",
    ")"
   ]
  },
  {
   "cell_type": "code",
   "execution_count": 15,
   "id": "1de29636-6391-4f20-9aa4-ecfaaedc6ff6",
   "metadata": {
    "execution": {
     "iopub.execute_input": "2022-06-29T19:42:17.090923Z",
     "iopub.status.busy": "2022-06-29T19:42:17.090123Z",
     "iopub.status.idle": "2022-06-29T19:42:17.097104Z",
     "shell.execute_reply": "2022-06-29T19:42:17.096055Z",
     "shell.execute_reply.started": "2022-06-29T19:42:17.090886Z"
    },
    "tags": []
   },
   "outputs": [
    {
     "data": {
      "text/plain": [
       "Pipeline(dataset_name='__data__', transforms=[Pipe(cols=['carat'], apply_fun=<ufunc 'log1p'>), Winsorize(cols=['carat', 'x', 'y', 'z', 'depth', 'table'], limit=0.05), ZScore(cols=['carat', 'x', 'y', 'z', 'depth', 'table'], w_col=None), ImputeConstant(cols=['carat', 'x', 'y', 'z', 'depth', 'table'], value=0.0), Clip(cols=['carat', 'x', 'y', 'z', 'depth', 'table'], upper=2, lower=-2)])"
      ]
     },
     "execution_count": 15,
     "metadata": {},
     "output_type": "execute_result"
    }
   ],
   "source": [
    "pipeline_chain"
   ]
  }
 ],
 "metadata": {
  "kernelspec": {
   "display_name": "venv-ardua-dev",
   "language": "python",
   "name": "venv-ardua-dev"
  },
  "language_info": {
   "codemirror_mode": {
    "name": "ipython",
    "version": 3
   },
   "file_extension": ".py",
   "mimetype": "text/x-python",
   "name": "python",
   "nbconvert_exporter": "python",
   "pygments_lexer": "ipython3",
   "version": "3.9.5"
  }
 },
 "nbformat": 4,
 "nbformat_minor": 5
}
